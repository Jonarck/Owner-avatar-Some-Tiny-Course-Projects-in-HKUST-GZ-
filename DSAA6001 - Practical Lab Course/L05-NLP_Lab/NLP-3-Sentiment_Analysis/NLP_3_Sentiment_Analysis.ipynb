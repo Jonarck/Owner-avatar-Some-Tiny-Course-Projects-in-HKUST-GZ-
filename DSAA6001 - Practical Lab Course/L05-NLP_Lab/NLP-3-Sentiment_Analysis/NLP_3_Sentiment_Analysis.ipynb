{
  "cells": [
    {
      "cell_type": "code",
      "source": [
        "from google.colab import drive\n",
        "drive.mount('/content/drive/')"
      ],
      "metadata": {
        "colab": {
          "base_uri": "https://localhost:8080/"
        },
        "id": "kGaxTpKVduSX",
        "outputId": "b80baae5-bbb6-44e1-c729-359f981d2e02"
      },
      "id": "kGaxTpKVduSX",
      "execution_count": 95,
      "outputs": [
        {
          "output_type": "stream",
          "name": "stdout",
          "text": [
            "Drive already mounted at /content/drive/; to attempt to forcibly remount, call drive.mount(\"/content/drive/\", force_remount=True).\n"
          ]
        }
      ]
    },
    {
      "cell_type": "code",
      "execution_count": 96,
      "id": "0fecaab9",
      "metadata": {
        "id": "0fecaab9"
      },
      "outputs": [],
      "source": [
        "import numpy as np\n",
        "import pandas as pd\n",
        "import re\n",
        "from sklearn.model_selection import train_test_split\n",
        "np.random.seed(0)"
      ]
    },
    {
      "cell_type": "markdown",
      "id": "4746bef1",
      "metadata": {
        "id": "4746bef1"
      },
      "source": [
        "## Movie Review Classifier 🍿📽️"
      ]
    },
    {
      "cell_type": "markdown",
      "id": "9c58cd71",
      "metadata": {
        "id": "9c58cd71"
      },
      "source": [
        "In this assignment, we'll be training a model to classify movie reviews as 'good' or 'bad.'\\\n",
        "The data consists of 40,000 real move reviews from IMBD.\\\n"
      ]
    },
    {
      "cell_type": "markdown",
      "id": "3ba6bc9b",
      "metadata": {
        "id": "3ba6bc9b"
      },
      "source": [
        "We'll load the data as a zipped csv. \\\n",
        "Notice that `pd.read_csv()` can take a URL as the path argument and that we can read in a compressed file without first expanding it if we specify the `compression` format!"
      ]
    },
    {
      "cell_type": "code",
      "execution_count": 97,
      "id": "65d14744",
      "metadata": {
        "id": "65d14744"
      },
      "outputs": [],
      "source": [
        "data_url = '/content/drive/MyDrive/NLP-3-Sentiment_Analysis/data/movie_reviews.zip'\n",
        "df = pd.read_csv(data_url, compression='zip')"
      ]
    },
    {
      "cell_type": "code",
      "execution_count": 98,
      "id": "29fd2bbd",
      "metadata": {
        "colab": {
          "base_uri": "https://localhost:8080/",
          "height": 206
        },
        "id": "29fd2bbd",
        "outputId": "feaf2f3d-d98b-430c-f83d-30588db713fb"
      },
      "outputs": [
        {
          "output_type": "execute_result",
          "data": {
            "text/plain": [
              "                                                text  label\n",
              "0  If you havent seen this movie than you need to...      1\n",
              "1  but Cinderella gets my vote not only for the w...      0\n",
              "2  This movie is pretty cheesy but I do give it c...      1\n",
              "3  I have not seen a Van Damme flick for a while ...      1\n",
              "4  This is a sleeper It defines Nicholas Cage The...      1"
            ],
            "text/html": [
              "\n",
              "  <div id=\"df-dada1c94-6fed-4509-ac54-325a0e1201c3\" class=\"colab-df-container\">\n",
              "    <div>\n",
              "<style scoped>\n",
              "    .dataframe tbody tr th:only-of-type {\n",
              "        vertical-align: middle;\n",
              "    }\n",
              "\n",
              "    .dataframe tbody tr th {\n",
              "        vertical-align: top;\n",
              "    }\n",
              "\n",
              "    .dataframe thead th {\n",
              "        text-align: right;\n",
              "    }\n",
              "</style>\n",
              "<table border=\"1\" class=\"dataframe\">\n",
              "  <thead>\n",
              "    <tr style=\"text-align: right;\">\n",
              "      <th></th>\n",
              "      <th>text</th>\n",
              "      <th>label</th>\n",
              "    </tr>\n",
              "  </thead>\n",
              "  <tbody>\n",
              "    <tr>\n",
              "      <th>0</th>\n",
              "      <td>If you havent seen this movie than you need to...</td>\n",
              "      <td>1</td>\n",
              "    </tr>\n",
              "    <tr>\n",
              "      <th>1</th>\n",
              "      <td>but Cinderella gets my vote not only for the w...</td>\n",
              "      <td>0</td>\n",
              "    </tr>\n",
              "    <tr>\n",
              "      <th>2</th>\n",
              "      <td>This movie is pretty cheesy but I do give it c...</td>\n",
              "      <td>1</td>\n",
              "    </tr>\n",
              "    <tr>\n",
              "      <th>3</th>\n",
              "      <td>I have not seen a Van Damme flick for a while ...</td>\n",
              "      <td>1</td>\n",
              "    </tr>\n",
              "    <tr>\n",
              "      <th>4</th>\n",
              "      <td>This is a sleeper It defines Nicholas Cage The...</td>\n",
              "      <td>1</td>\n",
              "    </tr>\n",
              "  </tbody>\n",
              "</table>\n",
              "</div>\n",
              "    <div class=\"colab-df-buttons\">\n",
              "\n",
              "  <div class=\"colab-df-container\">\n",
              "    <button class=\"colab-df-convert\" onclick=\"convertToInteractive('df-dada1c94-6fed-4509-ac54-325a0e1201c3')\"\n",
              "            title=\"Convert this dataframe to an interactive table.\"\n",
              "            style=\"display:none;\">\n",
              "\n",
              "  <svg xmlns=\"http://www.w3.org/2000/svg\" height=\"24px\" viewBox=\"0 -960 960 960\">\n",
              "    <path d=\"M120-120v-720h720v720H120Zm60-500h600v-160H180v160Zm220 220h160v-160H400v160Zm0 220h160v-160H400v160ZM180-400h160v-160H180v160Zm440 0h160v-160H620v160ZM180-180h160v-160H180v160Zm440 0h160v-160H620v160Z\"/>\n",
              "  </svg>\n",
              "    </button>\n",
              "\n",
              "  <style>\n",
              "    .colab-df-container {\n",
              "      display:flex;\n",
              "      gap: 12px;\n",
              "    }\n",
              "\n",
              "    .colab-df-convert {\n",
              "      background-color: #E8F0FE;\n",
              "      border: none;\n",
              "      border-radius: 50%;\n",
              "      cursor: pointer;\n",
              "      display: none;\n",
              "      fill: #1967D2;\n",
              "      height: 32px;\n",
              "      padding: 0 0 0 0;\n",
              "      width: 32px;\n",
              "    }\n",
              "\n",
              "    .colab-df-convert:hover {\n",
              "      background-color: #E2EBFA;\n",
              "      box-shadow: 0px 1px 2px rgba(60, 64, 67, 0.3), 0px 1px 3px 1px rgba(60, 64, 67, 0.15);\n",
              "      fill: #174EA6;\n",
              "    }\n",
              "\n",
              "    .colab-df-buttons div {\n",
              "      margin-bottom: 4px;\n",
              "    }\n",
              "\n",
              "    [theme=dark] .colab-df-convert {\n",
              "      background-color: #3B4455;\n",
              "      fill: #D2E3FC;\n",
              "    }\n",
              "\n",
              "    [theme=dark] .colab-df-convert:hover {\n",
              "      background-color: #434B5C;\n",
              "      box-shadow: 0px 1px 3px 1px rgba(0, 0, 0, 0.15);\n",
              "      filter: drop-shadow(0px 1px 2px rgba(0, 0, 0, 0.3));\n",
              "      fill: #FFFFFF;\n",
              "    }\n",
              "  </style>\n",
              "\n",
              "    <script>\n",
              "      const buttonEl =\n",
              "        document.querySelector('#df-dada1c94-6fed-4509-ac54-325a0e1201c3 button.colab-df-convert');\n",
              "      buttonEl.style.display =\n",
              "        google.colab.kernel.accessAllowed ? 'block' : 'none';\n",
              "\n",
              "      async function convertToInteractive(key) {\n",
              "        const element = document.querySelector('#df-dada1c94-6fed-4509-ac54-325a0e1201c3');\n",
              "        const dataTable =\n",
              "          await google.colab.kernel.invokeFunction('convertToInteractive',\n",
              "                                                    [key], {});\n",
              "        if (!dataTable) return;\n",
              "\n",
              "        const docLinkHtml = 'Like what you see? Visit the ' +\n",
              "          '<a target=\"_blank\" href=https://colab.research.google.com/notebooks/data_table.ipynb>data table notebook</a>'\n",
              "          + ' to learn more about interactive tables.';\n",
              "        element.innerHTML = '';\n",
              "        dataTable['output_type'] = 'display_data';\n",
              "        await google.colab.output.renderOutput(dataTable, element);\n",
              "        const docLink = document.createElement('div');\n",
              "        docLink.innerHTML = docLinkHtml;\n",
              "        element.appendChild(docLink);\n",
              "      }\n",
              "    </script>\n",
              "  </div>\n",
              "\n",
              "\n",
              "<div id=\"df-4107bbb2-fb34-472f-a1a6-b7207ba22f49\">\n",
              "  <button class=\"colab-df-quickchart\" onclick=\"quickchart('df-4107bbb2-fb34-472f-a1a6-b7207ba22f49')\"\n",
              "            title=\"Suggest charts.\"\n",
              "            style=\"display:none;\">\n",
              "\n",
              "<svg xmlns=\"http://www.w3.org/2000/svg\" height=\"24px\"viewBox=\"0 0 24 24\"\n",
              "     width=\"24px\">\n",
              "    <g>\n",
              "        <path d=\"M19 3H5c-1.1 0-2 .9-2 2v14c0 1.1.9 2 2 2h14c1.1 0 2-.9 2-2V5c0-1.1-.9-2-2-2zM9 17H7v-7h2v7zm4 0h-2V7h2v10zm4 0h-2v-4h2v4z\"/>\n",
              "    </g>\n",
              "</svg>\n",
              "  </button>\n",
              "\n",
              "<style>\n",
              "  .colab-df-quickchart {\n",
              "      --bg-color: #E8F0FE;\n",
              "      --fill-color: #1967D2;\n",
              "      --hover-bg-color: #E2EBFA;\n",
              "      --hover-fill-color: #174EA6;\n",
              "      --disabled-fill-color: #AAA;\n",
              "      --disabled-bg-color: #DDD;\n",
              "  }\n",
              "\n",
              "  [theme=dark] .colab-df-quickchart {\n",
              "      --bg-color: #3B4455;\n",
              "      --fill-color: #D2E3FC;\n",
              "      --hover-bg-color: #434B5C;\n",
              "      --hover-fill-color: #FFFFFF;\n",
              "      --disabled-bg-color: #3B4455;\n",
              "      --disabled-fill-color: #666;\n",
              "  }\n",
              "\n",
              "  .colab-df-quickchart {\n",
              "    background-color: var(--bg-color);\n",
              "    border: none;\n",
              "    border-radius: 50%;\n",
              "    cursor: pointer;\n",
              "    display: none;\n",
              "    fill: var(--fill-color);\n",
              "    height: 32px;\n",
              "    padding: 0;\n",
              "    width: 32px;\n",
              "  }\n",
              "\n",
              "  .colab-df-quickchart:hover {\n",
              "    background-color: var(--hover-bg-color);\n",
              "    box-shadow: 0 1px 2px rgba(60, 64, 67, 0.3), 0 1px 3px 1px rgba(60, 64, 67, 0.15);\n",
              "    fill: var(--button-hover-fill-color);\n",
              "  }\n",
              "\n",
              "  .colab-df-quickchart-complete:disabled,\n",
              "  .colab-df-quickchart-complete:disabled:hover {\n",
              "    background-color: var(--disabled-bg-color);\n",
              "    fill: var(--disabled-fill-color);\n",
              "    box-shadow: none;\n",
              "  }\n",
              "\n",
              "  .colab-df-spinner {\n",
              "    border: 2px solid var(--fill-color);\n",
              "    border-color: transparent;\n",
              "    border-bottom-color: var(--fill-color);\n",
              "    animation:\n",
              "      spin 1s steps(1) infinite;\n",
              "  }\n",
              "\n",
              "  @keyframes spin {\n",
              "    0% {\n",
              "      border-color: transparent;\n",
              "      border-bottom-color: var(--fill-color);\n",
              "      border-left-color: var(--fill-color);\n",
              "    }\n",
              "    20% {\n",
              "      border-color: transparent;\n",
              "      border-left-color: var(--fill-color);\n",
              "      border-top-color: var(--fill-color);\n",
              "    }\n",
              "    30% {\n",
              "      border-color: transparent;\n",
              "      border-left-color: var(--fill-color);\n",
              "      border-top-color: var(--fill-color);\n",
              "      border-right-color: var(--fill-color);\n",
              "    }\n",
              "    40% {\n",
              "      border-color: transparent;\n",
              "      border-right-color: var(--fill-color);\n",
              "      border-top-color: var(--fill-color);\n",
              "    }\n",
              "    60% {\n",
              "      border-color: transparent;\n",
              "      border-right-color: var(--fill-color);\n",
              "    }\n",
              "    80% {\n",
              "      border-color: transparent;\n",
              "      border-right-color: var(--fill-color);\n",
              "      border-bottom-color: var(--fill-color);\n",
              "    }\n",
              "    90% {\n",
              "      border-color: transparent;\n",
              "      border-bottom-color: var(--fill-color);\n",
              "    }\n",
              "  }\n",
              "</style>\n",
              "\n",
              "  <script>\n",
              "    async function quickchart(key) {\n",
              "      const quickchartButtonEl =\n",
              "        document.querySelector('#' + key + ' button');\n",
              "      quickchartButtonEl.disabled = true;  // To prevent multiple clicks.\n",
              "      quickchartButtonEl.classList.add('colab-df-spinner');\n",
              "      try {\n",
              "        const charts = await google.colab.kernel.invokeFunction(\n",
              "            'suggestCharts', [key], {});\n",
              "      } catch (error) {\n",
              "        console.error('Error during call to suggestCharts:', error);\n",
              "      }\n",
              "      quickchartButtonEl.classList.remove('colab-df-spinner');\n",
              "      quickchartButtonEl.classList.add('colab-df-quickchart-complete');\n",
              "    }\n",
              "    (() => {\n",
              "      let quickchartButtonEl =\n",
              "        document.querySelector('#df-4107bbb2-fb34-472f-a1a6-b7207ba22f49 button');\n",
              "      quickchartButtonEl.style.display =\n",
              "        google.colab.kernel.accessAllowed ? 'block' : 'none';\n",
              "    })();\n",
              "  </script>\n",
              "</div>\n",
              "    </div>\n",
              "  </div>\n"
            ]
          },
          "metadata": {},
          "execution_count": 98
        }
      ],
      "source": [
        "df.head()"
      ]
    },
    {
      "cell_type": "code",
      "execution_count": 99,
      "id": "cb303695",
      "metadata": {
        "colab": {
          "base_uri": "https://localhost:8080/"
        },
        "id": "cb303695",
        "outputId": "563b8dc9-c10b-4199-e925-c5a0687569c1"
      },
      "outputs": [
        {
          "output_type": "execute_result",
          "data": {
            "text/plain": [
              "(40000, 2)"
            ]
          },
          "metadata": {},
          "execution_count": 99
        }
      ],
      "source": [
        "df.shape"
      ]
    },
    {
      "cell_type": "code",
      "execution_count": 100,
      "id": "3fae19e0",
      "metadata": {
        "colab": {
          "base_uri": "https://localhost:8080/"
        },
        "id": "3fae19e0",
        "outputId": "e34ec1c7-2a32-41d1-ea7e-5eaaf3ea01b8"
      },
      "outputs": [
        {
          "output_type": "execute_result",
          "data": {
            "text/plain": [
              "array([1, 0])"
            ]
          },
          "metadata": {},
          "execution_count": 100
        }
      ],
      "source": [
        "df.label.unique()"
      ]
    },
    {
      "cell_type": "markdown",
      "id": "8de24367",
      "metadata": {
        "id": "8de24367"
      },
      "source": [
        "We see that the dataset consists of text reviews and binary labels. Intuitively, the positive class is \"good\" while the negative is \"bad.\""
      ]
    },
    {
      "cell_type": "markdown",
      "id": "7e51a555",
      "metadata": {
        "id": "7e51a555"
      },
      "source": [
        "Here are two examples from the dataset:"
      ]
    },
    {
      "cell_type": "code",
      "execution_count": 101,
      "id": "14999480",
      "metadata": {
        "colab": {
          "base_uri": "https://localhost:8080/",
          "height": 327
        },
        "id": "14999480",
        "outputId": "793f2864-2818-4b40-95e7-215a99e6f786"
      },
      "outputs": [
        {
          "output_type": "display_data",
          "data": {
            "text/plain": [
              "'If you havent seen this movie than you need to It rocks and you have to watch it It is so funny and will make you laugh your guts out so you have to watch it and i saw it about a billion and a half times and still think it is funny so you have to yes i have memorized the whole movie and could quote it to you from start to finish you must see this move it is also cute because it is half a chick flick if you dont watch it then you are really missing outthis movie even has cute guys in it and that is always a bonus so in summary watch the movie now and trust me you will not be making a mistake did i mention the music is good too So you should like it if you enjoy music This is a movie that they rated correctly and it will work for anyone'"
            ],
            "application/vnd.google.colaboratory.intrinsic+json": {
              "type": "string"
            }
          },
          "metadata": {}
        },
        {
          "output_type": "stream",
          "name": "stdout",
          "text": [
            "\n"
          ]
        },
        {
          "output_type": "display_data",
          "data": {
            "text/plain": [
              "'label: good'"
            ],
            "application/vnd.google.colaboratory.intrinsic+json": {
              "type": "string"
            }
          },
          "metadata": {}
        },
        {
          "output_type": "stream",
          "name": "stdout",
          "text": [
            "\n"
          ]
        },
        {
          "output_type": "display_data",
          "data": {
            "text/plain": [
              "'but Cinderella gets my vote not only for the worst of Disneys princess movies but for the worst movie the company made during Walts lifetime The music is genuinely pretty and the story deserves to be called classic What fails in this movie are the characters particularly the title character who could only be called the heroine in the loosest sense of the term After a brief prologue the audience is introduced to Cinderella She is waking up in the morning and singing A Dream is A wish Your Heart Makes This establishes her as an idealist and thus deserving of our sympathy Unfortunately the script gives us no clue as to what she is dreaming about Freedom from her servant role The respect of her stepfamily Someone to talk to besides mice and birds In one song cut from the movie but presented in the special features section of the latest DVD Cinderella relates her wish that there could be many of her so she could do her work more efficiently You go girlfriend In short Cinderella is a very bland character She passively accepts her stepfamilys abuse escaping into her unspoken dreams for relief She only asserts herself once by reminding her stepmother that she is still a member of the family For this she is given permission to go the ball if she completes her housework and finds something to wear a token gesture that is clearly absurd to everyone except of course Cinderella Can anyone see Belle or Jasmine being such a doormat If Cinderella is dull her male counterpart is nothing short of lifeless The Prince in Cinderella gets no dialog and almost no screen time We are given no indication if he is a good man if he respects Cinderella or anything All we know is 1 he is a prince and 2 he dances well Heck even the prince from Snow White got to sing a romantic song at least Not only does this lack of development make the romance less interesting it makes Cinderella look like either a social climber or an idiot weakening her already tenuous appeal Perhaps realizing how dull the main characters were the animators chose to give excessive screen time to the movies comic relief Cinderellas friends the mice Granted these characters are amusing Even so when the comic relief steals the show from the principals well lets just say your story has some problems Dinsey loves to proclaim all its animated features as masterpieces While many of them are there are some that do not deserve this appellate in any way Cinderella is a prime example of this fact'"
            ],
            "application/vnd.google.colaboratory.intrinsic+json": {
              "type": "string"
            }
          },
          "metadata": {}
        },
        {
          "output_type": "stream",
          "name": "stdout",
          "text": [
            "\n"
          ]
        },
        {
          "output_type": "display_data",
          "data": {
            "text/plain": [
              "'label: bad'"
            ],
            "application/vnd.google.colaboratory.intrinsic+json": {
              "type": "string"
            }
          },
          "metadata": {}
        },
        {
          "output_type": "stream",
          "name": "stdout",
          "text": [
            "\n"
          ]
        }
      ],
      "source": [
        "labels = {0: 'bad', 1: 'good'}\n",
        "seen = {'bad': False, 'good': False}\n",
        "for i in range(df.shape[0]):\n",
        "    label = df.loc[i,'label']\n",
        "    if not seen[labels[label]]:\n",
        "        # display/print combination used to appease Ed's strange output behavior\n",
        "        display(df.loc[i, 'text'])\n",
        "        print()\n",
        "        display(f\"label: {labels[label]}\")\n",
        "        print()\n",
        "        seen[labels[label]] = True\n",
        "    if all(val == True for val in seen.values()):\n",
        "        break"
      ]
    },
    {
      "cell_type": "markdown",
      "id": "c1ee4ceb",
      "metadata": {
        "id": "c1ee4ceb"
      },
      "source": [
        "**Some Preprocessing**"
      ]
    },
    {
      "cell_type": "markdown",
      "id": "c9326a9b",
      "metadata": {
        "id": "c9326a9b"
      },
      "source": [
        "In the 2nd example, we can see some html tags inside the review text.\n",
        "\n",
        "Complete the `remove_br()` function by providing its call to `re.sub()` with a regex that removes those pesky \"\\<br />\" tags from an input string, `x`.\\\n",
        "Speciffically, we should replace 2 consecutive occurances of \"\\<br />\" with a single space (can you see why?).\n",
        "\n",
        "**Hint:** It is good practice to use 'raw' string when writing regular expressions to ensure that special characters are treated correctly. Raw strings are appended with an 'r' like this: `r'this is a raw string'`"
      ]
    },
    {
      "cell_type": "code",
      "execution_count": 102,
      "id": "5b94fbca",
      "metadata": {
        "id": "5b94fbca"
      },
      "outputs": [],
      "source": [
        "# please fill this code block!\n",
        "# fill in the regular expression\n",
        "# Define the regular expression to match two consecutive \"<br />\" tags and replace them with a space.\n",
        "pattern = r'<br\\s*/>\\s*<br\\s*/>'\n",
        "remove_br = lambda x: re.sub(pattern, ' ', x)"
      ]
    },
    {
      "cell_type": "markdown",
      "id": "2ff4edfe",
      "metadata": {
        "id": "2ff4edfe"
      },
      "source": [
        "Use the dataframe's `apply()` method to apply `remove_br` to each review in both train and test."
      ]
    },
    {
      "cell_type": "code",
      "execution_count": 103,
      "id": "fb9893c2",
      "metadata": {
        "id": "fb9893c2"
      },
      "outputs": [],
      "source": [
        "# please fill this code block!\n",
        "# Apply the function on the 'text' column of the dataframe\n",
        "df['text'] = df['text'].apply(remove_br)"
      ]
    },
    {
      "cell_type": "markdown",
      "id": "05013853",
      "metadata": {
        "id": "05013853"
      },
      "source": [
        "And we can see that the tags have been removed!"
      ]
    },
    {
      "cell_type": "code",
      "execution_count": 104,
      "id": "30134871",
      "metadata": {
        "colab": {
          "base_uri": "https://localhost:8080/",
          "height": 35
        },
        "id": "30134871",
        "outputId": "94ec2580-e696-405d-fc1f-668e32fd2c2a"
      },
      "outputs": [
        {
          "output_type": "execute_result",
          "data": {
            "text/plain": [
              "'This is a sleeper It defines Nicholas Cage The plot is intricate and totally absorbing The ending will blow you away See it whenever you have the opportunity'"
            ],
            "application/vnd.google.colaboratory.intrinsic+json": {
              "type": "string"
            }
          },
          "metadata": {},
          "execution_count": 104
        }
      ],
      "source": [
        "df.loc[4,'text']"
      ]
    },
    {
      "cell_type": "markdown",
      "id": "57e4770d",
      "metadata": {
        "id": "57e4770d"
      },
      "source": [
        "Don't worry about any newline characters or backslashes you may see before apostrophes in the examples above. This is just a quirk of how Jupyter displays strings by default.\\\n",
        "We don't see that these characters if we explicitly `print` the string."
      ]
    },
    {
      "cell_type": "markdown",
      "id": "38c0515f",
      "metadata": {
        "id": "38c0515f"
      },
      "source": [
        "### example_str = df.loc[4,'text']\n",
        "print(example_str)"
      ]
    },
    {
      "cell_type": "markdown",
      "id": "1e105db9",
      "metadata": {
        "id": "1e105db9"
      },
      "source": [
        "We'll continue our preprocessing by next **removing punctuation**.\\\n",
        "But first, let's keep a copy of the data *with* punctuation. This will be useful at the end of the notebook when we want to display the original text of specific observations."
      ]
    },
    {
      "cell_type": "code",
      "execution_count": 105,
      "id": "63e3b9d6",
      "metadata": {
        "id": "63e3b9d6"
      },
      "outputs": [],
      "source": [
        "# store copy of data with punctuation\n",
        "df_raw = df.copy()"
      ]
    },
    {
      "cell_type": "markdown",
      "id": "73aa28d4",
      "metadata": {
        "id": "73aa28d4"
      },
      "source": [
        "The next regex we need is a bit more involved.\\\n",
        "**This should match any non-whitespace, any non-alphanumeric characters, and underscores** (strangly, underscores are not covered by the first 2 conditions).\n",
        "\n",
        "**Hints:**\n",
        "- `\\w` matches alphanumeric characters\n",
        "- `\\s` matches whitespace\n",
        "- `[]` can be used to denote a set of characters. ex: `r'[ab]'` will match on 'a' *or* 'b'\n",
        "- `^` at the beginning of a character set denotes *negation*. ex: `r'[^0-9]'` will matching any non-integer\n",
        "- `|` is the *logical or* operator. ex: `r'cat|dog'` will match the strings 'cat' *or* 'dog'\n",
        "- There are many helpful sites for testing regexes. [Here's a nice one](https://www.regextester.com/)."
      ]
    },
    {
      "cell_type": "code",
      "execution_count": 106,
      "id": "1c714b28",
      "metadata": {
        "id": "1c714b28"
      },
      "outputs": [],
      "source": [
        "# please fill this code block!\n",
        "# create a regex that will match the characters described above\n",
        "punc_regex = r'[^\\w\\s]'"
      ]
    },
    {
      "cell_type": "markdown",
      "id": "09b57e39",
      "metadata": {
        "id": "09b57e39"
      },
      "source": [
        "Here we'll use an alternative to the `apply` approach we saw above.\\\n",
        "Pandas has its own set of built-in string methods which includes a version of `replace`. But unlike Python's `str.replace()` this can actually use regexes!"
      ]
    },
    {
      "cell_type": "code",
      "execution_count": 107,
      "id": "8a874d3f",
      "metadata": {
        "id": "8a874d3f"
      },
      "outputs": [],
      "source": [
        "df['text'] = df.text.str.replace(punc_regex, '', regex=True) # remove punctuation"
      ]
    },
    {
      "cell_type": "markdown",
      "id": "562cbd2e",
      "metadata": {
        "id": "562cbd2e"
      },
      "source": [
        "If all went well we can see that punctuation has been removed from our dataset."
      ]
    },
    {
      "cell_type": "code",
      "execution_count": 108,
      "id": "a82b9bcb",
      "metadata": {
        "colab": {
          "base_uri": "https://localhost:8080/"
        },
        "id": "a82b9bcb",
        "outputId": "4a7ceff3-22b8-49f8-ca13-fad73afd6fbf"
      },
      "outputs": [
        {
          "output_type": "stream",
          "name": "stdout",
          "text": [
            "This is a sleeper It defines Nicholas Cage The plot is intricate and totally absorbing The ending will blow you away See it whenever you have the opportunity\n"
          ]
        }
      ],
      "source": [
        "example_str = df.loc[4,'text']\n",
        "print(example_str)"
      ]
    },
    {
      "cell_type": "markdown",
      "id": "d23d4105",
      "metadata": {
        "id": "d23d4105"
      },
      "source": [
        "**Train/Test Split**\n",
        "\n",
        "Rather than splitting the data directly with `train_test_split` we'll instead use it to generate indices for the train and test data.\\\n",
        "This may seem strange, but there is a good reason for it. These indices will later allow us to recover the original, unprocessed text from `df_raw` for any given training and test observations.\n",
        "\n",
        "Notice too that we are stratifying on the label. This will help ensure that good and bad reviews appear in the same proportions in both train and test."
      ]
    },
    {
      "cell_type": "code",
      "execution_count": 109,
      "id": "41b691ae",
      "metadata": {
        "id": "41b691ae"
      },
      "outputs": [],
      "source": [
        "# generate indices to designate train and test observations\n",
        "train_idx, test_idx = train_test_split(range(df.shape[0]), test_size=0.2, random_state=0, stratify=df['label'])\n",
        "# stratify=df['label']: Guarantee that the Composition Ratio of labes in Train an Test are the same"
      ]
    },
    {
      "cell_type": "code",
      "execution_count": 110,
      "id": "a22a946e",
      "metadata": {
        "id": "a22a946e"
      },
      "outputs": [],
      "source": [
        "# Separate the predictor from the response\n",
        "x = df.text.values\n",
        "y = df.label.values"
      ]
    },
    {
      "cell_type": "code",
      "execution_count": 111,
      "id": "9e3d9de1",
      "metadata": {
        "id": "9e3d9de1"
      },
      "outputs": [],
      "source": [
        "# Create train and test sets using the generated indices\n",
        "x_train = x[train_idx]\n",
        "y_train = y[train_idx]\n",
        "x_test = x[test_idx]\n",
        "y_test = y[test_idx]"
      ]
    },
    {
      "cell_type": "markdown",
      "id": "3886b9b5",
      "metadata": {
        "id": "3886b9b5"
      },
      "source": [
        "**Building the Classifier Pipeline**\\\n",
        "**Step 1: Vectorizor**\n",
        "\n",
        "It's true that there are still several preprocessing steps to be done such as converting to lowercase and tokenizing the reviews, but these can be done for using sklearn's [TfidfVectorizer](https://scikit-learn.org/stable/modules/generated/sklearn.feature_extraction.text.TfidfVectorizer.html)."
      ]
    },
    {
      "cell_type": "code",
      "execution_count": 112,
      "id": "1d88b818",
      "metadata": {
        "id": "1d88b818"
      },
      "outputs": [],
      "source": [
        "from sklearn.feature_extraction.text import TfidfVectorizer"
      ]
    },
    {
      "cell_type": "markdown",
      "id": "df712db2",
      "metadata": {
        "id": "df712db2"
      },
      "source": [
        "Instantiate a `TfidfVectorizer` with parameters such that it will:\n",
        "- set all reviews to lowercase\n",
        "- remove english stopwords\n",
        "- exclude words that occur in less than 1 review in 10,000\n",
        "- exclude words that occur in more than 90% of reviews\n",
        "\n",
        "**Hint:** Reading the documentation, you'll see the arguments you need are `lowercase`, `stop_words`, `min_df`, and `max_df`"
      ]
    },
    {
      "cell_type": "code",
      "execution_count": 113,
      "id": "2e236cc8",
      "metadata": {
        "id": "2e236cc8"
      },
      "outputs": [],
      "source": [
        "# please fill this code block!\n",
        "vec = TfidfVectorizer(lowercase=True,stop_words='english',min_df=0.0001,max_df=0.9)"
      ]
    },
    {
      "cell_type": "markdown",
      "id": "0a24c836",
      "metadata": {
        "id": "0a24c836"
      },
      "source": [
        "**Step 2: Classifier**\n",
        "\n",
        "We'll use logistic regression with l2 regularization as our classifier model. The [LogisticRegressionCV](https://scikit-learn.org/stable/modules/generated/sklearn.linear_model.LogisticRegressionCV.html?highlight=logisticregressioncv#sklearn.linear_model.LogisticRegressionCV) object allows us to easily tune for the best regularization parameter."
      ]
    },
    {
      "cell_type": "code",
      "execution_count": 114,
      "id": "078f881f",
      "metadata": {
        "id": "078f881f"
      },
      "outputs": [],
      "source": [
        "from sklearn.linear_model import LogisticRegressionCV"
      ]
    },
    {
      "cell_type": "markdown",
      "id": "97f66e5e",
      "metadata": {
        "id": "97f66e5e"
      },
      "source": [
        "With 40,000 training observations and each word in the vectorizer's vocabulary counting acting as a predictor training could be slow.\\\n",
        "This issue is exacerbated when using cross validation as we need fit the model multiple times!\\\n",
        "We'll set our classifier CV parameters so as to help keep the training time down to around 30 seconds or so.\n",
        "- l2 penalty (e.g., Ridge)\n",
        "- 10 iterations per fit (remember, logistic regression has no closed form solution for the betas!)\n",
        "- 5-fold CV\n",
        "- random state of 0 (the fitting can be stochastic)"
      ]
    },
    {
      "cell_type": "code",
      "execution_count": 115,
      "id": "317752aa",
      "metadata": {
        "id": "317752aa"
      },
      "outputs": [],
      "source": [
        "# please fill this code block!\n",
        "# Instantiate our Classifier\n",
        "clf = LogisticRegressionCV(cv=5, penalty=\"l2\", max_iter=10, random_state=0 )"
      ]
    },
    {
      "cell_type": "markdown",
      "id": "90ef7e1f",
      "metadata": {
        "id": "90ef7e1f"
      },
      "source": [
        "**Step 3: Pipeline**\n",
        "\n",
        "Any text data going into our classifier will have to first be converted to numerical data by our vectorizer.\\\n",
        "One way to do this would be to:\n",
        "1. fit the vectorizor on the training data\n",
        "2. transform a dataset with the fitted vectorizer\n",
        "3. pass the transformed data to the classifier\n",
        "\n",
        "(1) only needs to be done once, but (2) & (3) would need to be done manually for train, test, and any other data we want to give them model.\\\n",
        "This would be tedious! Luckily, sklearn's [Pipline](https://scikit-learn.org/stable/modules/generated/sklearn.pipeline.Pipeline.html?highlight=pipeline#sklearn.pipeline.Pipeline) object allow use to connect one more 'transformers' (such as a scaler or vectorizer) with a model."
      ]
    },
    {
      "cell_type": "code",
      "execution_count": 116,
      "id": "c7897ac0",
      "metadata": {
        "id": "c7897ac0"
      },
      "outputs": [],
      "source": [
        "from sklearn.pipeline import make_pipeline"
      ]
    },
    {
      "cell_type": "markdown",
      "id": "15be90c9",
      "metadata": {
        "id": "15be90c9"
      },
      "source": [
        "Use [make_pipeline()](https://scikit-learn.org/stable/modules/generated/sklearn.pipeline.make_pipeline.html?highlight=make_pipeline#sklearn.pipeline.make_pipeline) to connect the vectorizor, `vec`, and our classifier, `clf`, into a single pipeline.\n",
        "\n",
        "**Hint:** You can set `verbose=True` to see the individual steps during the fit process later."
      ]
    },
    {
      "cell_type": "code",
      "execution_count": 117,
      "id": "9f7a47d1",
      "metadata": {
        "id": "9f7a47d1"
      },
      "outputs": [],
      "source": [
        "# please fill this code block!\n",
        "# Construct the pipeline\n",
        "pipe = make_pipeline(vec,clf)"
      ]
    },
    {
      "cell_type": "markdown",
      "id": "20fe0b5d",
      "metadata": {
        "id": "20fe0b5d"
      },
      "source": [
        "**Step 4: Fitting**\n",
        "\n",
        "When it comes to fitting, we can treat the pipeline object as if it were the classifier object itself, and simply call `fit` on the pipeline."
      ]
    },
    {
      "cell_type": "code",
      "execution_count": 118,
      "id": "32a3d208",
      "metadata": {
        "id": "32a3d208"
      },
      "outputs": [],
      "source": [
        "# For the sake of time, we are fitting quickly and we may not converge\n",
        "# We'll supress those pesky warnings\n",
        "from warnings import simplefilter\n",
        "from sklearn.exceptions import ConvergenceWarning\n",
        "# We also ignore FutureWarnings due to version issues on Ed\n",
        "simplefilter(\"ignore\", category=(ConvergenceWarning, FutureWarning))"
      ]
    },
    {
      "cell_type": "code",
      "execution_count": 119,
      "id": "95a8355d",
      "metadata": {
        "colab": {
          "base_uri": "https://localhost:8080/",
          "height": 126
        },
        "id": "95a8355d",
        "outputId": "804be893-d8c6-4610-f26d-641f5b41c5b6"
      },
      "outputs": [
        {
          "output_type": "execute_result",
          "data": {
            "text/plain": [
              "Pipeline(steps=[('tfidfvectorizer',\n",
              "                 TfidfVectorizer(max_df=0.9, min_df=0.0001,\n",
              "                                 stop_words='english')),\n",
              "                ('logisticregressioncv',\n",
              "                 LogisticRegressionCV(cv=5, max_iter=10, random_state=0))])"
            ],
            "text/html": [
              "<style>#sk-container-id-3 {color: black;background-color: white;}#sk-container-id-3 pre{padding: 0;}#sk-container-id-3 div.sk-toggleable {background-color: white;}#sk-container-id-3 label.sk-toggleable__label {cursor: pointer;display: block;width: 100%;margin-bottom: 0;padding: 0.3em;box-sizing: border-box;text-align: center;}#sk-container-id-3 label.sk-toggleable__label-arrow:before {content: \"▸\";float: left;margin-right: 0.25em;color: #696969;}#sk-container-id-3 label.sk-toggleable__label-arrow:hover:before {color: black;}#sk-container-id-3 div.sk-estimator:hover label.sk-toggleable__label-arrow:before {color: black;}#sk-container-id-3 div.sk-toggleable__content {max-height: 0;max-width: 0;overflow: hidden;text-align: left;background-color: #f0f8ff;}#sk-container-id-3 div.sk-toggleable__content pre {margin: 0.2em;color: black;border-radius: 0.25em;background-color: #f0f8ff;}#sk-container-id-3 input.sk-toggleable__control:checked~div.sk-toggleable__content {max-height: 200px;max-width: 100%;overflow: auto;}#sk-container-id-3 input.sk-toggleable__control:checked~label.sk-toggleable__label-arrow:before {content: \"▾\";}#sk-container-id-3 div.sk-estimator input.sk-toggleable__control:checked~label.sk-toggleable__label {background-color: #d4ebff;}#sk-container-id-3 div.sk-label input.sk-toggleable__control:checked~label.sk-toggleable__label {background-color: #d4ebff;}#sk-container-id-3 input.sk-hidden--visually {border: 0;clip: rect(1px 1px 1px 1px);clip: rect(1px, 1px, 1px, 1px);height: 1px;margin: -1px;overflow: hidden;padding: 0;position: absolute;width: 1px;}#sk-container-id-3 div.sk-estimator {font-family: monospace;background-color: #f0f8ff;border: 1px dotted black;border-radius: 0.25em;box-sizing: border-box;margin-bottom: 0.5em;}#sk-container-id-3 div.sk-estimator:hover {background-color: #d4ebff;}#sk-container-id-3 div.sk-parallel-item::after {content: \"\";width: 100%;border-bottom: 1px solid gray;flex-grow: 1;}#sk-container-id-3 div.sk-label:hover label.sk-toggleable__label {background-color: #d4ebff;}#sk-container-id-3 div.sk-serial::before {content: \"\";position: absolute;border-left: 1px solid gray;box-sizing: border-box;top: 0;bottom: 0;left: 50%;z-index: 0;}#sk-container-id-3 div.sk-serial {display: flex;flex-direction: column;align-items: center;background-color: white;padding-right: 0.2em;padding-left: 0.2em;position: relative;}#sk-container-id-3 div.sk-item {position: relative;z-index: 1;}#sk-container-id-3 div.sk-parallel {display: flex;align-items: stretch;justify-content: center;background-color: white;position: relative;}#sk-container-id-3 div.sk-item::before, #sk-container-id-3 div.sk-parallel-item::before {content: \"\";position: absolute;border-left: 1px solid gray;box-sizing: border-box;top: 0;bottom: 0;left: 50%;z-index: -1;}#sk-container-id-3 div.sk-parallel-item {display: flex;flex-direction: column;z-index: 1;position: relative;background-color: white;}#sk-container-id-3 div.sk-parallel-item:first-child::after {align-self: flex-end;width: 50%;}#sk-container-id-3 div.sk-parallel-item:last-child::after {align-self: flex-start;width: 50%;}#sk-container-id-3 div.sk-parallel-item:only-child::after {width: 0;}#sk-container-id-3 div.sk-dashed-wrapped {border: 1px dashed gray;margin: 0 0.4em 0.5em 0.4em;box-sizing: border-box;padding-bottom: 0.4em;background-color: white;}#sk-container-id-3 div.sk-label label {font-family: monospace;font-weight: bold;display: inline-block;line-height: 1.2em;}#sk-container-id-3 div.sk-label-container {text-align: center;}#sk-container-id-3 div.sk-container {/* jupyter's `normalize.less` sets `[hidden] { display: none; }` but bootstrap.min.css set `[hidden] { display: none !important; }` so we also need the `!important` here to be able to override the default hidden behavior on the sphinx rendered scikit-learn.org. See: https://github.com/scikit-learn/scikit-learn/issues/21755 */display: inline-block !important;position: relative;}#sk-container-id-3 div.sk-text-repr-fallback {display: none;}</style><div id=\"sk-container-id-3\" class=\"sk-top-container\"><div class=\"sk-text-repr-fallback\"><pre>Pipeline(steps=[(&#x27;tfidfvectorizer&#x27;,\n",
              "                 TfidfVectorizer(max_df=0.9, min_df=0.0001,\n",
              "                                 stop_words=&#x27;english&#x27;)),\n",
              "                (&#x27;logisticregressioncv&#x27;,\n",
              "                 LogisticRegressionCV(cv=5, max_iter=10, random_state=0))])</pre><b>In a Jupyter environment, please rerun this cell to show the HTML representation or trust the notebook. <br />On GitHub, the HTML representation is unable to render, please try loading this page with nbviewer.org.</b></div><div class=\"sk-container\" hidden><div class=\"sk-item sk-dashed-wrapped\"><div class=\"sk-label-container\"><div class=\"sk-label sk-toggleable\"><input class=\"sk-toggleable__control sk-hidden--visually\" id=\"sk-estimator-id-7\" type=\"checkbox\" ><label for=\"sk-estimator-id-7\" class=\"sk-toggleable__label sk-toggleable__label-arrow\">Pipeline</label><div class=\"sk-toggleable__content\"><pre>Pipeline(steps=[(&#x27;tfidfvectorizer&#x27;,\n",
              "                 TfidfVectorizer(max_df=0.9, min_df=0.0001,\n",
              "                                 stop_words=&#x27;english&#x27;)),\n",
              "                (&#x27;logisticregressioncv&#x27;,\n",
              "                 LogisticRegressionCV(cv=5, max_iter=10, random_state=0))])</pre></div></div></div><div class=\"sk-serial\"><div class=\"sk-item\"><div class=\"sk-estimator sk-toggleable\"><input class=\"sk-toggleable__control sk-hidden--visually\" id=\"sk-estimator-id-8\" type=\"checkbox\" ><label for=\"sk-estimator-id-8\" class=\"sk-toggleable__label sk-toggleable__label-arrow\">TfidfVectorizer</label><div class=\"sk-toggleable__content\"><pre>TfidfVectorizer(max_df=0.9, min_df=0.0001, stop_words=&#x27;english&#x27;)</pre></div></div></div><div class=\"sk-item\"><div class=\"sk-estimator sk-toggleable\"><input class=\"sk-toggleable__control sk-hidden--visually\" id=\"sk-estimator-id-9\" type=\"checkbox\" ><label for=\"sk-estimator-id-9\" class=\"sk-toggleable__label sk-toggleable__label-arrow\">LogisticRegressionCV</label><div class=\"sk-toggleable__content\"><pre>LogisticRegressionCV(cv=5, max_iter=10, random_state=0)</pre></div></div></div></div></div></div></div>"
            ]
          },
          "metadata": {},
          "execution_count": 119
        }
      ],
      "source": [
        "### edTest(test_fit) ###\n",
        "# Fit the model via the pipeline\n",
        "pipe.fit(x_train, y_train)"
      ]
    },
    {
      "cell_type": "markdown",
      "id": "b5e449d2",
      "metadata": {
        "id": "b5e449d2"
      },
      "source": [
        "We can inspect the steps of the pipeline."
      ]
    },
    {
      "cell_type": "code",
      "execution_count": 120,
      "id": "feb94be9",
      "metadata": {
        "colab": {
          "base_uri": "https://localhost:8080/"
        },
        "id": "feb94be9",
        "outputId": "a2a0aa30-4635-4fed-b8c8-bfe6d0d44b18"
      },
      "outputs": [
        {
          "output_type": "execute_result",
          "data": {
            "text/plain": [
              "[('tfidfvectorizer',\n",
              "  TfidfVectorizer(max_df=0.9, min_df=0.0001, stop_words='english')),\n",
              " ('logisticregressioncv',\n",
              "  LogisticRegressionCV(cv=5, max_iter=10, random_state=0))]"
            ]
          },
          "metadata": {},
          "execution_count": 120
        }
      ],
      "source": [
        "pipe.get_params()['steps']"
      ]
    },
    {
      "cell_type": "markdown",
      "id": "41580761",
      "metadata": {
        "id": "41580761"
      },
      "source": [
        "By default they are named using the all lowercase class name of each object.\\\n",
        "We can use these names to access the fitted objects inside. Here we see the size of our vectorizer's vocabulary."
      ]
    },
    {
      "cell_type": "code",
      "execution_count": 121,
      "id": "ccca2cec",
      "metadata": {
        "scrolled": true,
        "colab": {
          "base_uri": "https://localhost:8080/"
        },
        "id": "ccca2cec",
        "outputId": "b2932489-0f0d-439d-8f5d-aca7c75beb07"
      },
      "outputs": [
        {
          "output_type": "stream",
          "name": "stdout",
          "text": [
            "# of features: 36658\n"
          ]
        }
      ],
      "source": [
        "features = pipe.get_params()['tfidfvectorizer'].get_feature_names_out() # When sklearn.__version__ >= 1.0.x use following method\n",
        "print('# of features:', len(features))"
      ]
    },
    {
      "cell_type": "markdown",
      "id": "8706fcf1",
      "metadata": {
        "id": "8706fcf1"
      },
      "source": [
        "There are too many to print, but we can peek at a random sample."
      ]
    },
    {
      "cell_type": "code",
      "execution_count": 122,
      "id": "929a8397",
      "metadata": {
        "colab": {
          "base_uri": "https://localhost:8080/"
        },
        "id": "929a8397",
        "outputId": "5fbb20d9-b0bb-471c-ff8f-972dd85be36b"
      },
      "outputs": [
        {
          "output_type": "stream",
          "name": "stdout",
          "text": [
            "['integrating' 'gregson' 'deal' 'homophobia' 'chemically' 'explained'\n",
            " 'messedup' 'shannon' 'regal' 'brick' 'carpathian' 'revelry' 'loos' 'whit'\n",
            " 'yu' 'strata' 'unlucky' 'unwanted' 'anachronism' 'interior' 'julie'\n",
            " 'seasickness' 'lex' 'articulated' '10000000' 'genre' 'rebroadcast' 'auer'\n",
            " 'lapsed' 'dozens' 'crichtons' '2020' 'hoffmans' 'storyteller' 'committee'\n",
            " 'fellini' 'absolutly' 'sidesplitting' 'repetitiveness' 'boringly']\n"
          ]
        }
      ],
      "source": [
        "sample_size = 40\n",
        "feature_sample_idx = np.random.choice(len(features), size=sample_size, replace=False)\n",
        "print(np.array(features)[feature_sample_idx])"
      ]
    },
    {
      "cell_type": "markdown",
      "id": "97f3f2e8",
      "metadata": {
        "id": "97f3f2e8"
      },
      "source": [
        "Similarly, we can access the fitted logistic model and see what regularization parameter was used."
      ]
    },
    {
      "cell_type": "code",
      "execution_count": 123,
      "id": "86399e47",
      "metadata": {
        "scrolled": true,
        "colab": {
          "base_uri": "https://localhost:8080/"
        },
        "id": "86399e47",
        "outputId": "91b86d84-b096-42c8-c38d-d2557ec464c6"
      },
      "outputs": [
        {
          "output_type": "stream",
          "name": "stdout",
          "text": [
            "Best C from cross-validation: 2.7826\n"
          ]
        }
      ],
      "source": [
        "best_C = pipe.get_params()['logisticregressioncv'].C_[0]\n",
        "print(f'Best C from cross-validation: {best_C:.4f}')"
      ]
    },
    {
      "cell_type": "markdown",
      "id": "0cab190d",
      "metadata": {
        "id": "0cab190d"
      },
      "source": [
        "**Step 5: Prediction**\n",
        "\n",
        "Just like we did when fitting, we can treat the pipeline object as the classifier when making predictions.\\\n",
        "Predict on the test data to get:\n",
        "1. class labels\n",
        "2. probabilities of being the positive class (i.e., 'good' reviews)\n",
        "3. test accuracy"
      ]
    },
    {
      "cell_type": "code",
      "execution_count": 124,
      "id": "0b0d084b",
      "metadata": {
        "colab": {
          "base_uri": "https://localhost:8080/"
        },
        "id": "0b0d084b",
        "outputId": "47475c2c-b694-419d-8a14-a846638451f2"
      },
      "outputs": [
        {
          "output_type": "stream",
          "name": "stdout",
          "text": [
            "test accuracy: 0.893\n"
          ]
        }
      ],
      "source": [
        "# please fill this code block!\n",
        "# Predict class labels on test data\n",
        "y_pred = pipe.predict(x_test)\n",
        "\n",
        "# Predict probabilities of the positive class on the test data\n",
        "y_pred_proba = pipe.predict_proba(x_test)[:, 1]#0-negetive;1-positv\n",
        "\n",
        "# Calculate test accuracy\n",
        "test_acc = pipe.score(x_test, y_test)\n",
        "print(f\"test accuracy: {test_acc:0.3f}\")"
      ]
    },
    {
      "cell_type": "markdown",
      "id": "0ae3f289",
      "metadata": {
        "id": "0ae3f289"
      },
      "source": [
        "Can you get better than 0.893 by tweaking the preprocessing, or vetorizer and classifier parameters? Perhaps inspecting how our model makes its predictions may help us decide how we might improve the model in the future."
      ]
    },
    {
      "cell_type": "markdown",
      "id": "3ccc9200",
      "metadata": {
        "id": "3ccc9200"
      },
      "source": [
        "### Kaggle Submission Process for Movie Review Classification\n",
        "\n",
        "In the subsequent steps, we'll process the test dataset provided on Kaggle, produce a predicted output, and generate a CSV file suitable for submission. This will allow us to evaluate our model's predictions on Kaggle. Access the competition through this [link](https://www.kaggle.com/competitions/dsaa-6100-movie-review-classification/): **DSAA 6100 Movie Review Classification**.\n",
        "\n",
        "When participating in the competition on Kaggle, please ensure your displayed username follows the format \"StudentID_Name\". This will help the teaching assistants to easily identify and verify your scores. For instance, change your Kaggle display name to a format similar to \"50013772_Yupeng Xie\" before submitting."
      ]
    },
    {
      "cell_type": "code",
      "execution_count": 125,
      "id": "1ee8aecd",
      "metadata": {
        "colab": {
          "base_uri": "https://localhost:8080/"
        },
        "id": "1ee8aecd",
        "outputId": "b2562b83-c520-4fdc-9ed0-75abb67adacf"
      },
      "outputs": [
        {
          "output_type": "stream",
          "name": "stdout",
          "text": [
            "Kaggle submission file saved as 'kaggle_submission.csv'\n"
          ]
        }
      ],
      "source": [
        "# 1. Load the 'test_data.csv' file\n",
        "test_data = pd.read_csv('/content/drive/MyDrive/NLP-3-Sentiment_Analysis/data/test_data.csv')\n",
        "\n",
        "# Extract reviews from 'test_data.csv' assuming the column name is \"text\"\n",
        "test_reviews = test_data['text']\n",
        "\n",
        "# 2. Predict sentiments using the trained model\n",
        "y_pred_kaggle = pipe.predict(test_reviews)\n",
        "\n",
        "# 3. Create a dataframe for Kaggle submission\n",
        "# Assuming 'test_data' has a column named 'Id' for identifying each review\n",
        "submission = pd.DataFrame({'Id': test_data['Id'], 'Category': y_pred_kaggle})\n",
        "\n",
        "# 4. Save the predictions to a .csv file for submission\n",
        "submission.to_csv('kaggle_submission.csv', index=False)\n",
        "\n",
        "print(\"Kaggle submission file saved as 'kaggle_submission.csv'\")"
      ]
    },
    {
      "cell_type": "markdown",
      "id": "ea0203db",
      "metadata": {
        "id": "ea0203db"
      },
      "source": [
        "### Interpretation\n",
        "\n",
        "Below we'll use the `eli5` library to have some fun interpreting what is driving our model's predictions on specific test observations.\n",
        "\n",
        "- [ELI5](https://eli5.readthedocs.io/en/latest/) is a Python library which allows to visualize and debug various Machine Learning models using unified API. It has built-in support for several ML frameworks and provides a way to explain black-box models."
      ]
    },
    {
      "cell_type": "code",
      "execution_count": 126,
      "id": "d2ed39f7",
      "metadata": {
        "colab": {
          "base_uri": "https://localhost:8080/"
        },
        "id": "d2ed39f7",
        "outputId": "bb9a6e0e-b47f-4ee6-8f50-1ecd609ab0ad"
      },
      "outputs": [
        {
          "output_type": "stream",
          "name": "stdout",
          "text": [
            "Requirement already satisfied: eli5 in /usr/local/lib/python3.10/dist-packages (0.13.0)\n",
            "Requirement already satisfied: attrs>17.1.0 in /usr/local/lib/python3.10/dist-packages (from eli5) (23.1.0)\n",
            "Requirement already satisfied: jinja2>=3.0.0 in /usr/local/lib/python3.10/dist-packages (from eli5) (3.1.2)\n",
            "Requirement already satisfied: numpy>=1.9.0 in /usr/local/lib/python3.10/dist-packages (from eli5) (1.23.5)\n",
            "Requirement already satisfied: scipy in /usr/local/lib/python3.10/dist-packages (from eli5) (1.11.3)\n",
            "Requirement already satisfied: six in /usr/local/lib/python3.10/dist-packages (from eli5) (1.16.0)\n",
            "Requirement already satisfied: scikit-learn>=0.20 in /usr/local/lib/python3.10/dist-packages (from eli5) (1.2.2)\n",
            "Requirement already satisfied: graphviz in /usr/local/lib/python3.10/dist-packages (from eli5) (0.20.1)\n",
            "Requirement already satisfied: tabulate>=0.7.7 in /usr/local/lib/python3.10/dist-packages (from eli5) (0.9.0)\n",
            "Requirement already satisfied: MarkupSafe>=2.0 in /usr/local/lib/python3.10/dist-packages (from jinja2>=3.0.0->eli5) (2.1.3)\n",
            "Requirement already satisfied: joblib>=1.1.1 in /usr/local/lib/python3.10/dist-packages (from scikit-learn>=0.20->eli5) (1.3.2)\n",
            "Requirement already satisfied: threadpoolctl>=2.0.0 in /usr/local/lib/python3.10/dist-packages (from scikit-learn>=0.20->eli5) (3.2.0)\n"
          ]
        }
      ],
      "source": [
        "! pip install eli5"
      ]
    },
    {
      "cell_type": "code",
      "execution_count": 127,
      "id": "fb097024",
      "metadata": {
        "id": "fb097024"
      },
      "outputs": [],
      "source": [
        "# For interpretation\n",
        "import eli5\n",
        "# for parsing/formating eli5's HTML output\n",
        "from bs4 import BeautifulSoup\n",
        "# for displaying formatted HTML output\n",
        "from IPython.display import HTML"
      ]
    },
    {
      "cell_type": "markdown",
      "id": "bf8566b4",
      "metadata": {
        "id": "bf8566b4"
      },
      "source": [
        "Here are the words driving positive class predictions."
      ]
    },
    {
      "cell_type": "code",
      "execution_count": 128,
      "id": "303414ee",
      "metadata": {
        "colab": {
          "base_uri": "https://localhost:8080/",
          "height": 558
        },
        "id": "303414ee",
        "outputId": "77b88066-9bfd-4b2d-bfd6-4acb6b1637be"
      },
      "outputs": [
        {
          "output_type": "execute_result",
          "data": {
            "text/plain": [
              "<IPython.core.display.HTML object>"
            ],
            "text/html": [
              "\n",
              "    <style>\n",
              "    table.eli5-weights tr:hover {\n",
              "        filter: brightness(85%);\n",
              "    }\n",
              "</style>\n",
              "\n",
              "\n",
              "\n",
              "    \n",
              "\n",
              "    \n",
              "\n",
              "    \n",
              "\n",
              "    \n",
              "\n",
              "    \n",
              "\n",
              "    \n",
              "\n",
              "\n",
              "    \n",
              "\n",
              "    \n",
              "\n",
              "    \n",
              "\n",
              "    \n",
              "        \n",
              "\n",
              "    \n",
              "\n",
              "        \n",
              "            \n",
              "                \n",
              "                \n",
              "    \n",
              "        <p style=\"margin-bottom: 0.5em; margin-top: 0em\">\n",
              "            <b>\n",
              "    \n",
              "        y=1\n",
              "    \n",
              "</b>\n",
              "\n",
              "top features\n",
              "        </p>\n",
              "    \n",
              "    <table class=\"eli5-weights\"\n",
              "           style=\"border-collapse: collapse; border: none; margin-top: 0em; table-layout: auto; margin-bottom: 2em;\">\n",
              "        <thead>\n",
              "        <tr style=\"border: none;\">\n",
              "            \n",
              "                <th style=\"padding: 0 1em 0 0.5em; text-align: right; border: none;\" title=\"Feature weights. Note that weights do not account for feature value scales, so if feature values have different scales, features with highest weights might not be the most important.\">\n",
              "                    Weight<sup>?</sup>\n",
              "                </th>\n",
              "            \n",
              "            <th style=\"padding: 0 0.5em 0 0.5em; text-align: left; border: none;\">Feature</th>\n",
              "            \n",
              "        </tr>\n",
              "        </thead>\n",
              "        <tbody>\n",
              "        \n",
              "            <tr style=\"background-color: hsl(120, 100.00%, 84.34%); border: none;\">\n",
              "    <td style=\"padding: 0 1em 0 0.5em; text-align: right; border: none;\">\n",
              "        +9.181\n",
              "    </td>\n",
              "    <td style=\"padding: 0 0.5em 0 0.5em; text-align: left; border: none;\">\n",
              "        x11357\n",
              "    </td>\n",
              "    \n",
              "</tr>\n",
              "        \n",
              "            <tr style=\"background-color: hsl(120, 100.00%, 84.86%); border: none;\">\n",
              "    <td style=\"padding: 0 1em 0 0.5em; text-align: right; border: none;\">\n",
              "        +8.748\n",
              "    </td>\n",
              "    <td style=\"padding: 0 0.5em 0 0.5em; text-align: left; border: none;\">\n",
              "        x447\n",
              "    </td>\n",
              "    \n",
              "</tr>\n",
              "        \n",
              "            <tr style=\"background-color: hsl(120, 100.00%, 85.08%); border: none;\">\n",
              "    <td style=\"padding: 0 1em 0 0.5em; text-align: right; border: none;\">\n",
              "        +8.561\n",
              "    </td>\n",
              "    <td style=\"padding: 0 0.5em 0 0.5em; text-align: left; border: none;\">\n",
              "        x14166\n",
              "    </td>\n",
              "    \n",
              "</tr>\n",
              "        \n",
              "            <tr style=\"background-color: hsl(120, 100.00%, 86.73%); border: none;\">\n",
              "    <td style=\"padding: 0 1em 0 0.5em; text-align: right; border: none;\">\n",
              "        +7.245\n",
              "    </td>\n",
              "    <td style=\"padding: 0 0.5em 0 0.5em; text-align: left; border: none;\">\n",
              "        x1464\n",
              "    </td>\n",
              "    \n",
              "</tr>\n",
              "        \n",
              "            <tr style=\"background-color: hsl(120, 100.00%, 86.99%); border: none;\">\n",
              "    <td style=\"padding: 0 1em 0 0.5em; text-align: right; border: none;\">\n",
              "        +7.041\n",
              "    </td>\n",
              "    <td style=\"padding: 0 0.5em 0 0.5em; text-align: left; border: none;\">\n",
              "        x36121\n",
              "    </td>\n",
              "    \n",
              "</tr>\n",
              "        \n",
              "            <tr style=\"background-color: hsl(120, 100.00%, 87.18%); border: none;\">\n",
              "    <td style=\"padding: 0 1em 0 0.5em; text-align: right; border: none;\">\n",
              "        +6.895\n",
              "    </td>\n",
              "    <td style=\"padding: 0 0.5em 0 0.5em; text-align: left; border: none;\">\n",
              "        x3420\n",
              "    </td>\n",
              "    \n",
              "</tr>\n",
              "        \n",
              "            <tr style=\"background-color: hsl(120, 100.00%, 87.44%); border: none;\">\n",
              "    <td style=\"padding: 0 1em 0 0.5em; text-align: right; border: none;\">\n",
              "        +6.699\n",
              "    </td>\n",
              "    <td style=\"padding: 0 0.5em 0 0.5em; text-align: left; border: none;\">\n",
              "        x24073\n",
              "    </td>\n",
              "    \n",
              "</tr>\n",
              "        \n",
              "            <tr style=\"background-color: hsl(120, 100.00%, 88.05%); border: none;\">\n",
              "    <td style=\"padding: 0 1em 0 0.5em; text-align: right; border: none;\">\n",
              "        +6.236\n",
              "    </td>\n",
              "    <td style=\"padding: 0 0.5em 0 0.5em; text-align: left; border: none;\">\n",
              "        x11964\n",
              "    </td>\n",
              "    \n",
              "</tr>\n",
              "        \n",
              "            <tr style=\"background-color: hsl(120, 100.00%, 88.31%); border: none;\">\n",
              "    <td style=\"padding: 0 1em 0 0.5em; text-align: right; border: none;\">\n",
              "        +6.048\n",
              "    </td>\n",
              "    <td style=\"padding: 0 0.5em 0 0.5em; text-align: left; border: none;\">\n",
              "        x4429\n",
              "    </td>\n",
              "    \n",
              "</tr>\n",
              "        \n",
              "        \n",
              "            <tr style=\"background-color: hsl(120, 100.00%, 88.31%); border: none;\">\n",
              "                <td colspan=\"2\" style=\"padding: 0 0.5em 0 0.5em; text-align: center; border: none; white-space: nowrap;\">\n",
              "                    <i>&hellip; 18538 more positive &hellip;</i>\n",
              "                </td>\n",
              "            </tr>\n",
              "        \n",
              "\n",
              "        \n",
              "            <tr style=\"background-color: hsl(0, 100.00%, 88.55%); border: none;\">\n",
              "                <td colspan=\"2\" style=\"padding: 0 0.5em 0 0.5em; text-align: center; border: none; white-space: nowrap;\">\n",
              "                    <i>&hellip; 18096 more negative &hellip;</i>\n",
              "                </td>\n",
              "            </tr>\n",
              "        \n",
              "        \n",
              "            <tr style=\"background-color: hsl(0, 100.00%, 88.55%); border: none;\">\n",
              "    <td style=\"padding: 0 1em 0 0.5em; text-align: right; border: none;\">\n",
              "        -5.865\n",
              "    </td>\n",
              "    <td style=\"padding: 0 0.5em 0 0.5em; text-align: left; border: none;\">\n",
              "        x9253\n",
              "    </td>\n",
              "    \n",
              "</tr>\n",
              "        \n",
              "            <tr style=\"background-color: hsl(0, 100.00%, 88.51%); border: none;\">\n",
              "    <td style=\"padding: 0 1em 0 0.5em; text-align: right; border: none;\">\n",
              "        -5.896\n",
              "    </td>\n",
              "    <td style=\"padding: 0 0.5em 0 0.5em; text-align: left; border: none;\">\n",
              "        x18459\n",
              "    </td>\n",
              "    \n",
              "</tr>\n",
              "        \n",
              "            <tr style=\"background-color: hsl(0, 100.00%, 88.36%); border: none;\">\n",
              "    <td style=\"padding: 0 1em 0 0.5em; text-align: right; border: none;\">\n",
              "        -6.005\n",
              "    </td>\n",
              "    <td style=\"padding: 0 0.5em 0 0.5em; text-align: left; border: none;\">\n",
              "        x367\n",
              "    </td>\n",
              "    \n",
              "</tr>\n",
              "        \n",
              "            <tr style=\"background-color: hsl(0, 100.00%, 88.10%); border: none;\">\n",
              "    <td style=\"padding: 0 1em 0 0.5em; text-align: right; border: none;\">\n",
              "        -6.198\n",
              "    </td>\n",
              "    <td style=\"padding: 0 0.5em 0 0.5em; text-align: left; border: none;\">\n",
              "        x24842\n",
              "    </td>\n",
              "    \n",
              "</tr>\n",
              "        \n",
              "            <tr style=\"background-color: hsl(0, 100.00%, 88.02%); border: none;\">\n",
              "    <td style=\"padding: 0 1em 0 0.5em; text-align: right; border: none;\">\n",
              "        -6.263\n",
              "    </td>\n",
              "    <td style=\"padding: 0 0.5em 0 0.5em; text-align: left; border: none;\">\n",
              "        x9255\n",
              "    </td>\n",
              "    \n",
              "</tr>\n",
              "        \n",
              "            <tr style=\"background-color: hsl(0, 100.00%, 87.72%); border: none;\">\n",
              "    <td style=\"padding: 0 1em 0 0.5em; text-align: right; border: none;\">\n",
              "        -6.485\n",
              "    </td>\n",
              "    <td style=\"padding: 0 0.5em 0 0.5em; text-align: left; border: none;\">\n",
              "        x10145\n",
              "    </td>\n",
              "    \n",
              "</tr>\n",
              "        \n",
              "            <tr style=\"background-color: hsl(0, 100.00%, 87.52%); border: none;\">\n",
              "    <td style=\"padding: 0 1em 0 0.5em; text-align: right; border: none;\">\n",
              "        -6.639\n",
              "    </td>\n",
              "    <td style=\"padding: 0 0.5em 0 0.5em; text-align: left; border: none;\">\n",
              "        x15686\n",
              "    </td>\n",
              "    \n",
              "</tr>\n",
              "        \n",
              "            <tr style=\"background-color: hsl(0, 100.00%, 87.40%); border: none;\">\n",
              "    <td style=\"padding: 0 1em 0 0.5em; text-align: right; border: none;\">\n",
              "        -6.729\n",
              "    </td>\n",
              "    <td style=\"padding: 0 0.5em 0 0.5em; text-align: left; border: none;\">\n",
              "        x11738\n",
              "    </td>\n",
              "    \n",
              "</tr>\n",
              "        \n",
              "            <tr style=\"background-color: hsl(0, 100.00%, 87.36%); border: none;\">\n",
              "    <td style=\"padding: 0 1em 0 0.5em; text-align: right; border: none;\">\n",
              "        -6.756\n",
              "    </td>\n",
              "    <td style=\"padding: 0 0.5em 0 0.5em; text-align: left; border: none;\">\n",
              "        x36207\n",
              "    </td>\n",
              "    \n",
              "</tr>\n",
              "        \n",
              "            <tr style=\"background-color: hsl(0, 100.00%, 87.00%); border: none;\">\n",
              "    <td style=\"padding: 0 1em 0 0.5em; text-align: right; border: none;\">\n",
              "        -7.037\n",
              "    </td>\n",
              "    <td style=\"padding: 0 0.5em 0 0.5em; text-align: left; border: none;\">\n",
              "        x24839\n",
              "    </td>\n",
              "    \n",
              "</tr>\n",
              "        \n",
              "            <tr style=\"background-color: hsl(0, 100.00%, 86.99%); border: none;\">\n",
              "    <td style=\"padding: 0 1em 0 0.5em; text-align: right; border: none;\">\n",
              "        -7.043\n",
              "    </td>\n",
              "    <td style=\"padding: 0 0.5em 0 0.5em; text-align: left; border: none;\">\n",
              "        x32580\n",
              "    </td>\n",
              "    \n",
              "</tr>\n",
              "        \n",
              "            <tr style=\"background-color: hsl(0, 100.00%, 85.94%); border: none;\">\n",
              "    <td style=\"padding: 0 1em 0 0.5em; text-align: right; border: none;\">\n",
              "        -7.868\n",
              "    </td>\n",
              "    <td style=\"padding: 0 0.5em 0 0.5em; text-align: left; border: none;\">\n",
              "        x4108\n",
              "    </td>\n",
              "    \n",
              "</tr>\n",
              "        \n",
              "            <tr style=\"background-color: hsl(0, 100.00%, 84.60%); border: none;\">\n",
              "    <td style=\"padding: 0 1em 0 0.5em; text-align: right; border: none;\">\n",
              "        -8.960\n",
              "    </td>\n",
              "    <td style=\"padding: 0 0.5em 0 0.5em; text-align: left; border: none;\">\n",
              "        x2708\n",
              "    </td>\n",
              "    \n",
              "</tr>\n",
              "        \n",
              "            <tr style=\"background-color: hsl(0, 100.00%, 83.54%); border: none;\">\n",
              "    <td style=\"padding: 0 1em 0 0.5em; text-align: right; border: none;\">\n",
              "        -9.857\n",
              "    </td>\n",
              "    <td style=\"padding: 0 0.5em 0 0.5em; text-align: left; border: none;\">\n",
              "        x2601\n",
              "    </td>\n",
              "    \n",
              "</tr>\n",
              "        \n",
              "            <tr style=\"background-color: hsl(0, 100.00%, 82.89%); border: none;\">\n",
              "    <td style=\"padding: 0 1em 0 0.5em; text-align: right; border: none;\">\n",
              "        -10.415\n",
              "    </td>\n",
              "    <td style=\"padding: 0 0.5em 0 0.5em; text-align: left; border: none;\">\n",
              "        x35462\n",
              "    </td>\n",
              "    \n",
              "</tr>\n",
              "        \n",
              "            <tr style=\"background-color: hsl(0, 100.00%, 80.00%); border: none;\">\n",
              "    <td style=\"padding: 0 1em 0 0.5em; text-align: right; border: none;\">\n",
              "        -13.017\n",
              "    </td>\n",
              "    <td style=\"padding: 0 0.5em 0 0.5em; text-align: left; border: none;\">\n",
              "        x36218\n",
              "    </td>\n",
              "    \n",
              "</tr>\n",
              "        \n",
              "\n",
              "        </tbody>\n",
              "    </table>\n",
              "\n",
              "            \n",
              "        \n",
              "\n",
              "        \n",
              "\n",
              "\n",
              "\n",
              "    \n",
              "\n",
              "    \n",
              "\n",
              "    \n",
              "\n",
              "    \n",
              "\n",
              "\n",
              "    \n",
              "\n",
              "    \n",
              "\n",
              "    \n",
              "\n",
              "    \n",
              "\n",
              "    \n",
              "\n",
              "    \n",
              "\n",
              "\n",
              "    \n",
              "\n",
              "    \n",
              "\n",
              "    \n",
              "\n",
              "    \n",
              "\n",
              "    \n",
              "\n",
              "    \n",
              "\n",
              "\n",
              "\n"
            ]
          },
          "metadata": {},
          "execution_count": 128
        }
      ],
      "source": [
        "eli5.show_weights(clf, vec=vec, top=25)"
      ]
    },
    {
      "cell_type": "code",
      "source": [
        "print(f'feature x447 is: {features[447]}')\n",
        "print(f'feature x367 is: {features[367]}')"
      ],
      "metadata": {
        "colab": {
          "base_uri": "https://localhost:8080/"
        },
        "id": "oGKdx3HskN3u",
        "outputId": "e07b0f4d-8990-47b0-bd93-14cf0c882c32"
      },
      "id": "oGKdx3HskN3u",
      "execution_count": 129,
      "outputs": [
        {
          "output_type": "stream",
          "name": "stdout",
          "text": [
            "feature x447 is: 710\n",
            "feature x367 is: 410\n"
          ]
        }
      ]
    },
    {
      "cell_type": "markdown",
      "id": "9bec2b7a",
      "metadata": {
        "id": "9bec2b7a"
      },
      "source": [
        "Hmm, those digits like 710, 810, and 410 driving predictions seems strange. What might they represent?\\"
      ]
    },
    {
      "cell_type": "markdown",
      "id": "a5c0d164",
      "metadata": {
        "id": "a5c0d164"
      },
      "source": [
        "We'll use the 'raw' data with punctuation when inspecting the data (See! It is coming in handy!)"
      ]
    },
    {
      "cell_type": "code",
      "execution_count": 130,
      "id": "3289273b",
      "metadata": {
        "id": "3289273b"
      },
      "outputs": [],
      "source": [
        "x_train_raw = df_raw.text[train_idx].values\n",
        "x_test_raw = df_raw.text[test_idx].values"
      ]
    },
    {
      "cell_type": "code",
      "execution_count": 131,
      "id": "08afdf62",
      "metadata": {
        "colab": {
          "base_uri": "https://localhost:8080/",
          "height": 126
        },
        "id": "08afdf62",
        "outputId": "4fddfdb6-56d7-480c-add8-319fca3a5993"
      },
      "outputs": [
        {
          "output_type": "execute_result",
          "data": {
            "text/plain": [
              "'I have seen a lot of PPVs in the past but this is the most entertaining intense PPV and the most complete DVD i have ever seen The DVD extras are worth it because they it gives a different view of how the wrestlers act after the show such as the chris benoit interviewedge interview some glimpse into the Monday Night Wars erathe first match of Hogan winning tag title gold and some promotional talk Additionally there is a good music video 1 Tag Team Table match Bubby Ray and Spike Dudley vs Eddie Guerro and Chris benoit 710 This was a pretty good intense match to start off the show Not too many holds and just pure raw physicallity Spike can hold his own in tables matches and Guerro and Benoit gave good pure wrestling skills on the mat  2 WWE Crusierweight championship Jamie Noble w Nidia v Billy Kidman 310 The crowd really didnt care about either wrestler and didnt get interested until Kidman did a shooting star press Usually people expect a lot of high flying in a cruiser weight championship but this had very little In fact it was so bad that when Noble hit his finisher no one even cared or knew you can tell by the lack of cameras flashing The ending was quick though  3 WWE European Championship Jeff hardy v William Regal 510 Ive never really liked regal as a wrestler he lacks intensity and style Hardy was impressive but really didnt get a chance to show off his high flying act although he still performed some good counters and added that needed fast pace to the match It ended off quickly which was perfect for this match  4 John Cena v Chris Jericho 610 Its funny looking back at Cenas very first PPV how he used to act how he used to dress and how he used to look watch his interview its pretty funny This was a good intense match with Cena showing a nice variety of holds suplexes counters and some aerial Jericho was subpar but definitely helped Cena launch his career Cena Wins 5 WWE Intercontenital championship RVD v Brock Lesnar 810 This was a very intense and good match Both wrestlers styles really matched up well on the screen with Brocks pure power and raw energy vs RVDs skill full moves and quickness RVD looked great in this match better than his later matches with edge and cenaand the entire match was fast pace The ending worked perfectly because it still preserved Brocks undefeated streak while giving RVD his just desserts in his home state 6 No disqualification match Booker T v Big Show 710 Another solid match that lacked a certain intensity as the RVD match but still a good follow up Although it started off kinda slow which it always is with big show Booker T was impressive and did a sick move on the announcers table The finisher was awesome the ending was a great upset and big move up for Booker T 7 WWE Tag Team Championship Hogan and Edge v Christian and Lance storm 510 This was a mediocre match Hogan comes out like usual to a huge pop but his variety of moves lacks that intensity and energy Then again Christian doesnt exactly have the greatest athletic abilities himself This ended up being a mediocre match at best but was still OK for PPV  8 Triple Threat Match for the Undisputed Championship 1010 Rock v Undertaker v Kurt Angle Easily the match of the year This is by far the best triple threat match i have ever seen It had close falls plenty of finishers stolen finishers raw energy intensity and fast pace No one could predict who would come out of this one If your going to buy this DVD i would buy it strictly for this match ending watch for yourself Overall this was a solid PPV with plenty of extra goodies to keep you watching again and again Although this is hard to find i had to pay a little more than usual for this DVD it is definitely worth your money'"
            ],
            "application/vnd.google.colaboratory.intrinsic+json": {
              "type": "string"
            }
          },
          "metadata": {},
          "execution_count": 131
        }
      ],
      "source": [
        "df_raw[df.text.str.contains(' 710 ')].iloc[0].text"
      ]
    },
    {
      "cell_type": "markdown",
      "id": "a1cfea85",
      "metadata": {
        "id": "a1cfea85"
      },
      "source": [
        "These are actually numerical ratings embedded in the reviews! Looking at the text without the punctuation made it hard for us to see this at first."
      ]
    },
    {
      "cell_type": "markdown",
      "id": "c3b2fcd6",
      "metadata": {
        "id": "c3b2fcd6"
      },
      "source": [
        "Here's a helper function used to remove some extraneous things from `eli5`'s output. We just want to see the highlighted text.\\\n",
        "You don't need to read through the function but it is here as a nice resource/example. 🤓"
      ]
    },
    {
      "cell_type": "code",
      "execution_count": 132,
      "id": "eafdf41f",
      "metadata": {
        "id": "eafdf41f"
      },
      "outputs": [],
      "source": [
        "def eli5_html(clf, vec, observation):\n",
        "    \"\"\"\n",
        "    helper function for nicely formatting and displaying eli5 output\n",
        "    \"\"\"\n",
        "    # Get info on is driving a given observation's predictions\n",
        "    eli5_results = eli5.show_prediction(estimator=clf, doc=observation, vec=vec, targets=[True], target_names=['bad', 'good'])\n",
        "    # Convert eli5's HTML data to BS object for parsing/formatting\n",
        "    soup = BeautifulSoup(eli5_results.data, 'html.parser')\n",
        "    # Remove a table we don't want\n",
        "    soup.table.decompose()\n",
        "    # Remove the first <p> tag with unwanted text\n",
        "    soup.p.decompose()\n",
        "    # Display the newly formatted HTML!\n",
        "    display(HTML(str(soup)))"
      ]
    },
    {
      "cell_type": "markdown",
      "id": "a026c04a",
      "metadata": {
        "id": "a026c04a"
      },
      "source": [
        "Now all you need to do is find the specific observations requested.\\\n",
        "You'll need your `y_pred_proba` values for this section to find which elements from `x_test_raw` to select.\n",
        "\n",
        "**Hint:** [np.argsort()](https://numpy.org/doc/stable/reference/generated/numpy.argsort.html), [np.flip()](https://numpy.org/doc/stable/reference/generated/numpy.flip.html?highlight=flip#numpy.flip), and [np.abs()](https://numpy.org/doc/stable/reference/generated/numpy.absolute.html) may be useful here."
      ]
    },
    {
      "cell_type": "markdown",
      "id": "0fffa9cf",
      "metadata": {
        "id": "0fffa9cf"
      },
      "source": [
        "### What are the **5 worst** movie reviews in the test set according to your model? 🍅"
      ]
    },
    {
      "cell_type": "code",
      "source": [
        "print([list(y_pred_proba).index(x) for x in sorted(y_pred_proba)[:5]])\n",
        "print(y_pred_proba.argsort()[:5])"
      ],
      "metadata": {
        "colab": {
          "base_uri": "https://localhost:8080/"
        },
        "id": "G1EEgZTQpJhI",
        "outputId": "90bc37a7-e11c-445f-fac7-1a84e00eca91"
      },
      "id": "G1EEgZTQpJhI",
      "execution_count": 133,
      "outputs": [
        {
          "output_type": "stream",
          "name": "stdout",
          "text": [
            "[1880, 1317, 7760, 2767, 7219]\n",
            "[1880 1317 7760 2767 7219]\n"
          ]
        }
      ]
    },
    {
      "cell_type": "code",
      "execution_count": 134,
      "id": "8d18f27e",
      "metadata": {
        "id": "8d18f27e"
      },
      "outputs": [],
      "source": [
        "# please fill this code block!\n",
        "# Find indices of 5 worst reviews\n",
        "worst5 = x_test_raw[y_pred_proba.argsort()[:5]]"
      ]
    },
    {
      "cell_type": "code",
      "execution_count": 135,
      "id": "1130af96",
      "metadata": {
        "colab": {
          "base_uri": "https://localhost:8080/",
          "height": 719
        },
        "id": "1130af96",
        "outputId": "cff8234f-798f-4387-d0fb-2f867f295414"
      },
      "outputs": [
        {
          "output_type": "display_data",
          "data": {
            "text/plain": [
              "<IPython.core.display.HTML object>"
            ],
            "text/html": [
              "<p style=background-color:black;color:white;font-weight:bold;padding:4px>Bad Movie #1 🍅</p>"
            ]
          },
          "metadata": {}
        },
        {
          "output_type": "display_data",
          "data": {
            "text/plain": [
              "<IPython.core.display.HTML object>"
            ],
            "text/html": [
              "\n",
              "<style>\n",
              "    table.eli5-weights tr:hover {\n",
              "        filter: brightness(85%);\n",
              "    }\n",
              "</style>\n",
              "\n",
              "\n",
              "<p style=\"margin-bottom: 2.5em; margin-top:-0.5em;\">\n",
              "<span style=\"opacity: 0.80\">i rented this movie today worst movie ever it was a total waste of time and a horrible story the acting was horrible especially by the actress of sai she was so bad it was ridiculous i cant tell if it was her bad acting or because the character was just that stupid in the first place i cant even get my mind wrapped around just how awful and pointless this whole movie was im surprised someone even thought it was a good idea to film this movie and bother to release it if youre looking for a good vampirehorror flick this is not the movie for you move right along its a waste of time and money heck i wouldnt even download this movie if someone paid me this movie is so bad it doesnt even deserve a 1 i wish i could give it a 0</span>\n",
              "</p>\n"
            ]
          },
          "metadata": {}
        },
        {
          "output_type": "display_data",
          "data": {
            "text/plain": [
              "<IPython.core.display.HTML object>"
            ],
            "text/html": [
              "<p style=background-color:black;color:white;font-weight:bold;padding:4px>Bad Movie #2 🍅</p>"
            ]
          },
          "metadata": {}
        },
        {
          "output_type": "display_data",
          "data": {
            "text/plain": [
              "<IPython.core.display.HTML object>"
            ],
            "text/html": [
              "\n",
              "<style>\n",
              "    table.eli5-weights tr:hover {\n",
              "        filter: brightness(85%);\n",
              "    }\n",
              "</style>\n",
              "\n",
              "\n",
              "<p style=\"margin-bottom: 2.5em; margin-top:-0.5em;\">\n",
              "<span style=\"opacity: 0.80\">i really didnt have high expectations and i must admit that i wasnt disappointed this movie is so terrible that i felt obligated to register an account here at imdb just to warn others not to waste their time the storyline is terrible and you keep asking yourself throughout the movie can it get any worse yes it can somehow they manage to make it worst by every minute and you end up thinking i want my 1 hour 35 minutes back somebody got to pay for this  i dare you to find a movie which is worst that this i really didnt have high expectations and i must admit that i wasnt disappointed this movie is so terrible that i felt obligated to register an account here at imdb just to warn others not to waste their time the storyline is terrible and you keep asking yourself throughout the movie can it get any worse yes it can somehow they manage to make it worst by every minute and you end up thinking i want my 1 hour 35 minutes back somebody got to pay for this  i dare you to find a movie which is worst that this</span>\n",
              "</p>\n"
            ]
          },
          "metadata": {}
        },
        {
          "output_type": "display_data",
          "data": {
            "text/plain": [
              "<IPython.core.display.HTML object>"
            ],
            "text/html": [
              "<p style=background-color:black;color:white;font-weight:bold;padding:4px>Bad Movie #3 🍅</p>"
            ]
          },
          "metadata": {}
        },
        {
          "output_type": "display_data",
          "data": {
            "text/plain": [
              "<IPython.core.display.HTML object>"
            ],
            "text/html": [
              "\n",
              "<style>\n",
              "    table.eli5-weights tr:hover {\n",
              "        filter: brightness(85%);\n",
              "    }\n",
              "</style>\n",
              "\n",
              "\n",
              "<p style=\"margin-bottom: 2.5em; margin-top:-0.5em;\">\n",
              "<span style=\"opacity: 0.80\">no idea how this is rated as high as it is 58 at the time of writing but this movie was absolutely horrible the acting wasnt entirely bad but it really had no point whatsoever and the overall quality was poor its obviously a b movie or a c if such a thing exists and it looks like it was made over a weekend at a friends house or something im all for low budget movies and i generally watch any i come across but this one is really really bad i mean like the fanglys bad i dont know what else to say but trust in this as i have indeed sat thru this horrible horrible movie and i can save you the effort dont bother seriously just dont</span>\n",
              "</p>\n"
            ]
          },
          "metadata": {}
        },
        {
          "output_type": "display_data",
          "data": {
            "text/plain": [
              "<IPython.core.display.HTML object>"
            ],
            "text/html": [
              "<p style=background-color:black;color:white;font-weight:bold;padding:4px>Bad Movie #4 🍅</p>"
            ]
          },
          "metadata": {}
        },
        {
          "output_type": "display_data",
          "data": {
            "text/plain": [
              "<IPython.core.display.HTML object>"
            ],
            "text/html": [
              "\n",
              "<style>\n",
              "    table.eli5-weights tr:hover {\n",
              "        filter: brightness(85%);\n",
              "    }\n",
              "</style>\n",
              "\n",
              "\n",
              "<p style=\"margin-bottom: 2.5em; margin-top:-0.5em;\">\n",
              "<span style=\"opacity: 0.80\">terrible movie nuff said these lines are just filler the movie was bad why i have to expand on that i dont know this is already a waste of my time i just wanted to warn others avoid this movie the acting sucks and the writing is just moronic bad in every way the only nice thing about the movie are deniz akkayas breasts even that was ruined though by a terrible and unneeded rape scene the movie is a poorly contrived and totally unbelievable piece of garbage ok now i am just going to rag on imdb for this stupid rule of 10 lines of text minimum first i waste my time watching this offal then feeling compelled to warn others i create an account with imdb only to discover that i have to write a friggen essay on the film just to express how bad i think it is totally unnecessary</span>\n",
              "</p>\n"
            ]
          },
          "metadata": {}
        },
        {
          "output_type": "display_data",
          "data": {
            "text/plain": [
              "<IPython.core.display.HTML object>"
            ],
            "text/html": [
              "<p style=background-color:black;color:white;font-weight:bold;padding:4px>Bad Movie #5 🍅</p>"
            ]
          },
          "metadata": {}
        },
        {
          "output_type": "display_data",
          "data": {
            "text/plain": [
              "<IPython.core.display.HTML object>"
            ],
            "text/html": [
              "\n",
              "<style>\n",
              "    table.eli5-weights tr:hover {\n",
              "        filter: brightness(85%);\n",
              "    }\n",
              "</style>\n",
              "\n",
              "\n",
              "<p style=\"margin-bottom: 2.5em; margin-top:-0.5em;\">\n",
              "<span style=\"opacity: 0.80\">if it were possible i would have given this sorry excuse for a movie a zero star it was by far the worse i have ever seen it was as if it were a home movie that some bored highschoolers decided to make as a joke the acting was horrific the actors didnt even react to the fact that they were being murdered honestly i bought this movie by mistake the spanish title said jeepers creepers 3 so i thought hmm maybe itll be ok wrong it was honestly the worst ever i didnt get past 20 minutes of the stupid movie i skipped through chapters and nothing interesting ever seemed to happen the cameramen were also terrible it was like a home movie i would never recommend anyone to watch this terrible terrible moronic movie</span>\n",
              "</p>\n"
            ]
          },
          "metadata": {}
        }
      ],
      "source": [
        "for i, review in enumerate(worst5):\n",
        "    style = 'background-color:black;color:white;font-weight:bold;padding:4px'\n",
        "    display(HTML(f\"<p style={style}>Bad Movie #{i+1} 🍅</p>\"))\n",
        "    eli5_html(clf, vec, review)"
      ]
    },
    {
      "cell_type": "markdown",
      "id": "a9b746bf",
      "metadata": {
        "id": "a9b746bf"
      },
      "source": [
        "### What are the **5 best** movie review in the test set according to your model? 🏆"
      ]
    },
    {
      "cell_type": "code",
      "execution_count": 137,
      "id": "5931802f",
      "metadata": {
        "id": "5931802f"
      },
      "outputs": [],
      "source": [
        "# please fill this code block!\n",
        "# Find indices of 5 best reviews\n",
        "best5 = x_test_raw[y_pred_proba.argsort()[::-1][:5]]"
      ]
    },
    {
      "cell_type": "code",
      "execution_count": 138,
      "id": "1250cc2a",
      "metadata": {
        "colab": {
          "base_uri": "https://localhost:8080/",
          "height": 684
        },
        "id": "1250cc2a",
        "outputId": "2cd24122-18c6-41d6-b208-aa3a9700b7be"
      },
      "outputs": [
        {
          "output_type": "display_data",
          "data": {
            "text/plain": [
              "<IPython.core.display.HTML object>"
            ],
            "text/html": [
              "<p style=background-color:black;color:white;font-weight:bold;padding:4px>Good Movie #1 🏆</p>"
            ]
          },
          "metadata": {}
        },
        {
          "output_type": "display_data",
          "data": {
            "text/plain": [
              "<IPython.core.display.HTML object>"
            ],
            "text/html": [
              "\n",
              "<style>\n",
              "    table.eli5-weights tr:hover {\n",
              "        filter: brightness(85%);\n",
              "    }\n",
              "</style>\n",
              "\n",
              "\n",
              "<p style=\"margin-bottom: 2.5em; margin-top:-0.5em;\">\n",
              "<span style=\"opacity: 0.80\">i love this film and it is such a wonderful example of a family jeopardy a romantic love story and a very sad story plot everything was just so perfect and excellent about this film it was such a great mixture of actors and actresses and with some laughs and a lot of cries this film deserves to get plenty of awards with the mention of beautiful scenario and although i would relate this film to the notebook and the family stone it was sort of much more cunning sad and brilliant than those films the evening tells of a love story between an old woman dreaming back to her younger years and her two daughters stay by her side while she is not well the story dating back is so strongly told and wonderful i was sitting on the edge of my seat you really get to know all the characters and by the end i was wanting to watch it all over again this is a amazingly sad and vividly acted and plotted movie that is really one of a kind and should be seen by all for how wonderful it really is all the performances are astonishing and the film captures your attention from the very beginning and never lets go i loved it and am so glad that i watched it for it was truly an astonishing film</span>\n",
              "</p>\n"
            ]
          },
          "metadata": {}
        },
        {
          "output_type": "display_data",
          "data": {
            "text/plain": [
              "<IPython.core.display.HTML object>"
            ],
            "text/html": [
              "<p style=background-color:black;color:white;font-weight:bold;padding:4px>Good Movie #2 🏆</p>"
            ]
          },
          "metadata": {}
        },
        {
          "output_type": "display_data",
          "data": {
            "text/plain": [
              "<IPython.core.display.HTML object>"
            ],
            "text/html": [
              "\n",
              "<style>\n",
              "    table.eli5-weights tr:hover {\n",
              "        filter: brightness(85%);\n",
              "    }\n",
              "</style>\n",
              "\n",
              "\n",
              "<p style=\"margin-bottom: 2.5em; margin-top:-0.5em;\">\n",
              "<span style=\"opacity: 0.80\">this is an excellent standup dvd eddie izzard is the funniest person i have seen in years his routine is hilarious and makes for great conversation with others who have seen it i highly recommend this one the part about the history of europe is a bit slow but the ending jokes in french are quite good because you dont have to speak french to get it although if you do it is still hilarious also the parts about being a transvestite are quite good the first scene about san francisco is not great but funny the first time skip over those if you can its almost not worth watching however this really is a funny funny standup show that everyone should see i was dead at the time</span>\n",
              "</p>\n"
            ]
          },
          "metadata": {}
        },
        {
          "output_type": "display_data",
          "data": {
            "text/plain": [
              "<IPython.core.display.HTML object>"
            ],
            "text/html": [
              "<p style=background-color:black;color:white;font-weight:bold;padding:4px>Good Movie #3 🏆</p>"
            ]
          },
          "metadata": {}
        },
        {
          "output_type": "display_data",
          "data": {
            "text/plain": [
              "<IPython.core.display.HTML object>"
            ],
            "text/html": [
              "\n",
              "<style>\n",
              "    table.eli5-weights tr:hover {\n",
              "        filter: brightness(85%);\n",
              "    }\n",
              "</style>\n",
              "\n",
              "\n",
              "<p style=\"margin-bottom: 2.5em; margin-top:-0.5em;\">\n",
              "<span style=\"opacity: 0.80\">what a stunning episode for this fine series this is television excellence at its best the story takes place in 1968 and its beautifully filmed in black  white almost a film noir style with its deep shadows and stark images this is a story about two men who fall in love but i dont want to spoil this it is a rare presentation of what homosexuals faced in the 1960s in america written by the superb tom pettit and directed by the great jeannot szwarc we move through their lives their love for each other and their tragedy taking on such a sensitive issue makes this episode all the more stunning our emotions are as torn and on edge as the characters chills ran up my spine at the end when they played bob dylans gorgeous ah but i was so much older then im younger than that now as sung by the byrds this one goes far past a 10 and all the way to the stars beautiful</span>\n",
              "</p>\n"
            ]
          },
          "metadata": {}
        },
        {
          "output_type": "display_data",
          "data": {
            "text/plain": [
              "<IPython.core.display.HTML object>"
            ],
            "text/html": [
              "<p style=background-color:black;color:white;font-weight:bold;padding:4px>Good Movie #4 🏆</p>"
            ]
          },
          "metadata": {}
        },
        {
          "output_type": "display_data",
          "data": {
            "text/plain": [
              "<IPython.core.display.HTML object>"
            ],
            "text/html": [
              "\n",
              "<style>\n",
              "    table.eli5-weights tr:hover {\n",
              "        filter: brightness(85%);\n",
              "    }\n",
              "</style>\n",
              "\n",
              "\n",
              "<p style=\"margin-bottom: 2.5em; margin-top:-0.5em;\">\n",
              "<span style=\"opacity: 0.80\">this is one of my all time favorite movies its great to watch in groups i find its also great for any alan rickman fan he does such a wonderful job its engrossing entertaining very surprising you have to watch it twice at least i havent watched it with anyone who didnt like it or at least find it worthwhile</span>\n",
              "</p>\n"
            ]
          },
          "metadata": {}
        },
        {
          "output_type": "display_data",
          "data": {
            "text/plain": [
              "<IPython.core.display.HTML object>"
            ],
            "text/html": [
              "<p style=background-color:black;color:white;font-weight:bold;padding:4px>Good Movie #5 🏆</p>"
            ]
          },
          "metadata": {}
        },
        {
          "output_type": "display_data",
          "data": {
            "text/plain": [
              "<IPython.core.display.HTML object>"
            ],
            "text/html": [
              "\n",
              "<style>\n",
              "    table.eli5-weights tr:hover {\n",
              "        filter: brightness(85%);\n",
              "    }\n",
              "</style>\n",
              "\n",
              "\n",
              "<p style=\"margin-bottom: 2.5em; margin-top:-0.5em;\">\n",
              "<span style=\"opacity: 0.80\">i play final fantasy 7 and this movie is excellent like the game all fans of final fantasy will love this movie  the music are fantastic and the history is good but the best of this movie is the visual effects are amazing the characters are equal to the game and that detail are good for the fans  you dont need play the game to like this movie all the people can enjoy the film because the history is some different and is easy to understand i buy the dvd because is excellent is 100 advisable if you dont see this film what you waiting for believe meyou will fascinate like me</span>\n",
              "</p>\n"
            ]
          },
          "metadata": {}
        }
      ],
      "source": [
        "for i, review in enumerate(best5):\n",
        "    display(HTML(f\"<p style={style}>Good Movie #{i+1} 🏆</p>\"))\n",
        "    eli5_html(clf, vec, review)"
      ]
    },
    {
      "cell_type": "markdown",
      "id": "f55f479a",
      "metadata": {
        "id": "f55f479a"
      },
      "source": [
        "What are the **5 most 'meh'** movie review in the test set according to your model? 😐\\\n",
        "That is, which reviews are the most neutral according to your model?\\\n",
        "Upon reading some of these reviews you may find their sentiment to actually *not* be very ambiguous. What might be confusing our model?"
      ]
    },
    {
      "cell_type": "code",
      "execution_count": 139,
      "id": "ae42fdec",
      "metadata": {
        "id": "ae42fdec"
      },
      "outputs": [],
      "source": [
        "# please fill this code block!\n",
        "# Find indices of the 5 most neutral reviews\n",
        "meh5 = x_test_raw[abs(y_pred_proba - 0.5).argsort()[:5]]"
      ]
    },
    {
      "cell_type": "code",
      "execution_count": 140,
      "id": "7cccc9ae",
      "metadata": {
        "colab": {
          "base_uri": "https://localhost:8080/",
          "height": 1000
        },
        "id": "7cccc9ae",
        "outputId": "d8beabe3-4ad1-45ba-c3d9-8d3b568e2e31"
      },
      "outputs": [
        {
          "output_type": "display_data",
          "data": {
            "text/plain": [
              "<IPython.core.display.HTML object>"
            ],
            "text/html": [
              "<p style=background-color:black;color:white;font-weight:bold;padding:4px>'Meh' Movie #1 😐</p>"
            ]
          },
          "metadata": {}
        },
        {
          "output_type": "display_data",
          "data": {
            "text/plain": [
              "<IPython.core.display.HTML object>"
            ],
            "text/html": [
              "\n",
              "<style>\n",
              "    table.eli5-weights tr:hover {\n",
              "        filter: brightness(85%);\n",
              "    }\n",
              "</style>\n",
              "\n",
              "\n",
              "<p style=\"margin-bottom: 2.5em; margin-top:-0.5em;\">\n",
              "<span style=\"opacity: 0.80\">freeway killer is a madman who shoots people on the freeway while yelling a bunch of mystical chant on a car phone the police believe he is a random killer but sunny the blond heroine played by darlanne fluegel detects a pattern so does the excop played by james russo and they join forces and bodies in the search for the villain who has done away with their spouses also starring richard belzer this movie has its moments especially if you like car chases but its really not a good movie for the most part check it out if youre really bored and have already seen the hitcher joy ride or breakdown otherwise stay away from the freeway</span>\n",
              "</p>\n"
            ]
          },
          "metadata": {}
        },
        {
          "output_type": "display_data",
          "data": {
            "text/plain": [
              "<IPython.core.display.HTML object>"
            ],
            "text/html": [
              "<p style=background-color:black;color:white;font-weight:bold;padding:4px>'Meh' Movie #2 😐</p>"
            ]
          },
          "metadata": {}
        },
        {
          "output_type": "display_data",
          "data": {
            "text/plain": [
              "<IPython.core.display.HTML object>"
            ],
            "text/html": [
              "\n",
              "<style>\n",
              "    table.eli5-weights tr:hover {\n",
              "        filter: brightness(85%);\n",
              "    }\n",
              "</style>\n",
              "\n",
              "\n",
              "<p style=\"margin-bottom: 2.5em; margin-top:-0.5em;\">\n",
              "<span style=\"opacity: 0.80\">imagine watching a slide show where the projector lingers on every slide long enough for you to completely memorize it three times over now imagine that the images in the slide show consist entirely of mundane scenes  a small park and empty tennis court a piano now imagine that the people running the slide show are having a frustratingly slow semilucid conversation about events that only occasionally relate to the slides theyre showing you great  youve just imagined the entirety of the film india song the film is an agonizingly slow montage of images that do little except to simply scream out look at me i am profound with such blatant selfimportance that the images themselves and the movie as a whole are rendered not merely bereft of profundity but comically bereft of profundity the visuals could easily have been replaced by a series of static images as described above since it is so rare that there are actually people on screen and even when they are the people actually move only slightly more often than the furniture they never speak or interact in any meaningful way  they just stand there looking at each other and occasionally crying the most energetic moment in the entire first hour of the film is when three people walk across a parking lot in slow motion in fact the visuals could easily have been left out entirely as the story is told completely through narration the story is about a woman who hates india because its hot and hates people dont hate india because its hot this point is covered several times it is also about a man who feels that he is entitled to sleep with the aforementioned woman since she will sleep with anyone who asks her to but he doesnt get to sleep with her simply because he never asks and hes very upset about this so he stares at her as a single tear runs profoundly down his cheek later on he stares at his bicycle as a single tear runs profoundly down his cheek actually you dont get to see the single tear running profoundly down his cheek when hes staring at his bicycle but you know its there anyway just because thats the sort of film this is at best the narration becomes background hum serving as a perfect compliment to the comainducing visuals simply staying conscious through the entirety of this film would require a supreme act of determination to watch it and actually come away with a serious and meaningful idea of what it was supposed to be about would induce the same sort of migraine as trying to read lengthy technical documents in the dark this film is perhaps the greatest monument of pseudoartistic pretension that man will ever know</span>\n",
              "</p>\n"
            ]
          },
          "metadata": {}
        },
        {
          "output_type": "display_data",
          "data": {
            "text/plain": [
              "<IPython.core.display.HTML object>"
            ],
            "text/html": [
              "<p style=background-color:black;color:white;font-weight:bold;padding:4px>'Meh' Movie #3 😐</p>"
            ]
          },
          "metadata": {}
        },
        {
          "output_type": "display_data",
          "data": {
            "text/plain": [
              "<IPython.core.display.HTML object>"
            ],
            "text/html": [
              "\n",
              "<style>\n",
              "    table.eli5-weights tr:hover {\n",
              "        filter: brightness(85%);\n",
              "    }\n",
              "</style>\n",
              "\n",
              "\n",
              "<p style=\"margin-bottom: 2.5em; margin-top:-0.5em;\">\n",
              "<span style=\"opacity: 0.80\">homelessness or houselessness as george carlin stated has been an issue for years but never a plan to help those on the street that were once considered human who did everything from going to school work or vote for the matter most people think of the homeless as just a lost cause while worrying about things such as racism the war on iraq pressuring kids to succeed technology the elections inflation or worrying if theyll be next to end up on the streets but what if you were given a bet to live on the streets for a month without the luxuries you once had from a home the entertainment sets a bathroom pictures on the wall a computer and everything you once treasure to see what its like to be homeless that is goddard bolts lesson mel brooks who directs who stars as bolt plays a rich man who has everything in the world until deciding to make a bet with a sissy rival jeffery tambor to see if he can live in the streets for thirty days without the luxuries if bolt succeeds he can do what he wants with a future project of making more buildings the bets on where bolt is thrown on the street with a bracelet on his leg to monitor his every move where he cant step off the sidewalk hes given the nickname pepto by a vagrant after its written on his forehead where bolt meets other characters including a woman by the name of molly lesley ann warren an exdancer who got divorce before losing her home and her pals sailor howard morris and fumes teddy wilson who are already used to the streets theyre survivors bolt isnt hes not used to reaching mutual agreements like he once did when being rich where its fight or flight kill or be killed while the love connection between molly and bolt wasnt necessary to plot i found life stinks to be one of mel brooks observant films where prior to being a comedy it shows a tender side compared to his slapstick work such as blazing saddles young frankenstein or spaceballs for the matter to show what its like having something valuable before losing it the next day or on the other hand making a stupid bet like all rich people do when they dont know what to do with their money maybe they should give it to the homeless instead of using it like monopoly money or maybe this film will inspire you to help others</span>\n",
              "</p>\n"
            ]
          },
          "metadata": {}
        },
        {
          "output_type": "display_data",
          "data": {
            "text/plain": [
              "<IPython.core.display.HTML object>"
            ],
            "text/html": [
              "<p style=background-color:black;color:white;font-weight:bold;padding:4px>'Meh' Movie #4 😐</p>"
            ]
          },
          "metadata": {}
        },
        {
          "output_type": "display_data",
          "data": {
            "text/plain": [
              "<IPython.core.display.HTML object>"
            ],
            "text/html": [
              "\n",
              "<style>\n",
              "    table.eli5-weights tr:hover {\n",
              "        filter: brightness(85%);\n",
              "    }\n",
              "</style>\n",
              "\n",
              "\n",
              "<p style=\"margin-bottom: 2.5em; margin-top:-0.5em;\">\n",
              "<span style=\"opacity: 0.80\">this movie is total dumbness incarnate yet ive seen this movie several times already and plan to watch several more times because despite its sheer dumbness its very entertaining and it has one of my favorite hokeymovie actors casper van dien who is here in his full hokeymovie glory here casper van dien is fully casper van dien and ya gotta love him for it if he hadnt been in this movie it would have been totally unwatchable dreck or at least far dreckier than it already is the cough cough science used here makes absolutely no sense at all no one else in the world noticed that big asteroid approaching the earth besides that small group not even with thousands and thousands and thousands of professional and amateur astronomers constantly searching the skies for just such a thing an asteroid that big would have made itself completely obvious to anyone who has a pair of eyes even vaguely capable of sight and a chunk of the asteroid bounced off the atmosphere and no one even noticed it a rock that big hitting the atmosphere would have caused enormous shockwaves that would have in turned caused an enormous amount of damage to the planets surface surely someone would have noticed such a thing bwahahaha the science used in this movie is so completely ridiculous that somehow it works for making this movie as entertaining as it is one thing i noticed is that despite the uber heat all the characters werent dripping with sweat and their clothes completely soaked with it at the most the characters looked like they had been lightly spritzed on occasion by someone offcamera with a water bottle to give a sweat sheen authenticity was not a goal that this movie assiduously and constantly strived for which in a weird and hilarious sort of way gives this movie its entertainment charm is this movie actually worth watching definitely assuming of course you have absolutely no expectations of anything that even remotely approaches reality and its your desire to wallow and luxuriate in total hokeyness at the moment</span>\n",
              "</p>\n"
            ]
          },
          "metadata": {}
        },
        {
          "output_type": "display_data",
          "data": {
            "text/plain": [
              "<IPython.core.display.HTML object>"
            ],
            "text/html": [
              "<p style=background-color:black;color:white;font-weight:bold;padding:4px>'Meh' Movie #5 😐</p>"
            ]
          },
          "metadata": {}
        },
        {
          "output_type": "display_data",
          "data": {
            "text/plain": [
              "<IPython.core.display.HTML object>"
            ],
            "text/html": [
              "\n",
              "<style>\n",
              "    table.eli5-weights tr:hover {\n",
              "        filter: brightness(85%);\n",
              "    }\n",
              "</style>\n",
              "\n",
              "\n",
              "<p style=\"margin-bottom: 2.5em; margin-top:-0.5em;\">\n",
              "<span style=\"opacity: 0.80\">in 1692 salem a devious childs lies about a slaves involvement in witchcraft sends an entire community into an uproar costume drama starring claudette colbert and fred macmurray isnt stuffy though neither is it a vivid depiction of contagious hysteria worked on by three writers walter ferris durward grimstead and bradley king the story elements are rather interesting especially coming out of hollywood in 1937 though to anyone who has since read arthur millers the crucible the hokedup melodrama on display here wont be tolerated for very long biggest problem with the picture may lie in the casting colbert and macmurray are an illmatched pair of lovers hindered by the witchhunt macmurray being far too contemporary a presence for these surroundings 12 from </span>\n",
              "</p>\n"
            ]
          },
          "metadata": {}
        }
      ],
      "source": [
        "for i, review in enumerate(meh5):\n",
        "    display(HTML(f\"<p style={style}>'Meh' Movie #{i+1} 😐</p>\"))\n",
        "    eli5_html(clf, vec, review)"
      ]
    },
    {
      "cell_type": "markdown",
      "id": "53c58acd",
      "metadata": {
        "id": "53c58acd"
      },
      "source": [
        "Despite some difficulties with a few of the 'meh' movies, our model is actually pretty good! In fact, it works so well you can actually use it to find _mistakes_ in the manually labeled data!\\\n",
        "This can be done by inspecting which training observation predictions differ the most from the provided labels.\\"
      ]
    },
    {
      "cell_type": "markdown",
      "id": "a7d659c3",
      "metadata": {
        "id": "a7d659c3"
      },
      "source": [
        "**Write your own review**\n",
        "\n",
        "Finally, you can try writing a review of your own and see what your model does with it!"
      ]
    },
    {
      "cell_type": "code",
      "execution_count": 141,
      "id": "cf078e01",
      "metadata": {
        "colab": {
          "base_uri": "https://localhost:8080/"
        },
        "id": "cf078e01",
        "outputId": "4ea29d00-1a6e-43c3-cdce-e9388303e322"
      },
      "outputs": [
        {
          "output_type": "execute_result",
          "data": {
            "text/plain": [
              "array(['I feel good'], dtype='<U11')"
            ]
          },
          "metadata": {},
          "execution_count": 141
        }
      ],
      "source": [
        "my_review = \"\"\"\n",
        "            I feel good\n",
        "            \"\"\"\n",
        "\n",
        "# Remove punctuation using your regex from earlier\n",
        "my_review = re.sub(punc_regex, '', my_review)\n",
        "# Remove leading & trailing whitespace\n",
        "# and put into a numpy array (which the model expects)\n",
        "my_review = np.array([my_review.strip()])\n",
        "my_review"
      ]
    },
    {
      "cell_type": "code",
      "execution_count": 142,
      "id": "abdc48fd",
      "metadata": {
        "colab": {
          "base_uri": "https://localhost:8080/"
        },
        "id": "abdc48fd",
        "outputId": "78b13b90-bc89-4758-a005-cfc38bbe5e77"
      },
      "outputs": [
        {
          "output_type": "stream",
          "name": "stdout",
          "text": [
            "predicted class: 1\n",
            "predicted probability: 0.9329829055367626\n"
          ]
        }
      ],
      "source": [
        "my_review_proba = pipe.predict_proba(my_review)[:,1][0]\n",
        "my_review_label = pipe.predict(my_review)[0]\n",
        "print('predicted class:', my_review_label)\n",
        "print('predicted probability:', my_review_proba)"
      ]
    },
    {
      "cell_type": "code",
      "execution_count": 143,
      "id": "8de285ed",
      "metadata": {
        "colab": {
          "base_uri": "https://localhost:8080/",
          "height": 100
        },
        "id": "8de285ed",
        "outputId": "0625ac56-31ed-484f-e4fc-e79a82b970b7"
      },
      "outputs": [
        {
          "output_type": "display_data",
          "data": {
            "text/plain": [
              "<IPython.core.display.HTML object>"
            ],
            "text/html": [
              "<p style=background-color:black;color:white;font-weight:bold;padding:4px>My Review 🍿</p>"
            ]
          },
          "metadata": {}
        },
        {
          "output_type": "display_data",
          "data": {
            "text/plain": [
              "<IPython.core.display.HTML object>"
            ],
            "text/html": [
              "\n",
              "<style>\n",
              "    table.eli5-weights tr:hover {\n",
              "        filter: brightness(85%);\n",
              "    }\n",
              "</style>\n",
              "\n",
              "\n",
              "<p style=\"margin-bottom: 2.5em; margin-top:-0.5em;\">\n",
              "<span style=\"opacity: 0.80\">i feel good</span>\n",
              "</p>\n"
            ]
          },
          "metadata": {}
        }
      ],
      "source": [
        "display(HTML(f\"<p style={style}>My Review 🍿</p>\"))\n",
        "eli5_html(clf, vec, my_review[0])"
      ]
    }
  ],
  "metadata": {
    "kernelspec": {
      "display_name": "Python 3 (ipykernel)",
      "language": "python",
      "name": "python3"
    },
    "language_info": {
      "codemirror_mode": {
        "name": "ipython",
        "version": 3
      },
      "file_extension": ".py",
      "mimetype": "text/x-python",
      "name": "python",
      "nbconvert_exporter": "python",
      "pygments_lexer": "ipython3",
      "version": "3.11.4"
    },
    "latex_envs": {
      "LaTeX_envs_menu_present": true,
      "autoclose": false,
      "autocomplete": true,
      "bibliofile": "biblio.bib",
      "cite_by": "apalike",
      "current_citInitial": 1,
      "eqLabelWithNumbers": true,
      "eqNumInitial": 1,
      "hotkeys": {
        "equation": "Ctrl-E",
        "itemize": "Ctrl-I"
      },
      "labels_anchors": false,
      "latex_user_defs": false,
      "report_style_numbering": false,
      "user_envs_cfg": false
    },
    "toc": {
      "base_numbering": 1,
      "nav_menu": {},
      "number_sections": true,
      "sideBar": true,
      "skip_h1_title": false,
      "title_cell": "Table of Contents",
      "title_sidebar": "Contents",
      "toc_cell": false,
      "toc_position": {
        "height": "calc(100% - 180px)",
        "left": "10px",
        "top": "150px",
        "width": "300px"
      },
      "toc_section_display": true,
      "toc_window_display": true
    },
    "colab": {
      "provenance": []
    }
  },
  "nbformat": 4,
  "nbformat_minor": 5
}