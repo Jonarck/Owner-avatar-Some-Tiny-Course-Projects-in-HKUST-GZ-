{
 "cells": [
  {
   "cell_type": "code",
   "execution_count": 1,
   "id": "0fecaab9",
   "metadata": {},
   "outputs": [],
   "source": [
    "import numpy as np\n",
    "import pandas as pd\n",
    "import re\n",
    "from sklearn.model_selection import train_test_split\n",
    "np.random.seed(0)"
   ]
  },
  {
   "cell_type": "markdown",
   "id": "4746bef1",
   "metadata": {},
   "source": [
    "## Movie Review Classifier 🍿📽️"
   ]
  },
  {
   "cell_type": "markdown",
   "id": "9c58cd71",
   "metadata": {},
   "source": [
    "In this assignment, we'll be training a model to classify movie reviews as 'good' or 'bad.'\\\n",
    "The data consists of 40,000 real move reviews from IMBD.\\\n"
   ]
  },
  {
   "cell_type": "markdown",
   "id": "3ba6bc9b",
   "metadata": {},
   "source": [
    "We'll load the data as a zipped csv. \\\n",
    "Notice that `pd.read_csv()` can take a URL as the path argument and that we can read in a compressed file without first expanding it if we specify the `compression` format!"
   ]
  },
  {
   "cell_type": "code",
   "execution_count": 2,
   "id": "65d14744",
   "metadata": {},
   "outputs": [],
   "source": [
    "data_url = './data/movie_reviews.zip'\n",
    "df = pd.read_csv(data_url, compression='zip')"
   ]
  },
  {
   "cell_type": "code",
   "execution_count": 3,
   "id": "29fd2bbd",
   "metadata": {},
   "outputs": [
    {
     "data": {
      "text/html": [
       "<div>\n",
       "<style scoped>\n",
       "    .dataframe tbody tr th:only-of-type {\n",
       "        vertical-align: middle;\n",
       "    }\n",
       "\n",
       "    .dataframe tbody tr th {\n",
       "        vertical-align: top;\n",
       "    }\n",
       "\n",
       "    .dataframe thead th {\n",
       "        text-align: right;\n",
       "    }\n",
       "</style>\n",
       "<table border=\"1\" class=\"dataframe\">\n",
       "  <thead>\n",
       "    <tr style=\"text-align: right;\">\n",
       "      <th></th>\n",
       "      <th>text</th>\n",
       "      <th>label</th>\n",
       "    </tr>\n",
       "  </thead>\n",
       "  <tbody>\n",
       "    <tr>\n",
       "      <th>0</th>\n",
       "      <td>If you havent seen this movie than you need to...</td>\n",
       "      <td>1</td>\n",
       "    </tr>\n",
       "    <tr>\n",
       "      <th>1</th>\n",
       "      <td>but Cinderella gets my vote not only for the w...</td>\n",
       "      <td>0</td>\n",
       "    </tr>\n",
       "    <tr>\n",
       "      <th>2</th>\n",
       "      <td>This movie is pretty cheesy but I do give it c...</td>\n",
       "      <td>1</td>\n",
       "    </tr>\n",
       "    <tr>\n",
       "      <th>3</th>\n",
       "      <td>I have not seen a Van Damme flick for a while ...</td>\n",
       "      <td>1</td>\n",
       "    </tr>\n",
       "    <tr>\n",
       "      <th>4</th>\n",
       "      <td>This is a sleeper It defines Nicholas Cage The...</td>\n",
       "      <td>1</td>\n",
       "    </tr>\n",
       "  </tbody>\n",
       "</table>\n",
       "</div>"
      ],
      "text/plain": [
       "                                                text  label\n",
       "0  If you havent seen this movie than you need to...      1\n",
       "1  but Cinderella gets my vote not only for the w...      0\n",
       "2  This movie is pretty cheesy but I do give it c...      1\n",
       "3  I have not seen a Van Damme flick for a while ...      1\n",
       "4  This is a sleeper It defines Nicholas Cage The...      1"
      ]
     },
     "execution_count": 3,
     "metadata": {},
     "output_type": "execute_result"
    }
   ],
   "source": [
    "df.head()"
   ]
  },
  {
   "cell_type": "code",
   "execution_count": 4,
   "id": "cb303695",
   "metadata": {},
   "outputs": [
    {
     "data": {
      "text/plain": [
       "(40000, 2)"
      ]
     },
     "execution_count": 4,
     "metadata": {},
     "output_type": "execute_result"
    }
   ],
   "source": [
    "df.shape"
   ]
  },
  {
   "cell_type": "code",
   "execution_count": 5,
   "id": "3fae19e0",
   "metadata": {},
   "outputs": [
    {
     "data": {
      "text/plain": [
       "array([1, 0], dtype=int64)"
      ]
     },
     "execution_count": 5,
     "metadata": {},
     "output_type": "execute_result"
    }
   ],
   "source": [
    "df.label.unique()"
   ]
  },
  {
   "cell_type": "markdown",
   "id": "8de24367",
   "metadata": {},
   "source": [
    "We see that the dataset consists of text reviews and binary labels. Intuitively, the positive class is \"good\" while the negative is \"bad.\""
   ]
  },
  {
   "cell_type": "markdown",
   "id": "7e51a555",
   "metadata": {},
   "source": [
    "Here are two examples from the dataset:"
   ]
  },
  {
   "cell_type": "code",
   "execution_count": 6,
   "id": "14999480",
   "metadata": {},
   "outputs": [
    {
     "data": {
      "text/plain": [
       "'If you havent seen this movie than you need to It rocks and you have to watch it It is so funny and will make you laugh your guts out so you have to watch it and i saw it about a billion and a half times and still think it is funny so you have to yes i have memorized the whole movie and could quote it to you from start to finish you must see this move it is also cute because it is half a chick flick if you dont watch it then you are really missing outthis movie even has cute guys in it and that is always a bonus so in summary watch the movie now and trust me you will not be making a mistake did i mention the music is good too So you should like it if you enjoy music This is a movie that they rated correctly and it will work for anyone'"
      ]
     },
     "metadata": {},
     "output_type": "display_data"
    },
    {
     "name": "stdout",
     "output_type": "stream",
     "text": [
      "\n"
     ]
    },
    {
     "data": {
      "text/plain": [
       "'label: good'"
      ]
     },
     "metadata": {},
     "output_type": "display_data"
    },
    {
     "name": "stdout",
     "output_type": "stream",
     "text": [
      "\n"
     ]
    },
    {
     "data": {
      "text/plain": [
       "'but Cinderella gets my vote not only for the worst of Disneys princess movies but for the worst movie the company made during Walts lifetime The music is genuinely pretty and the story deserves to be called classic What fails in this movie are the characters particularly the title character who could only be called the heroine in the loosest sense of the term After a brief prologue the audience is introduced to Cinderella She is waking up in the morning and singing A Dream is A wish Your Heart Makes This establishes her as an idealist and thus deserving of our sympathy Unfortunately the script gives us no clue as to what she is dreaming about Freedom from her servant role The respect of her stepfamily Someone to talk to besides mice and birds In one song cut from the movie but presented in the special features section of the latest DVD Cinderella relates her wish that there could be many of her so she could do her work more efficiently You go girlfriend In short Cinderella is a very bland character She passively accepts her stepfamilys abuse escaping into her unspoken dreams for relief She only asserts herself once by reminding her stepmother that she is still a member of the family For this she is given permission to go the ball if she completes her housework and finds something to wear a token gesture that is clearly absurd to everyone except of course Cinderella Can anyone see Belle or Jasmine being such a doormat If Cinderella is dull her male counterpart is nothing short of lifeless The Prince in Cinderella gets no dialog and almost no screen time We are given no indication if he is a good man if he respects Cinderella or anything All we know is 1 he is a prince and 2 he dances well Heck even the prince from Snow White got to sing a romantic song at least Not only does this lack of development make the romance less interesting it makes Cinderella look like either a social climber or an idiot weakening her already tenuous appeal Perhaps realizing how dull the main characters were the animators chose to give excessive screen time to the movies comic relief Cinderellas friends the mice Granted these characters are amusing Even so when the comic relief steals the show from the principals well lets just say your story has some problems Dinsey loves to proclaim all its animated features as masterpieces While many of them are there are some that do not deserve this appellate in any way Cinderella is a prime example of this fact'"
      ]
     },
     "metadata": {},
     "output_type": "display_data"
    },
    {
     "name": "stdout",
     "output_type": "stream",
     "text": [
      "\n"
     ]
    },
    {
     "data": {
      "text/plain": [
       "'label: bad'"
      ]
     },
     "metadata": {},
     "output_type": "display_data"
    },
    {
     "name": "stdout",
     "output_type": "stream",
     "text": [
      "\n"
     ]
    }
   ],
   "source": [
    "labels = {0: 'bad', 1: 'good'}\n",
    "seen = {'bad': False, 'good': False}\n",
    "for i in range(df.shape[0]):\n",
    "    label = df.loc[i,'label']\n",
    "    if not seen[labels[label]]:\n",
    "        # display/print combination used to appease Ed's strange output behavior\n",
    "        display(df.loc[i, 'text'])\n",
    "        print()\n",
    "        display(f\"label: {labels[label]}\")\n",
    "        print()\n",
    "        seen[labels[label]] = True\n",
    "    if all(val == True for val in seen.values()):\n",
    "        break"
   ]
  },
  {
   "cell_type": "markdown",
   "id": "c1ee4ceb",
   "metadata": {},
   "source": [
    "**Some Preprocessing**"
   ]
  },
  {
   "cell_type": "markdown",
   "id": "c9326a9b",
   "metadata": {},
   "source": [
    "In the 2nd example, we can see some html tags inside the review text.\n",
    "\n",
    "Complete the `remove_br()` function by providing its call to `re.sub()` with a regex that removes those pesky \"\\<br />\" tags from an input string, `x`.\\\n",
    "Speciffically, we should replace 2 consecutive occurances of \"\\<br />\" with a single space (can you see why?).\n",
    "\n",
    "**Hint:** It is good practice to use 'raw' string when writing regular expressions to ensure that special characters are treated correctly. Raw strings are appended with an 'r' like this: `r'this is a raw string'`"
   ]
  },
  {
   "cell_type": "code",
   "execution_count": 7,
   "id": "5b94fbca",
   "metadata": {},
   "outputs": [],
   "source": [
    "# please fill this code block!\n",
    "# fill in the regular expression\n",
    "# Define the regular expression to match two consecutive \"<br />\" tags and replace them with a space.\n",
    "pattern = r'<br\\s*/>\\s*<br\\s*/>'\n",
    "remove_br = lambda x: re.sub(pattern, ' ', x)"
   ]
  },
  {
   "cell_type": "markdown",
   "id": "2ff4edfe",
   "metadata": {},
   "source": [
    "Use the dataframe's `apply()` method to apply `remove_br` to each review in both train and test."
   ]
  },
  {
   "cell_type": "code",
   "execution_count": 8,
   "id": "fb9893c2",
   "metadata": {},
   "outputs": [],
   "source": [
    "# please fill this code block!\n",
    "# Apply the function on the 'text' column of the dataframe\n",
    "df['text'] = df['text'].apply(remove_br)"
   ]
  },
  {
   "cell_type": "markdown",
   "id": "05013853",
   "metadata": {},
   "source": [
    "And we can see that the tags have been removed!"
   ]
  },
  {
   "cell_type": "code",
   "execution_count": 9,
   "id": "30134871",
   "metadata": {},
   "outputs": [
    {
     "data": {
      "text/plain": [
       "'This is a sleeper It defines Nicholas Cage The plot is intricate and totally absorbing The ending will blow you away See it whenever you have the opportunity'"
      ]
     },
     "execution_count": 9,
     "metadata": {},
     "output_type": "execute_result"
    }
   ],
   "source": [
    "df.loc[4,'text']"
   ]
  },
  {
   "cell_type": "markdown",
   "id": "57e4770d",
   "metadata": {},
   "source": [
    "Don't worry about any newline characters or backslashes you may see before apostrophes in the examples above. This is just a quirk of how Jupyter displays strings by default.\\\n",
    "We don't see that these characters if we explicitly `print` the string."
   ]
  },
  {
   "cell_type": "markdown",
   "id": "38c0515f",
   "metadata": {},
   "source": [
    "### example_str = df.loc[4,'text']\n",
    "print(example_str)"
   ]
  },
  {
   "cell_type": "markdown",
   "id": "1e105db9",
   "metadata": {},
   "source": [
    "We'll continue our preprocessing by next **removing punctuation**.\\\n",
    "But first, let's keep a copy of the data *with* punctuation. This will be useful at the end of the notebook when we want to display the original text of specific observations."
   ]
  },
  {
   "cell_type": "code",
   "execution_count": 10,
   "id": "63e3b9d6",
   "metadata": {},
   "outputs": [],
   "source": [
    "# store copy of data with punctuation\n",
    "df_raw = df.copy()"
   ]
  },
  {
   "cell_type": "markdown",
   "id": "73aa28d4",
   "metadata": {},
   "source": [
    "The next regex we need is a bit more involved.\\\n",
    "**This should match any non-whitespace, any non-alphanumeric characters, and underscores** (strangly, underscores are not covered by the first 2 conditions).\n",
    "\n",
    "**Hints:**\n",
    "- `\\w` matches alphanumeric characters\n",
    "- `\\s` matches whitespace\n",
    "- `[]` can be used to denote a set of characters. ex: `r'[ab]'` will match on 'a' *or* 'b'\n",
    "- `^` at the beginning of a character set denotes *negation*. ex: `r'[^0-9]'` will matching any non-integer\n",
    "- `|` is the *logical or* operator. ex: `r'cat|dog'` will match the strings 'cat' *or* 'dog' \n",
    "- There are many helpful sites for testing regexes. [Here's a nice one](https://www.regextester.com/)."
   ]
  },
  {
   "cell_type": "code",
   "execution_count": 11,
   "id": "1c714b28",
   "metadata": {},
   "outputs": [],
   "source": [
    "# please fill this code block!\n",
    "# create a regex that will match the characters described above \n",
    "punc_regex = r'[^\\w\\s]'"
   ]
  },
  {
   "cell_type": "markdown",
   "id": "09b57e39",
   "metadata": {},
   "source": [
    "Here we'll use an alternative to the `apply` approach we saw above.\\\n",
    "Pandas has its own set of built-in string methods which includes a version of `replace`. But unlike Python's `str.replace()` this can actually use regexes!"
   ]
  },
  {
   "cell_type": "code",
   "execution_count": 12,
   "id": "8a874d3f",
   "metadata": {},
   "outputs": [],
   "source": [
    "df['text'] = df.text.str.replace(punc_regex, '', regex=True) # remove punctuation"
   ]
  },
  {
   "cell_type": "markdown",
   "id": "562cbd2e",
   "metadata": {},
   "source": [
    "If all went well we can see that punctuation has been removed from our dataset."
   ]
  },
  {
   "cell_type": "code",
   "execution_count": 13,
   "id": "a82b9bcb",
   "metadata": {},
   "outputs": [
    {
     "name": "stdout",
     "output_type": "stream",
     "text": [
      "This is a sleeper It defines Nicholas Cage The plot is intricate and totally absorbing The ending will blow you away See it whenever you have the opportunity\n"
     ]
    }
   ],
   "source": [
    "example_str = df.loc[4,'text']\n",
    "print(example_str)"
   ]
  },
  {
   "cell_type": "markdown",
   "id": "d23d4105",
   "metadata": {},
   "source": [
    "**Train/Test Split**\n",
    "\n",
    "Rather than splitting the data directly with `train_test_split` we'll instead use it to generate indices for the train and test data.\\\n",
    "This may seem strange, but there is a good reason for it. These indices will later allow us to recover the original, unprocessed text from `df_raw` for any given training and test observations. \n",
    "\n",
    "Notice too that we are stratifying on the label. This will help ensure that good and bad reviews appear in the same proportions in both train and test."
   ]
  },
  {
   "cell_type": "code",
   "execution_count": 20,
   "id": "41b691ae",
   "metadata": {},
   "outputs": [],
   "source": [
    "# generate indices to designate train and test observations\n",
    "train_idx, test_idx = train_test_split(range(df.shape[0]), test_size=0.2, random_state=0, stratify=df['label'])\n",
    "# stratify=df['label']: Guarantee that the Composition Ratio of labes in Train an Test are the same "
   ]
  },
  {
   "cell_type": "code",
   "execution_count": 21,
   "id": "a22a946e",
   "metadata": {},
   "outputs": [],
   "source": [
    "# Separate the predictor from the response\n",
    "x = df.text.values\n",
    "y = df.label.values"
   ]
  },
  {
   "cell_type": "code",
   "execution_count": 25,
   "id": "9e3d9de1",
   "metadata": {},
   "outputs": [],
   "source": [
    "# Create train and test sets using the generated indices\n",
    "x_train = x[train_idx]\n",
    "y_train = y[train_idx]\n",
    "x_test = x[test_idx]\n",
    "y_test = y[test_idx]"
   ]
  },
  {
   "cell_type": "markdown",
   "id": "3886b9b5",
   "metadata": {},
   "source": [
    "**Building the Classifier Pipeline**\\\n",
    "**Step 1: Vectorizor**\n",
    "\n",
    "It's true that there are still several preprocessing steps to be done such as converting to lowercase and tokenizing the reviews, but these can be done for using sklearn's [TfidfVectorizer](https://scikit-learn.org/stable/modules/generated/sklearn.feature_extraction.text.TfidfVectorizer.html). "
   ]
  },
  {
   "cell_type": "code",
   "execution_count": 23,
   "id": "1d88b818",
   "metadata": {},
   "outputs": [],
   "source": [
    "from sklearn.feature_extraction.text import TfidfVectorizer"
   ]
  },
  {
   "cell_type": "markdown",
   "id": "df712db2",
   "metadata": {},
   "source": [
    "Instantiate a `TfidfVectorizer` with parameters such that it will:\n",
    "- set all reviews to lowercase\n",
    "- remove english stopwords\n",
    "- exclude words that occur in less than 1 review in 10,000\n",
    "- exclude words that occur in more than 90% of reviews\n",
    "\n",
    "**Hint:** Reading the documentation, you'll see the arguments you need are `lowercase`, `stop_words`, `min_df`, and `max_df`"
   ]
  },
  {
   "cell_type": "code",
   "execution_count": 53,
   "id": "2e236cc8",
   "metadata": {},
   "outputs": [],
   "source": [
    "# please fill this code block!\n",
    "vec = TfidfVectorizer(lowercase=True,stop_words='english',min_df=0.0001,max_df=0.9)"
   ]
  },
  {
   "cell_type": "markdown",
   "id": "0a24c836",
   "metadata": {},
   "source": [
    "**Step 2: Classifier**\n",
    "\n",
    "We'll use logistic regression with l2 regularization as our classifier model. The [LogisticRegressionCV](https://scikit-learn.org/stable/modules/generated/sklearn.linear_model.LogisticRegressionCV.html?highlight=logisticregressioncv#sklearn.linear_model.LogisticRegressionCV) object allows us to easily tune for the best regularization parameter."
   ]
  },
  {
   "cell_type": "code",
   "execution_count": 54,
   "id": "078f881f",
   "metadata": {},
   "outputs": [],
   "source": [
    "from sklearn.linear_model import LogisticRegressionCV"
   ]
  },
  {
   "cell_type": "markdown",
   "id": "97f66e5e",
   "metadata": {},
   "source": [
    "With 40,000 training observations and each word in the vectorizer's vocabulary counting acting as a predictor training could be slow.\\\n",
    "This issue is exacerbated when using cross validation as we need fit the model multiple times!\\\n",
    "We'll set our classifier CV parameters so as to help keep the training time down to around 30 seconds or so.\n",
    "- l2 penalty (e.g., Ridge)\n",
    "- 10 iterations per fit (remember, logistic regression has no closed form solution for the betas!)\n",
    "- 5-fold CV\n",
    "- random state of 0 (the fitting can be stochastic)"
   ]
  },
  {
   "cell_type": "code",
   "execution_count": 55,
   "id": "317752aa",
   "metadata": {},
   "outputs": [],
   "source": [
    "# please fill this code block!\n",
    "# Instantiate our Classifier\n",
    "clf = LogisticRegressionCV(cv=5, penalty=\"l2\", max_iter=10, random_state=0 )"
   ]
  },
  {
   "cell_type": "markdown",
   "id": "90ef7e1f",
   "metadata": {},
   "source": [
    "**Step 3: Pipeline**\n",
    "\n",
    "Any text data going into our classifier will have to first be converted to numerical data by our vectorizer.\\\n",
    "One way to do this would be to:\n",
    "1. fit the vectorizor on the training data\n",
    "2. transform a dataset with the fitted vectorizer\n",
    "3. pass the transformed data to the classifier\n",
    "\n",
    "(1) only needs to be done once, but (2) & (3) would need to be done manually for train, test, and any other data we want to give them model.\\\n",
    "This would be tedious! Luckily, sklearn's [Pipline](https://scikit-learn.org/stable/modules/generated/sklearn.pipeline.Pipeline.html?highlight=pipeline#sklearn.pipeline.Pipeline) object allow use to connect one more 'transformers' (such as a scaler or vectorizer) with a model."
   ]
  },
  {
   "cell_type": "code",
   "execution_count": 56,
   "id": "c7897ac0",
   "metadata": {},
   "outputs": [],
   "source": [
    "from sklearn.pipeline import make_pipeline"
   ]
  },
  {
   "cell_type": "markdown",
   "id": "15be90c9",
   "metadata": {},
   "source": [
    "Use [make_pipeline()](https://scikit-learn.org/stable/modules/generated/sklearn.pipeline.make_pipeline.html?highlight=make_pipeline#sklearn.pipeline.make_pipeline) to connect the vectorizor, `vec`, and our classifier, `clf`, into a single pipeline.\n",
    "\n",
    "**Hint:** You can set `verbose=True` to see the individual steps during the fit process later."
   ]
  },
  {
   "cell_type": "code",
   "execution_count": 57,
   "id": "9f7a47d1",
   "metadata": {},
   "outputs": [],
   "source": [
    "# please fill this code block!\n",
    "# Construct the pipeline\n",
    "pipe = make_pipeline(vec,clf)"
   ]
  },
  {
   "cell_type": "markdown",
   "id": "20fe0b5d",
   "metadata": {},
   "source": [
    "**Step 4: Fitting**\n",
    "\n",
    "When it comes to fitting, we can treat the pipeline object as if it were the classifier object itself, and simply call `fit` on the pipeline."
   ]
  },
  {
   "cell_type": "code",
   "execution_count": 58,
   "id": "32a3d208",
   "metadata": {},
   "outputs": [],
   "source": [
    "# For the sake of time, we are fitting quickly and we may not converge\n",
    "# We'll supress those pesky warnings\n",
    "from warnings import simplefilter\n",
    "from sklearn.exceptions import ConvergenceWarning\n",
    "# We also ignore FutureWarnings due to version issues on Ed\n",
    "simplefilter(\"ignore\", category=(ConvergenceWarning, FutureWarning))"
   ]
  },
  {
   "cell_type": "code",
   "execution_count": 59,
   "id": "95a8355d",
   "metadata": {},
   "outputs": [
    {
     "data": {
      "text/html": [
       "<style>#sk-container-id-1 {color: black;}#sk-container-id-1 pre{padding: 0;}#sk-container-id-1 div.sk-toggleable {background-color: white;}#sk-container-id-1 label.sk-toggleable__label {cursor: pointer;display: block;width: 100%;margin-bottom: 0;padding: 0.3em;box-sizing: border-box;text-align: center;}#sk-container-id-1 label.sk-toggleable__label-arrow:before {content: \"▸\";float: left;margin-right: 0.25em;color: #696969;}#sk-container-id-1 label.sk-toggleable__label-arrow:hover:before {color: black;}#sk-container-id-1 div.sk-estimator:hover label.sk-toggleable__label-arrow:before {color: black;}#sk-container-id-1 div.sk-toggleable__content {max-height: 0;max-width: 0;overflow: hidden;text-align: left;background-color: #f0f8ff;}#sk-container-id-1 div.sk-toggleable__content pre {margin: 0.2em;color: black;border-radius: 0.25em;background-color: #f0f8ff;}#sk-container-id-1 input.sk-toggleable__control:checked~div.sk-toggleable__content {max-height: 200px;max-width: 100%;overflow: auto;}#sk-container-id-1 input.sk-toggleable__control:checked~label.sk-toggleable__label-arrow:before {content: \"▾\";}#sk-container-id-1 div.sk-estimator input.sk-toggleable__control:checked~label.sk-toggleable__label {background-color: #d4ebff;}#sk-container-id-1 div.sk-label input.sk-toggleable__control:checked~label.sk-toggleable__label {background-color: #d4ebff;}#sk-container-id-1 input.sk-hidden--visually {border: 0;clip: rect(1px 1px 1px 1px);clip: rect(1px, 1px, 1px, 1px);height: 1px;margin: -1px;overflow: hidden;padding: 0;position: absolute;width: 1px;}#sk-container-id-1 div.sk-estimator {font-family: monospace;background-color: #f0f8ff;border: 1px dotted black;border-radius: 0.25em;box-sizing: border-box;margin-bottom: 0.5em;}#sk-container-id-1 div.sk-estimator:hover {background-color: #d4ebff;}#sk-container-id-1 div.sk-parallel-item::after {content: \"\";width: 100%;border-bottom: 1px solid gray;flex-grow: 1;}#sk-container-id-1 div.sk-label:hover label.sk-toggleable__label {background-color: #d4ebff;}#sk-container-id-1 div.sk-serial::before {content: \"\";position: absolute;border-left: 1px solid gray;box-sizing: border-box;top: 0;bottom: 0;left: 50%;z-index: 0;}#sk-container-id-1 div.sk-serial {display: flex;flex-direction: column;align-items: center;background-color: white;padding-right: 0.2em;padding-left: 0.2em;position: relative;}#sk-container-id-1 div.sk-item {position: relative;z-index: 1;}#sk-container-id-1 div.sk-parallel {display: flex;align-items: stretch;justify-content: center;background-color: white;position: relative;}#sk-container-id-1 div.sk-item::before, #sk-container-id-1 div.sk-parallel-item::before {content: \"\";position: absolute;border-left: 1px solid gray;box-sizing: border-box;top: 0;bottom: 0;left: 50%;z-index: -1;}#sk-container-id-1 div.sk-parallel-item {display: flex;flex-direction: column;z-index: 1;position: relative;background-color: white;}#sk-container-id-1 div.sk-parallel-item:first-child::after {align-self: flex-end;width: 50%;}#sk-container-id-1 div.sk-parallel-item:last-child::after {align-self: flex-start;width: 50%;}#sk-container-id-1 div.sk-parallel-item:only-child::after {width: 0;}#sk-container-id-1 div.sk-dashed-wrapped {border: 1px dashed gray;margin: 0 0.4em 0.5em 0.4em;box-sizing: border-box;padding-bottom: 0.4em;background-color: white;}#sk-container-id-1 div.sk-label label {font-family: monospace;font-weight: bold;display: inline-block;line-height: 1.2em;}#sk-container-id-1 div.sk-label-container {text-align: center;}#sk-container-id-1 div.sk-container {/* jupyter's `normalize.less` sets `[hidden] { display: none; }` but bootstrap.min.css set `[hidden] { display: none !important; }` so we also need the `!important` here to be able to override the default hidden behavior on the sphinx rendered scikit-learn.org. See: https://github.com/scikit-learn/scikit-learn/issues/21755 */display: inline-block !important;position: relative;}#sk-container-id-1 div.sk-text-repr-fallback {display: none;}</style><div id=\"sk-container-id-1\" class=\"sk-top-container\"><div class=\"sk-text-repr-fallback\"><pre>Pipeline(steps=[(&#x27;tfidfvectorizer&#x27;,\n",
       "                 TfidfVectorizer(max_df=0.9, min_df=0.0001,\n",
       "                                 stop_words=&#x27;english&#x27;)),\n",
       "                (&#x27;logisticregressioncv&#x27;,\n",
       "                 LogisticRegressionCV(cv=5, max_iter=10, random_state=0))])</pre><b>In a Jupyter environment, please rerun this cell to show the HTML representation or trust the notebook. <br />On GitHub, the HTML representation is unable to render, please try loading this page with nbviewer.org.</b></div><div class=\"sk-container\" hidden><div class=\"sk-item sk-dashed-wrapped\"><div class=\"sk-label-container\"><div class=\"sk-label sk-toggleable\"><input class=\"sk-toggleable__control sk-hidden--visually\" id=\"sk-estimator-id-1\" type=\"checkbox\" ><label for=\"sk-estimator-id-1\" class=\"sk-toggleable__label sk-toggleable__label-arrow\">Pipeline</label><div class=\"sk-toggleable__content\"><pre>Pipeline(steps=[(&#x27;tfidfvectorizer&#x27;,\n",
       "                 TfidfVectorizer(max_df=0.9, min_df=0.0001,\n",
       "                                 stop_words=&#x27;english&#x27;)),\n",
       "                (&#x27;logisticregressioncv&#x27;,\n",
       "                 LogisticRegressionCV(cv=5, max_iter=10, random_state=0))])</pre></div></div></div><div class=\"sk-serial\"><div class=\"sk-item\"><div class=\"sk-estimator sk-toggleable\"><input class=\"sk-toggleable__control sk-hidden--visually\" id=\"sk-estimator-id-2\" type=\"checkbox\" ><label for=\"sk-estimator-id-2\" class=\"sk-toggleable__label sk-toggleable__label-arrow\">TfidfVectorizer</label><div class=\"sk-toggleable__content\"><pre>TfidfVectorizer(max_df=0.9, min_df=0.0001, stop_words=&#x27;english&#x27;)</pre></div></div></div><div class=\"sk-item\"><div class=\"sk-estimator sk-toggleable\"><input class=\"sk-toggleable__control sk-hidden--visually\" id=\"sk-estimator-id-3\" type=\"checkbox\" ><label for=\"sk-estimator-id-3\" class=\"sk-toggleable__label sk-toggleable__label-arrow\">LogisticRegressionCV</label><div class=\"sk-toggleable__content\"><pre>LogisticRegressionCV(cv=5, max_iter=10, random_state=0)</pre></div></div></div></div></div></div></div>"
      ],
      "text/plain": [
       "Pipeline(steps=[('tfidfvectorizer',\n",
       "                 TfidfVectorizer(max_df=0.9, min_df=0.0001,\n",
       "                                 stop_words='english')),\n",
       "                ('logisticregressioncv',\n",
       "                 LogisticRegressionCV(cv=5, max_iter=10, random_state=0))])"
      ]
     },
     "execution_count": 59,
     "metadata": {},
     "output_type": "execute_result"
    }
   ],
   "source": [
    "### edTest(test_fit) ###\n",
    "# Fit the model via the pipeline\n",
    "pipe.fit(x_train, y_train)"
   ]
  },
  {
   "cell_type": "markdown",
   "id": "b5e449d2",
   "metadata": {},
   "source": [
    "We can inspect the steps of the pipeline."
   ]
  },
  {
   "cell_type": "code",
   "execution_count": 60,
   "id": "feb94be9",
   "metadata": {},
   "outputs": [
    {
     "data": {
      "text/plain": [
       "[('tfidfvectorizer',\n",
       "  TfidfVectorizer(max_df=0.9, min_df=0.0001, stop_words='english')),\n",
       " ('logisticregressioncv',\n",
       "  LogisticRegressionCV(cv=5, max_iter=10, random_state=0))]"
      ]
     },
     "execution_count": 60,
     "metadata": {},
     "output_type": "execute_result"
    }
   ],
   "source": [
    "pipe.get_params()['steps']"
   ]
  },
  {
   "cell_type": "markdown",
   "id": "41580761",
   "metadata": {},
   "source": [
    "By default they are named using the all lowercase class name of each object.\\\n",
    "We can use these names to access the fitted objects inside. Here we see the size of our vectorizer's vocabulary."
   ]
  },
  {
   "cell_type": "code",
   "execution_count": 63,
   "id": "ccca2cec",
   "metadata": {
    "scrolled": true
   },
   "outputs": [
    {
     "name": "stdout",
     "output_type": "stream",
     "text": [
      "# of features: 36658\n"
     ]
    }
   ],
   "source": [
    "features = pipe.get_params()['tfidfvectorizer'].get_feature_names_out() # When sklearn.__version__ >= 1.0.x use following method\n",
    "print('# of features:', len(features))"
   ]
  },
  {
   "cell_type": "markdown",
   "id": "8706fcf1",
   "metadata": {},
   "source": [
    "There are too many to print, but we can peek at a random sample."
   ]
  },
  {
   "cell_type": "code",
   "execution_count": 64,
   "id": "929a8397",
   "metadata": {},
   "outputs": [
    {
     "name": "stdout",
     "output_type": "stream",
     "text": [
      "['integrating' 'gregson' 'deal' 'homophobia' 'chemically' 'explained'\n",
      " 'messedup' 'shannon' 'regal' 'brick' 'carpathian' 'revelry' 'loos' 'whit'\n",
      " 'yu' 'strata' 'unlucky' 'unwanted' 'anachronism' 'interior' 'julie'\n",
      " 'seasickness' 'lex' 'articulated' '10000000' 'genre' 'rebroadcast' 'auer'\n",
      " 'lapsed' 'dozens' 'crichtons' '2020' 'hoffmans' 'storyteller' 'committee'\n",
      " 'fellini' 'absolutly' 'sidesplitting' 'repetitiveness' 'boringly']\n"
     ]
    }
   ],
   "source": [
    "sample_size = 40\n",
    "feature_sample_idx = np.random.choice(len(features), size=sample_size, replace=False)\n",
    "print(np.array(features)[feature_sample_idx])"
   ]
  },
  {
   "cell_type": "markdown",
   "id": "97f3f2e8",
   "metadata": {},
   "source": [
    "Similarly, we can access the fitted logistic model and see what regularization parameter was used."
   ]
  },
  {
   "cell_type": "code",
   "execution_count": 65,
   "id": "86399e47",
   "metadata": {
    "scrolled": true
   },
   "outputs": [
    {
     "name": "stdout",
     "output_type": "stream",
     "text": [
      "Best C from cross-validation: 2.7826\n"
     ]
    }
   ],
   "source": [
    "best_C = pipe.get_params()['logisticregressioncv'].C_[0]\n",
    "print(f'Best C from cross-validation: {best_C:.4f}')"
   ]
  },
  {
   "cell_type": "markdown",
   "id": "0cab190d",
   "metadata": {},
   "source": [
    "**Step 5: Prediction**\n",
    "\n",
    "Just like we did when fitting, we can treat the pipeline object as the classifier when making predictions.\\\n",
    "Predict on the test data to get:\n",
    "1. class labels\n",
    "2. probabilities of being the positive class (i.e., 'good' reviews)\n",
    "3. test accuracy"
   ]
  },
  {
   "cell_type": "code",
   "execution_count": 73,
   "id": "0b0d084b",
   "metadata": {},
   "outputs": [
    {
     "name": "stdout",
     "output_type": "stream",
     "text": [
      "test accuracy: 0.893\n"
     ]
    }
   ],
   "source": [
    "# please fill this code block!\n",
    "# Predict class labels on test data\n",
    "y_pred = pipe.predict(x_test)\n",
    "\n",
    "# Predict probabilities of the positive class on the test data\n",
    "y_pred_proba = pipe.predict_proba(x_test)[:, 1]#0-negetive;1-positv\n",
    "\n",
    "# Calculate test accuracy\n",
    "test_acc = pipe.score(x_test, y_test)\n",
    "print(f\"test accuracy: {test_acc:0.3f}\")"
   ]
  },
  {
   "cell_type": "markdown",
   "id": "0ae3f289",
   "metadata": {},
   "source": [
    "Can you get better than 0.893 by tweaking the preprocessing, or vetorizer and classifier parameters? Perhaps inspecting how our model makes its predictions may help us decide how we might improve the model in the future."
   ]
  },
  {
   "cell_type": "markdown",
   "id": "3ccc9200",
   "metadata": {},
   "source": [
    "### Kaggle Submission Process for Movie Review Classification\n",
    "\n",
    "In the subsequent steps, we'll process the test dataset provided on Kaggle, produce a predicted output, and generate a CSV file suitable for submission. This will allow us to evaluate our model's predictions on Kaggle. Access the competition through this [link](https://www.kaggle.com/competitions/dsaa-6100-movie-review-classification/): **DSAA 6100 Movie Review Classification**.\n",
    "\n",
    "When participating in the competition on Kaggle, please ensure your displayed username follows the format \"StudentID_Name\". This will help the teaching assistants to easily identify and verify your scores. For instance, change your Kaggle display name to a format similar to \"50013772_Yupeng Xie\" before submitting."
   ]
  },
  {
   "cell_type": "code",
   "execution_count": 74,
   "id": "1ee8aecd",
   "metadata": {},
   "outputs": [
    {
     "name": "stdout",
     "output_type": "stream",
     "text": [
      "Kaggle submission file saved as 'kaggle_submission.csv'\n"
     ]
    }
   ],
   "source": [
    "# 1. Load the 'test_data.csv' file\n",
    "test_data = pd.read_csv('data/test_data.csv')\n",
    "\n",
    "# Extract reviews from 'test_data.csv' assuming the column name is \"text\"\n",
    "test_reviews = test_data['text']\n",
    "\n",
    "# 2. Predict sentiments using the trained model\n",
    "y_pred_kaggle = pipe.predict(test_reviews)\n",
    "\n",
    "# 3. Create a dataframe for Kaggle submission\n",
    "# Assuming 'test_data' has a column named 'Id' for identifying each review\n",
    "submission = pd.DataFrame({'Id': test_data['Id'], 'Category': y_pred_kaggle})\n",
    "\n",
    "# 4. Save the predictions to a .csv file for submission\n",
    "submission.to_csv('kaggle_submission.csv', index=False)\n",
    "\n",
    "print(\"Kaggle submission file saved as 'kaggle_submission.csv'\")"
   ]
  },
  {
   "cell_type": "markdown",
   "id": "ea0203db",
   "metadata": {},
   "source": [
    "### Interpretation\n",
    "\n",
    "Below we'll use the `eli5` library to have some fun interpreting what is driving our model's predictions on specific test observations.\n",
    "\n",
    "- [ELI5](https://eli5.readthedocs.io/en/latest/) is a Python library which allows to visualize and debug various Machine Learning models using unified API. It has built-in support for several ML frameworks and provides a way to explain black-box models."
   ]
  },
  {
   "cell_type": "code",
   "execution_count": 75,
   "id": "c65b9d8c",
   "metadata": {},
   "outputs": [
    {
     "name": "stdout",
     "output_type": "stream",
     "text": [
      "Collecting eli5\n",
      "  Downloading eli5-0.13.0.tar.gz (216 kB)\n",
      "     ---------------------------------------- 0.0/216.2 kB ? eta -:--:--\n",
      "     ---------------------------------------- 0.0/216.2 kB ? eta -:--:--\n",
      "     - -------------------------------------- 10.2/216.2 kB ? eta -:--:--\n",
      "     ------- ----------------------------- 41.0/216.2 kB 495.5 kB/s eta 0:00:01\n",
      "     ---------- -------------------------- 61.4/216.2 kB 544.7 kB/s eta 0:00:01\n",
      "     ------------------ ----------------- 112.6/216.2 kB 656.4 kB/s eta 0:00:01\n",
      "     ---------------------------- ------- 174.1/216.2 kB 807.1 kB/s eta 0:00:01\n",
      "     ------------------------------------ 216.2/216.2 kB 880.3 kB/s eta 0:00:00\n",
      "  Preparing metadata (setup.py): started\n",
      "  Preparing metadata (setup.py): finished with status 'done'\n",
      "Requirement already satisfied: attrs>17.1.0 in d:\\anaconda\\lib\\site-packages (from eli5) (22.1.0)\n",
      "Requirement already satisfied: jinja2>=3.0.0 in d:\\anaconda\\lib\\site-packages (from eli5) (3.1.2)\n",
      "Requirement already satisfied: numpy>=1.9.0 in d:\\anaconda\\lib\\site-packages (from eli5) (1.24.3)\n",
      "Requirement already satisfied: scipy in d:\\anaconda\\lib\\site-packages (from eli5) (1.10.1)\n",
      "Requirement already satisfied: six in d:\\anaconda\\lib\\site-packages (from eli5) (1.16.0)\n",
      "Requirement already satisfied: scikit-learn>=0.20 in d:\\anaconda\\lib\\site-packages (from eli5) (1.3.0)\n",
      "Collecting graphviz (from eli5)\n",
      "  Downloading graphviz-0.20.1-py3-none-any.whl (47 kB)\n",
      "     ---------------------------------------- 0.0/47.0 kB ? eta -:--:--\n",
      "     ---------------------------------------- 47.0/47.0 kB 2.3 MB/s eta 0:00:00\n",
      "Requirement already satisfied: tabulate>=0.7.7 in d:\\anaconda\\lib\\site-packages (from eli5) (0.8.10)\n",
      "Requirement already satisfied: MarkupSafe>=2.0 in d:\\anaconda\\lib\\site-packages (from jinja2>=3.0.0->eli5) (2.1.1)\n",
      "Requirement already satisfied: joblib>=1.1.1 in d:\\anaconda\\lib\\site-packages (from scikit-learn>=0.20->eli5) (1.2.0)\n",
      "Requirement already satisfied: threadpoolctl>=2.0.0 in d:\\anaconda\\lib\\site-packages (from scikit-learn>=0.20->eli5) (2.2.0)\n",
      "Building wheels for collected packages: eli5\n",
      "  Building wheel for eli5 (setup.py): started\n",
      "  Building wheel for eli5 (setup.py): finished with status 'done'\n",
      "  Created wheel for eli5: filename=eli5-0.13.0-py2.py3-none-any.whl size=107768 sha256=eaf7e42f70f46158dec2d16c81c07b0126344bfb0babd5783755090d1784ac70\n",
      "  Stored in directory: c:\\users\\huawei\\appdata\\local\\pip\\cache\\wheels\\ec\\68\\a9\\de7d374ecb6f53462ce0eec8326fbab91b6228c82e67428d0d\n",
      "Successfully built eli5\n",
      "Installing collected packages: graphviz, eli5\n",
      "Successfully installed eli5-0.13.0 graphviz-0.20.1\n"
     ]
    }
   ],
   "source": [
    "# please fill this code block!\n",
    "# Install ELI5\n",
    "!pip install eli5"
   ]
  },
  {
   "cell_type": "code",
   "execution_count": 84,
   "id": "fb097024",
   "metadata": {},
   "outputs": [
    {
     "ename": "ImportError",
     "evalue": "cannot import name 'if_delegate_has_method' from 'sklearn.utils.metaestimators' (D:\\Anaconda\\Lib\\site-packages\\sklearn\\utils\\metaestimators.py)",
     "output_type": "error",
     "traceback": [
      "\u001b[1;31m---------------------------------------------------------------------------\u001b[0m",
      "\u001b[1;31mImportError\u001b[0m                               Traceback (most recent call last)",
      "Cell \u001b[1;32mIn[84], line 2\u001b[0m\n\u001b[0;32m      1\u001b[0m \u001b[38;5;66;03m# For interpretation\u001b[39;00m\n\u001b[1;32m----> 2\u001b[0m \u001b[38;5;28;01mimport\u001b[39;00m \u001b[38;5;21;01meli5\u001b[39;00m\n\u001b[0;32m      3\u001b[0m \u001b[38;5;66;03m# for parsing/formating eli5's HTML output\u001b[39;00m\n\u001b[0;32m      4\u001b[0m \u001b[38;5;28;01mfrom\u001b[39;00m \u001b[38;5;21;01mbs4\u001b[39;00m \u001b[38;5;28;01mimport\u001b[39;00m BeautifulSoup\n",
      "File \u001b[1;32mD:\\Anaconda\\Lib\\site-packages\\eli5\\__init__.py:13\u001b[0m\n\u001b[0;32m      6\u001b[0m \u001b[38;5;28;01mfrom\u001b[39;00m \u001b[38;5;21;01m.\u001b[39;00m\u001b[38;5;21;01mformatters\u001b[39;00m \u001b[38;5;28;01mimport\u001b[39;00m (\n\u001b[0;32m      7\u001b[0m     format_as_html,\n\u001b[0;32m      8\u001b[0m     format_html_styles,\n\u001b[0;32m      9\u001b[0m     format_as_text,\n\u001b[0;32m     10\u001b[0m     format_as_dict,\n\u001b[0;32m     11\u001b[0m )\n\u001b[0;32m     12\u001b[0m \u001b[38;5;28;01mfrom\u001b[39;00m \u001b[38;5;21;01m.\u001b[39;00m\u001b[38;5;21;01mexplain\u001b[39;00m \u001b[38;5;28;01mimport\u001b[39;00m explain_weights, explain_prediction\n\u001b[1;32m---> 13\u001b[0m \u001b[38;5;28;01mfrom\u001b[39;00m \u001b[38;5;21;01m.\u001b[39;00m\u001b[38;5;21;01msklearn\u001b[39;00m \u001b[38;5;28;01mimport\u001b[39;00m explain_weights_sklearn, explain_prediction_sklearn\n\u001b[0;32m     14\u001b[0m \u001b[38;5;28;01mfrom\u001b[39;00m \u001b[38;5;21;01m.\u001b[39;00m\u001b[38;5;21;01mtransform\u001b[39;00m \u001b[38;5;28;01mimport\u001b[39;00m transform_feature_names\n\u001b[0;32m     17\u001b[0m \u001b[38;5;28;01mtry\u001b[39;00m:\n",
      "File \u001b[1;32mD:\\Anaconda\\Lib\\site-packages\\eli5\\sklearn\\__init__.py:3\u001b[0m\n\u001b[0;32m      1\u001b[0m \u001b[38;5;66;03m# -*- coding: utf-8 -*-\u001b[39;00m\n\u001b[0;32m      2\u001b[0m \u001b[38;5;28;01mfrom\u001b[39;00m \u001b[38;5;21;01m__future__\u001b[39;00m \u001b[38;5;28;01mimport\u001b[39;00m absolute_import\n\u001b[1;32m----> 3\u001b[0m \u001b[38;5;28;01mfrom\u001b[39;00m \u001b[38;5;21;01m.\u001b[39;00m\u001b[38;5;21;01mexplain_weights\u001b[39;00m \u001b[38;5;28;01mimport\u001b[39;00m (\n\u001b[0;32m      4\u001b[0m     explain_weights_sklearn,\n\u001b[0;32m      5\u001b[0m     explain_linear_classifier_weights,\n\u001b[0;32m      6\u001b[0m     explain_linear_regressor_weights,\n\u001b[0;32m      7\u001b[0m     explain_rf_feature_importance,\n\u001b[0;32m      8\u001b[0m     explain_decision_tree,\n\u001b[0;32m      9\u001b[0m )\n\u001b[0;32m     10\u001b[0m \u001b[38;5;28;01mfrom\u001b[39;00m \u001b[38;5;21;01m.\u001b[39;00m\u001b[38;5;21;01mexplain_prediction\u001b[39;00m \u001b[38;5;28;01mimport\u001b[39;00m (\n\u001b[0;32m     11\u001b[0m     explain_prediction_sklearn,\n\u001b[0;32m     12\u001b[0m     explain_prediction_linear_classifier,\n\u001b[0;32m     13\u001b[0m     explain_prediction_linear_regressor,\n\u001b[0;32m     14\u001b[0m )\n\u001b[0;32m     15\u001b[0m \u001b[38;5;28;01mfrom\u001b[39;00m \u001b[38;5;21;01m.\u001b[39;00m\u001b[38;5;21;01munhashing\u001b[39;00m \u001b[38;5;28;01mimport\u001b[39;00m (\n\u001b[0;32m     16\u001b[0m     InvertableHashingVectorizer,\n\u001b[0;32m     17\u001b[0m     FeatureUnhasher,\n\u001b[0;32m     18\u001b[0m     invert_hashing_and_fit,\n\u001b[0;32m     19\u001b[0m )\n",
      "File \u001b[1;32mD:\\Anaconda\\Lib\\site-packages\\eli5\\sklearn\\explain_weights.py:78\u001b[0m\n\u001b[0;32m     73\u001b[0m \u001b[38;5;28;01mfrom\u001b[39;00m \u001b[38;5;21;01meli5\u001b[39;00m\u001b[38;5;21;01m.\u001b[39;00m\u001b[38;5;21;01mtransform\u001b[39;00m \u001b[38;5;28;01mimport\u001b[39;00m transform_feature_names\n\u001b[0;32m     74\u001b[0m \u001b[38;5;28;01mfrom\u001b[39;00m \u001b[38;5;21;01meli5\u001b[39;00m\u001b[38;5;21;01m.\u001b[39;00m\u001b[38;5;21;01m_feature_importances\u001b[39;00m \u001b[38;5;28;01mimport\u001b[39;00m (\n\u001b[0;32m     75\u001b[0m     get_feature_importances_filtered,\n\u001b[0;32m     76\u001b[0m     get_feature_importance_explanation,\n\u001b[0;32m     77\u001b[0m )\n\u001b[1;32m---> 78\u001b[0m \u001b[38;5;28;01mfrom\u001b[39;00m \u001b[38;5;21;01m.\u001b[39;00m\u001b[38;5;21;01mpermutation_importance\u001b[39;00m \u001b[38;5;28;01mimport\u001b[39;00m PermutationImportance\n\u001b[0;32m     81\u001b[0m LINEAR_CAVEATS \u001b[38;5;241m=\u001b[39m \u001b[38;5;124m\"\"\"\u001b[39m\n\u001b[0;32m     82\u001b[0m \u001b[38;5;124mCaveats:\u001b[39m\n\u001b[0;32m     83\u001b[0m \u001b[38;5;124m1. Be careful with features which are not\u001b[39m\n\u001b[1;32m   (...)\u001b[0m\n\u001b[0;32m     90\u001b[0m \u001b[38;5;124m   classification result for most examples.\u001b[39m\n\u001b[0;32m     91\u001b[0m \u001b[38;5;124m\"\"\"\u001b[39m\u001b[38;5;241m.\u001b[39mlstrip()\n\u001b[0;32m     93\u001b[0m HASHING_CAVEATS \u001b[38;5;241m=\u001b[39m \u001b[38;5;124m\"\"\"\u001b[39m\n\u001b[0;32m     94\u001b[0m \u001b[38;5;124mFeature names are restored from their hashes; this is not 100\u001b[39m\u001b[38;5;124m%\u001b[39m\u001b[38;5;124m precise\u001b[39m\n\u001b[0;32m     95\u001b[0m \u001b[38;5;124mbecause collisions are possible. For known collisions possible feature names\u001b[39m\n\u001b[1;32m   (...)\u001b[0m\n\u001b[0;32m     99\u001b[0m \u001b[38;5;124mthe result is positive.\u001b[39m\n\u001b[0;32m    100\u001b[0m \u001b[38;5;124m\"\"\"\u001b[39m\u001b[38;5;241m.\u001b[39mlstrip()\n",
      "File \u001b[1;32mD:\\Anaconda\\Lib\\site-packages\\eli5\\sklearn\\permutation_importance.py:7\u001b[0m\n\u001b[0;32m      5\u001b[0m \u001b[38;5;28;01mimport\u001b[39;00m \u001b[38;5;21;01mnumpy\u001b[39;00m \u001b[38;5;28;01mas\u001b[39;00m \u001b[38;5;21;01mnp\u001b[39;00m\n\u001b[0;32m      6\u001b[0m \u001b[38;5;28;01mfrom\u001b[39;00m \u001b[38;5;21;01msklearn\u001b[39;00m\u001b[38;5;21;01m.\u001b[39;00m\u001b[38;5;21;01mmodel_selection\u001b[39;00m \u001b[38;5;28;01mimport\u001b[39;00m check_cv\n\u001b[1;32m----> 7\u001b[0m \u001b[38;5;28;01mfrom\u001b[39;00m \u001b[38;5;21;01msklearn\u001b[39;00m\u001b[38;5;21;01m.\u001b[39;00m\u001b[38;5;21;01mutils\u001b[39;00m\u001b[38;5;21;01m.\u001b[39;00m\u001b[38;5;21;01mmetaestimators\u001b[39;00m \u001b[38;5;28;01mimport\u001b[39;00m if_delegate_has_method\n\u001b[0;32m      8\u001b[0m \u001b[38;5;28;01mfrom\u001b[39;00m \u001b[38;5;21;01msklearn\u001b[39;00m\u001b[38;5;21;01m.\u001b[39;00m\u001b[38;5;21;01mutils\u001b[39;00m \u001b[38;5;28;01mimport\u001b[39;00m check_array, check_random_state\n\u001b[0;32m      9\u001b[0m \u001b[38;5;28;01mfrom\u001b[39;00m \u001b[38;5;21;01msklearn\u001b[39;00m\u001b[38;5;21;01m.\u001b[39;00m\u001b[38;5;21;01mbase\u001b[39;00m \u001b[38;5;28;01mimport\u001b[39;00m (\n\u001b[0;32m     10\u001b[0m     BaseEstimator,\n\u001b[0;32m     11\u001b[0m     MetaEstimatorMixin,\n\u001b[0;32m     12\u001b[0m     clone,\n\u001b[0;32m     13\u001b[0m     is_classifier\n\u001b[0;32m     14\u001b[0m )\n",
      "\u001b[1;31mImportError\u001b[0m: cannot import name 'if_delegate_has_method' from 'sklearn.utils.metaestimators' (D:\\Anaconda\\Lib\\site-packages\\sklearn\\utils\\metaestimators.py)"
     ]
    }
   ],
   "source": [
    "# For interpretation\n",
    "import eli5\n",
    "# for parsing/formating eli5's HTML output\n",
    "from bs4 import BeautifulSoup\n",
    "# for displaying formatted HTML output\n",
    "from IPython.display import HTML"
   ]
  },
  {
   "cell_type": "markdown",
   "id": "bf8566b4",
   "metadata": {},
   "source": [
    "Here are the words driving positive class predictions."
   ]
  },
  {
   "cell_type": "code",
   "execution_count": 88,
   "id": "303414ee",
   "metadata": {},
   "outputs": [
    {
     "data": {
      "text/html": [
       "\n",
       "    <style>\n",
       "    table.eli5-weights tr:hover {\n",
       "        filter: brightness(85%);\n",
       "    }\n",
       "</style>\n",
       "\n",
       "\n",
       "\n",
       "    \n",
       "\n",
       "    \n",
       "\n",
       "    \n",
       "\n",
       "    \n",
       "\n",
       "    \n",
       "\n",
       "    \n",
       "\n",
       "\n",
       "    \n",
       "\n",
       "    \n",
       "\n",
       "    \n",
       "\n",
       "    \n",
       "        \n",
       "\n",
       "    \n",
       "\n",
       "        \n",
       "            \n",
       "                \n",
       "                \n",
       "    \n",
       "        <p style=\"margin-bottom: 0.5em; margin-top: 0em\">\n",
       "            <b>\n",
       "    \n",
       "        y=1\n",
       "    \n",
       "</b>\n",
       "\n",
       "top features\n",
       "        </p>\n",
       "    \n",
       "    <table class=\"eli5-weights\"\n",
       "           style=\"border-collapse: collapse; border: none; margin-top: 0em; table-layout: auto; margin-bottom: 2em;\">\n",
       "        <thead>\n",
       "        <tr style=\"border: none;\">\n",
       "            \n",
       "                <th style=\"padding: 0 1em 0 0.5em; text-align: right; border: none;\" title=\"Feature weights. Note that weights do not account for feature value scales, so if feature values have different scales, features with highest weights might not be the most important.\">\n",
       "                    Weight<sup>?</sup>\n",
       "                </th>\n",
       "            \n",
       "            <th style=\"padding: 0 0.5em 0 0.5em; text-align: left; border: none;\">Feature</th>\n",
       "            \n",
       "        </tr>\n",
       "        </thead>\n",
       "        <tbody>\n",
       "        \n",
       "            <tr style=\"background-color: hsl(120, 100.00%, 84.34%); border: none;\">\n",
       "    <td style=\"padding: 0 1em 0 0.5em; text-align: right; border: none;\">\n",
       "        +9.181\n",
       "    </td>\n",
       "    <td style=\"padding: 0 0.5em 0 0.5em; text-align: left; border: none;\">\n",
       "        excellent\n",
       "    </td>\n",
       "    \n",
       "</tr>\n",
       "        \n",
       "            <tr style=\"background-color: hsl(120, 100.00%, 84.86%); border: none;\">\n",
       "    <td style=\"padding: 0 1em 0 0.5em; text-align: right; border: none;\">\n",
       "        +8.748\n",
       "    </td>\n",
       "    <td style=\"padding: 0 0.5em 0 0.5em; text-align: left; border: none;\">\n",
       "        710\n",
       "    </td>\n",
       "    \n",
       "</tr>\n",
       "        \n",
       "            <tr style=\"background-color: hsl(120, 100.00%, 85.08%); border: none;\">\n",
       "    <td style=\"padding: 0 1em 0 0.5em; text-align: right; border: none;\">\n",
       "        +8.561\n",
       "    </td>\n",
       "    <td style=\"padding: 0 0.5em 0 0.5em; text-align: left; border: none;\">\n",
       "        great\n",
       "    </td>\n",
       "    \n",
       "</tr>\n",
       "        \n",
       "            <tr style=\"background-color: hsl(120, 100.00%, 86.73%); border: none;\">\n",
       "    <td style=\"padding: 0 1em 0 0.5em; text-align: right; border: none;\">\n",
       "        +7.245\n",
       "    </td>\n",
       "    <td style=\"padding: 0 0.5em 0 0.5em; text-align: left; border: none;\">\n",
       "        amazing\n",
       "    </td>\n",
       "    \n",
       "</tr>\n",
       "        \n",
       "            <tr style=\"background-color: hsl(120, 100.00%, 86.99%); border: none;\">\n",
       "    <td style=\"padding: 0 1em 0 0.5em; text-align: right; border: none;\">\n",
       "        +7.041\n",
       "    </td>\n",
       "    <td style=\"padding: 0 0.5em 0 0.5em; text-align: left; border: none;\">\n",
       "        wonderful\n",
       "    </td>\n",
       "    \n",
       "</tr>\n",
       "        \n",
       "            <tr style=\"background-color: hsl(120, 100.00%, 87.18%); border: none;\">\n",
       "    <td style=\"padding: 0 1em 0 0.5em; text-align: right; border: none;\">\n",
       "        +6.895\n",
       "    </td>\n",
       "    <td style=\"padding: 0 0.5em 0 0.5em; text-align: left; border: none;\">\n",
       "        best\n",
       "    </td>\n",
       "    \n",
       "</tr>\n",
       "        \n",
       "            <tr style=\"background-color: hsl(120, 100.00%, 87.44%); border: none;\">\n",
       "    <td style=\"padding: 0 1em 0 0.5em; text-align: right; border: none;\">\n",
       "        +6.699\n",
       "    </td>\n",
       "    <td style=\"padding: 0 0.5em 0 0.5em; text-align: left; border: none;\">\n",
       "        perfect\n",
       "    </td>\n",
       "    \n",
       "</tr>\n",
       "        \n",
       "            <tr style=\"background-color: hsl(120, 100.00%, 88.05%); border: none;\">\n",
       "    <td style=\"padding: 0 1em 0 0.5em; text-align: right; border: none;\">\n",
       "        +6.236\n",
       "    </td>\n",
       "    <td style=\"padding: 0 0.5em 0 0.5em; text-align: left; border: none;\">\n",
       "        favorite\n",
       "    </td>\n",
       "    \n",
       "</tr>\n",
       "        \n",
       "            <tr style=\"background-color: hsl(120, 100.00%, 88.31%); border: none;\">\n",
       "    <td style=\"padding: 0 1em 0 0.5em; text-align: right; border: none;\">\n",
       "        +6.048\n",
       "    </td>\n",
       "    <td style=\"padding: 0 0.5em 0 0.5em; text-align: left; border: none;\">\n",
       "        brilliant\n",
       "    </td>\n",
       "    \n",
       "</tr>\n",
       "        \n",
       "        \n",
       "            <tr style=\"background-color: hsl(120, 100.00%, 88.31%); border: none;\">\n",
       "                <td colspan=\"2\" style=\"padding: 0 0.5em 0 0.5em; text-align: center; border: none; white-space: nowrap;\">\n",
       "                    <i>&hellip; 18538 more positive &hellip;</i>\n",
       "                </td>\n",
       "            </tr>\n",
       "        \n",
       "\n",
       "        \n",
       "            <tr style=\"background-color: hsl(0, 100.00%, 88.55%); border: none;\">\n",
       "                <td colspan=\"2\" style=\"padding: 0 0.5em 0 0.5em; text-align: center; border: none; white-space: nowrap;\">\n",
       "                    <i>&hellip; 18096 more negative &hellip;</i>\n",
       "                </td>\n",
       "            </tr>\n",
       "        \n",
       "        \n",
       "            <tr style=\"background-color: hsl(0, 100.00%, 88.55%); border: none;\">\n",
       "    <td style=\"padding: 0 1em 0 0.5em; text-align: right; border: none;\">\n",
       "        -5.865\n",
       "    </td>\n",
       "    <td style=\"padding: 0 0.5em 0 0.5em; text-align: left; border: none;\">\n",
       "        disappointing\n",
       "    </td>\n",
       "    \n",
       "</tr>\n",
       "        \n",
       "            <tr style=\"background-color: hsl(0, 100.00%, 88.51%); border: none;\">\n",
       "    <td style=\"padding: 0 1em 0 0.5em; text-align: right; border: none;\">\n",
       "        -5.896\n",
       "    </td>\n",
       "    <td style=\"padding: 0 0.5em 0 0.5em; text-align: left; border: none;\">\n",
       "        lame\n",
       "    </td>\n",
       "    \n",
       "</tr>\n",
       "        \n",
       "            <tr style=\"background-color: hsl(0, 100.00%, 88.36%); border: none;\">\n",
       "    <td style=\"padding: 0 1em 0 0.5em; text-align: right; border: none;\">\n",
       "        -6.005\n",
       "    </td>\n",
       "    <td style=\"padding: 0 0.5em 0 0.5em; text-align: left; border: none;\">\n",
       "        410\n",
       "    </td>\n",
       "    \n",
       "</tr>\n",
       "        \n",
       "            <tr style=\"background-color: hsl(0, 100.00%, 88.10%); border: none;\">\n",
       "    <td style=\"padding: 0 1em 0 0.5em; text-align: right; border: none;\">\n",
       "        -6.198\n",
       "    </td>\n",
       "    <td style=\"padding: 0 0.5em 0 0.5em; text-align: left; border: none;\">\n",
       "        poorly\n",
       "    </td>\n",
       "    \n",
       "</tr>\n",
       "        \n",
       "            <tr style=\"background-color: hsl(0, 100.00%, 88.02%); border: none;\">\n",
       "    <td style=\"padding: 0 1em 0 0.5em; text-align: right; border: none;\">\n",
       "        -6.263\n",
       "    </td>\n",
       "    <td style=\"padding: 0 0.5em 0 0.5em; text-align: left; border: none;\">\n",
       "        disappointment\n",
       "    </td>\n",
       "    \n",
       "</tr>\n",
       "        \n",
       "            <tr style=\"background-color: hsl(0, 100.00%, 87.72%); border: none;\">\n",
       "    <td style=\"padding: 0 1em 0 0.5em; text-align: right; border: none;\">\n",
       "        -6.485\n",
       "    </td>\n",
       "    <td style=\"padding: 0 0.5em 0 0.5em; text-align: left; border: none;\">\n",
       "        dull\n",
       "    </td>\n",
       "    \n",
       "</tr>\n",
       "        \n",
       "            <tr style=\"background-color: hsl(0, 100.00%, 87.52%); border: none;\">\n",
       "    <td style=\"padding: 0 1em 0 0.5em; text-align: right; border: none;\">\n",
       "        -6.639\n",
       "    </td>\n",
       "    <td style=\"padding: 0 0.5em 0 0.5em; text-align: left; border: none;\">\n",
       "        horrible\n",
       "    </td>\n",
       "    \n",
       "</tr>\n",
       "        \n",
       "            <tr style=\"background-color: hsl(0, 100.00%, 87.40%); border: none;\">\n",
       "    <td style=\"padding: 0 1em 0 0.5em; text-align: right; border: none;\">\n",
       "        -6.729\n",
       "    </td>\n",
       "    <td style=\"padding: 0 0.5em 0 0.5em; text-align: left; border: none;\">\n",
       "        fails\n",
       "    </td>\n",
       "    \n",
       "</tr>\n",
       "        \n",
       "            <tr style=\"background-color: hsl(0, 100.00%, 87.36%); border: none;\">\n",
       "    <td style=\"padding: 0 1em 0 0.5em; text-align: right; border: none;\">\n",
       "        -6.756\n",
       "    </td>\n",
       "    <td style=\"padding: 0 0.5em 0 0.5em; text-align: left; border: none;\">\n",
       "        worse\n",
       "    </td>\n",
       "    \n",
       "</tr>\n",
       "        \n",
       "            <tr style=\"background-color: hsl(0, 100.00%, 87.00%); border: none;\">\n",
       "    <td style=\"padding: 0 1em 0 0.5em; text-align: right; border: none;\">\n",
       "        -7.037\n",
       "    </td>\n",
       "    <td style=\"padding: 0 0.5em 0 0.5em; text-align: left; border: none;\">\n",
       "        poor\n",
       "    </td>\n",
       "    \n",
       "</tr>\n",
       "        \n",
       "            <tr style=\"background-color: hsl(0, 100.00%, 86.99%); border: none;\">\n",
       "    <td style=\"padding: 0 1em 0 0.5em; text-align: right; border: none;\">\n",
       "        -7.043\n",
       "    </td>\n",
       "    <td style=\"padding: 0 0.5em 0 0.5em; text-align: left; border: none;\">\n",
       "        terrible\n",
       "    </td>\n",
       "    \n",
       "</tr>\n",
       "        \n",
       "            <tr style=\"background-color: hsl(0, 100.00%, 85.94%); border: none;\">\n",
       "    <td style=\"padding: 0 1em 0 0.5em; text-align: right; border: none;\">\n",
       "        -7.868\n",
       "    </td>\n",
       "    <td style=\"padding: 0 0.5em 0 0.5em; text-align: left; border: none;\">\n",
       "        boring\n",
       "    </td>\n",
       "    \n",
       "</tr>\n",
       "        \n",
       "            <tr style=\"background-color: hsl(0, 100.00%, 84.60%); border: none;\">\n",
       "    <td style=\"padding: 0 1em 0 0.5em; text-align: right; border: none;\">\n",
       "        -8.960\n",
       "    </td>\n",
       "    <td style=\"padding: 0 0.5em 0 0.5em; text-align: left; border: none;\">\n",
       "        bad\n",
       "    </td>\n",
       "    \n",
       "</tr>\n",
       "        \n",
       "            <tr style=\"background-color: hsl(0, 100.00%, 83.54%); border: none;\">\n",
       "    <td style=\"padding: 0 1em 0 0.5em; text-align: right; border: none;\">\n",
       "        -9.857\n",
       "    </td>\n",
       "    <td style=\"padding: 0 0.5em 0 0.5em; text-align: left; border: none;\">\n",
       "        awful\n",
       "    </td>\n",
       "    \n",
       "</tr>\n",
       "        \n",
       "            <tr style=\"background-color: hsl(0, 100.00%, 82.89%); border: none;\">\n",
       "    <td style=\"padding: 0 1em 0 0.5em; text-align: right; border: none;\">\n",
       "        -10.415\n",
       "    </td>\n",
       "    <td style=\"padding: 0 0.5em 0 0.5em; text-align: left; border: none;\">\n",
       "        waste\n",
       "    </td>\n",
       "    \n",
       "</tr>\n",
       "        \n",
       "            <tr style=\"background-color: hsl(0, 100.00%, 80.00%); border: none;\">\n",
       "    <td style=\"padding: 0 1em 0 0.5em; text-align: right; border: none;\">\n",
       "        -13.017\n",
       "    </td>\n",
       "    <td style=\"padding: 0 0.5em 0 0.5em; text-align: left; border: none;\">\n",
       "        worst\n",
       "    </td>\n",
       "    \n",
       "</tr>\n",
       "        \n",
       "\n",
       "        </tbody>\n",
       "    </table>\n",
       "\n",
       "            \n",
       "        \n",
       "\n",
       "        \n",
       "\n",
       "\n",
       "\n",
       "    \n",
       "\n",
       "    \n",
       "\n",
       "    \n",
       "\n",
       "    \n",
       "\n",
       "\n",
       "    \n",
       "\n",
       "    \n",
       "\n",
       "    \n",
       "\n",
       "    \n",
       "\n",
       "    \n",
       "\n",
       "    \n",
       "\n",
       "\n",
       "    \n",
       "\n",
       "    \n",
       "\n",
       "    \n",
       "\n",
       "    \n",
       "\n",
       "    \n",
       "\n",
       "    \n",
       "\n",
       "\n",
       "\n"
      ],
      "text/plain": [
       "<IPython.core.display.HTML object>"
      ]
     },
     "execution_count": 88,
     "metadata": {},
     "output_type": "execute_result"
    }
   ],
   "source": [
    "eli5.show_weights(clf, vec=vec, top=25)"
   ]
  },
  {
   "cell_type": "markdown",
   "id": "9bec2b7a",
   "metadata": {},
   "source": [
    "Hmm, those digits like 710, 810, and 410 driving predictions seems strange. What might they represent?\\"
   ]
  },
  {
   "cell_type": "markdown",
   "id": "a5c0d164",
   "metadata": {},
   "source": [
    "We'll use the 'raw' data with punctuation when inspecting the data (See! It is coming in handy!)"
   ]
  },
  {
   "cell_type": "code",
   "execution_count": 41,
   "id": "3289273b",
   "metadata": {},
   "outputs": [],
   "source": [
    "x_train_raw = df_raw.text[train_idx].values\n",
    "x_test_raw = df_raw.text[test_idx].values"
   ]
  },
  {
   "cell_type": "code",
   "execution_count": 42,
   "id": "08afdf62",
   "metadata": {},
   "outputs": [
    {
     "data": {
      "text/plain": [
       "\"The cat and mouse are involved in the usual chases when Jerry dives into a bottle of invisible ink and discovers that it makes him vanish. Instead of seizing the opportunity to go spy on a girl mouse changing room or something, he uses his new-found invisibility to torment Tom. And it's pretty funny and quite inventive despite being a somewhat one-joke cartoon. And the action never leaves the interior of the house, which is usually the trait of below average T&J shorts. Still worth a 7/10. However, I'm not sure how an invisible mouse can cast a shadow on the wall, it defies physics and the very nature of being invisible itself.\""
      ]
     },
     "execution_count": 42,
     "metadata": {},
     "output_type": "execute_result"
    }
   ],
   "source": [
    "df_raw[df.text.str.contains(' 710 ')].iloc[0].text"
   ]
  },
  {
   "cell_type": "markdown",
   "id": "a1cfea85",
   "metadata": {},
   "source": [
    "These are actually numerical ratings embedded in the reviews! Looking at the text without the punctuation made it hard for us to see this at first."
   ]
  },
  {
   "cell_type": "markdown",
   "id": "c3b2fcd6",
   "metadata": {},
   "source": [
    "Here's a helper function used to remove some extraneous things from `eli5`'s output. We just want to see the highlighted text.\\\n",
    "You don't need to read through the function but it is here as a nice resource/example. 🤓"
   ]
  },
  {
   "cell_type": "code",
   "execution_count": 43,
   "id": "eafdf41f",
   "metadata": {},
   "outputs": [],
   "source": [
    "def eli5_html(clf, vec, observation):\n",
    "    \"\"\"\n",
    "    helper function for nicely formatting and displaying eli5 output\n",
    "    \"\"\"\n",
    "    # Get info on is driving a given observation's predictions\n",
    "    eli5_results = eli5.show_prediction(estimator=clf, doc=observation, vec=vec, targets=[True], target_names=['bad', 'good'])\n",
    "    # Convert eli5's HTML data to BS object for parsing/formatting\n",
    "    soup = BeautifulSoup(eli5_results.data, 'html.parser')\n",
    "    # Remove a table we don't want\n",
    "    soup.table.decompose()\n",
    "    # Remove the first <p> tag with unwanted text\n",
    "    soup.p.decompose()\n",
    "    # Display the newly formatted HTML!\n",
    "    display(HTML(str(soup)))"
   ]
  },
  {
   "cell_type": "markdown",
   "id": "a026c04a",
   "metadata": {},
   "source": [
    "Now all you need to do is find the specific observations requested.\\\n",
    "You'll need your `y_pred_proba` values for this section to find which elements from `x_test_raw` to select.\n",
    "\n",
    "**Hint:** [np.argsort()](https://numpy.org/doc/stable/reference/generated/numpy.argsort.html), [np.flip()](https://numpy.org/doc/stable/reference/generated/numpy.flip.html?highlight=flip#numpy.flip), and [np.abs()](https://numpy.org/doc/stable/reference/generated/numpy.absolute.html) may be useful here. "
   ]
  },
  {
   "cell_type": "markdown",
   "id": "0fffa9cf",
   "metadata": {},
   "source": [
    "### What are the **5 worst** movie reviews in the test set according to your model? 🍅"
   ]
  },
  {
   "cell_type": "code",
   "execution_count": 45,
   "id": "8d18f27e",
   "metadata": {},
   "outputs": [],
   "source": [
    "# please fill this code block!\n",
    "# Find indices of 5 worst reviews\n",
    "worst5 = x_test_raw[___]"
   ]
  },
  {
   "cell_type": "code",
   "execution_count": 46,
   "id": "1130af96",
   "metadata": {},
   "outputs": [
    {
     "data": {
      "text/html": [
       "<p style=background-color:black;color:white;font-weight:bold;padding:4px>Bad Movie #1 🍅</p>"
      ],
      "text/plain": [
       "<IPython.core.display.HTML object>"
      ]
     },
     "metadata": {},
     "output_type": "display_data"
    },
    {
     "data": {
      "text/html": [
       "\n",
       "<style>\n",
       "    table.eli5-weights tr:hover {\n",
       "        filter: brightness(85%);\n",
       "    }\n",
       "</style>\n",
       "\n",
       "\n",
       "<p style=\"margin-bottom: 2.5em; margin-top:-0.5em;\">\n",
       "<span style=\"opacity: 0.80\">this </span><span style=\"background-color: hsl(0, 100.00%, 99.03%); opacity: 0.80\" title=\"-0.006\">movie</span><span style=\"opacity: 0.80\"> was so </span><span style=\"background-color: hsl(0, 100.00%, 76.73%); opacity: 0.89\" title=\"-0.523\">bad</span><span style=\"opacity: 0.80\">! it was </span><span style=\"background-color: hsl(0, 100.00%, 72.34%); opacity: 0.92\" title=\"-0.669\">terrible</span><span style=\"opacity: 0.80\">! it was </span><span style=\"background-color: hsl(0, 100.00%, 63.60%); opacity: 0.97\" title=\"-0.990\">awful</span><span style=\"opacity: 0.80\">! i cannot </span><span style=\"background-color: hsl(0, 100.00%, 99.34%); opacity: 0.80\" title=\"-0.003\">stress</span><span style=\"opacity: 0.80\"> it enough! the </span><span style=\"background-color: hsl(0, 100.00%, 91.49%); opacity: 0.82\" title=\"-0.124\">acting</span><span style=\"opacity: 0.80\">, </span><span style=\"background-color: hsl(0, 100.00%, 95.21%); opacity: 0.81\" title=\"-0.055\">directing</span><span style=\"opacity: 0.80\">, </span><span style=\"background-color: hsl(120, 100.00%, 96.98%); opacity: 0.81\" title=\"0.028\">story</span><span style=\"opacity: 0.80\">, </span><span style=\"background-color: hsl(0, 100.00%, 95.28%); opacity: 0.81\" title=\"-0.054\">characters</span><span style=\"opacity: 0.80\"> and everything about it was </span><span style=\"background-color: hsl(0, 100.00%, 76.73%); opacity: 0.89\" title=\"-0.523\">bad</span><span style=\"opacity: 0.80\">! it was so </span><span style=\"background-color: hsl(0, 100.00%, 96.76%); opacity: 0.81\" title=\"-0.031\">corny</span><span style=\"opacity: 0.80\"> and </span><span style=\"background-color: hsl(0, 100.00%, 85.39%); opacity: 0.85\" title=\"-0.269\">clichéd</span><span style=\"opacity: 0.80\">. </span><span style=\"background-color: hsl(0, 100.00%, 91.61%); opacity: 0.82\" title=\"-0.122\">don</span><span style=\"opacity: 0.80\">'t be </span><span style=\"background-color: hsl(0, 100.00%, 91.05%); opacity: 0.82\" title=\"-0.133\">fooled</span><span style=\"opacity: 0.80\"> by the </span><span style=\"background-color: hsl(0, 100.00%, 84.22%); opacity: 0.85\" title=\"-0.300\">cover</span><span style=\"opacity: 0.80\">, or the </span><span style=\"background-color: hsl(120, 100.00%, 90.96%); opacity: 0.82\" title=\"0.135\">tag</span><span style=\"opacity: 0.80\"> </span><span style=\"background-color: hsl(0, 100.00%, 92.40%); opacity: 0.82\" title=\"-0.106\">line</span><span style=\"opacity: 0.80\"> \"the '</span><span style=\"background-color: hsl(0, 100.00%, 97.71%); opacity: 0.80\" title=\"-0.019\">texas</span><span style=\"opacity: 0.80\"> </span><span style=\"background-color: hsl(120, 100.00%, 97.99%); opacity: 0.80\" title=\"0.016\">massacre</span><span style=\"opacity: 0.80\">' is nothing to </span><span style=\"background-color: hsl(120, 100.00%, 94.42%); opacity: 0.81\" title=\"0.068\">laugh</span><span style=\"opacity: 0.80\"> at.\" are you frogging' </span><span style=\"background-color: hsl(0, 100.00%, 81.24%); opacity: 0.87\" title=\"-0.384\">kidding</span><span style=\"opacity: 0.80\"> me! it was </span><span style=\"background-color: hsl(0, 100.00%, 75.61%); opacity: 0.90\" title=\"-0.559\">ridiculous</span><span style=\"opacity: 0.80\">. the first 2 </span><span style=\"background-color: hsl(0, 100.00%, 81.31%); opacity: 0.87\" title=\"-0.382\">minutes</span><span style=\"opacity: 0.80\"> of the </span><span style=\"background-color: hsl(120, 100.00%, 96.74%); opacity: 0.81\" title=\"0.032\">film</span><span style=\"opacity: 0.80\"> is </span><span style=\"background-color: hsl(120, 100.00%, 90.39%); opacity: 0.83\" title=\"0.148\">good</span><span style=\"opacity: 0.80\"> until it </span><span style=\"background-color: hsl(120, 100.00%, 95.66%); opacity: 0.81\" title=\"0.047\">gets</span><span style=\"opacity: 0.80\"> to the </span><span style=\"background-color: hsl(0, 100.00%, 93.52%); opacity: 0.81\" title=\"-0.084\">main</span><span style=\"opacity: 0.80\"> </span><span style=\"background-color: hsl(0, 100.00%, 99.05%); opacity: 0.80\" title=\"-0.005\">character</span><span style=\"opacity: 0.80\"> </span><span style=\"background-color: hsl(120, 100.00%, 96.09%); opacity: 0.81\" title=\"0.041\">brendan</span><span style=\"opacity: 0.80\">, </span><span style=\"background-color: hsl(0, 100.00%, 87.57%); opacity: 0.84\" title=\"-0.213\">ok</span><span style=\"opacity: 0.80\"> now </span><span style=\"background-color: hsl(0, 100.00%, 97.57%); opacity: 0.80\" title=\"-0.021\">turn</span><span style=\"opacity: 0.80\"> it off. what i </span><span style=\"background-color: hsl(120, 100.00%, 93.79%); opacity: 0.81\" title=\"0.079\">got</span><span style=\"opacity: 0.80\"> from the </span><span style=\"background-color: hsl(120, 100.00%, 96.74%); opacity: 0.81\" title=\"0.032\">film</span><span style=\"opacity: 0.80\"> was, a </span><span style=\"background-color: hsl(0, 100.00%, 85.51%); opacity: 0.85\" title=\"-0.266\">bunch</span><span style=\"opacity: 0.80\"> of </span><span style=\"background-color: hsl(0, 100.00%, 84.68%); opacity: 0.85\" title=\"-0.288\">ugly</span><span style=\"opacity: 0.80\">, </span><span style=\"background-color: hsl(0, 100.00%, 73.56%); opacity: 0.91\" title=\"-0.627\">annoying</span><span style=\"opacity: 0.80\"> and </span><span style=\"background-color: hsl(0, 100.00%, 91.00%); opacity: 0.82\" title=\"-0.134\">immature</span><span style=\"opacity: 0.80\"> </span><span style=\"background-color: hsl(120, 100.00%, 94.30%); opacity: 0.81\" title=\"0.070\">people</span><span style=\"opacity: 0.80\"> go to a </span><span style=\"background-color: hsl(0, 100.00%, 93.85%); opacity: 0.81\" title=\"-0.078\">cabin</span><span style=\"opacity: 0.80\"> in the </span><span style=\"background-color: hsl(0, 100.00%, 91.47%); opacity: 0.82\" title=\"-0.125\">middle</span><span style=\"opacity: 0.80\"> of the </span><span style=\"background-color: hsl(0, 100.00%, 90.08%); opacity: 0.83\" title=\"-0.155\">woods</span><span style=\"opacity: 0.80\"> and a </span><span style=\"background-color: hsl(0, 100.00%, 89.81%); opacity: 0.83\" title=\"-0.161\">clown</span><span style=\"opacity: 0.80\"> that </span><span style=\"background-color: hsl(120, 100.00%, 91.02%); opacity: 0.82\" title=\"0.134\">sings</span><span style=\"opacity: 0.80\"> </span><span style=\"background-color: hsl(0, 100.00%, 94.73%); opacity: 0.81\" title=\"-0.063\">nursery</span><span style=\"opacity: 0.80\"> </span><span style=\"background-color: hsl(0, 100.00%, 90.93%); opacity: 0.82\" title=\"-0.136\">rhymes</span><span style=\"opacity: 0.80\"> </span><span style=\"background-color: hsl(0, 100.00%, 90.01%); opacity: 0.83\" title=\"-0.156\">kills</span><span style=\"opacity: 0.80\"> them in </span><span style=\"background-color: hsl(0, 100.00%, 86.31%); opacity: 0.84\" title=\"-0.245\">unoriginal</span><span style=\"opacity: 0.80\"> and </span><span style=\"background-color: hsl(0, 100.00%, 91.57%); opacity: 0.82\" title=\"-0.122\">fake</span><span style=\"opacity: 0.80\"> </span><span style=\"background-color: hsl(120, 100.00%, 85.04%); opacity: 0.85\" title=\"0.278\">ways</span><span style=\"opacity: 0.80\">. this </span><span style=\"background-color: hsl(0, 100.00%, 99.03%); opacity: 0.80\" title=\"-0.006\">movie</span><span style=\"opacity: 0.80\"> was a </span><span style=\"background-color: hsl(0, 100.00%, 62.93%); opacity: 0.98\" title=\"-1.017\">waste</span><span style=\"opacity: 0.80\"> of my </span><span style=\"background-color: hsl(120, 100.00%, 93.86%); opacity: 0.81\" title=\"0.078\">time</span><span style=\"opacity: 0.80\"> and </span><span style=\"background-color: hsl(0, 100.00%, 83.70%); opacity: 0.86\" title=\"-0.314\">money</span><span style=\"opacity: 0.80\">, and it would be a </span><span style=\"background-color: hsl(0, 100.00%, 62.93%); opacity: 0.98\" title=\"-1.017\">waste</span><span style=\"opacity: 0.80\"> of your </span><span style=\"background-color: hsl(0, 100.00%, 83.70%); opacity: 0.86\" title=\"-0.314\">money</span><span style=\"opacity: 0.80\"> and </span><span style=\"background-color: hsl(120, 100.00%, 93.86%); opacity: 0.81\" title=\"0.078\">time</span><span style=\"opacity: 0.80\"> too! i </span><span style=\"background-color: hsl(120, 100.00%, 98.41%); opacity: 0.80\" title=\"0.011\">fast</span><span style=\"opacity: 0.80\"> </span><span style=\"background-color: hsl(0, 100.00%, 86.81%); opacity: 0.84\" title=\"-0.232\">forward</span><span style=\"opacity: 0.80\"> through most of the </span><span style=\"background-color: hsl(0, 100.00%, 99.03%); opacity: 0.80\" title=\"-0.006\">movie</span><span style=\"opacity: 0.80\"> because it was so </span><span style=\"background-color: hsl(0, 100.00%, 72.34%); opacity: 0.92\" title=\"-0.669\">terrible</span><span style=\"opacity: 0.80\">, i </span><span style=\"background-color: hsl(0, 100.00%, 90.96%); opacity: 0.82\" title=\"-0.135\">just</span><span style=\"opacity: 0.80\"> </span><span style=\"background-color: hsl(0, 100.00%, 91.54%); opacity: 0.82\" title=\"-0.123\">wanted</span><span style=\"opacity: 0.80\"> to see how each </span><span style=\"background-color: hsl(0, 100.00%, 76.73%); opacity: 0.89\" title=\"-0.523\">bad</span><span style=\"opacity: 0.80\"> </span><span style=\"background-color: hsl(0, 100.00%, 89.49%); opacity: 0.83\" title=\"-0.168\">actor</span><span style=\"opacity: 0.80\"> </span><span style=\"background-color: hsl(120, 100.00%, 94.52%); opacity: 0.81\" title=\"0.066\">died</span><span style=\"opacity: 0.80\">, and it still wasn't </span><span style=\"background-color: hsl(120, 100.00%, 86.89%); opacity: 0.84\" title=\"0.230\">worth</span><span style=\"opacity: 0.80\"> it! </span><span style=\"background-color: hsl(0, 100.00%, 90.96%); opacity: 0.82\" title=\"-0.135\">just</span><span style=\"opacity: 0.80\"> </span><span style=\"background-color: hsl(0, 100.00%, 91.00%); opacity: 0.82\" title=\"-0.135\">looking</span><span style=\"opacity: 0.80\"> at the </span><span style=\"background-color: hsl(0, 100.00%, 84.22%); opacity: 0.85\" title=\"-0.300\">cover</span><span style=\"opacity: 0.80\"> is a </span><span style=\"background-color: hsl(0, 100.00%, 62.93%); opacity: 0.98\" title=\"-1.017\">waste</span><span style=\"opacity: 0.80\"> of </span><span style=\"background-color: hsl(120, 100.00%, 93.86%); opacity: 0.81\" title=\"0.078\">time</span><span style=\"opacity: 0.80\">. this is </span><span style=\"background-color: hsl(0, 100.00%, 92.91%); opacity: 0.82\" title=\"-0.096\">seriously</span><span style=\"opacity: 0.80\"> the </span><span style=\"background-color: hsl(0, 100.00%, 60.00%); opacity: 1.00\" title=\"-1.133\">worst</span><span style=\"opacity: 0.80\"> </span><span style=\"background-color: hsl(0, 100.00%, 99.03%); opacity: 0.80\" title=\"-0.006\">movie</span><span style=\"opacity: 0.80\"> ever! </span><span style=\"background-color: hsl(120, 100.00%, 99.43%); opacity: 0.80\" title=\"0.003\">rating</span><span style=\"opacity: 0.80\">: doesn't </span><span style=\"background-color: hsl(0, 100.00%, 83.97%); opacity: 0.85\" title=\"-0.307\">deserve</span><span style=\"opacity: 0.80\"> one.</span>\n",
       "</p>\n"
      ],
      "text/plain": [
       "<IPython.core.display.HTML object>"
      ]
     },
     "metadata": {},
     "output_type": "display_data"
    },
    {
     "data": {
      "text/html": [
       "<p style=background-color:black;color:white;font-weight:bold;padding:4px>Bad Movie #2 🍅</p>"
      ],
      "text/plain": [
       "<IPython.core.display.HTML object>"
      ]
     },
     "metadata": {},
     "output_type": "display_data"
    },
    {
     "data": {
      "text/html": [
       "\n",
       "<style>\n",
       "    table.eli5-weights tr:hover {\n",
       "        filter: brightness(85%);\n",
       "    }\n",
       "</style>\n",
       "\n",
       "\n",
       "<p style=\"margin-bottom: 2.5em; margin-top:-0.5em;\">\n",
       "<span style=\"opacity: 0.80\">this </span><span style=\"background-color: hsl(0, 100.00%, 99.03%); opacity: 0.80\" title=\"-0.008\">movie</span><span style=\"opacity: 0.80\"> is </span><span style=\"background-color: hsl(0, 100.00%, 74.23%); opacity: 0.91\" title=\"-0.890\">pathetic</span><span style=\"opacity: 0.80\"> in every </span><span style=\"background-color: hsl(120, 100.00%, 97.69%); opacity: 0.80\" title=\"0.028\">way</span><span style=\"opacity: 0.80\"> </span><span style=\"background-color: hsl(0, 100.00%, 96.54%); opacity: 0.81\" title=\"-0.051\">possible</span><span style=\"opacity: 0.80\">. </span><span style=\"background-color: hsl(0, 100.00%, 76.73%); opacity: 0.89\" title=\"-0.769\">bad</span><span style=\"opacity: 0.80\"> </span><span style=\"background-color: hsl(0, 100.00%, 91.49%); opacity: 0.82\" title=\"-0.183\">acting</span><span style=\"opacity: 0.80\">, </span><span style=\"background-color: hsl(0, 100.00%, 72.29%); opacity: 0.92\" title=\"-0.986\">horrible</span><span style=\"opacity: 0.80\"> </span><span style=\"background-color: hsl(0, 100.00%, 82.78%); opacity: 0.86\" title=\"-0.500\">script</span><span style=\"opacity: 0.80\"> (was there one?), </span><span style=\"background-color: hsl(0, 100.00%, 72.34%); opacity: 0.92\" title=\"-0.984\">terrible</span><span style=\"opacity: 0.80\"> </span><span style=\"background-color: hsl(0, 100.00%, 89.53%); opacity: 0.83\" title=\"-0.246\">editing</span><span style=\"opacity: 0.80\">, </span><span style=\"background-color: hsl(0, 100.00%, 74.69%); opacity: 0.90\" title=\"-0.867\">lousy</span><span style=\"opacity: 0.80\"> </span><span style=\"background-color: hsl(0, 100.00%, 91.92%); opacity: 0.82\" title=\"-0.169\">cinematography</span><span style=\"opacity: 0.80\">, </span><span style=\"background-color: hsl(0, 100.00%, 80.73%); opacity: 0.87\" title=\"-0.587\">cheap</span><span style=\"opacity: 0.80\"> </span><span style=\"background-color: hsl(120, 100.00%, 91.99%); opacity: 0.82\" title=\"0.167\">humor</span><span style=\"opacity: 0.80\">. </span><span style=\"background-color: hsl(0, 100.00%, 90.96%); opacity: 0.82\" title=\"-0.199\">just</span><span style=\"opacity: 0.80\"> </span><span style=\"background-color: hsl(0, 100.00%, 91.71%); opacity: 0.82\" title=\"-0.176\">plain</span><span style=\"opacity: 0.80\"> </span><span style=\"background-color: hsl(0, 100.00%, 72.29%); opacity: 0.92\" title=\"-0.986\">horrible</span><span style=\"opacity: 0.80\">. i had </span><span style=\"background-color: hsl(120, 100.00%, 89.99%); opacity: 0.83\" title=\"0.230\">seen</span><span style=\"opacity: 0.80\"> 'the wishmaster' a </span><span style=\"background-color: hsl(0, 100.00%, 88.52%); opacity: 0.83\" title=\"-0.280\">couple</span><span style=\"opacity: 0.80\"> </span><span style=\"background-color: hsl(120, 100.00%, 97.46%); opacity: 0.80\" title=\"0.032\">weeks</span><span style=\"opacity: 0.80\"> before this </span><span style=\"background-color: hsl(0, 100.00%, 99.03%); opacity: 0.80\" title=\"-0.008\">movie</span><span style=\"opacity: 0.80\"> and i </span><span style=\"background-color: hsl(120, 100.00%, 95.68%); opacity: 0.81\" title=\"0.069\">thought</span><span style=\"opacity: 0.80\"> it was a </span><span style=\"background-color: hsl(0, 100.00%, 96.44%); opacity: 0.81\" title=\"-0.053\">dead</span><span style=\"opacity: 0.80\">-</span><span style=\"background-color: hsl(120, 100.00%, 97.55%); opacity: 0.80\" title=\"0.031\">ringer</span><span style=\"opacity: 0.80\"> for </span><span style=\"background-color: hsl(0, 100.00%, 60.00%); opacity: 1.00\" title=\"-1.667\">worst</span><span style=\"opacity: 0.80\"> </span><span style=\"background-color: hsl(0, 100.00%, 99.03%); opacity: 0.80\" title=\"-0.008\">movie</span><span style=\"opacity: 0.80\"> of the </span><span style=\"background-color: hsl(120, 100.00%, 96.83%); opacity: 0.81\" title=\"0.045\">year</span><span style=\"opacity: 0.80\">. then, i </span><span style=\"background-color: hsl(120, 100.00%, 92.41%); opacity: 0.82\" title=\"0.155\">saw</span><span style=\"opacity: 0.80\"> 'the </span><span style=\"background-color: hsl(0, 100.00%, 94.52%); opacity: 0.81\" title=\"-0.097\">pest</span><span style=\"opacity: 0.80\">' and </span><span style=\"background-color: hsl(0, 100.00%, 89.19%); opacity: 0.83\" title=\"-0.257\">suddenly</span><span style=\"opacity: 0.80\"> 'the wishmaster' didn't seem so </span><span style=\"background-color: hsl(0, 100.00%, 76.73%); opacity: 0.89\" title=\"-0.769\">bad</span><span style=\"opacity: 0.80\"> at all. </span><span style=\"background-color: hsl(0, 100.00%, 76.73%); opacity: 0.89\" title=\"-0.769\">bad</span><span style=\"opacity: 0.80\"> </span><span style=\"background-color: hsl(0, 100.00%, 76.73%); opacity: 0.89\" title=\"-0.769\">bad</span><span style=\"opacity: 0.80\"> </span><span style=\"background-color: hsl(0, 100.00%, 76.73%); opacity: 0.89\" title=\"-0.769\">bad</span><span style=\"opacity: 0.80\">. </span><span style=\"background-color: hsl(0, 100.00%, 92.10%); opacity: 0.82\" title=\"-0.164\">excruciatingly</span><span style=\"opacity: 0.80\"> </span><span style=\"background-color: hsl(0, 100.00%, 76.73%); opacity: 0.89\" title=\"-0.769\">bad</span><span style=\"opacity: 0.80\">.</span>\n",
       "</p>\n"
      ],
      "text/plain": [
       "<IPython.core.display.HTML object>"
      ]
     },
     "metadata": {},
     "output_type": "display_data"
    },
    {
     "data": {
      "text/html": [
       "<p style=background-color:black;color:white;font-weight:bold;padding:4px>Bad Movie #3 🍅</p>"
      ],
      "text/plain": [
       "<IPython.core.display.HTML object>"
      ]
     },
     "metadata": {},
     "output_type": "display_data"
    },
    {
     "data": {
      "text/html": [
       "\n",
       "<style>\n",
       "    table.eli5-weights tr:hover {\n",
       "        filter: brightness(85%);\n",
       "    }\n",
       "</style>\n",
       "\n",
       "\n",
       "<p style=\"margin-bottom: 2.5em; margin-top:-0.5em;\">\n",
       "<span style=\"opacity: 0.80\">without a </span><span style=\"background-color: hsl(0, 100.00%, 91.93%); opacity: 0.82\" title=\"-0.133\">doubt</span><span style=\"opacity: 0.80\">, the </span><span style=\"background-color: hsl(0, 100.00%, 89.52%); opacity: 0.83\" title=\"-0.193\">biggest</span><span style=\"opacity: 0.80\"> </span><span style=\"background-color: hsl(0, 100.00%, 62.93%); opacity: 0.98\" title=\"-1.171\">waste</span><span style=\"opacity: 0.80\"> of </span><span style=\"background-color: hsl(120, 100.00%, 96.74%); opacity: 0.81\" title=\"0.036\">film</span><span style=\"opacity: 0.80\"> of the </span><span style=\"background-color: hsl(120, 100.00%, 96.83%); opacity: 0.81\" title=\"0.035\">year</span><span style=\"opacity: 0.80\">. this </span><span style=\"background-color: hsl(0, 100.00%, 99.03%); opacity: 0.80\" title=\"-0.006\">movie</span><span style=\"opacity: 0.80\"> is </span><span style=\"background-color: hsl(0, 100.00%, 69.08%); opacity: 0.94\" title=\"-0.904\">poorly</span><span style=\"opacity: 0.80\"> </span><span style=\"background-color: hsl(120, 100.00%, 96.82%); opacity: 0.81\" title=\"0.035\">structured</span><span style=\"opacity: 0.80\">, </span><span style=\"background-color: hsl(0, 100.00%, 83.85%); opacity: 0.85\" title=\"-0.357\">sadistic</span><span style=\"opacity: 0.80\">, </span><span style=\"background-color: hsl(0, 100.00%, 90.19%); opacity: 0.83\" title=\"-0.175\">cruel</span><span style=\"opacity: 0.80\"> and </span><span style=\"background-color: hsl(120, 100.00%, 91.76%); opacity: 0.82\" title=\"0.137\">filled</span><span style=\"opacity: 0.80\"> with </span><span style=\"background-color: hsl(0, 100.00%, 93.12%); opacity: 0.82\" title=\"-0.106\">unlikable</span><span style=\"opacity: 0.80\"> </span><span style=\"background-color: hsl(0, 100.00%, 95.28%); opacity: 0.81\" title=\"-0.062\">characters</span><span style=\"opacity: 0.80\">. on top of that, and </span><span style=\"background-color: hsl(0, 100.00%, 89.81%); opacity: 0.83\" title=\"-0.185\">maybe</span><span style=\"opacity: 0.80\"> the </span><span style=\"background-color: hsl(0, 100.00%, 60.00%); opacity: 1.00\" title=\"-1.306\">worst</span><span style=\"opacity: 0.80\"> </span><span style=\"background-color: hsl(120, 100.00%, 94.54%); opacity: 0.81\" title=\"0.076\">crime</span><span style=\"opacity: 0.80\">, it's </span><span style=\"background-color: hsl(0, 100.00%, 73.60%); opacity: 0.91\" title=\"-0.721\">uninteresting</span><span style=\"opacity: 0.80\"> and </span><span style=\"background-color: hsl(0, 100.00%, 96.37%); opacity: 0.81\" title=\"-0.042\">vastly</span><span style=\"opacity: 0.80\"> </span><span style=\"background-color: hsl(0, 100.00%, 78.23%); opacity: 0.88\" title=\"-0.547\">predictable</span><span style=\"opacity: 0.80\">. as </span><span style=\"background-color: hsl(120, 100.00%, 89.19%); opacity: 0.83\" title=\"0.201\">soon</span><span style=\"opacity: 0.80\"> as bill </span><span style=\"background-color: hsl(0, 100.00%, 95.89%); opacity: 0.81\" title=\"-0.051\">pullman</span><span style=\"opacity: 0.80\">'s </span><span style=\"background-color: hsl(0, 100.00%, 99.05%); opacity: 0.80\" title=\"-0.006\">character</span><span style=\"opacity: 0.80\"> doodled on the </span><span style=\"background-color: hsl(0, 100.00%, 86.58%); opacity: 0.84\" title=\"-0.274\">photo</span><span style=\"opacity: 0.80\"> </span><span style=\"background-color: hsl(0, 100.00%, 93.24%); opacity: 0.82\" title=\"-0.103\">changing</span><span style=\"opacity: 0.80\"> the </span><span style=\"background-color: hsl(0, 100.00%, 95.29%); opacity: 0.81\" title=\"-0.061\">word</span><span style=\"opacity: 0.80\"> from \"</span><span style=\"background-color: hsl(0, 100.00%, 90.06%); opacity: 0.83\" title=\"-0.179\">evidence</span><span style=\"opacity: 0.80\">\" to \"</span><span style=\"background-color: hsl(0, 100.00%, 96.71%); opacity: 0.81\" title=\"-0.037\">violence</span><span style=\"opacity: 0.80\">,\" i had the </span><span style=\"background-color: hsl(0, 100.00%, 89.38%); opacity: 0.83\" title=\"-0.196\">entire</span><span style=\"opacity: 0.80\"> </span><span style=\"background-color: hsl(0, 100.00%, 89.91%); opacity: 0.83\" title=\"-0.182\">plot</span><span style=\"opacity: 0.80\"> </span><span style=\"background-color: hsl(0, 100.00%, 94.42%); opacity: 0.81\" title=\"-0.078\">figured</span><span style=\"opacity: 0.80\"> out. there are no </span><span style=\"background-color: hsl(120, 100.00%, 90.97%); opacity: 0.82\" title=\"0.156\">surprises</span><span style=\"opacity: 0.80\"> and there is no </span><span style=\"background-color: hsl(120, 100.00%, 91.01%); opacity: 0.82\" title=\"0.155\">compelling</span><span style=\"opacity: 0.80\"> </span><span style=\"background-color: hsl(0, 100.00%, 84.59%); opacity: 0.85\" title=\"-0.334\">reason</span><span style=\"opacity: 0.80\"> to </span><span style=\"background-color: hsl(120, 100.00%, 94.04%); opacity: 0.81\" title=\"0.086\">watch</span><span style=\"opacity: 0.80\"> this </span><span style=\"background-color: hsl(0, 100.00%, 81.87%); opacity: 0.86\" title=\"-0.421\">trash</span><span style=\"opacity: 0.80\">. the only </span><span style=\"background-color: hsl(0, 100.00%, 75.09%); opacity: 0.90\" title=\"-0.664\">redeeming</span><span style=\"opacity: 0.80\"> </span><span style=\"background-color: hsl(0, 100.00%, 92.53%); opacity: 0.82\" title=\"-0.119\">feature</span><span style=\"opacity: 0.80\"> for me is that i </span><span style=\"background-color: hsl(120, 100.00%, 92.41%); opacity: 0.82\" title=\"0.121\">saw</span><span style=\"opacity: 0.80\"> this </span><span style=\"background-color: hsl(0, 100.00%, 90.35%); opacity: 0.83\" title=\"-0.171\">thing</span><span style=\"opacity: 0.80\"> for </span><span style=\"background-color: hsl(0, 100.00%, 91.38%); opacity: 0.82\" title=\"-0.146\">free</span><span style=\"opacity: 0.80\"> on my hdnet </span><span style=\"background-color: hsl(120, 100.00%, 95.96%); opacity: 0.81\" title=\"0.049\">cable</span><span style=\"opacity: 0.80\"> and didn't </span><span style=\"background-color: hsl(0, 100.00%, 62.93%); opacity: 0.98\" title=\"-1.171\">waste</span><span style=\"opacity: 0.80\"> any </span><span style=\"background-color: hsl(0, 100.00%, 83.70%); opacity: 0.86\" title=\"-0.362\">money</span><span style=\"opacity: 0.80\">. i would </span><span style=\"background-color: hsl(120, 100.00%, 88.94%); opacity: 0.83\" title=\"0.208\">truly</span><span style=\"opacity: 0.80\"> be </span><span style=\"background-color: hsl(0, 100.00%, 95.97%); opacity: 0.81\" title=\"-0.049\">angry</span><span style=\"opacity: 0.80\"> if i had </span><span style=\"background-color: hsl(0, 100.00%, 83.03%); opacity: 0.86\" title=\"-0.384\">paid</span><span style=\"opacity: 0.80\"> to see it in a </span><span style=\"background-color: hsl(0, 100.00%, 95.80%); opacity: 0.81\" title=\"-0.052\">theatre</span><span style=\"opacity: 0.80\">. anyone that </span><span style=\"background-color: hsl(120, 100.00%, 97.51%); opacity: 0.80\" title=\"0.025\">labels</span><span style=\"opacity: 0.80\"> this </span><span style=\"background-color: hsl(0, 100.00%, 90.35%); opacity: 0.83\" title=\"-0.171\">thing</span><span style=\"opacity: 0.80\"> a </span><span style=\"background-color: hsl(120, 100.00%, 94.80%); opacity: 0.81\" title=\"0.071\">thriller</span><span style=\"opacity: 0.80\"> </span><span style=\"background-color: hsl(120, 100.00%, 99.73%); opacity: 0.80\" title=\"0.001\">really</span><span style=\"opacity: 0.80\"> </span><span style=\"background-color: hsl(120, 100.00%, 98.04%); opacity: 0.80\" title=\"0.018\">needs</span><span style=\"opacity: 0.80\"> to get out more. an </span><span style=\"background-color: hsl(0, 100.00%, 63.60%); opacity: 0.97\" title=\"-1.141\">awful</span><span style=\"opacity: 0.80\">, </span><span style=\"background-color: hsl(0, 100.00%, 63.60%); opacity: 0.97\" title=\"-1.141\">awful</span><span style=\"opacity: 0.80\"> </span><span style=\"background-color: hsl(120, 100.00%, 96.74%); opacity: 0.81\" title=\"0.036\">film</span><span style=\"opacity: 0.80\"> in every </span><span style=\"background-color: hsl(120, 100.00%, 97.69%); opacity: 0.80\" title=\"0.022\">way</span><span style=\"opacity: 0.80\"> that </span><span style=\"background-color: hsl(0, 100.00%, 97.70%); opacity: 0.80\" title=\"-0.022\">matters</span><span style=\"opacity: 0.80\">.</span>\n",
       "</p>\n"
      ],
      "text/plain": [
       "<IPython.core.display.HTML object>"
      ]
     },
     "metadata": {},
     "output_type": "display_data"
    },
    {
     "data": {
      "text/html": [
       "<p style=background-color:black;color:white;font-weight:bold;padding:4px>Bad Movie #4 🍅</p>"
      ],
      "text/plain": [
       "<IPython.core.display.HTML object>"
      ]
     },
     "metadata": {},
     "output_type": "display_data"
    },
    {
     "data": {
      "text/html": [
       "\n",
       "<style>\n",
       "    table.eli5-weights tr:hover {\n",
       "        filter: brightness(85%);\n",
       "    }\n",
       "</style>\n",
       "\n",
       "\n",
       "<p style=\"margin-bottom: 2.5em; margin-top:-0.5em;\">\n",
       "<span style=\"opacity: 0.80\">this </span><span style=\"background-color: hsl(0, 100.00%, 99.03%); opacity: 0.80\" title=\"-0.007\">movie</span><span style=\"opacity: 0.80\"> was </span><span style=\"background-color: hsl(0, 100.00%, 92.91%); opacity: 0.82\" title=\"-0.127\">seriously</span><span style=\"opacity: 0.80\"> </span><span style=\"background-color: hsl(0, 100.00%, 63.60%); opacity: 0.97\" title=\"-1.313\">awful</span><span style=\"opacity: 0.80\">. the </span><span style=\"background-color: hsl(0, 100.00%, 91.49%); opacity: 0.82\" title=\"-0.165\">acting</span><span style=\"opacity: 0.80\"> was the </span><span style=\"background-color: hsl(0, 100.00%, 60.00%); opacity: 1.00\" title=\"-1.502\">worst</span><span style=\"opacity: 0.80\">! it was </span><span style=\"background-color: hsl(0, 100.00%, 73.23%); opacity: 0.91\" title=\"-0.846\">worse</span><span style=\"opacity: 0.80\"> than a </span><span style=\"background-color: hsl(0, 100.00%, 94.42%); opacity: 0.81\" title=\"-0.090\">student</span><span style=\"opacity: 0.80\"> </span><span style=\"background-color: hsl(120, 100.00%, 96.74%); opacity: 0.81\" title=\"0.042\">film</span><span style=\"opacity: 0.80\">. </span><span style=\"background-color: hsl(0, 100.00%, 98.11%); opacity: 0.80\" title=\"-0.019\">super</span><span style=\"opacity: 0.80\"> </span><span style=\"background-color: hsl(0, 100.00%, 92.43%); opacity: 0.82\" title=\"-0.139\">cheesy</span><span style=\"opacity: 0.80\">, and i </span><span style=\"background-color: hsl(120, 100.00%, 90.06%); opacity: 0.83\" title=\"0.206\">think</span><span style=\"opacity: 0.80\"> the </span><span style=\"background-color: hsl(0, 100.00%, 60.00%); opacity: 1.00\" title=\"-1.502\">worst</span><span style=\"opacity: 0.80\"> </span><span style=\"background-color: hsl(0, 100.00%, 89.49%); opacity: 0.83\" title=\"-0.223\">actor</span><span style=\"opacity: 0.80\"> was the </span><span style=\"background-color: hsl(0, 100.00%, 94.46%); opacity: 0.81\" title=\"-0.089\">old</span><span style=\"opacity: 0.80\"> </span><span style=\"background-color: hsl(0, 100.00%, 94.14%); opacity: 0.81\" title=\"-0.097\">lady</span><span style=\"opacity: 0.80\">. at first i </span><span style=\"background-color: hsl(120, 100.00%, 95.68%); opacity: 0.81\" title=\"0.063\">thought</span><span style=\"opacity: 0.80\"> to myself, well it's an </span><span style=\"background-color: hsl(0, 100.00%, 94.46%); opacity: 0.81\" title=\"-0.089\">old</span><span style=\"opacity: 0.80\"> </span><span style=\"background-color: hsl(0, 100.00%, 99.03%); opacity: 0.80\" title=\"-0.007\">movie</span><span style=\"opacity: 0.80\">. then i </span><span style=\"background-color: hsl(120, 100.00%, 89.22%); opacity: 0.83\" title=\"0.231\">remembered</span><span style=\"opacity: 0.80\"> that that is no </span><span style=\"background-color: hsl(0, 100.00%, 83.03%); opacity: 0.86\" title=\"-0.441\">excuse</span><span style=\"opacity: 0.80\">! i'</span><span style=\"background-color: hsl(120, 100.00%, 93.77%); opacity: 0.81\" title=\"0.106\">ve</span><span style=\"opacity: 0.80\"> </span><span style=\"background-color: hsl(120, 100.00%, 89.99%); opacity: 0.83\" title=\"0.208\">seen</span><span style=\"opacity: 0.80\"> </span><span style=\"background-color: hsl(120, 100.00%, 98.22%); opacity: 0.80\" title=\"0.018\">older</span><span style=\"opacity: 0.80\"> </span><span style=\"background-color: hsl(120, 100.00%, 98.03%); opacity: 0.80\" title=\"0.020\">movies</span><span style=\"opacity: 0.80\"> with </span><span style=\"background-color: hsl(120, 100.00%, 97.69%); opacity: 0.80\" title=\"0.026\">way</span><span style=\"opacity: 0.80\"> </span><span style=\"background-color: hsl(0, 100.00%, 90.38%); opacity: 0.83\" title=\"-0.196\">better</span><span style=\"opacity: 0.80\"> </span><span style=\"background-color: hsl(0, 100.00%, 91.49%); opacity: 0.82\" title=\"-0.165\">acting</span><span style=\"opacity: 0.80\"> and such. the </span><span style=\"background-color: hsl(120, 100.00%, 94.18%); opacity: 0.81\" title=\"0.096\">music</span><span style=\"opacity: 0.80\"> was </span><span style=\"background-color: hsl(0, 100.00%, 72.34%); opacity: 0.92\" title=\"-0.887\">terrible</span><span style=\"opacity: 0.80\"> to. it was </span><span style=\"background-color: hsl(120, 100.00%, 99.73%); opacity: 0.80\" title=\"0.001\">really</span><span style=\"opacity: 0.80\"> </span><span style=\"background-color: hsl(0, 100.00%, 85.57%); opacity: 0.85\" title=\"-0.350\">choppy</span><span style=\"opacity: 0.80\">. the </span><span style=\"background-color: hsl(0, 100.00%, 89.53%); opacity: 0.83\" title=\"-0.221\">editing</span><span style=\"opacity: 0.80\"> was </span><span style=\"background-color: hsl(0, 100.00%, 73.28%); opacity: 0.91\" title=\"-0.844\">poor</span><span style=\"opacity: 0.80\"> (most of the </span><span style=\"background-color: hsl(0, 100.00%, 94.48%); opacity: 0.81\" title=\"-0.089\">dialog</span><span style=\"opacity: 0.80\"> was out of </span><span style=\"background-color: hsl(0, 100.00%, 93.95%); opacity: 0.81\" title=\"-0.101\">sync</span><span style=\"opacity: 0.80\">.) </span><span style=\"background-color: hsl(120, 100.00%, 90.75%); opacity: 0.82\" title=\"0.185\">overall</span><span style=\"opacity: 0.80\">, this </span><span style=\"background-color: hsl(0, 100.00%, 99.03%); opacity: 0.80\" title=\"-0.007\">movie</span><span style=\"opacity: 0.80\"> doesn't even </span><span style=\"background-color: hsl(0, 100.00%, 83.97%); opacity: 0.85\" title=\"-0.407\">deserve</span><span style=\"opacity: 0.80\"> a 1. i only </span><span style=\"background-color: hsl(0, 100.00%, 96.40%); opacity: 0.81\" title=\"-0.048\">watched</span><span style=\"opacity: 0.80\"> it because i was so </span><span style=\"background-color: hsl(0, 100.00%, 79.84%); opacity: 0.88\" title=\"-0.565\">bored</span><span style=\"opacity: 0.80\">, and the </span><span style=\"background-color: hsl(0, 100.00%, 99.03%); opacity: 0.80\" title=\"-0.007\">movie</span><span style=\"opacity: 0.80\"> </span><span style=\"background-color: hsl(0, 100.00%, 88.06%); opacity: 0.84\" title=\"-0.267\">hardly</span><span style=\"opacity: 0.80\"> </span><span style=\"background-color: hsl(120, 100.00%, 96.73%); opacity: 0.81\" title=\"0.042\">entertained</span><span style=\"opacity: 0.80\"> me. it was </span><span style=\"background-color: hsl(0, 100.00%, 90.96%); opacity: 0.82\" title=\"-0.180\">just</span><span style=\"opacity: 0.80\"> </span><span style=\"background-color: hsl(0, 100.00%, 73.85%); opacity: 0.91\" title=\"-0.818\">laughable</span><span style=\"opacity: 0.80\">. my </span><span style=\"background-color: hsl(0, 100.00%, 96.44%); opacity: 0.81\" title=\"-0.048\">dead</span><span style=\"opacity: 0.80\"> </span><span style=\"background-color: hsl(0, 100.00%, 97.80%); opacity: 0.80\" title=\"-0.024\">grandmother</span><span style=\"opacity: 0.80\">'s </span><span style=\"background-color: hsl(0, 100.00%, 87.36%); opacity: 0.84\" title=\"-0.290\">left</span><span style=\"opacity: 0.80\"> pinkie </span><span style=\"background-color: hsl(0, 100.00%, 95.86%); opacity: 0.81\" title=\"-0.059\">toe</span><span style=\"opacity: 0.80\"> could </span><span style=\"background-color: hsl(0, 100.00%, 89.67%); opacity: 0.83\" title=\"-0.217\">make</span><span style=\"opacity: 0.80\"> a </span><span style=\"background-color: hsl(0, 100.00%, 90.38%); opacity: 0.83\" title=\"-0.196\">better</span><span style=\"opacity: 0.80\"> </span><span style=\"background-color: hsl(0, 100.00%, 99.03%); opacity: 0.80\" title=\"-0.007\">movie</span><span style=\"opacity: 0.80\"> than this.</span>\n",
       "</p>\n"
      ],
      "text/plain": [
       "<IPython.core.display.HTML object>"
      ]
     },
     "metadata": {},
     "output_type": "display_data"
    },
    {
     "data": {
      "text/html": [
       "<p style=background-color:black;color:white;font-weight:bold;padding:4px>Bad Movie #5 🍅</p>"
      ],
      "text/plain": [
       "<IPython.core.display.HTML object>"
      ]
     },
     "metadata": {},
     "output_type": "display_data"
    },
    {
     "data": {
      "text/html": [
       "\n",
       "<style>\n",
       "    table.eli5-weights tr:hover {\n",
       "        filter: brightness(85%);\n",
       "    }\n",
       "</style>\n",
       "\n",
       "\n",
       "<p style=\"margin-bottom: 2.5em; margin-top:-0.5em;\">\n",
       "<span style=\"opacity: 0.80\">\"loonatics </span><span style=\"background-color: hsl(0, 100.00%, 93.44%); opacity: 0.82\" title=\"-0.101\">unleashed</span><span style=\"opacity: 0.80\"> \" is the </span><span style=\"background-color: hsl(0, 100.00%, 60.00%); opacity: 1.00\" title=\"-1.343\">worst</span><span style=\"opacity: 0.80\"> </span><span style=\"background-color: hsl(0, 100.00%, 90.35%); opacity: 0.83\" title=\"-0.176\">thing</span><span style=\"opacity: 0.80\"> that could </span><span style=\"background-color: hsl(120, 100.00%, 92.18%); opacity: 0.82\" title=\"0.131\">happen</span><span style=\"opacity: 0.80\"> to the </span><span style=\"background-color: hsl(120, 100.00%, 82.39%); opacity: 0.86\" title=\"0.416\">classic</span><span style=\"opacity: 0.80\"> </span><span style=\"background-color: hsl(0, 100.00%, 95.28%); opacity: 0.81\" title=\"-0.063\">characters</span><span style=\"opacity: 0.80\"> </span><span style=\"background-color: hsl(120, 100.00%, 92.42%); opacity: 0.82\" title=\"0.125\">created</span><span style=\"opacity: 0.80\"> by </span><span style=\"background-color: hsl(0, 100.00%, 84.64%); opacity: 0.85\" title=\"-0.342\">chuck</span><span style=\"opacity: 0.80\"> </span><span style=\"background-color: hsl(0, 100.00%, 89.14%); opacity: 0.83\" title=\"-0.209\">jones</span><span style=\"opacity: 0.80\"> . the \"</span><span style=\"background-color: hsl(0, 100.00%, 93.32%); opacity: 0.82\" title=\"-0.104\">loony</span><span style=\"opacity: 0.80\"> </span><span style=\"background-color: hsl(120, 100.00%, 95.34%); opacity: 0.81\" title=\"0.062\">tunes</span><span style=\"opacity: 0.80\">\" have many </span><span style=\"background-color: hsl(120, 100.00%, 96.48%); opacity: 0.81\" title=\"0.042\">spin</span><span style=\"opacity: 0.80\"> -</span><span style=\"background-color: hsl(0, 100.00%, 92.89%); opacity: 0.82\" title=\"-0.114\">offs</span><span style=\"opacity: 0.80\"> and </span><span style=\"background-color: hsl(120, 100.00%, 86.01%); opacity: 0.84\" title=\"0.299\">different</span><span style=\"opacity: 0.80\"> </span><span style=\"background-color: hsl(120, 100.00%, 88.50%); opacity: 0.83\" title=\"0.226\">versions</span><span style=\"opacity: 0.80\"> , some were </span><span style=\"background-color: hsl(120, 100.00%, 90.39%); opacity: 0.83\" title=\"0.175\">good</span><span style=\"opacity: 0.80\"> ,others not very much .but \"loonatics \" it's the </span><span style=\"background-color: hsl(0, 100.00%, 60.00%); opacity: 1.00\" title=\"-1.343\">worst</span><span style=\"opacity: 0.80\"> .the </span><span style=\"background-color: hsl(0, 100.00%, 86.71%); opacity: 0.84\" title=\"-0.278\">concept</span><span style=\"opacity: 0.80\"> is </span><span style=\"background-color: hsl(0, 100.00%, 77.72%); opacity: 0.89\" title=\"-0.582\">stupid</span><span style=\"opacity: 0.80\"> and </span><span style=\"background-color: hsl(0, 100.00%, 86.50%); opacity: 0.84\" title=\"-0.285\">derivative</span><span style=\"opacity: 0.80\"> of </span><span style=\"background-color: hsl(120, 100.00%, 86.29%); opacity: 0.84\" title=\"0.291\">shows</span><span style=\"opacity: 0.80\"> as \"the </span><span style=\"background-color: hsl(120, 100.00%, 93.38%); opacity: 0.82\" title=\"0.103\">power</span><span style=\"opacity: 0.80\"> </span><span style=\"background-color: hsl(0, 100.00%, 83.53%); opacity: 0.86\" title=\"-0.378\">rangers</span><span style=\"opacity: 0.80\"> \" and \"</span><span style=\"background-color: hsl(120, 100.00%, 98.43%); opacity: 0.80\" title=\"0.013\">teen</span><span style=\"opacity: 0.80\"> </span><span style=\"background-color: hsl(0, 100.00%, 95.59%); opacity: 0.81\" title=\"-0.058\">titans</span><span style=\"opacity: 0.80\"> \" . there wasn't any </span><span style=\"background-color: hsl(0, 100.00%, 96.86%); opacity: 0.81\" title=\"-0.035\">similarity</span><span style=\"opacity: 0.80\"> with the </span><span style=\"background-color: hsl(0, 100.00%, 87.04%); opacity: 0.84\" title=\"-0.268\">original</span><span style=\"opacity: 0.80\"> </span><span style=\"background-color: hsl(0, 100.00%, 95.28%); opacity: 0.81\" title=\"-0.063\">characters</span><span style=\"opacity: 0.80\"> and the </span><span style=\"background-color: hsl(0, 100.00%, 94.93%); opacity: 0.81\" title=\"-0.070\">stories</span><span style=\"opacity: 0.80\"> are </span><span style=\"background-color: hsl(0, 100.00%, 70.32%); opacity: 0.93\" title=\"-0.877\">boring</span><span style=\"opacity: 0.80\"> and </span><span style=\"background-color: hsl(0, 100.00%, 69.08%); opacity: 0.94\" title=\"-0.930\">poorly</span><span style=\"opacity: 0.80\"> made . the </span><span style=\"background-color: hsl(120, 100.00%, 95.59%); opacity: 0.81\" title=\"0.058\">new</span><span style=\"opacity: 0.80\"> </span><span style=\"background-color: hsl(120, 100.00%, 96.43%); opacity: 0.81\" title=\"0.043\">designs</span><span style=\"opacity: 0.80\"> are </span><span style=\"background-color: hsl(0, 100.00%, 84.68%); opacity: 0.85\" title=\"-0.341\">ugly</span><span style=\"opacity: 0.80\"> and the </span><span style=\"background-color: hsl(120, 100.00%, 92.55%); opacity: 0.82\" title=\"0.122\">animation</span><span style=\"opacity: 0.80\"> is </span><span style=\"background-color: hsl(0, 100.00%, 74.23%); opacity: 0.91\" title=\"-0.717\">pathetic</span><span style=\"opacity: 0.80\"> . this show </span><span style=\"background-color: hsl(0, 100.00%, 90.96%); opacity: 0.82\" title=\"-0.161\">just</span><span style=\"opacity: 0.80\"> doesn't </span><span style=\"background-color: hsl(0, 100.00%, 98.52%); opacity: 0.80\" title=\"-0.012\">work</span><span style=\"opacity: 0.80\"> .this </span><span style=\"background-color: hsl(0, 100.00%, 72.29%); opacity: 0.92\" title=\"-0.795\">horrible</span><span style=\"opacity: 0.80\"> </span><span style=\"background-color: hsl(0, 100.00%, 62.93%); opacity: 0.98\" title=\"-1.205\">waste</span><span style=\"opacity: 0.80\"> of </span><span style=\"background-color: hsl(120, 100.00%, 92.55%); opacity: 0.82\" title=\"0.122\">animation</span><span style=\"opacity: 0.80\"> is a </span><span style=\"background-color: hsl(0, 100.00%, 89.53%); opacity: 0.83\" title=\"-0.198\">complete</span><span style=\"opacity: 0.80\"> </span><span style=\"background-color: hsl(0, 100.00%, 83.27%); opacity: 0.86\" title=\"-0.386\">failure</span><span style=\"opacity: 0.80\"> and this shouldn't have be nothing more than a </span><span style=\"background-color: hsl(0, 100.00%, 76.73%); opacity: 0.89\" title=\"-0.619\">bad</span><span style=\"opacity: 0.80\"> </span><span style=\"background-color: hsl(0, 100.00%, 81.73%); opacity: 0.87\" title=\"-0.438\">joke</span><span style=\"opacity: 0.80\"> . </span><span style=\"background-color: hsl(0, 100.00%, 71.43%); opacity: 0.92\" title=\"-0.830\">lame</span><span style=\"opacity: 0.80\"> ! </span><span style=\"background-color: hsl(0, 100.00%, 85.33%); opacity: 0.85\" title=\"-0.321\">zero</span><span style=\"opacity: 0.80\"> </span><span style=\"background-color: hsl(0, 100.00%, 95.83%); opacity: 0.81\" title=\"-0.053\">stars</span>\n",
       "</p>\n"
      ],
      "text/plain": [
       "<IPython.core.display.HTML object>"
      ]
     },
     "metadata": {},
     "output_type": "display_data"
    }
   ],
   "source": [
    "for i, review in enumerate(worst5):\n",
    "    style = 'background-color:black;color:white;font-weight:bold;padding:4px'\n",
    "    display(HTML(f\"<p style={style}>Bad Movie #{i+1} 🍅</p>\"))\n",
    "    eli5_html(clf, vec, review)"
   ]
  },
  {
   "cell_type": "markdown",
   "id": "a9b746bf",
   "metadata": {},
   "source": [
    "### What are the **5 best** movie review in the test set according to your model? 🏆"
   ]
  },
  {
   "cell_type": "code",
   "execution_count": 47,
   "id": "5931802f",
   "metadata": {},
   "outputs": [],
   "source": [
    "# please fill this code block!\n",
    "# Find indices of 5 best reviews\n",
    "best5 = x_test_raw[___]"
   ]
  },
  {
   "cell_type": "code",
   "execution_count": 48,
   "id": "1250cc2a",
   "metadata": {},
   "outputs": [
    {
     "data": {
      "text/html": [
       "<p style=background-color:black;color:white;font-weight:bold;padding:4px>Good Movie #1 🏆</p>"
      ],
      "text/plain": [
       "<IPython.core.display.HTML object>"
      ]
     },
     "metadata": {},
     "output_type": "display_data"
    },
    {
     "data": {
      "text/html": [
       "\n",
       "<style>\n",
       "    table.eli5-weights tr:hover {\n",
       "        filter: brightness(85%);\n",
       "    }\n",
       "</style>\n",
       "\n",
       "\n",
       "<p style=\"margin-bottom: 2.5em; margin-top:-0.5em;\">\n",
       "<span style=\"background-color: hsl(120, 100.00%, 91.25%); opacity: 0.82\" title=\"0.068\">hot</span><span style=\"opacity: 0.80\"> </span><span style=\"background-color: hsl(0, 100.00%, 85.19%); opacity: 0.85\" title=\"-0.145\">millions</span><span style=\"opacity: 0.80\"> is a </span><span style=\"background-color: hsl(120, 100.00%, 65.02%); opacity: 0.97\" title=\"0.494\">great</span><span style=\"opacity: 0.80\"> </span><span style=\"background-color: hsl(0, 100.00%, 98.53%); opacity: 0.80\" title=\"-0.005\">movie</span><span style=\"opacity: 0.80\"> in every </span><span style=\"background-color: hsl(120, 100.00%, 96.51%); opacity: 0.81\" title=\"0.018\">way</span><span style=\"opacity: 0.80\">. a </span><span style=\"background-color: hsl(120, 100.00%, 69.76%); opacity: 0.93\" title=\"0.401\">fun</span><span style=\"opacity: 0.80\">, </span><span style=\"background-color: hsl(120, 100.00%, 85.46%); opacity: 0.85\" title=\"0.141\">offbeat</span><span style=\"opacity: 0.80\"> </span><span style=\"background-color: hsl(120, 100.00%, 95.43%); opacity: 0.81\" title=\"0.027\">story</span><span style=\"opacity: 0.80\"> with </span><span style=\"background-color: hsl(120, 100.00%, 60.00%); opacity: 1.00\" title=\"0.598\">wonderful</span><span style=\"opacity: 0.80\"> </span><span style=\"background-color: hsl(120, 100.00%, 78.01%); opacity: 0.89\" title=\"0.254\">performances</span><span style=\"opacity: 0.80\"> by four of the </span><span style=\"background-color: hsl(120, 100.00%, 69.86%); opacity: 0.93\" title=\"0.399\">best</span><span style=\"opacity: 0.80\"> </span><span style=\"background-color: hsl(0, 100.00%, 81.76%); opacity: 0.87\" title=\"-0.195\">professionals</span><span style=\"opacity: 0.80\"> ever to </span><span style=\"background-color: hsl(0, 100.00%, 97.76%); opacity: 0.80\" title=\"-0.010\">work</span><span style=\"opacity: 0.80\"> in the </span><span style=\"background-color: hsl(120, 100.00%, 90.60%); opacity: 0.83\" title=\"0.076\">business</span><span style=\"opacity: 0.80\">. </span><span style=\"background-color: hsl(120, 100.00%, 88.22%); opacity: 0.83\" title=\"0.104\">peter</span><span style=\"opacity: 0.80\"> </span><span style=\"background-color: hsl(120, 100.00%, 84.19%); opacity: 0.85\" title=\"0.159\">ustinov</span><span style=\"opacity: 0.80\"> is </span><span style=\"background-color: hsl(120, 100.00%, 64.24%); opacity: 0.97\" title=\"0.510\">brilliant</span><span style=\"opacity: 0.80\">, as </span><span style=\"background-color: hsl(120, 100.00%, 96.94%); opacity: 0.81\" title=\"0.015\">usual</span><span style=\"opacity: 0.80\">, and </span><span style=\"background-color: hsl(120, 100.00%, 86.39%); opacity: 0.84\" title=\"0.128\">maggie</span><span style=\"opacity: 0.80\"> </span><span style=\"background-color: hsl(120, 100.00%, 90.40%); opacity: 0.83\" title=\"0.078\">smith</span><span style=\"opacity: 0.80\">---</span><span style=\"background-color: hsl(120, 100.00%, 70.83%); opacity: 0.93\" title=\"0.381\">definitely</span><span style=\"opacity: 0.80\"> one of the </span><span style=\"background-color: hsl(120, 100.00%, 71.23%); opacity: 0.92\" title=\"0.374\">greatest</span><span style=\"opacity: 0.80\"> </span><span style=\"background-color: hsl(120, 100.00%, 95.46%); opacity: 0.81\" title=\"0.027\">actresses</span><span style=\"opacity: 0.80\"> of all </span><span style=\"background-color: hsl(120, 100.00%, 90.72%); opacity: 0.82\" title=\"0.074\">time</span><span style=\"opacity: 0.80\">--- is a </span><span style=\"background-color: hsl(0, 100.00%, 79.37%); opacity: 0.88\" title=\"-0.232\">total</span><span style=\"opacity: 0.80\"> </span><span style=\"background-color: hsl(120, 100.00%, 74.04%); opacity: 0.91\" title=\"0.323\">delight</span><span style=\"opacity: 0.80\">. </span><span style=\"background-color: hsl(120, 100.00%, 89.70%); opacity: 0.83\" title=\"0.086\">karl</span><span style=\"opacity: 0.80\"> </span><span style=\"background-color: hsl(120, 100.00%, 90.33%); opacity: 0.83\" title=\"0.079\">malden</span><span style=\"opacity: 0.80\"> and </span><span style=\"background-color: hsl(0, 100.00%, 91.60%); opacity: 0.82\" title=\"-0.064\">bob</span><span style=\"opacity: 0.80\"> </span><span style=\"background-color: hsl(0, 100.00%, 92.94%); opacity: 0.82\" title=\"-0.050\">newhart</span><span style=\"opacity: 0.80\"> </span><span style=\"background-color: hsl(120, 100.00%, 97.47%); opacity: 0.80\" title=\"0.012\">round</span><span style=\"opacity: 0.80\"> out the </span><span style=\"background-color: hsl(0, 100.00%, 94.29%); opacity: 0.81\" title=\"-0.037\">cast</span><span style=\"opacity: 0.80\"> and are also </span><span style=\"background-color: hsl(120, 100.00%, 62.81%); opacity: 0.98\" title=\"0.539\">perfect</span><span style=\"opacity: 0.80\">. if you </span><span style=\"background-color: hsl(0, 100.00%, 94.18%); opacity: 0.81\" title=\"-0.038\">want</span><span style=\"opacity: 0.80\"> a </span><span style=\"background-color: hsl(0, 100.00%, 98.53%); opacity: 0.80\" title=\"-0.005\">movie</span><span style=\"opacity: 0.80\"> that has </span><span style=\"background-color: hsl(120, 100.00%, 62.81%); opacity: 0.98\" title=\"0.539\">perfect</span><span style=\"opacity: 0.80\"> </span><span style=\"background-color: hsl(0, 100.00%, 85.80%); opacity: 0.85\" title=\"-0.136\">casting</span><span style=\"opacity: 0.80\">, this is it. what is so </span><span style=\"background-color: hsl(120, 100.00%, 84.70%); opacity: 0.85\" title=\"0.152\">impressive</span><span style=\"opacity: 0.80\"> is the </span><span style=\"background-color: hsl(120, 100.00%, 96.51%); opacity: 0.81\" title=\"0.018\">way</span><span style=\"opacity: 0.80\"> these </span><span style=\"background-color: hsl(120, 100.00%, 91.38%); opacity: 0.82\" title=\"0.067\">people</span><span style=\"opacity: 0.80\"> </span><span style=\"background-color: hsl(0, 100.00%, 97.76%); opacity: 0.80\" title=\"-0.010\">work</span><span style=\"opacity: 0.80\"> off each other in such a </span><span style=\"background-color: hsl(120, 100.00%, 83.56%); opacity: 0.86\" title=\"0.168\">natural</span><span style=\"opacity: 0.80\"> and </span><span style=\"background-color: hsl(120, 100.00%, 93.94%); opacity: 0.81\" title=\"0.040\">effortless</span><span style=\"opacity: 0.80\"> </span><span style=\"background-color: hsl(120, 100.00%, 96.51%); opacity: 0.81\" title=\"0.018\">way</span><span style=\"opacity: 0.80\">, </span><span style=\"background-color: hsl(0, 100.00%, 97.23%); opacity: 0.80\" title=\"-0.013\">creating</span><span style=\"opacity: 0.80\"> </span><span style=\"background-color: hsl(120, 100.00%, 86.99%); opacity: 0.84\" title=\"0.120\">lots</span><span style=\"opacity: 0.80\"> of </span><span style=\"background-color: hsl(120, 100.00%, 95.42%); opacity: 0.81\" title=\"0.027\">laughs</span><span style=\"opacity: 0.80\"> and </span><span style=\"background-color: hsl(120, 100.00%, 69.76%); opacity: 0.93\" title=\"0.401\">fun</span><span style=\"opacity: 0.80\"> </span><span style=\"background-color: hsl(120, 100.00%, 96.06%); opacity: 0.81\" title=\"0.022\">moments</span><span style=\"opacity: 0.80\"> throughout. </span><span style=\"background-color: hsl(120, 100.00%, 88.22%); opacity: 0.83\" title=\"0.104\">peter</span><span style=\"opacity: 0.80\"> </span><span style=\"background-color: hsl(120, 100.00%, 84.19%); opacity: 0.85\" title=\"0.159\">ustinov</span><span style=\"opacity: 0.80\"> was a </span><span style=\"background-color: hsl(120, 100.00%, 76.89%); opacity: 0.89\" title=\"0.273\">genius</span><span style=\"opacity: 0.80\"> with a </span><span style=\"background-color: hsl(120, 100.00%, 60.00%); opacity: 1.00\" title=\"0.598\">wonderful</span><span style=\"opacity: 0.80\"> </span><span style=\"background-color: hsl(0, 100.00%, 90.10%); opacity: 0.83\" title=\"-0.081\">sense</span><span style=\"opacity: 0.80\"> of </span><span style=\"background-color: hsl(120, 100.00%, 87.90%); opacity: 0.84\" title=\"0.108\">humor</span><span style=\"opacity: 0.80\"> and this is one of his most </span><span style=\"background-color: hsl(120, 100.00%, 78.46%); opacity: 0.88\" title=\"0.247\">memorable</span><span style=\"opacity: 0.80\"> </span><span style=\"background-color: hsl(120, 100.00%, 78.01%); opacity: 0.89\" title=\"0.254\">performances</span><span style=\"opacity: 0.80\">. the </span><span style=\"background-color: hsl(0, 100.00%, 84.44%); opacity: 0.85\" title=\"-0.155\">direction</span><span style=\"opacity: 0.80\">, </span><span style=\"background-color: hsl(120, 100.00%, 89.39%); opacity: 0.83\" title=\"0.090\">photography</span><span style=\"opacity: 0.80\">, and </span><span style=\"background-color: hsl(0, 100.00%, 84.18%); opacity: 0.85\" title=\"-0.159\">editing</span><span style=\"opacity: 0.80\"> are also first-</span><span style=\"background-color: hsl(120, 100.00%, 92.35%); opacity: 0.82\" title=\"0.056\">rate</span><span style=\"opacity: 0.80\">, and it's a </span><span style=\"background-color: hsl(120, 100.00%, 65.02%); opacity: 0.97\" title=\"0.494\">great</span><span style=\"opacity: 0.80\"> </span><span style=\"background-color: hsl(120, 100.00%, 90.72%); opacity: 0.82\" title=\"0.074\">time</span><span style=\"opacity: 0.80\"> </span><span style=\"background-color: hsl(120, 100.00%, 98.77%); opacity: 0.80\" title=\"0.004\">capsule</span><span style=\"opacity: 0.80\"> of </span><span style=\"background-color: hsl(0, 100.00%, 92.37%); opacity: 0.82\" title=\"-0.056\">london</span><span style=\"opacity: 0.80\"> in the '</span><span style=\"background-color: hsl(120, 100.00%, 91.17%); opacity: 0.82\" title=\"0.069\">60s</span><span style=\"opacity: 0.80\">. it's </span><span style=\"background-color: hsl(120, 100.00%, 70.83%); opacity: 0.93\" title=\"0.381\">definitely</span><span style=\"opacity: 0.80\"> on my all-</span><span style=\"background-color: hsl(120, 100.00%, 90.72%); opacity: 0.82\" title=\"0.074\">time</span><span style=\"opacity: 0.80\"> </span><span style=\"background-color: hsl(120, 100.00%, 71.71%); opacity: 0.92\" title=\"0.365\">favorites</span><span style=\"opacity: 0.80\"> </span><span style=\"background-color: hsl(120, 100.00%, 96.25%); opacity: 0.81\" title=\"0.020\">list</span><span style=\"opacity: 0.80\">.</span>\n",
       "</p>\n"
      ],
      "text/plain": [
       "<IPython.core.display.HTML object>"
      ]
     },
     "metadata": {},
     "output_type": "display_data"
    },
    {
     "data": {
      "text/html": [
       "<p style=background-color:black;color:white;font-weight:bold;padding:4px>Good Movie #2 🏆</p>"
      ],
      "text/plain": [
       "<IPython.core.display.HTML object>"
      ]
     },
     "metadata": {},
     "output_type": "display_data"
    },
    {
     "data": {
      "text/html": [
       "\n",
       "<style>\n",
       "    table.eli5-weights tr:hover {\n",
       "        filter: brightness(85%);\n",
       "    }\n",
       "</style>\n",
       "\n",
       "\n",
       "<p style=\"margin-bottom: 2.5em; margin-top:-0.5em;\">\n",
       "<span style=\"background-color: hsl(120, 100.00%, 84.54%); opacity: 0.85\" title=\"0.190\">lovely</span><span style=\"opacity: 0.80\">. i </span><span style=\"background-color: hsl(0, 100.00%, 88.37%); opacity: 0.83\" title=\"-0.127\">just</span><span style=\"opacity: 0.80\"> </span><span style=\"background-color: hsl(120, 100.00%, 80.91%); opacity: 0.87\" title=\"0.257\">love</span><span style=\"opacity: 0.80\"> the </span><span style=\"background-color: hsl(0, 100.00%, 98.75%); opacity: 0.80\" title=\"-0.005\">movie</span><span style=\"opacity: 0.80\">. i </span><span style=\"background-color: hsl(0, 100.00%, 95.05%); opacity: 0.81\" title=\"-0.037\">want</span><span style=\"opacity: 0.80\"> to see this </span><span style=\"background-color: hsl(0, 100.00%, 98.75%); opacity: 0.80\" title=\"-0.005\">movie</span><span style=\"opacity: 0.80\"> because </span><span style=\"background-color: hsl(120, 100.00%, 79.84%); opacity: 0.88\" title=\"0.278\">rupert</span><span style=\"opacity: 0.80\"> </span><span style=\"background-color: hsl(120, 100.00%, 90.52%); opacity: 0.83\" title=\"0.095\">grint</span><span style=\"opacity: 0.80\"> is a </span><span style=\"background-color: hsl(120, 100.00%, 72.07%); opacity: 0.92\" title=\"0.443\">fantastic</span><span style=\"opacity: 0.80\"> </span><span style=\"background-color: hsl(0, 100.00%, 86.49%); opacity: 0.84\" title=\"-0.157\">actor</span><span style=\"opacity: 0.80\">. his </span><span style=\"background-color: hsl(120, 100.00%, 90.12%); opacity: 0.83\" title=\"0.100\">expressions</span><span style=\"opacity: 0.80\"> are </span><span style=\"background-color: hsl(120, 100.00%, 70.24%); opacity: 0.93\" title=\"0.485\">great</span><span style=\"opacity: 0.80\">, </span><span style=\"background-color: hsl(120, 100.00%, 84.79%); opacity: 0.85\" title=\"0.186\">spectacular</span><span style=\"opacity: 0.80\">. the </span><span style=\"background-color: hsl(0, 100.00%, 98.75%); opacity: 0.80\" title=\"-0.005\">movie</span><span style=\"opacity: 0.80\"> was </span><span style=\"background-color: hsl(120, 100.00%, 60.00%); opacity: 1.00\" title=\"0.740\">excellent</span><span style=\"opacity: 0.80\">. </span><span style=\"background-color: hsl(120, 100.00%, 88.24%); opacity: 0.83\" title=\"0.129\">julie</span><span style=\"opacity: 0.80\"> </span><span style=\"background-color: hsl(120, 100.00%, 84.54%); opacity: 0.85\" title=\"0.190\">walters</span><span style=\"opacity: 0.80\"> it was </span><span style=\"background-color: hsl(120, 100.00%, 68.37%); opacity: 0.94\" title=\"0.529\">perfect</span><span style=\"opacity: 0.80\"> too. i </span><span style=\"background-color: hsl(120, 100.00%, 87.23%); opacity: 0.84\" title=\"0.145\">think</span><span style=\"opacity: 0.80\"> that </span><span style=\"background-color: hsl(120, 100.00%, 79.84%); opacity: 0.88\" title=\"0.278\">rupert</span><span style=\"opacity: 0.80\"> is the only </span><span style=\"background-color: hsl(120, 100.00%, 91.16%); opacity: 0.82\" title=\"0.086\">boy</span><span style=\"opacity: 0.80\"> with </span><span style=\"background-color: hsl(0, 100.00%, 99.26%); opacity: 0.80\" title=\"-0.003\">red</span><span style=\"opacity: 0.80\"> </span><span style=\"background-color: hsl(0, 100.00%, 90.75%); opacity: 0.82\" title=\"-0.091\">hair</span><span style=\"opacity: 0.80\"> that i </span><span style=\"background-color: hsl(120, 100.00%, 80.91%); opacity: 0.87\" title=\"0.257\">love</span><span style=\"opacity: 0.80\">. </span><span style=\"background-color: hsl(120, 100.00%, 79.84%); opacity: 0.88\" title=\"0.278\">rupert</span><span style=\"opacity: 0.80\"> have a </span><span style=\"background-color: hsl(120, 100.00%, 81.36%); opacity: 0.87\" title=\"0.249\">beautiful</span><span style=\"opacity: 0.80\"> </span><span style=\"background-color: hsl(120, 100.00%, 89.61%); opacity: 0.83\" title=\"0.108\">smile</span><span style=\"opacity: 0.80\">, a </span><span style=\"background-color: hsl(120, 100.00%, 81.36%); opacity: 0.87\" title=\"0.249\">beautiful</span><span style=\"opacity: 0.80\"> </span><span style=\"background-color: hsl(0, 100.00%, 98.04%); opacity: 0.80\" title=\"-0.010\">voice</span><span style=\"opacity: 0.80\">. and a </span><span style=\"background-color: hsl(120, 100.00%, 65.97%); opacity: 0.96\" title=\"0.587\">wonderful</span><span style=\"opacity: 0.80\"> </span><span style=\"background-color: hsl(0, 100.00%, 84.15%); opacity: 0.85\" title=\"-0.197\">accent</span><span style=\"opacity: 0.80\">. i </span><span style=\"background-color: hsl(120, 100.00%, 87.23%); opacity: 0.84\" title=\"0.145\">think</span><span style=\"opacity: 0.80\"> that the </span><span style=\"background-color: hsl(0, 100.00%, 98.75%); opacity: 0.80\" title=\"-0.005\">movie</span><span style=\"opacity: 0.80\"> was </span><span style=\"background-color: hsl(120, 100.00%, 70.24%); opacity: 0.93\" title=\"0.485\">great</span><span style=\"opacity: 0.80\"> and was </span><span style=\"background-color: hsl(120, 100.00%, 70.24%); opacity: 0.93\" title=\"0.485\">great</span><span style=\"opacity: 0.80\"> see </span><span style=\"background-color: hsl(120, 100.00%, 79.84%); opacity: 0.88\" title=\"0.278\">rupert</span><span style=\"opacity: 0.80\"> in another </span><span style=\"background-color: hsl(0, 100.00%, 87.60%); opacity: 0.84\" title=\"-0.139\">thing</span><span style=\"opacity: 0.80\"> but </span><span style=\"background-color: hsl(120, 100.00%, 91.00%); opacity: 0.82\" title=\"0.088\">harry</span><span style=\"opacity: 0.80\"> </span><span style=\"background-color: hsl(120, 100.00%, 99.06%); opacity: 0.80\" title=\"0.003\">potter</span><span style=\"opacity: 0.80\">. and its a very </span><span style=\"background-color: hsl(120, 100.00%, 87.65%); opacity: 0.84\" title=\"0.138\">good</span><span style=\"opacity: 0.80\"> </span><span style=\"background-color: hsl(0, 100.00%, 86.49%); opacity: 0.84\" title=\"-0.157\">actor</span><span style=\"opacity: 0.80\">, so it </span><span style=\"background-color: hsl(120, 100.00%, 78.77%); opacity: 0.88\" title=\"0.299\">deserves</span><span style=\"opacity: 0.80\"> that and more. he </span><span style=\"background-color: hsl(0, 100.00%, 88.37%); opacity: 0.83\" title=\"-0.127\">just</span><span style=\"opacity: 0.80\"> have a </span><span style=\"background-color: hsl(120, 100.00%, 95.36%); opacity: 0.81\" title=\"0.034\">golden</span><span style=\"opacity: 0.80\"> </span><span style=\"background-color: hsl(120, 100.00%, 94.19%); opacity: 0.81\" title=\"0.047\">globe</span><span style=\"opacity: 0.80\"> but </span><span style=\"background-color: hsl(0, 100.00%, 95.16%); opacity: 0.81\" title=\"-0.036\">probably</span><span style=\"opacity: 0.80\"> it </span><span style=\"background-color: hsl(120, 100.00%, 78.77%); opacity: 0.88\" title=\"0.299\">deserves</span><span style=\"opacity: 0.80\"> an </span><span style=\"background-color: hsl(120, 100.00%, 83.83%); opacity: 0.85\" title=\"0.203\">oscar</span><span style=\"opacity: 0.80\"> </span><span style=\"background-color: hsl(120, 100.00%, 92.83%); opacity: 0.82\" title=\"0.064\">academy</span><span style=\"opacity: 0.80\"> </span><span style=\"background-color: hsl(120, 100.00%, 92.90%); opacity: 0.82\" title=\"0.063\">award</span><span style=\"opacity: 0.80\">. there are some </span><span style=\"background-color: hsl(0, 100.00%, 89.86%); opacity: 0.83\" title=\"-0.104\">actors</span><span style=\"opacity: 0.80\"> that do not </span><span style=\"background-color: hsl(0, 100.00%, 94.42%); opacity: 0.81\" title=\"-0.044\">act</span><span style=\"opacity: 0.80\"> very well but have a </span><span style=\"background-color: hsl(120, 100.00%, 83.83%); opacity: 0.85\" title=\"0.203\">oscar</span><span style=\"opacity: 0.80\"> anyway. it </span><span style=\"background-color: hsl(0, 100.00%, 92.52%); opacity: 0.82\" title=\"-0.067\">does</span><span style=\"opacity: 0.80\"> not </span><span style=\"background-color: hsl(120, 100.00%, 93.39%); opacity: 0.82\" title=\"0.057\">matter</span><span style=\"opacity: 0.80\">. but he is </span><span style=\"background-color: hsl(120, 100.00%, 68.37%); opacity: 0.94\" title=\"0.529\">perfect</span><span style=\"opacity: 0.80\">, </span><span style=\"background-color: hsl(120, 100.00%, 69.58%); opacity: 0.94\" title=\"0.501\">brilliant</span><span style=\"opacity: 0.80\"> and </span><span style=\"background-color: hsl(120, 100.00%, 81.36%); opacity: 0.87\" title=\"0.249\">beautiful</span>\n",
       "</p>\n"
      ],
      "text/plain": [
       "<IPython.core.display.HTML object>"
      ]
     },
     "metadata": {},
     "output_type": "display_data"
    },
    {
     "data": {
      "text/html": [
       "<p style=background-color:black;color:white;font-weight:bold;padding:4px>Good Movie #3 🏆</p>"
      ],
      "text/plain": [
       "<IPython.core.display.HTML object>"
      ]
     },
     "metadata": {},
     "output_type": "display_data"
    },
    {
     "data": {
      "text/html": [
       "\n",
       "<style>\n",
       "    table.eli5-weights tr:hover {\n",
       "        filter: brightness(85%);\n",
       "    }\n",
       "</style>\n",
       "\n",
       "\n",
       "<p style=\"margin-bottom: 2.5em; margin-top:-0.5em;\">\n",
       "<span style=\"opacity: 0.80\">this is an </span><span style=\"background-color: hsl(120, 100.00%, 74.06%); opacity: 0.91\" title=\"0.125\">awesome</span><span style=\"opacity: 0.80\"> </span><span style=\"background-color: hsl(120, 100.00%, 99.70%); opacity: 0.80\" title=\"0.000\">amicus</span><span style=\"opacity: 0.80\"> </span><span style=\"background-color: hsl(0, 100.00%, 96.39%); opacity: 0.81\" title=\"-0.007\">horror</span><span style=\"opacity: 0.80\"> </span><span style=\"background-color: hsl(120, 100.00%, 95.41%); opacity: 0.81\" title=\"0.011\">anthology</span><span style=\"opacity: 0.80\">, with 3 </span><span style=\"background-color: hsl(120, 100.00%, 70.24%); opacity: 0.93\" title=\"0.152\">great</span><span style=\"opacity: 0.80\"> </span><span style=\"background-color: hsl(0, 100.00%, 93.48%); opacity: 0.81\" title=\"-0.017\">stories</span><span style=\"opacity: 0.80\">, and </span><span style=\"background-color: hsl(120, 100.00%, 72.07%); opacity: 0.92\" title=\"0.139\">fantastic</span><span style=\"opacity: 0.80\"> </span><span style=\"background-color: hsl(120, 100.00%, 81.30%); opacity: 0.87\" title=\"0.078\">performances</span><span style=\"opacity: 0.80\">!, only the last </span><span style=\"background-color: hsl(120, 100.00%, 96.11%); opacity: 0.81\" title=\"0.008\">story</span><span style=\"opacity: 0.80\"> </span><span style=\"background-color: hsl(0, 100.00%, 84.71%); opacity: 0.85\" title=\"-0.059\">disappoints</span><span style=\"opacity: 0.80\">. all the </span><span style=\"background-color: hsl(0, 100.00%, 93.93%); opacity: 0.81\" title=\"-0.016\">characters</span><span style=\"opacity: 0.80\"> are </span><span style=\"background-color: hsl(120, 100.00%, 74.06%); opacity: 0.91\" title=\"0.125\">awesome</span><span style=\"opacity: 0.80\">, and the </span><span style=\"background-color: hsl(120, 100.00%, 95.80%); opacity: 0.81\" title=\"0.009\">film</span><span style=\"opacity: 0.80\"> is </span><span style=\"background-color: hsl(120, 100.00%, 88.11%); opacity: 0.84\" title=\"0.041\">quite</span><span style=\"opacity: 0.80\"> </span><span style=\"background-color: hsl(120, 100.00%, 75.09%); opacity: 0.90\" title=\"0.118\">chilling</span><span style=\"opacity: 0.80\"> and </span><span style=\"background-color: hsl(120, 100.00%, 89.45%); opacity: 0.83\" title=\"0.035\">suspenseful</span><span style=\"opacity: 0.80\">, </span><span style=\"background-color: hsl(0, 100.00%, 97.83%); opacity: 0.80\" title=\"-0.004\">plus</span><span style=\"opacity: 0.80\"> </span><span style=\"background-color: hsl(120, 100.00%, 89.98%); opacity: 0.83\" title=\"0.032\">peter</span><span style=\"opacity: 0.80\"> </span><span style=\"background-color: hsl(120, 100.00%, 90.12%); opacity: 0.83\" title=\"0.032\">cushing</span><span style=\"opacity: 0.80\"> and </span><span style=\"background-color: hsl(0, 100.00%, 95.69%); opacity: 0.81\" title=\"-0.010\">christopher</span><span style=\"opacity: 0.80\"> </span><span style=\"background-color: hsl(0, 100.00%, 79.75%); opacity: 0.88\" title=\"-0.088\">lee</span><span style=\"opacity: 0.80\"> are </span><span style=\"background-color: hsl(0, 100.00%, 87.36%); opacity: 0.84\" title=\"-0.045\">simply</span><span style=\"opacity: 0.80\"> </span><span style=\"background-color: hsl(120, 100.00%, 63.15%); opacity: 0.98\" title=\"0.207\">amazing</span><span style=\"opacity: 0.80\"> in this!. it's very </span><span style=\"background-color: hsl(120, 100.00%, 72.16%); opacity: 0.92\" title=\"0.138\">underrated</span><span style=\"opacity: 0.80\"> and my </span><span style=\"background-color: hsl(120, 100.00%, 65.15%); opacity: 0.96\" title=\"0.191\">favorite</span><span style=\"opacity: 0.80\"> </span><span style=\"background-color: hsl(120, 100.00%, 96.11%); opacity: 0.81\" title=\"0.008\">story</span><span style=\"opacity: 0.80\"> has to be the </span><span style=\"background-color: hsl(120, 100.00%, 95.59%); opacity: 0.81\" title=\"0.010\">3rd</span><span style=\"opacity: 0.80\"> one \"</span><span style=\"background-color: hsl(0, 100.00%, 96.27%); opacity: 0.81\" title=\"-0.008\">sweets</span><span style=\"opacity: 0.80\"> to the </span><span style=\"background-color: hsl(120, 100.00%, 76.54%); opacity: 0.89\" title=\"0.108\">sweet</span><span style=\"opacity: 0.80\">\", </span><span style=\"background-color: hsl(0, 100.00%, 97.83%); opacity: 0.80\" title=\"-0.004\">plus</span><span style=\"opacity: 0.80\"> all the </span><span style=\"background-color: hsl(0, 100.00%, 93.93%); opacity: 0.81\" title=\"-0.016\">characters</span><span style=\"opacity: 0.80\"> are very </span><span style=\"background-color: hsl(120, 100.00%, 85.71%); opacity: 0.85\" title=\"0.053\">likable</span><span style=\"opacity: 0.80\">. some of it's </span><span style=\"background-color: hsl(0, 100.00%, 72.02%); opacity: 0.92\" title=\"-0.139\">predictable</span><span style=\"opacity: 0.80\">, and the last </span><span style=\"background-color: hsl(120, 100.00%, 96.11%); opacity: 0.81\" title=\"0.008\">story</span><span style=\"opacity: 0.80\"> was </span><span style=\"background-color: hsl(120, 100.00%, 95.46%); opacity: 0.81\" title=\"0.010\">incredibly</span><span style=\"opacity: 0.80\"> </span><span style=\"background-color: hsl(0, 100.00%, 60.98%); opacity: 0.99\" title=\"-0.224\">disappointing</span><span style=\"opacity: 0.80\"> and rather </span><span style=\"background-color: hsl(0, 100.00%, 65.51%); opacity: 0.96\" title=\"-0.188\">bland</span><span style=\"opacity: 0.80\">!, however the </span><span style=\"background-color: hsl(120, 100.00%, 96.25%); opacity: 0.81\" title=\"0.008\">ending</span><span style=\"opacity: 0.80\"> was </span><span style=\"background-color: hsl(120, 100.00%, 99.66%); opacity: 0.80\" title=\"0.000\">really</span><span style=\"opacity: 0.80\"> </span><span style=\"background-color: hsl(120, 100.00%, 85.41%); opacity: 0.85\" title=\"0.055\">cool</span><span style=\"opacity: 0.80\">!. this is an </span><span style=\"background-color: hsl(120, 100.00%, 74.06%); opacity: 0.91\" title=\"0.125\">awesome</span><span style=\"opacity: 0.80\"> </span><span style=\"background-color: hsl(120, 100.00%, 99.70%); opacity: 0.80\" title=\"0.000\">amicus</span><span style=\"opacity: 0.80\"> </span><span style=\"background-color: hsl(0, 100.00%, 96.39%); opacity: 0.81\" title=\"-0.007\">horror</span><span style=\"opacity: 0.80\"> </span><span style=\"background-color: hsl(120, 100.00%, 95.41%); opacity: 0.81\" title=\"0.011\">anthology</span><span style=\"opacity: 0.80\">, with 3 </span><span style=\"background-color: hsl(120, 100.00%, 70.24%); opacity: 0.93\" title=\"0.152\">great</span><span style=\"opacity: 0.80\"> </span><span style=\"background-color: hsl(0, 100.00%, 93.48%); opacity: 0.81\" title=\"-0.017\">stories</span><span style=\"opacity: 0.80\">, and </span><span style=\"background-color: hsl(120, 100.00%, 72.07%); opacity: 0.92\" title=\"0.139\">fantastic</span><span style=\"opacity: 0.80\"> </span><span style=\"background-color: hsl(120, 100.00%, 81.30%); opacity: 0.87\" title=\"0.078\">performances</span><span style=\"opacity: 0.80\">, only the last </span><span style=\"background-color: hsl(120, 100.00%, 96.11%); opacity: 0.81\" title=\"0.008\">story</span><span style=\"opacity: 0.80\"> </span><span style=\"background-color: hsl(0, 100.00%, 84.71%); opacity: 0.85\" title=\"-0.059\">disappoints</span><span style=\"opacity: 0.80\">!, i </span><span style=\"background-color: hsl(0, 100.00%, 99.03%); opacity: 0.80\" title=\"-0.001\">say</span><span style=\"opacity: 0.80\"> it's must see!. </span><span style=\"background-color: hsl(0, 100.00%, 93.11%); opacity: 0.82\" title=\"-0.019\">1st</span><span style=\"opacity: 0.80\"> </span><span style=\"background-color: hsl(120, 100.00%, 96.11%); opacity: 0.81\" title=\"0.008\">story</span><span style=\"opacity: 0.80\"> (\"</span><span style=\"background-color: hsl(0, 100.00%, 87.45%); opacity: 0.84\" title=\"-0.044\">method</span><span style=\"opacity: 0.80\"> for </span><span style=\"background-color: hsl(120, 100.00%, 86.95%); opacity: 0.84\" title=\"0.047\">murder</span><span style=\"opacity: 0.80\">\"). this is an </span><span style=\"background-color: hsl(120, 100.00%, 74.06%); opacity: 0.91\" title=\"0.125\">awesome</span><span style=\"opacity: 0.80\"> </span><span style=\"background-color: hsl(120, 100.00%, 96.11%); opacity: 0.81\" title=\"0.008\">story</span><span style=\"opacity: 0.80\">, with </span><span style=\"background-color: hsl(120, 100.00%, 78.29%); opacity: 0.88\" title=\"0.097\">plenty</span><span style=\"opacity: 0.80\"> of </span><span style=\"background-color: hsl(120, 100.00%, 96.68%); opacity: 0.81\" title=\"0.007\">suspense</span><span style=\"opacity: 0.80\">, and the </span><span style=\"background-color: hsl(0, 100.00%, 92.42%); opacity: 0.82\" title=\"-0.022\">killer</span><span style=\"opacity: 0.80\"> </span><span style=\"background-color: hsl(120, 100.00%, 85.88%); opacity: 0.85\" title=\"0.053\">dominic</span><span style=\"opacity: 0.80\"> is </span><span style=\"background-color: hsl(120, 100.00%, 99.66%); opacity: 0.80\" title=\"0.000\">really</span><span style=\"opacity: 0.80\"> </span><span style=\"background-color: hsl(120, 100.00%, 91.27%); opacity: 0.82\" title=\"0.026\">creepy</span><span style=\"opacity: 0.80\">, and it's very well </span><span style=\"background-color: hsl(120, 100.00%, 94.22%); opacity: 0.81\" title=\"0.015\">acted</span><span style=\"opacity: 0.80\"> as well!. this was the </span><span style=\"background-color: hsl(120, 100.00%, 68.37%); opacity: 0.94\" title=\"0.166\">perfect</span><span style=\"opacity: 0.80\"> </span><span style=\"background-color: hsl(120, 100.00%, 97.03%); opacity: 0.80\" title=\"0.006\">way</span><span style=\"opacity: 0.80\"> to </span><span style=\"background-color: hsl(0, 100.00%, 92.73%); opacity: 0.82\" title=\"-0.020\">start</span><span style=\"opacity: 0.80\"> off with a </span><span style=\"background-color: hsl(120, 100.00%, 96.11%); opacity: 0.81\" title=\"0.008\">story</span><span style=\"opacity: 0.80\">, and for the most part it's </span><span style=\"background-color: hsl(120, 100.00%, 82.29%); opacity: 0.86\" title=\"0.073\">unpredictable</span><span style=\"opacity: 0.80\">, </span><span style=\"background-color: hsl(0, 100.00%, 97.83%); opacity: 0.80\" title=\"-0.004\">plus</span><span style=\"opacity: 0.80\"> the </span><span style=\"background-color: hsl(120, 100.00%, 90.66%); opacity: 0.83\" title=\"0.029\">double</span><span style=\"opacity: 0.80\"> </span><span style=\"background-color: hsl(120, 100.00%, 90.15%); opacity: 0.83\" title=\"0.031\">twist</span><span style=\"opacity: 0.80\"> </span><span style=\"background-color: hsl(120, 100.00%, 96.25%); opacity: 0.81\" title=\"0.008\">ending</span><span style=\"opacity: 0.80\"> is </span><span style=\"background-color: hsl(120, 100.00%, 93.76%); opacity: 0.81\" title=\"0.016\">shocking</span><span style=\"opacity: 0.80\">, and </span><span style=\"background-color: hsl(120, 100.00%, 88.11%); opacity: 0.84\" title=\"0.041\">quite</span><span style=\"opacity: 0.80\"> </span><span style=\"background-color: hsl(120, 100.00%, 91.27%); opacity: 0.82\" title=\"0.026\">creepy</span><span style=\"opacity: 0.80\">!. </span><span style=\"background-color: hsl(0, 100.00%, 74.87%); opacity: 0.90\" title=\"-0.120\">grade</span><span style=\"opacity: 0.80\"> a </span><span style=\"background-color: hsl(120, 100.00%, 93.01%); opacity: 0.82\" title=\"0.019\">2nd</span><span style=\"opacity: 0.80\"> </span><span style=\"background-color: hsl(120, 100.00%, 96.11%); opacity: 0.81\" title=\"0.008\">story</span><span style=\"opacity: 0.80\">. (\"</span><span style=\"background-color: hsl(0, 100.00%, 96.76%); opacity: 0.81\" title=\"-0.006\">waxworks</span><span style=\"opacity: 0.80\">\"). this is a </span><span style=\"background-color: hsl(120, 100.00%, 72.77%); opacity: 0.92\" title=\"0.134\">solid</span><span style=\"opacity: 0.80\"> </span><span style=\"background-color: hsl(120, 100.00%, 96.11%); opacity: 0.81\" title=\"0.008\">story</span><span style=\"opacity: 0.80\"> all around, with </span><span style=\"background-color: hsl(120, 100.00%, 65.97%); opacity: 0.96\" title=\"0.184\">wonderful</span><span style=\"opacity: 0.80\"> </span><span style=\"background-color: hsl(120, 100.00%, 81.30%); opacity: 0.87\" title=\"0.078\">performances</span><span style=\"opacity: 0.80\">, however the </span><span style=\"background-color: hsl(120, 100.00%, 96.25%); opacity: 0.81\" title=\"0.008\">ending</span><span style=\"opacity: 0.80\"> is </span><span style=\"background-color: hsl(120, 100.00%, 88.11%); opacity: 0.84\" title=\"0.041\">quite</span><span style=\"opacity: 0.80\"> </span><span style=\"background-color: hsl(0, 100.00%, 72.02%); opacity: 0.92\" title=\"-0.139\">predictable</span><span style=\"opacity: 0.80\">, but it's still </span><span style=\"background-color: hsl(120, 100.00%, 91.27%); opacity: 0.82\" title=\"0.026\">creepy</span><span style=\"opacity: 0.80\">, and has </span><span style=\"background-color: hsl(120, 100.00%, 88.11%); opacity: 0.84\" title=\"0.041\">quite</span><span style=\"opacity: 0.80\"> a </span><span style=\"background-color: hsl(120, 100.00%, 81.24%); opacity: 0.87\" title=\"0.079\">bit</span><span style=\"opacity: 0.80\"> of </span><span style=\"background-color: hsl(120, 100.00%, 96.68%); opacity: 0.81\" title=\"0.007\">suspense</span><span style=\"opacity: 0.80\">, </span><span style=\"background-color: hsl(120, 100.00%, 89.98%); opacity: 0.83\" title=\"0.032\">peter</span><span style=\"opacity: 0.80\"> </span><span style=\"background-color: hsl(120, 100.00%, 90.12%); opacity: 0.83\" title=\"0.032\">cushing</span><span style=\"opacity: 0.80\"> </span><span style=\"background-color: hsl(0, 100.00%, 87.73%); opacity: 0.84\" title=\"-0.043\">did</span><span style=\"opacity: 0.80\"> an </span><span style=\"background-color: hsl(120, 100.00%, 63.15%); opacity: 0.98\" title=\"0.207\">amazing</span><span style=\"opacity: 0.80\"> </span><span style=\"background-color: hsl(120, 100.00%, 77.72%); opacity: 0.89\" title=\"0.101\">job</span><span style=\"opacity: 0.80\">, and i couldn't </span><span style=\"background-color: hsl(0, 100.00%, 92.04%); opacity: 0.82\" title=\"-0.023\">believe</span><span style=\"opacity: 0.80\"> how </span><span style=\"background-color: hsl(120, 100.00%, 90.35%); opacity: 0.83\" title=\"0.030\">young</span><span style=\"opacity: 0.80\"> </span><span style=\"background-color: hsl(120, 100.00%, 94.85%); opacity: 0.81\" title=\"0.012\">joss</span><span style=\"opacity: 0.80\"> </span><span style=\"background-color: hsl(120, 100.00%, 98.30%); opacity: 0.80\" title=\"0.003\">ackland</span><span style=\"opacity: 0.80\"> was, i </span><span style=\"background-color: hsl(120, 100.00%, 99.66%); opacity: 0.80\" title=\"0.000\">really</span><span style=\"opacity: 0.80\"> </span><span style=\"background-color: hsl(120, 100.00%, 69.65%); opacity: 0.93\" title=\"0.157\">enjoyed</span><span style=\"opacity: 0.80\"> this </span><span style=\"background-color: hsl(120, 100.00%, 96.11%); opacity: 0.81\" title=\"0.008\">story</span><span style=\"opacity: 0.80\">!. </span><span style=\"background-color: hsl(0, 100.00%, 74.87%); opacity: 0.90\" title=\"-0.120\">grade</span><span style=\"opacity: 0.80\"> b </span><span style=\"background-color: hsl(120, 100.00%, 95.59%); opacity: 0.81\" title=\"0.010\">3rd</span><span style=\"opacity: 0.80\"> </span><span style=\"background-color: hsl(120, 100.00%, 96.11%); opacity: 0.81\" title=\"0.008\">story</span><span style=\"opacity: 0.80\"> (\"</span><span style=\"background-color: hsl(0, 100.00%, 96.27%); opacity: 0.81\" title=\"-0.008\">sweets</span><span style=\"opacity: 0.80\"> to the </span><span style=\"background-color: hsl(120, 100.00%, 76.54%); opacity: 0.89\" title=\"0.108\">sweet</span><span style=\"opacity: 0.80\">\"). this is the </span><span style=\"background-color: hsl(120, 100.00%, 74.36%); opacity: 0.91\" title=\"0.123\">best</span><span style=\"opacity: 0.80\"> </span><span style=\"background-color: hsl(120, 100.00%, 96.11%); opacity: 0.81\" title=\"0.008\">story</span><span style=\"opacity: 0.80\"> here, as it's </span><span style=\"background-color: hsl(0, 100.00%, 92.65%); opacity: 0.82\" title=\"-0.021\">extremely</span><span style=\"opacity: 0.80\"> </span><span style=\"background-color: hsl(120, 100.00%, 91.27%); opacity: 0.82\" title=\"0.026\">creepy</span><span style=\"opacity: 0.80\">, and </span><span style=\"background-color: hsl(120, 100.00%, 82.29%); opacity: 0.86\" title=\"0.073\">unpredictable</span><span style=\"opacity: 0.80\"> throughout, it also has a </span><span style=\"background-color: hsl(120, 100.00%, 84.86%); opacity: 0.85\" title=\"0.058\">nice</span><span style=\"opacity: 0.80\"> </span><span style=\"background-color: hsl(120, 100.00%, 90.15%); opacity: 0.83\" title=\"0.031\">twist</span><span style=\"opacity: 0.80\"> as well!. </span><span style=\"background-color: hsl(0, 100.00%, 95.69%); opacity: 0.81\" title=\"-0.010\">christopher</span><span style=\"opacity: 0.80\"> </span><span style=\"background-color: hsl(0, 100.00%, 79.75%); opacity: 0.88\" title=\"-0.088\">lee</span><span style=\"opacity: 0.80\"> </span><span style=\"background-color: hsl(0, 100.00%, 87.73%); opacity: 0.84\" title=\"-0.043\">did</span><span style=\"opacity: 0.80\"> an </span><span style=\"background-color: hsl(120, 100.00%, 63.15%); opacity: 0.98\" title=\"0.207\">amazing</span><span style=\"opacity: 0.80\"> </span><span style=\"background-color: hsl(120, 100.00%, 77.72%); opacity: 0.89\" title=\"0.101\">job</span><span style=\"opacity: 0.80\">, and </span><span style=\"background-color: hsl(120, 100.00%, 90.97%); opacity: 0.82\" title=\"0.028\">chloe</span><span style=\"opacity: 0.80\"> </span><span style=\"background-color: hsl(0, 100.00%, 91.34%); opacity: 0.82\" title=\"-0.026\">franks</span><span style=\"opacity: 0.80\"> </span><span style=\"background-color: hsl(0, 100.00%, 87.73%); opacity: 0.84\" title=\"-0.043\">did</span><span style=\"opacity: 0.80\"> a </span><span style=\"background-color: hsl(120, 100.00%, 65.97%); opacity: 0.96\" title=\"0.184\">wonderful</span><span style=\"opacity: 0.80\"> </span><span style=\"background-color: hsl(120, 100.00%, 77.72%); opacity: 0.89\" title=\"0.101\">job</span><span style=\"opacity: 0.80\"> as the </span><span style=\"background-color: hsl(120, 100.00%, 90.35%); opacity: 0.83\" title=\"0.030\">young</span><span style=\"opacity: 0.80\"> </span><span style=\"background-color: hsl(0, 100.00%, 88.71%); opacity: 0.83\" title=\"-0.038\">daughter</span><span style=\"opacity: 0.80\">, </span><span style=\"background-color: hsl(0, 100.00%, 97.83%); opacity: 0.80\" title=\"-0.004\">plus</span><span style=\"opacity: 0.80\"> the </span><span style=\"background-color: hsl(120, 100.00%, 96.25%); opacity: 0.81\" title=\"0.008\">ending</span><span style=\"opacity: 0.80\"> is </span><span style=\"background-color: hsl(120, 100.00%, 88.11%); opacity: 0.84\" title=\"0.041\">quite</span><span style=\"opacity: 0.80\"> </span><span style=\"background-color: hsl(120, 100.00%, 93.76%); opacity: 0.81\" title=\"0.016\">shocking</span><span style=\"opacity: 0.80\">!. i </span><span style=\"background-color: hsl(0, 100.00%, 89.22%); opacity: 0.83\" title=\"-0.036\">don</span><span style=\"opacity: 0.80\">'t </span><span style=\"background-color: hsl(0, 100.00%, 95.05%); opacity: 0.81\" title=\"-0.012\">want</span><span style=\"opacity: 0.80\"> to </span><span style=\"background-color: hsl(120, 100.00%, 88.45%); opacity: 0.83\" title=\"0.039\">spoil</span><span style=\"opacity: 0.80\"> it for you, but it's one of the </span><span style=\"background-color: hsl(120, 100.00%, 74.36%); opacity: 0.91\" title=\"0.123\">best</span><span style=\"opacity: 0.80\"> </span><span style=\"background-color: hsl(0, 100.00%, 96.39%); opacity: 0.81\" title=\"-0.007\">horror</span><span style=\"opacity: 0.80\"> </span><span style=\"background-color: hsl(0, 100.00%, 93.48%); opacity: 0.81\" title=\"-0.017\">stories</span><span style=\"opacity: 0.80\"> i have </span><span style=\"background-color: hsl(120, 100.00%, 87.14%); opacity: 0.84\" title=\"0.046\">seen</span><span style=\"opacity: 0.80\">!. </span><span style=\"background-color: hsl(0, 100.00%, 74.87%); opacity: 0.90\" title=\"-0.120\">grade</span><span style=\"opacity: 0.80\"> a+ </span><span style=\"background-color: hsl(120, 100.00%, 94.26%); opacity: 0.81\" title=\"0.015\">4th</span><span style=\"opacity: 0.80\"> </span><span style=\"background-color: hsl(120, 100.00%, 96.11%); opacity: 0.81\" title=\"0.008\">story</span><span style=\"opacity: 0.80\"> (\"the </span><span style=\"background-color: hsl(120, 100.00%, 97.43%); opacity: 0.80\" title=\"0.005\">cloak</span><span style=\"opacity: 0.80\">\"). this is a </span><span style=\"background-color: hsl(0, 100.00%, 64.45%); opacity: 0.97\" title=\"-0.196\">terrible</span><span style=\"opacity: 0.80\"> </span><span style=\"background-color: hsl(120, 100.00%, 96.11%); opacity: 0.81\" title=\"0.008\">story</span><span style=\"opacity: 0.80\"> that's </span><span style=\"background-color: hsl(120, 100.00%, 99.66%); opacity: 0.80\" title=\"0.000\">really</span><span style=\"opacity: 0.80\"> </span><span style=\"background-color: hsl(0, 100.00%, 67.75%); opacity: 0.95\" title=\"-0.171\">weak</span><span style=\"opacity: 0.80\"> and </span><span style=\"background-color: hsl(0, 100.00%, 67.76%); opacity: 0.95\" title=\"-0.171\">unfunny</span><span style=\"opacity: 0.80\"> </span><span style=\"background-color: hsl(120, 100.00%, 93.57%); opacity: 0.81\" title=\"0.017\">jon</span><span style=\"opacity: 0.80\"> </span><span style=\"background-color: hsl(120, 100.00%, 94.65%); opacity: 0.81\" title=\"0.013\">pertwee</span><span style=\"opacity: 0.80\"> </span><span style=\"background-color: hsl(0, 100.00%, 81.41%); opacity: 0.87\" title=\"-0.078\">annoyed</span><span style=\"opacity: 0.80\"> me, however the </span><span style=\"background-color: hsl(120, 100.00%, 96.25%); opacity: 0.81\" title=\"0.008\">ending</span><span style=\"opacity: 0.80\"> </span><span style=\"background-color: hsl(120, 100.00%, 75.20%); opacity: 0.90\" title=\"0.117\">surprised</span><span style=\"opacity: 0.80\"> me a </span><span style=\"background-color: hsl(120, 100.00%, 96.06%); opacity: 0.81\" title=\"0.008\">little</span><span style=\"opacity: 0.80\"> </span><span style=\"background-color: hsl(120, 100.00%, 81.24%); opacity: 0.87\" title=\"0.079\">bit</span><span style=\"opacity: 0.80\">, and </span><span style=\"background-color: hsl(120, 100.00%, 83.36%); opacity: 0.86\" title=\"0.066\">ingrid</span><span style=\"opacity: 0.80\"> </span><span style=\"background-color: hsl(120, 100.00%, 89.11%); opacity: 0.83\" title=\"0.036\">pitt</span><span style=\"opacity: 0.80\"> was </span><span style=\"background-color: hsl(120, 100.00%, 70.24%); opacity: 0.93\" title=\"0.152\">great</span><span style=\"opacity: 0.80\"> as always, however it's </span><span style=\"background-color: hsl(0, 100.00%, 88.37%); opacity: 0.83\" title=\"-0.040\">just</span><span style=\"opacity: 0.80\"> </span><span style=\"background-color: hsl(0, 100.00%, 64.60%); opacity: 0.97\" title=\"-0.195\">dull</span><span style=\"opacity: 0.80\">, and has been done before many </span><span style=\"background-color: hsl(120, 100.00%, 89.65%); opacity: 0.83\" title=\"0.034\">times</span><span style=\"opacity: 0.80\">, </span><span style=\"background-color: hsl(0, 100.00%, 97.83%); opacity: 0.80\" title=\"-0.004\">plus</span><span style=\"opacity: 0.80\"> where was the </span><span style=\"background-color: hsl(0, 100.00%, 87.24%); opacity: 0.84\" title=\"-0.045\">creativity</span><span style=\"opacity: 0.80\">??. </span><span style=\"background-color: hsl(0, 100.00%, 74.87%); opacity: 0.90\" title=\"-0.120\">grade</span><span style=\"opacity: 0.80\"> d the </span><span style=\"background-color: hsl(0, 100.00%, 86.77%); opacity: 0.84\" title=\"-0.048\">direction</span><span style=\"opacity: 0.80\"> is </span><span style=\"background-color: hsl(120, 100.00%, 70.24%); opacity: 0.93\" title=\"0.152\">great</span><span style=\"opacity: 0.80\">!. </span><span style=\"background-color: hsl(120, 100.00%, 89.98%); opacity: 0.83\" title=\"0.032\">peter</span><span style=\"opacity: 0.80\"> </span><span style=\"background-color: hsl(120, 100.00%, 96.64%); opacity: 0.81\" title=\"0.007\">duffell</span><span style=\"opacity: 0.80\"> </span><span style=\"background-color: hsl(0, 100.00%, 92.52%); opacity: 0.82\" title=\"-0.021\">does</span><span style=\"opacity: 0.80\"> a </span><span style=\"background-color: hsl(120, 100.00%, 70.24%); opacity: 0.93\" title=\"0.152\">great</span><span style=\"opacity: 0.80\"> </span><span style=\"background-color: hsl(120, 100.00%, 77.72%); opacity: 0.89\" title=\"0.101\">job</span><span style=\"opacity: 0.80\"> here, with </span><span style=\"background-color: hsl(120, 100.00%, 74.06%); opacity: 0.91\" title=\"0.125\">awesome</span><span style=\"opacity: 0.80\"> </span><span style=\"background-color: hsl(0, 100.00%, 85.83%); opacity: 0.85\" title=\"-0.053\">camera</span><span style=\"opacity: 0.80\"> </span><span style=\"background-color: hsl(0, 100.00%, 98.09%); opacity: 0.80\" title=\"-0.003\">work</span><span style=\"opacity: 0.80\">, </span><span style=\"background-color: hsl(120, 100.00%, 70.24%); opacity: 0.93\" title=\"0.152\">great</span><span style=\"opacity: 0.80\"> </span><span style=\"background-color: hsl(0, 100.00%, 95.34%); opacity: 0.81\" title=\"-0.011\">angles</span><span style=\"opacity: 0.80\">, </span><span style=\"background-color: hsl(120, 100.00%, 95.20%); opacity: 0.81\" title=\"0.011\">adding</span><span style=\"opacity: 0.80\"> some </span><span style=\"background-color: hsl(120, 100.00%, 91.27%); opacity: 0.82\" title=\"0.026\">creepy</span><span style=\"opacity: 0.80\"> </span><span style=\"background-color: hsl(120, 100.00%, 80.57%); opacity: 0.87\" title=\"0.083\">atmosphere</span><span style=\"opacity: 0.80\">, and </span><span style=\"background-color: hsl(120, 100.00%, 86.25%); opacity: 0.84\" title=\"0.051\">keeping</span><span style=\"opacity: 0.80\"> the </span><span style=\"background-color: hsl(120, 100.00%, 95.80%); opacity: 0.81\" title=\"0.009\">film</span><span style=\"opacity: 0.80\"> at a very </span><span style=\"background-color: hsl(120, 100.00%, 97.96%); opacity: 0.80\" title=\"0.003\">fast</span><span style=\"opacity: 0.80\"> </span><span style=\"background-color: hsl(120, 100.00%, 84.24%); opacity: 0.85\" title=\"0.061\">pace</span><span style=\"opacity: 0.80\">!. the </span><span style=\"background-color: hsl(0, 100.00%, 89.06%); opacity: 0.83\" title=\"-0.036\">acting</span><span style=\"opacity: 0.80\"> is </span><span style=\"background-color: hsl(120, 100.00%, 74.06%); opacity: 0.91\" title=\"0.125\">awesome</span><span style=\"opacity: 0.80\">!. </span><span style=\"background-color: hsl(120, 100.00%, 94.03%); opacity: 0.81\" title=\"0.015\">john</span><span style=\"opacity: 0.80\"> bryans is </span><span style=\"background-color: hsl(120, 100.00%, 70.24%); opacity: 0.93\" title=\"0.152\">great</span><span style=\"opacity: 0.80\"> here, as the </span><span style=\"background-color: hsl(120, 100.00%, 97.14%); opacity: 0.80\" title=\"0.005\">narrator</span><span style=\"opacity: 0.80\">, he had some </span><span style=\"background-color: hsl(120, 100.00%, 70.24%); opacity: 0.93\" title=\"0.152\">great</span><span style=\"opacity: 0.80\"> </span><span style=\"background-color: hsl(120, 100.00%, 97.59%); opacity: 0.80\" title=\"0.004\">lines</span><span style=\"opacity: 0.80\">, i </span><span style=\"background-color: hsl(0, 100.00%, 88.37%); opacity: 0.83\" title=\"-0.040\">just</span><span style=\"opacity: 0.80\"> </span><span style=\"background-color: hsl(120, 100.00%, 95.62%); opacity: 0.81\" title=\"0.010\">wished</span><span style=\"opacity: 0.80\"> he had more </span><span style=\"background-color: hsl(0, 100.00%, 93.75%); opacity: 0.81\" title=\"-0.016\">screen</span><span style=\"opacity: 0.80\"> </span><span style=\"background-color: hsl(120, 100.00%, 92.11%); opacity: 0.82\" title=\"0.023\">time</span><span style=\"opacity: 0.80\">. </span><span style=\"background-color: hsl(120, 100.00%, 94.03%); opacity: 0.81\" title=\"0.015\">john</span><span style=\"opacity: 0.80\"> </span><span style=\"background-color: hsl(0, 100.00%, 83.78%); opacity: 0.86\" title=\"-0.064\">bennett</span><span style=\"opacity: 0.80\"> is very </span><span style=\"background-color: hsl(120, 100.00%, 87.65%); opacity: 0.84\" title=\"0.043\">good</span><span style=\"opacity: 0.80\"> as the </span><span style=\"background-color: hsl(120, 100.00%, 87.59%); opacity: 0.84\" title=\"0.044\">det</span><span style=\"opacity: 0.80\">., and was </span><span style=\"background-color: hsl(120, 100.00%, 88.11%); opacity: 0.84\" title=\"0.041\">quite</span><span style=\"opacity: 0.80\"> </span><span style=\"background-color: hsl(120, 100.00%, 77.73%); opacity: 0.89\" title=\"0.101\">intense</span><span style=\"opacity: 0.80\">, he was </span><span style=\"background-color: hsl(120, 100.00%, 78.92%); opacity: 0.88\" title=\"0.093\">especially</span><span style=\"opacity: 0.80\"> </span><span style=\"background-color: hsl(120, 100.00%, 87.65%); opacity: 0.84\" title=\"0.043\">good</span><span style=\"opacity: 0.80\"> at the </span><span style=\"background-color: hsl(120, 100.00%, 91.93%); opacity: 0.82\" title=\"0.024\">end</span><span style=\"opacity: 0.80\">!, i </span><span style=\"background-color: hsl(120, 100.00%, 77.70%); opacity: 0.89\" title=\"0.101\">liked</span><span style=\"opacity: 0.80\"> him </span><span style=\"background-color: hsl(120, 100.00%, 88.93%); opacity: 0.83\" title=\"0.037\">lots</span><span style=\"opacity: 0.80\">. </span><span style=\"background-color: hsl(120, 100.00%, 92.49%); opacity: 0.82\" title=\"0.021\">denholm</span><span style=\"opacity: 0.80\"> </span><span style=\"background-color: hsl(120, 100.00%, 87.95%); opacity: 0.84\" title=\"0.042\">elliott</span><span style=\"opacity: 0.80\"> is </span><span style=\"background-color: hsl(120, 100.00%, 60.00%); opacity: 1.00\" title=\"0.232\">excellent</span><span style=\"opacity: 0.80\"> as </span><span style=\"background-color: hsl(0, 100.00%, 88.05%); opacity: 0.84\" title=\"-0.041\">charles</span><span style=\"opacity: 0.80\">, he was </span><span style=\"background-color: hsl(120, 100.00%, 93.66%); opacity: 0.81\" title=\"0.017\">vulnerable</span><span style=\"opacity: 0.80\">, </span><span style=\"background-color: hsl(120, 100.00%, 85.47%); opacity: 0.85\" title=\"0.055\">showed</span><span style=\"opacity: 0.80\"> </span><span style=\"background-color: hsl(0, 100.00%, 93.32%); opacity: 0.82\" title=\"-0.018\">fear</span><span style=\"opacity: 0.80\">, was very </span><span style=\"background-color: hsl(120, 100.00%, 85.71%); opacity: 0.85\" title=\"0.053\">likable</span><span style=\"opacity: 0.80\">, and i </span><span style=\"background-color: hsl(120, 100.00%, 66.65%); opacity: 0.95\" title=\"0.179\">loved</span><span style=\"opacity: 0.80\"> his </span><span style=\"background-color: hsl(0, 100.00%, 92.44%); opacity: 0.82\" title=\"-0.021\">facial</span><span style=\"opacity: 0.80\"> </span><span style=\"background-color: hsl(120, 100.00%, 90.12%); opacity: 0.83\" title=\"0.032\">expressions</span><span style=\"opacity: 0.80\">, he </span><span style=\"background-color: hsl(120, 100.00%, 80.36%); opacity: 0.87\" title=\"0.084\">rocked</span><span style=\"opacity: 0.80\">!. </span><span style=\"background-color: hsl(0, 100.00%, 90.40%); opacity: 0.83\" title=\"-0.030\">joanna</span><span style=\"opacity: 0.80\"> dunham is </span><span style=\"background-color: hsl(120, 100.00%, 90.40%); opacity: 0.83\" title=\"0.030\">stunningly</span><span style=\"opacity: 0.80\"> </span><span style=\"background-color: hsl(120, 100.00%, 81.20%); opacity: 0.87\" title=\"0.079\">gorgeous</span><span style=\"opacity: 0.80\">!, and </span><span style=\"background-color: hsl(0, 100.00%, 87.73%); opacity: 0.84\" title=\"-0.043\">did</span><span style=\"opacity: 0.80\"> </span><span style=\"background-color: hsl(120, 100.00%, 70.24%); opacity: 0.93\" title=\"0.152\">great</span><span style=\"opacity: 0.80\"> with what she had to do as the </span><span style=\"background-color: hsl(120, 100.00%, 93.24%); opacity: 0.82\" title=\"0.018\">wife</span><span style=\"opacity: 0.80\">, she also had </span><span style=\"background-color: hsl(120, 100.00%, 70.24%); opacity: 0.93\" title=\"0.152\">great</span><span style=\"opacity: 0.80\"> </span><span style=\"background-color: hsl(0, 100.00%, 94.72%); opacity: 0.81\" title=\"-0.013\">chemistry</span><span style=\"opacity: 0.80\"> with </span><span style=\"background-color: hsl(120, 100.00%, 92.49%); opacity: 0.82\" title=\"0.021\">denholm</span><span style=\"opacity: 0.80\"> </span><span style=\"background-color: hsl(120, 100.00%, 87.95%); opacity: 0.84\" title=\"0.042\">elliott</span><span style=\"opacity: 0.80\"> !. </span><span style=\"background-color: hsl(0, 100.00%, 96.38%); opacity: 0.81\" title=\"-0.008\">tom</span><span style=\"opacity: 0.80\"> </span><span style=\"background-color: hsl(0, 100.00%, 97.25%); opacity: 0.80\" title=\"-0.005\">adams</span><span style=\"opacity: 0.80\"> is </span><span style=\"background-color: hsl(120, 100.00%, 95.46%); opacity: 0.81\" title=\"0.010\">incredibly</span><span style=\"opacity: 0.80\"> </span><span style=\"background-color: hsl(120, 100.00%, 91.27%); opacity: 0.82\" title=\"0.026\">creepy</span><span style=\"opacity: 0.80\"> as </span><span style=\"background-color: hsl(120, 100.00%, 85.88%); opacity: 0.85\" title=\"0.053\">dominic</span><span style=\"opacity: 0.80\">, he was </span><span style=\"background-color: hsl(120, 100.00%, 91.27%); opacity: 0.82\" title=\"0.026\">creepy</span><span style=\"opacity: 0.80\"> </span><span style=\"background-color: hsl(0, 100.00%, 88.43%); opacity: 0.83\" title=\"-0.039\">looking</span><span style=\"opacity: 0.80\">, and </span><span style=\"background-color: hsl(120, 100.00%, 92.01%); opacity: 0.82\" title=\"0.023\">got</span><span style=\"opacity: 0.80\"> the </span><span style=\"background-color: hsl(120, 100.00%, 77.72%); opacity: 0.89\" title=\"0.101\">job</span><span style=\"opacity: 0.80\"> done </span><span style=\"background-color: hsl(0, 100.00%, 92.65%); opacity: 0.82\" title=\"-0.021\">extremely</span><span style=\"opacity: 0.80\"> well!. </span><span style=\"background-color: hsl(120, 100.00%, 89.98%); opacity: 0.83\" title=\"0.032\">peter</span><span style=\"opacity: 0.80\"> </span><span style=\"background-color: hsl(120, 100.00%, 90.12%); opacity: 0.83\" title=\"0.032\">cushing</span><span style=\"opacity: 0.80\"> is </span><span style=\"background-color: hsl(120, 100.00%, 63.15%); opacity: 0.98\" title=\"0.207\">amazing</span><span style=\"opacity: 0.80\"> as always, and is </span><span style=\"background-color: hsl(120, 100.00%, 63.15%); opacity: 0.98\" title=\"0.207\">amazing</span><span style=\"opacity: 0.80\"> here, he is </span><span style=\"background-color: hsl(120, 100.00%, 85.71%); opacity: 0.85\" title=\"0.053\">likable</span><span style=\"opacity: 0.80\">, </span><span style=\"background-color: hsl(120, 100.00%, 92.69%); opacity: 0.82\" title=\"0.020\">focused</span><span style=\"opacity: 0.80\">, </span><span style=\"background-color: hsl(120, 100.00%, 89.45%); opacity: 0.83\" title=\"0.035\">charming</span><span style=\"opacity: 0.80\">, and as always, had a </span><span style=\"background-color: hsl(120, 100.00%, 91.42%); opacity: 0.82\" title=\"0.026\">ton</span><span style=\"opacity: 0.80\"> of </span><span style=\"background-color: hsl(0, 100.00%, 95.74%); opacity: 0.81\" title=\"-0.009\">class</span><span style=\"opacity: 0.80\">! (</span><span style=\"background-color: hsl(120, 100.00%, 90.12%); opacity: 0.83\" title=\"0.032\">cushing</span><span style=\"opacity: 0.80\"> </span><span style=\"background-color: hsl(120, 100.00%, 84.81%); opacity: 0.85\" title=\"0.058\">rules</span><span style=\"opacity: 0.80\">!!). </span><span style=\"background-color: hsl(120, 100.00%, 94.85%); opacity: 0.81\" title=\"0.012\">joss</span><span style=\"opacity: 0.80\"> </span><span style=\"background-color: hsl(120, 100.00%, 98.30%); opacity: 0.80\" title=\"0.003\">ackland</span><span style=\"opacity: 0.80\"> is </span><span style=\"background-color: hsl(120, 100.00%, 72.07%); opacity: 0.92\" title=\"0.139\">fantastic</span><span style=\"opacity: 0.80\"> as always, and </span><span style=\"background-color: hsl(0, 100.00%, 81.85%); opacity: 0.86\" title=\"-0.075\">looked</span><span style=\"opacity: 0.80\"> so </span><span style=\"background-color: hsl(120, 100.00%, 90.35%); opacity: 0.83\" title=\"0.030\">young</span><span style=\"opacity: 0.80\"> here, i </span><span style=\"background-color: hsl(0, 100.00%, 77.78%); opacity: 0.89\" title=\"-0.100\">barely</span><span style=\"opacity: 0.80\"> </span><span style=\"background-color: hsl(0, 100.00%, 99.13%); opacity: 0.80\" title=\"-0.001\">recognized</span><span style=\"opacity: 0.80\"> him, his </span><span style=\"background-color: hsl(0, 100.00%, 84.15%); opacity: 0.85\" title=\"-0.062\">accent</span><span style=\"opacity: 0.80\"> wasn't so thick, and </span><span style=\"background-color: hsl(120, 100.00%, 88.81%); opacity: 0.83\" title=\"0.038\">played</span><span style=\"opacity: 0.80\"> a </span><span style=\"background-color: hsl(120, 100.00%, 82.02%); opacity: 0.86\" title=\"0.074\">different</span><span style=\"opacity: 0.80\"> </span><span style=\"background-color: hsl(120, 100.00%, 92.20%); opacity: 0.82\" title=\"0.023\">role</span><span style=\"opacity: 0.80\"> i </span><span style=\"background-color: hsl(120, 100.00%, 66.65%); opacity: 0.95\" title=\"0.179\">loved</span><span style=\"opacity: 0.80\"> it! (</span><span style=\"background-color: hsl(120, 100.00%, 98.30%); opacity: 0.80\" title=\"0.003\">ackland</span><span style=\"opacity: 0.80\"> </span><span style=\"background-color: hsl(120, 100.00%, 84.81%); opacity: 0.85\" title=\"0.058\">rules</span><span style=\"opacity: 0.80\">). </span><span style=\"background-color: hsl(0, 100.00%, 95.29%); opacity: 0.81\" title=\"-0.011\">wolfe</span><span style=\"opacity: 0.80\"> </span><span style=\"background-color: hsl(120, 100.00%, 87.98%); opacity: 0.84\" title=\"0.042\">morris</span><span style=\"opacity: 0.80\"> is </span><span style=\"background-color: hsl(120, 100.00%, 91.27%); opacity: 0.82\" title=\"0.026\">creepy</span><span style=\"opacity: 0.80\"> here, and </span><span style=\"background-color: hsl(0, 100.00%, 87.73%); opacity: 0.84\" title=\"-0.043\">did</span><span style=\"opacity: 0.80\"> what he had to do well.</span><span style=\"background-color: hsl(0, 100.00%, 95.69%); opacity: 0.81\" title=\"-0.010\">christopher</span><span style=\"opacity: 0.80\"> </span><span style=\"background-color: hsl(0, 100.00%, 79.75%); opacity: 0.88\" title=\"-0.088\">lee</span><span style=\"opacity: 0.80\"> is </span><span style=\"background-color: hsl(120, 100.00%, 63.15%); opacity: 0.98\" title=\"0.207\">amazing</span><span style=\"opacity: 0.80\"> as always and is </span><span style=\"background-color: hsl(120, 100.00%, 63.15%); opacity: 0.98\" title=\"0.207\">amazing</span><span style=\"opacity: 0.80\"> here, he is </span><span style=\"background-color: hsl(120, 100.00%, 95.46%); opacity: 0.81\" title=\"0.010\">incredibly</span><span style=\"opacity: 0.80\"> </span><span style=\"background-color: hsl(120, 100.00%, 77.73%); opacity: 0.89\" title=\"0.101\">intense</span><span style=\"opacity: 0.80\">, very </span><span style=\"background-color: hsl(120, 100.00%, 92.69%); opacity: 0.82\" title=\"0.020\">focused</span><span style=\"opacity: 0.80\">, and as always had that </span><span style=\"background-color: hsl(120, 100.00%, 70.24%); opacity: 0.93\" title=\"0.152\">great</span><span style=\"opacity: 0.80\"> </span><span style=\"background-color: hsl(120, 100.00%, 77.73%); opacity: 0.89\" title=\"0.101\">intense</span><span style=\"opacity: 0.80\"> </span><span style=\"background-color: hsl(0, 100.00%, 94.51%); opacity: 0.81\" title=\"-0.014\">look</span><span style=\"opacity: 0.80\"> on his </span><span style=\"background-color: hsl(0, 100.00%, 96.07%); opacity: 0.81\" title=\"-0.008\">face</span><span style=\"opacity: 0.80\">, he was </span><span style=\"background-color: hsl(120, 100.00%, 78.92%); opacity: 0.88\" title=\"0.093\">especially</span><span style=\"opacity: 0.80\"> </span><span style=\"background-color: hsl(120, 100.00%, 63.15%); opacity: 0.98\" title=\"0.207\">amazing</span><span style=\"opacity: 0.80\"> at the </span><span style=\"background-color: hsl(120, 100.00%, 91.93%); opacity: 0.82\" title=\"0.024\">end</span><span style=\"opacity: 0.80\">! (</span><span style=\"background-color: hsl(0, 100.00%, 79.75%); opacity: 0.88\" title=\"-0.088\">lee</span><span style=\"opacity: 0.80\"> </span><span style=\"background-color: hsl(120, 100.00%, 84.81%); opacity: 0.85\" title=\"0.058\">rules</span><span style=\"opacity: 0.80\">!!). </span><span style=\"background-color: hsl(120, 100.00%, 90.97%); opacity: 0.82\" title=\"0.028\">chloe</span><span style=\"opacity: 0.80\"> </span><span style=\"background-color: hsl(0, 100.00%, 91.34%); opacity: 0.82\" title=\"-0.026\">franks</span><span style=\"opacity: 0.80\"> is </span><span style=\"background-color: hsl(120, 100.00%, 83.16%); opacity: 0.86\" title=\"0.068\">adorable</span><span style=\"opacity: 0.80\"> as the </span><span style=\"background-color: hsl(0, 100.00%, 88.71%); opacity: 0.83\" title=\"-0.038\">daughter</span><span style=\"opacity: 0.80\">, she is </span><span style=\"background-color: hsl(120, 100.00%, 90.40%); opacity: 0.83\" title=\"0.030\">somewhat</span><span style=\"opacity: 0.80\"> </span><span style=\"background-color: hsl(120, 100.00%, 91.27%); opacity: 0.82\" title=\"0.026\">creepy</span><span style=\"opacity: 0.80\">, and </span><span style=\"background-color: hsl(0, 100.00%, 92.30%); opacity: 0.82\" title=\"-0.022\">gave</span><span style=\"opacity: 0.80\"> one of the </span><span style=\"background-color: hsl(120, 100.00%, 74.36%); opacity: 0.91\" title=\"0.123\">best</span><span style=\"opacity: 0.80\"> </span><span style=\"background-color: hsl(0, 100.00%, 90.82%); opacity: 0.82\" title=\"-0.028\">child</span><span style=\"opacity: 0.80\"> </span><span style=\"background-color: hsl(120, 100.00%, 81.30%); opacity: 0.87\" title=\"0.078\">performances</span><span style=\"opacity: 0.80\"> i have ever </span><span style=\"background-color: hsl(120, 100.00%, 87.14%); opacity: 0.84\" title=\"0.046\">seen</span><span style=\"opacity: 0.80\">!, i </span><span style=\"background-color: hsl(120, 100.00%, 66.65%); opacity: 0.95\" title=\"0.179\">loved</span><span style=\"opacity: 0.80\"> her.nyree </span><span style=\"background-color: hsl(120, 100.00%, 90.74%); opacity: 0.82\" title=\"0.029\">dawn</span><span style=\"opacity: 0.80\"> </span><span style=\"background-color: hsl(120, 100.00%, 93.34%); opacity: 0.82\" title=\"0.018\">porter</span><span style=\"opacity: 0.80\"> is </span><span style=\"background-color: hsl(120, 100.00%, 81.36%); opacity: 0.87\" title=\"0.078\">beautiful</span><span style=\"opacity: 0.80\"> and was </span><span style=\"background-color: hsl(120, 100.00%, 60.00%); opacity: 1.00\" title=\"0.232\">excellent</span><span style=\"opacity: 0.80\"> as the </span><span style=\"background-color: hsl(120, 100.00%, 91.24%); opacity: 0.82\" title=\"0.027\">babysitter</span><span style=\"opacity: 0.80\">, i </span><span style=\"background-color: hsl(120, 100.00%, 77.70%); opacity: 0.89\" title=\"0.101\">liked</span><span style=\"opacity: 0.80\"> her </span><span style=\"background-color: hsl(120, 100.00%, 88.93%); opacity: 0.83\" title=\"0.037\">lots</span><span style=\"opacity: 0.80\">!. </span><span style=\"background-color: hsl(120, 100.00%, 93.57%); opacity: 0.81\" title=\"0.017\">jon</span><span style=\"opacity: 0.80\"> </span><span style=\"background-color: hsl(120, 100.00%, 94.65%); opacity: 0.81\" title=\"0.013\">pertwee</span><span style=\"opacity: 0.80\"> </span><span style=\"background-color: hsl(0, 100.00%, 81.41%); opacity: 0.87\" title=\"-0.078\">annoyed</span><span style=\"opacity: 0.80\"> me here, and was </span><span style=\"background-color: hsl(120, 100.00%, 88.11%); opacity: 0.84\" title=\"0.041\">quite</span><span style=\"opacity: 0.80\"> </span><span style=\"background-color: hsl(0, 100.00%, 65.51%); opacity: 0.96\" title=\"-0.188\">bland</span><span style=\"opacity: 0.80\">, and </span><span style=\"background-color: hsl(0, 100.00%, 85.43%); opacity: 0.85\" title=\"-0.055\">completely</span><span style=\"opacity: 0.80\"> </span><span style=\"background-color: hsl(0, 100.00%, 67.76%); opacity: 0.95\" title=\"-0.171\">unfunny</span><span style=\"opacity: 0.80\">, he also had no </span><span style=\"background-color: hsl(0, 100.00%, 94.72%); opacity: 0.81\" title=\"-0.013\">chemistry</span><span style=\"opacity: 0.80\"> with </span><span style=\"background-color: hsl(120, 100.00%, 83.36%); opacity: 0.86\" title=\"0.066\">ingrid</span><span style=\"opacity: 0.80\"> </span><span style=\"background-color: hsl(120, 100.00%, 89.11%); opacity: 0.83\" title=\"0.036\">pitt</span><span style=\"opacity: 0.80\">!. </span><span style=\"background-color: hsl(120, 100.00%, 83.36%); opacity: 0.86\" title=\"0.066\">ingrid</span><span style=\"opacity: 0.80\"> </span><span style=\"background-color: hsl(120, 100.00%, 89.11%); opacity: 0.83\" title=\"0.036\">pitt</span><span style=\"opacity: 0.80\"> is </span><span style=\"background-color: hsl(120, 100.00%, 81.36%); opacity: 0.87\" title=\"0.078\">beautiful</span><span style=\"opacity: 0.80\"> , and </span><span style=\"background-color: hsl(0, 100.00%, 92.52%); opacity: 0.82\" title=\"-0.021\">does</span><span style=\"opacity: 0.80\"> her </span><span style=\"background-color: hsl(120, 100.00%, 97.40%); opacity: 0.80\" title=\"0.005\">usual</span><span style=\"opacity: 0.80\"> </span><span style=\"background-color: hsl(0, 100.00%, 96.97%); opacity: 0.81\" title=\"-0.006\">vampire</span><span style=\"opacity: 0.80\"> </span><span style=\"background-color: hsl(0, 100.00%, 87.60%); opacity: 0.84\" title=\"-0.044\">thing</span><span style=\"opacity: 0.80\"> and </span><span style=\"background-color: hsl(0, 100.00%, 92.52%); opacity: 0.82\" title=\"-0.021\">does</span><span style=\"opacity: 0.80\"> it well!.  </span><span style=\"background-color: hsl(0, 100.00%, 86.38%); opacity: 0.84\" title=\"-0.050\">rest</span><span style=\"opacity: 0.80\"> of the </span><span style=\"background-color: hsl(0, 100.00%, 95.14%); opacity: 0.81\" title=\"-0.011\">cast</span><span style=\"opacity: 0.80\"> do </span><span style=\"background-color: hsl(120, 100.00%, 84.84%); opacity: 0.85\" title=\"0.058\">fine</span><span style=\"opacity: 0.80\">. </span><span style=\"background-color: hsl(120, 100.00%, 88.11%); opacity: 0.84\" title=\"0.041\">overall</span><span style=\"opacity: 0.80\"> a must see!. **** out of 5</span>\n",
       "</p>\n"
      ],
      "text/plain": [
       "<IPython.core.display.HTML object>"
      ]
     },
     "metadata": {},
     "output_type": "display_data"
    },
    {
     "data": {
      "text/html": [
       "<p style=background-color:black;color:white;font-weight:bold;padding:4px>Good Movie #4 🏆</p>"
      ],
      "text/plain": [
       "<IPython.core.display.HTML object>"
      ]
     },
     "metadata": {},
     "output_type": "display_data"
    },
    {
     "data": {
      "text/html": [
       "\n",
       "<style>\n",
       "    table.eli5-weights tr:hover {\n",
       "        filter: brightness(85%);\n",
       "    }\n",
       "</style>\n",
       "\n",
       "\n",
       "<p style=\"margin-bottom: 2.5em; margin-top:-0.5em;\">\n",
       "<span style=\"opacity: 0.80\">this is a </span><span style=\"background-color: hsl(120, 100.00%, 67.69%); opacity: 0.95\" title=\"0.236\">great</span><span style=\"opacity: 0.80\"> </span><span style=\"background-color: hsl(120, 100.00%, 95.73%); opacity: 0.81\" title=\"0.013\">little</span><span style=\"opacity: 0.80\"> </span><span style=\"background-color: hsl(120, 100.00%, 95.44%); opacity: 0.81\" title=\"0.014\">film</span><span style=\"opacity: 0.80\">, that's very </span><span style=\"background-color: hsl(120, 100.00%, 71.80%); opacity: 0.92\" title=\"0.194\">unique</span><span style=\"opacity: 0.80\">, and </span><span style=\"background-color: hsl(120, 100.00%, 92.19%); opacity: 0.82\" title=\"0.031\">creative</span><span style=\"opacity: 0.80\">, with some </span><span style=\"background-color: hsl(120, 100.00%, 67.69%); opacity: 0.95\" title=\"0.236\">great</span><span style=\"opacity: 0.80\"> </span><span style=\"background-color: hsl(0, 100.00%, 85.93%); opacity: 0.84\" title=\"-0.072\">plot</span><span style=\"opacity: 0.80\"> </span><span style=\"background-color: hsl(120, 100.00%, 83.05%); opacity: 0.86\" title=\"0.094\">twists</span><span style=\"opacity: 0.80\"> and </span><span style=\"background-color: hsl(120, 100.00%, 63.06%); opacity: 0.98\" title=\"0.285\">wonderful</span><span style=\"opacity: 0.80\"> </span><span style=\"background-color: hsl(120, 100.00%, 79.69%); opacity: 0.88\" title=\"0.121\">performances</span><span style=\"opacity: 0.80\">!. all the </span><span style=\"background-color: hsl(0, 100.00%, 93.41%); opacity: 0.82\" title=\"-0.024\">characters</span><span style=\"opacity: 0.80\"> are </span><span style=\"background-color: hsl(120, 100.00%, 67.69%); opacity: 0.95\" title=\"0.236\">great</span><span style=\"opacity: 0.80\">, and the </span><span style=\"background-color: hsl(120, 100.00%, 95.78%); opacity: 0.81\" title=\"0.013\">story</span><span style=\"opacity: 0.80\"> while </span><span style=\"background-color: hsl(0, 100.00%, 85.59%); opacity: 0.85\" title=\"-0.074\">bizarre</span><span style=\"opacity: 0.80\">, is </span><span style=\"background-color: hsl(120, 100.00%, 75.51%); opacity: 0.90\" title=\"0.159\">fascinating</span><span style=\"opacity: 0.80\"> and very </span><span style=\"background-color: hsl(0, 100.00%, 84.56%); opacity: 0.85\" title=\"-0.082\">interesting</span><span style=\"opacity: 0.80\">, </span><span style=\"background-color: hsl(0, 100.00%, 97.65%); opacity: 0.80\" title=\"-0.006\">plus</span><span style=\"opacity: 0.80\"> </span><span style=\"background-color: hsl(120, 100.00%, 85.95%); opacity: 0.84\" title=\"0.072\">nicole</span><span style=\"opacity: 0.80\"> </span><span style=\"background-color: hsl(120, 100.00%, 80.58%); opacity: 0.87\" title=\"0.114\">kidman</span><span style=\"opacity: 0.80\"> is </span><span style=\"background-color: hsl(0, 100.00%, 86.28%); opacity: 0.84\" title=\"-0.069\">simply</span><span style=\"opacity: 0.80\"> </span><span style=\"background-color: hsl(120, 100.00%, 60.00%); opacity: 1.00\" title=\"0.320\">amazing</span><span style=\"opacity: 0.80\"> in this!. it's very </span><span style=\"background-color: hsl(0, 100.00%, 95.94%); opacity: 0.81\" title=\"-0.012\">hard</span><span style=\"opacity: 0.80\"> to describe this </span><span style=\"background-color: hsl(0, 100.00%, 98.65%); opacity: 0.80\" title=\"-0.003\">movie</span><span style=\"opacity: 0.80\">, because it </span><span style=\"background-color: hsl(120, 100.00%, 99.63%); opacity: 0.80\" title=\"0.000\">really</span><span style=\"opacity: 0.80\"> is </span><span style=\"background-color: hsl(120, 100.00%, 87.10%); opacity: 0.84\" title=\"0.063\">quite</span><span style=\"opacity: 0.80\"> </span><span style=\"background-color: hsl(0, 100.00%, 85.59%); opacity: 0.85\" title=\"-0.074\">bizarre</span><span style=\"opacity: 0.80\">, it's a </span><span style=\"background-color: hsl(120, 100.00%, 94.07%); opacity: 0.81\" title=\"0.021\">comedy</span><span style=\"opacity: 0.80\">/</span><span style=\"background-color: hsl(120, 100.00%, 90.31%); opacity: 0.83\" title=\"0.042\">romance</span><span style=\"opacity: 0.80\">, one </span><span style=\"background-color: hsl(0, 100.00%, 87.92%); opacity: 0.84\" title=\"-0.058\">minute</span><span style=\"opacity: 0.80\"> then it </span><span style=\"background-color: hsl(120, 100.00%, 85.05%); opacity: 0.85\" title=\"0.078\">turns</span><span style=\"opacity: 0.80\"> into a </span><span style=\"background-color: hsl(120, 100.00%, 92.75%); opacity: 0.82\" title=\"0.028\">thriller</span><span style=\"opacity: 0.80\"> the next, however it was still very </span><span style=\"background-color: hsl(120, 100.00%, 71.90%); opacity: 0.92\" title=\"0.193\">entertaining</span><span style=\"opacity: 0.80\"> all the same, </span><span style=\"background-color: hsl(0, 100.00%, 97.65%); opacity: 0.80\" title=\"-0.006\">plus</span><span style=\"opacity: 0.80\"> </span><span style=\"background-color: hsl(120, 100.00%, 85.95%); opacity: 0.84\" title=\"0.072\">nicole</span><span style=\"opacity: 0.80\">'s </span><span style=\"background-color: hsl(0, 100.00%, 85.07%); opacity: 0.85\" title=\"-0.078\">russian</span><span style=\"opacity: 0.80\"> </span><span style=\"background-color: hsl(0, 100.00%, 82.79%); opacity: 0.86\" title=\"-0.096\">accent</span><span style=\"opacity: 0.80\"> was </span><span style=\"background-color: hsl(120, 100.00%, 69.68%); opacity: 0.93\" title=\"0.215\">fantastic</span><span style=\"opacity: 0.80\">, and </span><span style=\"background-color: hsl(0, 100.00%, 92.02%); opacity: 0.82\" title=\"-0.032\">extremely</span><span style=\"opacity: 0.80\"> </span><span style=\"background-color: hsl(120, 100.00%, 90.01%); opacity: 0.83\" title=\"0.044\">convincing</span><span style=\"opacity: 0.80\">. </span><span style=\"background-color: hsl(120, 100.00%, 89.18%); opacity: 0.83\" title=\"0.049\">chaplin</span><span style=\"opacity: 0.80\"> and </span><span style=\"background-color: hsl(120, 100.00%, 80.58%); opacity: 0.87\" title=\"0.114\">kidman</span><span style=\"opacity: 0.80\"> had very </span><span style=\"background-color: hsl(120, 100.00%, 86.60%); opacity: 0.84\" title=\"0.067\">good</span><span style=\"opacity: 0.80\"> </span><span style=\"background-color: hsl(0, 100.00%, 94.26%); opacity: 0.81\" title=\"-0.020\">chemistry</span><span style=\"opacity: 0.80\"> together, and i </span><span style=\"background-color: hsl(120, 100.00%, 63.80%); opacity: 0.97\" title=\"0.277\">loved</span><span style=\"opacity: 0.80\"> </span><span style=\"background-color: hsl(120, 100.00%, 95.24%); opacity: 0.81\" title=\"0.015\">vincent</span><span style=\"opacity: 0.80\"> </span><span style=\"background-color: hsl(120, 100.00%, 87.09%); opacity: 0.84\" title=\"0.064\">cassel</span><span style=\"opacity: 0.80\">'s </span><span style=\"background-color: hsl(120, 100.00%, 89.86%); opacity: 0.83\" title=\"0.045\">performance</span><span style=\"opacity: 0.80\">!, </span><span style=\"background-color: hsl(0, 100.00%, 97.65%); opacity: 0.80\" title=\"-0.006\">plus</span><span style=\"opacity: 0.80\"> some of the </span><span style=\"background-color: hsl(0, 100.00%, 85.93%); opacity: 0.84\" title=\"-0.072\">plot</span><span style=\"opacity: 0.80\"> </span><span style=\"background-color: hsl(120, 100.00%, 83.05%); opacity: 0.86\" title=\"0.094\">twists</span><span style=\"opacity: 0.80\"> </span><span style=\"background-color: hsl(120, 100.00%, 99.63%); opacity: 0.80\" title=\"0.000\">really</span><span style=\"opacity: 0.80\"> </span><span style=\"background-color: hsl(120, 100.00%, 98.84%); opacity: 0.80\" title=\"0.002\">took</span><span style=\"opacity: 0.80\"> me by </span><span style=\"background-color: hsl(120, 100.00%, 86.25%); opacity: 0.84\" title=\"0.070\">surprise</span><span style=\"opacity: 0.80\">!. the </span><span style=\"background-color: hsl(120, 100.00%, 95.93%); opacity: 0.81\" title=\"0.012\">ending</span><span style=\"opacity: 0.80\"> was very </span><span style=\"background-color: hsl(0, 100.00%, 91.48%); opacity: 0.82\" title=\"-0.035\">cute</span><span style=\"opacity: 0.80\">, and it's </span><span style=\"background-color: hsl(120, 100.00%, 80.77%); opacity: 0.87\" title=\"0.112\">unpredictable</span><span style=\"opacity: 0.80\"> throughout!, </span><span style=\"background-color: hsl(0, 100.00%, 97.65%); opacity: 0.80\" title=\"-0.006\">plus</span><span style=\"opacity: 0.80\"> this </span><span style=\"background-color: hsl(0, 100.00%, 98.65%); opacity: 0.80\" title=\"-0.003\">movie</span><span style=\"opacity: 0.80\"> is </span><span style=\"background-color: hsl(120, 100.00%, 87.10%); opacity: 0.84\" title=\"0.063\">quite</span><span style=\"opacity: 0.80\"> </span><span style=\"background-color: hsl(120, 100.00%, 69.78%); opacity: 0.93\" title=\"0.214\">underrated</span><span style=\"opacity: 0.80\"> as well!. you will </span><span style=\"background-color: hsl(120, 100.00%, 88.86%); opacity: 0.83\" title=\"0.051\">feel</span><span style=\"opacity: 0.80\"> </span><span style=\"background-color: hsl(0, 100.00%, 66.74%); opacity: 0.95\" title=\"-0.246\">sorry</span><span style=\"opacity: 0.80\"> for </span><span style=\"background-color: hsl(120, 100.00%, 89.18%); opacity: 0.83\" title=\"0.049\">chaplin</span><span style=\"opacity: 0.80\"> and the </span><span style=\"background-color: hsl(120, 100.00%, 96.78%); opacity: 0.81\" title=\"0.009\">way</span><span style=\"opacity: 0.80\"> that he is scammed, and i </span><span style=\"background-color: hsl(120, 100.00%, 93.97%); opacity: 0.81\" title=\"0.021\">thought</span><span style=\"opacity: 0.80\"> all the </span><span style=\"background-color: hsl(0, 100.00%, 93.41%); opacity: 0.82\" title=\"-0.024\">characters</span><span style=\"opacity: 0.80\"> were </span><span style=\"background-color: hsl(120, 100.00%, 99.63%); opacity: 0.80\" title=\"0.000\">really</span><span style=\"opacity: 0.80\"> </span><span style=\"background-color: hsl(120, 100.00%, 84.49%); opacity: 0.85\" title=\"0.083\">likable</span><span style=\"opacity: 0.80\">, </span><span style=\"background-color: hsl(0, 100.00%, 97.65%); opacity: 0.80\" title=\"-0.006\">plus</span><span style=\"opacity: 0.80\"> the </span><span style=\"background-color: hsl(0, 100.00%, 86.44%); opacity: 0.84\" title=\"-0.068\">finale</span><span style=\"opacity: 0.80\"> is </span><span style=\"background-color: hsl(120, 100.00%, 77.12%); opacity: 0.89\" title=\"0.144\">especially</span><span style=\"opacity: 0.80\"> </span><span style=\"background-color: hsl(120, 100.00%, 86.60%); opacity: 0.84\" title=\"0.067\">good</span><span style=\"opacity: 0.80\">.this is </span><span style=\"background-color: hsl(120, 100.00%, 85.95%); opacity: 0.84\" title=\"0.072\">nicole</span><span style=\"opacity: 0.80\">'s </span><span style=\"background-color: hsl(0, 100.00%, 98.65%); opacity: 0.80\" title=\"-0.003\">movie</span><span style=\"opacity: 0.80\"> though, and she </span><span style=\"background-color: hsl(120, 100.00%, 77.24%); opacity: 0.89\" title=\"0.143\">carries</span><span style=\"opacity: 0.80\"> it with her </span><span style=\"background-color: hsl(120, 100.00%, 95.08%); opacity: 0.81\" title=\"0.016\">incredibly</span><span style=\"opacity: 0.80\"> </span><span style=\"background-color: hsl(120, 100.00%, 92.96%); opacity: 0.82\" title=\"0.027\">sexy</span><span style=\"opacity: 0.80\"> </span><span style=\"background-color: hsl(120, 100.00%, 89.86%); opacity: 0.83\" title=\"0.045\">performance</span><span style=\"opacity: 0.80\">!. this is a </span><span style=\"background-color: hsl(120, 100.00%, 67.69%); opacity: 0.95\" title=\"0.236\">great</span><span style=\"opacity: 0.80\"> </span><span style=\"background-color: hsl(120, 100.00%, 95.73%); opacity: 0.81\" title=\"0.013\">little</span><span style=\"opacity: 0.80\"> </span><span style=\"background-color: hsl(120, 100.00%, 95.44%); opacity: 0.81\" title=\"0.014\">film</span><span style=\"opacity: 0.80\">, that's very </span><span style=\"background-color: hsl(120, 100.00%, 71.80%); opacity: 0.92\" title=\"0.194\">unique</span><span style=\"opacity: 0.80\">, and </span><span style=\"background-color: hsl(120, 100.00%, 92.19%); opacity: 0.82\" title=\"0.031\">creative</span><span style=\"opacity: 0.80\">, with some </span><span style=\"background-color: hsl(120, 100.00%, 67.69%); opacity: 0.95\" title=\"0.236\">great</span><span style=\"opacity: 0.80\"> </span><span style=\"background-color: hsl(0, 100.00%, 85.93%); opacity: 0.84\" title=\"-0.072\">plot</span><span style=\"opacity: 0.80\"> </span><span style=\"background-color: hsl(120, 100.00%, 83.05%); opacity: 0.86\" title=\"0.094\">twists</span><span style=\"opacity: 0.80\"> and </span><span style=\"background-color: hsl(120, 100.00%, 63.06%); opacity: 0.98\" title=\"0.285\">wonderful</span><span style=\"opacity: 0.80\"> </span><span style=\"background-color: hsl(120, 100.00%, 79.69%); opacity: 0.88\" title=\"0.121\">performances</span><span style=\"opacity: 0.80\">!, i </span><span style=\"background-color: hsl(120, 100.00%, 67.95%); opacity: 0.95\" title=\"0.233\">highly</span><span style=\"opacity: 0.80\"> </span><span style=\"background-color: hsl(120, 100.00%, 83.14%); opacity: 0.86\" title=\"0.093\">recommend</span><span style=\"opacity: 0.80\"> this one!. the </span><span style=\"background-color: hsl(0, 100.00%, 85.63%); opacity: 0.85\" title=\"-0.074\">direction</span><span style=\"opacity: 0.80\"> is very </span><span style=\"background-color: hsl(120, 100.00%, 86.60%); opacity: 0.84\" title=\"0.067\">good</span><span style=\"opacity: 0.80\">!. jez </span><span style=\"background-color: hsl(0, 100.00%, 97.52%); opacity: 0.80\" title=\"-0.006\">butterworth</span><span style=\"opacity: 0.80\"> </span><span style=\"background-color: hsl(0, 100.00%, 91.88%); opacity: 0.82\" title=\"-0.033\">does</span><span style=\"opacity: 0.80\"> a very </span><span style=\"background-color: hsl(120, 100.00%, 86.60%); opacity: 0.84\" title=\"0.067\">good</span><span style=\"opacity: 0.80\"> </span><span style=\"background-color: hsl(120, 100.00%, 75.82%); opacity: 0.90\" title=\"0.156\">job</span><span style=\"opacity: 0.80\"> here, with </span><span style=\"background-color: hsl(120, 100.00%, 67.69%); opacity: 0.95\" title=\"0.236\">great</span><span style=\"opacity: 0.80\"> </span><span style=\"background-color: hsl(0, 100.00%, 84.61%); opacity: 0.85\" title=\"-0.082\">camera</span><span style=\"opacity: 0.80\"> </span><span style=\"background-color: hsl(0, 100.00%, 97.93%); opacity: 0.80\" title=\"-0.005\">work</span><span style=\"opacity: 0.80\">, </span><span style=\"background-color: hsl(120, 100.00%, 70.44%); opacity: 0.93\" title=\"0.207\">solid</span><span style=\"opacity: 0.80\"> </span><span style=\"background-color: hsl(0, 100.00%, 94.94%); opacity: 0.81\" title=\"-0.017\">angles</span><span style=\"opacity: 0.80\"> and </span><span style=\"background-color: hsl(120, 100.00%, 85.07%); opacity: 0.85\" title=\"0.078\">keeping</span><span style=\"opacity: 0.80\"> the </span><span style=\"background-color: hsl(120, 100.00%, 95.44%); opacity: 0.81\" title=\"0.014\">film</span><span style=\"opacity: 0.80\"> at a </span><span style=\"background-color: hsl(120, 100.00%, 97.78%); opacity: 0.80\" title=\"0.005\">fast</span><span style=\"opacity: 0.80\"> </span><span style=\"background-color: hsl(120, 100.00%, 82.89%); opacity: 0.86\" title=\"0.095\">pace</span><span style=\"opacity: 0.80\">!. the </span><span style=\"background-color: hsl(0, 100.00%, 88.12%); opacity: 0.84\" title=\"-0.056\">acting</span><span style=\"opacity: 0.80\"> is </span><span style=\"background-color: hsl(120, 100.00%, 63.06%); opacity: 0.98\" title=\"0.285\">wonderful</span><span style=\"opacity: 0.80\">!. </span><span style=\"background-color: hsl(120, 100.00%, 85.95%); opacity: 0.84\" title=\"0.072\">nicole</span><span style=\"opacity: 0.80\"> </span><span style=\"background-color: hsl(120, 100.00%, 80.58%); opacity: 0.87\" title=\"0.114\">kidman</span><span style=\"opacity: 0.80\">, is </span><span style=\"background-color: hsl(120, 100.00%, 89.58%); opacity: 0.83\" title=\"0.047\">stunningly</span><span style=\"opacity: 0.80\"> </span><span style=\"background-color: hsl(120, 100.00%, 79.59%); opacity: 0.88\" title=\"0.122\">gorgeous</span><span style=\"opacity: 0.80\">!, and is </span><span style=\"background-color: hsl(120, 100.00%, 60.00%); opacity: 1.00\" title=\"0.320\">amazing</span><span style=\"opacity: 0.80\"> as always, she is </span><span style=\"background-color: hsl(120, 100.00%, 95.08%); opacity: 0.81\" title=\"0.016\">incredibly</span><span style=\"opacity: 0.80\"> </span><span style=\"background-color: hsl(120, 100.00%, 92.96%); opacity: 0.82\" title=\"0.027\">sexy</span><span style=\"opacity: 0.80\">, very </span><span style=\"background-color: hsl(120, 100.00%, 84.49%); opacity: 0.85\" title=\"0.083\">likable</span><span style=\"opacity: 0.80\">, had one of the </span><span style=\"background-color: hsl(120, 100.00%, 94.52%); opacity: 0.81\" title=\"0.019\">coolest</span><span style=\"opacity: 0.80\"> </span><span style=\"background-color: hsl(0, 100.00%, 82.92%); opacity: 0.86\" title=\"-0.095\">accents</span><span style=\"opacity: 0.80\">, </span><span style=\"background-color: hsl(0, 100.00%, 91.85%); opacity: 0.82\" title=\"-0.033\">added</span><span style=\"opacity: 0.80\"> a </span><span style=\"background-color: hsl(120, 100.00%, 86.76%); opacity: 0.84\" title=\"0.066\">lot</span><span style=\"opacity: 0.80\"> of </span><span style=\"background-color: hsl(0, 100.00%, 98.80%); opacity: 0.80\" title=\"-0.002\">presence</span><span style=\"opacity: 0.80\">, had very </span><span style=\"background-color: hsl(120, 100.00%, 86.60%); opacity: 0.84\" title=\"0.067\">good</span><span style=\"opacity: 0.80\"> </span><span style=\"background-color: hsl(0, 100.00%, 94.26%); opacity: 0.81\" title=\"-0.020\">chemistry</span><span style=\"opacity: 0.80\"> with </span><span style=\"background-color: hsl(120, 100.00%, 89.15%); opacity: 0.83\" title=\"0.050\">ben</span><span style=\"opacity: 0.80\"> </span><span style=\"background-color: hsl(120, 100.00%, 89.18%); opacity: 0.83\" title=\"0.049\">chaplin</span><span style=\"opacity: 0.80\">, and had a very </span><span style=\"background-color: hsl(120, 100.00%, 98.78%); opacity: 0.80\" title=\"0.002\">mysterious</span><span style=\"opacity: 0.80\"> </span><span style=\"background-color: hsl(0, 100.00%, 98.67%); opacity: 0.80\" title=\"-0.002\">character</span><span style=\"opacity: 0.80\">!, she was </span><span style=\"background-color: hsl(120, 100.00%, 60.00%); opacity: 1.00\" title=\"0.320\">amazing</span><span style=\"opacity: 0.80\">. (</span><span style=\"background-color: hsl(120, 100.00%, 80.58%); opacity: 0.87\" title=\"0.114\">kidman</span><span style=\"opacity: 0.80\"> </span><span style=\"background-color: hsl(120, 100.00%, 83.51%); opacity: 0.86\" title=\"0.090\">rules</span><span style=\"opacity: 0.80\">!!!!). </span><span style=\"background-color: hsl(120, 100.00%, 89.15%); opacity: 0.83\" title=\"0.050\">ben</span><span style=\"opacity: 0.80\"> </span><span style=\"background-color: hsl(120, 100.00%, 89.18%); opacity: 0.83\" title=\"0.049\">chaplin</span><span style=\"opacity: 0.80\"> is </span><span style=\"background-color: hsl(120, 100.00%, 67.69%); opacity: 0.95\" title=\"0.236\">great</span><span style=\"opacity: 0.80\"> here, he is </span><span style=\"background-color: hsl(0, 100.00%, 92.02%); opacity: 0.82\" title=\"-0.032\">extremely</span><span style=\"opacity: 0.80\"> </span><span style=\"background-color: hsl(120, 100.00%, 84.49%); opacity: 0.85\" title=\"0.083\">likable</span><span style=\"opacity: 0.80\">, had a </span><span style=\"background-color: hsl(120, 100.00%, 84.16%); opacity: 0.85\" title=\"0.085\">cool</span><span style=\"opacity: 0.80\"> </span><span style=\"background-color: hsl(0, 100.00%, 98.67%); opacity: 0.80\" title=\"-0.002\">character</span><span style=\"opacity: 0.80\">, had very </span><span style=\"background-color: hsl(120, 100.00%, 86.60%); opacity: 0.84\" title=\"0.067\">good</span><span style=\"opacity: 0.80\"> </span><span style=\"background-color: hsl(0, 100.00%, 94.26%); opacity: 0.81\" title=\"-0.020\">chemistry</span><span style=\"opacity: 0.80\"> with </span><span style=\"background-color: hsl(120, 100.00%, 80.58%); opacity: 0.87\" title=\"0.114\">kidman</span><span style=\"opacity: 0.80\">, the only </span><span style=\"background-color: hsl(0, 100.00%, 86.54%); opacity: 0.84\" title=\"-0.067\">thing</span><span style=\"opacity: 0.80\"> i didn't </span><span style=\"background-color: hsl(0, 100.00%, 95.07%); opacity: 0.81\" title=\"-0.016\">like</span><span style=\"opacity: 0.80\"> was him </span><span style=\"background-color: hsl(120, 100.00%, 88.24%); opacity: 0.83\" title=\"0.056\">taking</span><span style=\"opacity: 0.80\"> out his </span><span style=\"background-color: hsl(0, 100.00%, 93.42%); opacity: 0.82\" title=\"-0.024\">anger</span><span style=\"opacity: 0.80\"> out on </span><span style=\"background-color: hsl(120, 100.00%, 80.58%); opacity: 0.87\" title=\"0.114\">kidman</span><span style=\"opacity: 0.80\">, even though what she </span><span style=\"background-color: hsl(0, 100.00%, 86.68%); opacity: 0.84\" title=\"-0.066\">did</span><span style=\"opacity: 0.80\"> was </span><span style=\"background-color: hsl(0, 100.00%, 83.44%); opacity: 0.86\" title=\"-0.091\">wrong</span><span style=\"opacity: 0.80\">, and i </span><span style=\"background-color: hsl(120, 100.00%, 63.80%); opacity: 0.97\" title=\"0.277\">loved</span><span style=\"opacity: 0.80\"> how he </span><span style=\"background-color: hsl(120, 100.00%, 91.33%); opacity: 0.82\" title=\"0.036\">got</span><span style=\"opacity: 0.80\"> </span><span style=\"background-color: hsl(0, 100.00%, 81.45%); opacity: 0.87\" title=\"-0.107\">revenge</span><span style=\"opacity: 0.80\"> in the </span><span style=\"background-color: hsl(120, 100.00%, 91.24%); opacity: 0.82\" title=\"0.036\">end</span><span style=\"opacity: 0.80\">!. </span><span style=\"background-color: hsl(120, 100.00%, 95.24%); opacity: 0.81\" title=\"0.015\">vincent</span><span style=\"opacity: 0.80\"> </span><span style=\"background-color: hsl(120, 100.00%, 87.09%); opacity: 0.84\" title=\"0.064\">cassel</span><span style=\"opacity: 0.80\"> is </span><span style=\"background-color: hsl(120, 100.00%, 69.68%); opacity: 0.93\" title=\"0.215\">fantastic</span><span style=\"opacity: 0.80\"> as the </span><span style=\"background-color: hsl(0, 100.00%, 90.96%); opacity: 0.82\" title=\"-0.038\">main</span><span style=\"opacity: 0.80\"> </span><span style=\"background-color: hsl(0, 100.00%, 81.41%); opacity: 0.87\" title=\"-0.107\">villain</span><span style=\"opacity: 0.80\">, </span><span style=\"background-color: hsl(120, 100.00%, 89.87%); opacity: 0.83\" title=\"0.045\">yes</span><span style=\"opacity: 0.80\"> he was </span><span style=\"background-color: hsl(120, 100.00%, 94.04%); opacity: 0.81\" title=\"0.021\">ott</span><span style=\"opacity: 0.80\">, but he was very </span><span style=\"background-color: hsl(120, 100.00%, 75.83%); opacity: 0.90\" title=\"0.156\">intense</span><span style=\"opacity: 0.80\"> and </span><span style=\"background-color: hsl(120, 100.00%, 87.10%); opacity: 0.84\" title=\"0.063\">quite</span><span style=\"opacity: 0.80\"> </span><span style=\"background-color: hsl(120, 100.00%, 90.52%); opacity: 0.83\" title=\"0.041\">creepy</span><span style=\"opacity: 0.80\"> at </span><span style=\"background-color: hsl(120, 100.00%, 88.77%); opacity: 0.83\" title=\"0.052\">times</span><span style=\"opacity: 0.80\">, this </span><span style=\"background-color: hsl(120, 100.00%, 91.53%); opacity: 0.82\" title=\"0.035\">role</span><span style=\"opacity: 0.80\"> was </span><span style=\"background-color: hsl(120, 100.00%, 65.66%); opacity: 0.96\" title=\"0.257\">perfect</span><span style=\"opacity: 0.80\"> for him. </span><span style=\"background-color: hsl(120, 100.00%, 79.45%); opacity: 0.88\" title=\"0.123\">mathieu</span><span style=\"opacity: 0.80\"> </span><span style=\"background-color: hsl(120, 100.00%, 91.28%); opacity: 0.82\" title=\"0.036\">kassovitz</span><span style=\"opacity: 0.80\"> is </span><span style=\"background-color: hsl(0, 100.00%, 82.66%); opacity: 0.86\" title=\"-0.097\">ok</span><span style=\"opacity: 0.80\"> here, but didn't have much to do. </span><span style=\"background-color: hsl(0, 100.00%, 85.21%); opacity: 0.85\" title=\"-0.077\">rest</span><span style=\"opacity: 0.80\"> of the </span><span style=\"background-color: hsl(0, 100.00%, 94.72%); opacity: 0.81\" title=\"-0.018\">cast</span><span style=\"opacity: 0.80\"> are </span><span style=\"background-color: hsl(120, 100.00%, 83.55%); opacity: 0.86\" title=\"0.090\">fine</span><span style=\"opacity: 0.80\">. </span><span style=\"background-color: hsl(120, 100.00%, 87.09%); opacity: 0.84\" title=\"0.064\">overall</span><span style=\"opacity: 0.80\"> i </span><span style=\"background-color: hsl(120, 100.00%, 67.95%); opacity: 0.95\" title=\"0.233\">highly</span><span style=\"opacity: 0.80\"> </span><span style=\"background-color: hsl(120, 100.00%, 83.14%); opacity: 0.86\" title=\"0.093\">recommend</span><span style=\"opacity: 0.80\"> this one!. ***1/2 out of 5</span>\n",
       "</p>\n"
      ],
      "text/plain": [
       "<IPython.core.display.HTML object>"
      ]
     },
     "metadata": {},
     "output_type": "display_data"
    },
    {
     "data": {
      "text/html": [
       "<p style=background-color:black;color:white;font-weight:bold;padding:4px>Good Movie #5 🏆</p>"
      ],
      "text/plain": [
       "<IPython.core.display.HTML object>"
      ]
     },
     "metadata": {},
     "output_type": "display_data"
    },
    {
     "data": {
      "text/html": [
       "\n",
       "<style>\n",
       "    table.eli5-weights tr:hover {\n",
       "        filter: brightness(85%);\n",
       "    }\n",
       "</style>\n",
       "\n",
       "\n",
       "<p style=\"margin-bottom: 2.5em; margin-top:-0.5em;\">\n",
       "<span style=\"opacity: 0.80\">one of the </span><span style=\"background-color: hsl(120, 100.00%, 74.36%); opacity: 0.91\" title=\"0.499\">best</span><span style=\"opacity: 0.80\"> </span><span style=\"background-color: hsl(120, 100.00%, 97.47%); opacity: 0.80\" title=\"0.018\">movies</span><span style=\"opacity: 0.80\"> out there. </span><span style=\"background-color: hsl(0, 100.00%, 90.83%); opacity: 0.82\" title=\"-0.115\">yeah</span><span style=\"opacity: 0.80\"> </span><span style=\"background-color: hsl(0, 100.00%, 86.90%); opacity: 0.84\" title=\"-0.191\">maybe</span><span style=\"opacity: 0.80\"> the </span><span style=\"background-color: hsl(0, 100.00%, 89.62%); opacity: 0.83\" title=\"-0.137\">cinematography</span><span style=\"opacity: 0.80\"> wasn't the </span><span style=\"background-color: hsl(120, 100.00%, 75.52%); opacity: 0.90\" title=\"0.467\">greatest</span><span style=\"opacity: 0.80\">, but an </span><span style=\"background-color: hsl(120, 100.00%, 60.00%); opacity: 1.00\" title=\"0.942\">excellent</span><span style=\"opacity: 0.80\"> </span><span style=\"background-color: hsl(0, 100.00%, 87.04%); opacity: 0.84\" title=\"-0.188\">plot</span><span style=\"opacity: 0.80\"> and </span><span style=\"background-color: hsl(0, 100.00%, 82.91%); opacity: 0.86\" title=\"-0.280\">concept</span><span style=\"opacity: 0.80\">. </span><span style=\"background-color: hsl(120, 100.00%, 70.24%); opacity: 0.93\" title=\"0.618\">great</span><span style=\"opacity: 0.80\"> for the </span><span style=\"background-color: hsl(120, 100.00%, 92.11%); opacity: 0.82\" title=\"0.093\">time</span><span style=\"opacity: 0.80\"> and </span><span style=\"background-color: hsl(120, 100.00%, 69.58%); opacity: 0.94\" title=\"0.637\">brilliant</span><span style=\"opacity: 0.80\"> and </span><span style=\"background-color: hsl(120, 100.00%, 92.81%); opacity: 0.82\" title=\"0.081\">creative</span><span style=\"opacity: 0.80\"> </span><span style=\"background-color: hsl(0, 100.00%, 87.77%); opacity: 0.84\" title=\"-0.173\">ideas</span><span style=\"opacity: 0.80\">. something </span><span style=\"background-color: hsl(120, 100.00%, 82.02%); opacity: 0.86\" title=\"0.301\">different</span><span style=\"opacity: 0.80\"> from the </span><span style=\"background-color: hsl(120, 100.00%, 97.40%); opacity: 0.80\" title=\"0.019\">usual</span><span style=\"opacity: 0.80\"> </span><span style=\"background-color: hsl(120, 100.00%, 97.47%); opacity: 0.80\" title=\"0.018\">movies</span><span style=\"opacity: 0.80\"> and </span><span style=\"background-color: hsl(120, 100.00%, 70.24%); opacity: 0.93\" title=\"0.618\">great</span><span style=\"opacity: 0.80\"> </span><span style=\"background-color: hsl(120, 100.00%, 74.28%); opacity: 0.91\" title=\"0.501\">fun</span><span style=\"opacity: 0.80\">. one of my </span><span style=\"background-color: hsl(120, 100.00%, 75.93%); opacity: 0.90\" title=\"0.456\">favorites</span><span style=\"opacity: 0.80\"> and would </span><span style=\"background-color: hsl(120, 100.00%, 84.47%); opacity: 0.85\" title=\"0.244\">recommend</span><span style=\"opacity: 0.80\"> to anyone who </span><span style=\"background-color: hsl(0, 100.00%, 97.07%); opacity: 0.80\" title=\"-0.023\">likes</span><span style=\"opacity: 0.80\"> </span><span style=\"background-color: hsl(120, 100.00%, 92.81%); opacity: 0.82\" title=\"0.081\">creative</span><span style=\"opacity: 0.80\"> and </span><span style=\"background-color: hsl(120, 100.00%, 84.60%); opacity: 0.85\" title=\"0.241\">imaginative</span><span style=\"opacity: 0.80\"> </span><span style=\"background-color: hsl(120, 100.00%, 97.47%); opacity: 0.80\" title=\"0.018\">movies</span><span style=\"opacity: 0.80\">. </span><span style=\"background-color: hsl(120, 100.00%, 94.51%); opacity: 0.81\" title=\"0.055\">post</span><span style=\"opacity: 0.80\"> </span><span style=\"background-color: hsl(120, 100.00%, 85.49%); opacity: 0.85\" title=\"0.221\">world</span><span style=\"opacity: 0.80\"> </span><span style=\"background-color: hsl(120, 100.00%, 84.71%); opacity: 0.85\" title=\"0.238\">war</span><span style=\"opacity: 0.80\"> 3 and </span><span style=\"background-color: hsl(0, 100.00%, 98.97%); opacity: 0.80\" title=\"-0.005\">fighting</span><span style=\"opacity: 0.80\"> in </span><span style=\"background-color: hsl(0, 100.00%, 99.17%); opacity: 0.80\" title=\"-0.004\">gigantic</span><span style=\"opacity: 0.80\"> </span><span style=\"background-color: hsl(0, 100.00%, 96.91%); opacity: 0.81\" title=\"-0.024\">robots</span><span style=\"opacity: 0.80\">, the </span><span style=\"background-color: hsl(0, 100.00%, 89.86%); opacity: 0.83\" title=\"-0.133\">actors</span><span style=\"opacity: 0.80\"> </span><span style=\"background-color: hsl(0, 100.00%, 92.30%); opacity: 0.82\" title=\"-0.089\">gave</span><span style=\"opacity: 0.80\"> a </span><span style=\"background-color: hsl(120, 100.00%, 70.24%); opacity: 0.93\" title=\"0.618\">great</span><span style=\"opacity: 0.80\"> </span><span style=\"background-color: hsl(120, 100.00%, 90.66%); opacity: 0.83\" title=\"0.118\">performance</span><span style=\"opacity: 0.80\"> and made it all </span><span style=\"background-color: hsl(120, 100.00%, 83.15%); opacity: 0.86\" title=\"0.274\">worth</span><span style=\"opacity: 0.80\"> while. the </span><span style=\"background-color: hsl(0, 100.00%, 97.41%); opacity: 0.80\" title=\"-0.019\">sets</span><span style=\"opacity: 0.80\"> are not </span><span style=\"background-color: hsl(120, 100.00%, 63.15%); opacity: 0.98\" title=\"0.838\">amazing</span><span style=\"opacity: 0.80\">, but </span><span style=\"background-color: hsl(120, 100.00%, 78.04%); opacity: 0.88\" title=\"0.400\">simple</span><span style=\"opacity: 0.80\"> and </span><span style=\"background-color: hsl(120, 100.00%, 95.46%); opacity: 0.81\" title=\"0.042\">worked</span><span style=\"opacity: 0.80\"> for the </span><span style=\"background-color: hsl(120, 100.00%, 88.11%); opacity: 0.84\" title=\"0.167\">overall</span><span style=\"opacity: 0.80\"> </span><span style=\"background-color: hsl(0, 100.00%, 94.51%); opacity: 0.81\" title=\"-0.055\">look</span><span style=\"opacity: 0.80\"> of the </span><span style=\"background-color: hsl(120, 100.00%, 95.80%); opacity: 0.81\" title=\"0.038\">film</span><span style=\"opacity: 0.80\">. this </span><span style=\"background-color: hsl(0, 100.00%, 98.75%); opacity: 0.80\" title=\"-0.007\">movie</span><span style=\"opacity: 0.80\"> is very </span><span style=\"background-color: hsl(0, 100.00%, 96.26%); opacity: 0.81\" title=\"-0.032\">hard</span><span style=\"opacity: 0.80\"> to find on </span><span style=\"background-color: hsl(120, 100.00%, 79.00%); opacity: 0.88\" title=\"0.375\">dvd</span><span style=\"opacity: 0.80\">, but also on </span><span style=\"background-color: hsl(120, 100.00%, 84.39%); opacity: 0.85\" title=\"0.246\">vhs</span><span style=\"opacity: 0.80\">. </span><span style=\"background-color: hsl(120, 100.00%, 89.55%); opacity: 0.83\" title=\"0.139\">check</span><span style=\"opacity: 0.80\"> it out </span><span style=\"background-color: hsl(120, 100.00%, 92.59%); opacity: 0.82\" title=\"0.085\">cause</span><span style=\"opacity: 0.80\"> i have </span><span style=\"background-color: hsl(120, 100.00%, 66.65%); opacity: 0.95\" title=\"0.727\">loved</span><span style=\"opacity: 0.80\"> it since it </span><span style=\"background-color: hsl(120, 100.00%, 95.67%); opacity: 0.81\" title=\"0.039\">came</span><span style=\"opacity: 0.80\"> out. not a </span><span style=\"background-color: hsl(120, 100.00%, 86.20%); opacity: 0.84\" title=\"0.206\">mainstream</span><span style=\"opacity: 0.80\"> </span><span style=\"background-color: hsl(0, 100.00%, 94.47%); opacity: 0.81\" title=\"-0.056\">flick</span><span style=\"opacity: 0.80\"> and not </span><span style=\"background-color: hsl(0, 100.00%, 95.46%); opacity: 0.81\" title=\"-0.042\">like</span><span style=\"opacity: 0.80\"> anything you'</span><span style=\"background-color: hsl(120, 100.00%, 91.99%); opacity: 0.82\" title=\"0.095\">ve</span><span style=\"opacity: 0.80\"> ever </span><span style=\"background-color: hsl(120, 100.00%, 87.14%); opacity: 0.84\" title=\"0.186\">seen</span><span style=\"opacity: 0.80\">. take a </span><span style=\"background-color: hsl(0, 100.00%, 94.51%); opacity: 0.81\" title=\"-0.055\">look</span><span style=\"opacity: 0.80\"> and </span><span style=\"background-color: hsl(120, 100.00%, 87.23%); opacity: 0.84\" title=\"0.185\">think</span><span style=\"opacity: 0.80\"> </span><span style=\"background-color: hsl(0, 100.00%, 95.46%); opacity: 0.81\" title=\"-0.042\">like</span><span style=\"opacity: 0.80\"> a </span><span style=\"background-color: hsl(0, 100.00%, 90.82%); opacity: 0.82\" title=\"-0.115\">child</span><span style=\"opacity: 0.80\">. it's a </span><span style=\"background-color: hsl(120, 100.00%, 70.24%); opacity: 0.93\" title=\"0.618\">great</span><span style=\"opacity: 0.80\"> </span><span style=\"background-color: hsl(120, 100.00%, 93.09%); opacity: 0.82\" title=\"0.077\">view</span><span style=\"opacity: 0.80\"> and very </span><span style=\"background-color: hsl(120, 100.00%, 74.28%); opacity: 0.91\" title=\"0.501\">fun</span><span style=\"opacity: 0.80\">.</span>\n",
       "</p>\n"
      ],
      "text/plain": [
       "<IPython.core.display.HTML object>"
      ]
     },
     "metadata": {},
     "output_type": "display_data"
    }
   ],
   "source": [
    "for i, review in enumerate(best5):\n",
    "    display(HTML(f\"<p style={style}>Good Movie #{i+1} 🏆</p>\"))\n",
    "    eli5_html(clf, vec, review)"
   ]
  },
  {
   "cell_type": "markdown",
   "id": "f55f479a",
   "metadata": {},
   "source": [
    "What are the **5 most 'meh'** movie review in the test set according to your model? 😐\\\n",
    "That is, which reviews are the most neutral according to your model?\\\n",
    "Upon reading some of these reviews you may find their sentiment to actually *not* be very ambiguous. What might be confusing our model?"
   ]
  },
  {
   "cell_type": "code",
   "execution_count": 49,
   "id": "ae42fdec",
   "metadata": {},
   "outputs": [],
   "source": [
    "# please fill this code block!\n",
    "# Find indices of the 5 most neutral reviews\n",
    "meh5 = x_test_raw[___]"
   ]
  },
  {
   "cell_type": "code",
   "execution_count": 50,
   "id": "7cccc9ae",
   "metadata": {},
   "outputs": [
    {
     "data": {
      "text/html": [
       "<p style=background-color:black;color:white;font-weight:bold;padding:4px>'Meh' Movie #1 😐</p>"
      ],
      "text/plain": [
       "<IPython.core.display.HTML object>"
      ]
     },
     "metadata": {},
     "output_type": "display_data"
    },
    {
     "data": {
      "text/html": [
       "\n",
       "<style>\n",
       "    table.eli5-weights tr:hover {\n",
       "        filter: brightness(85%);\n",
       "    }\n",
       "</style>\n",
       "\n",
       "\n",
       "<p style=\"margin-bottom: 2.5em; margin-top:-0.5em;\">\n",
       "<span style=\"opacity: 0.80\">two </span><span style=\"background-color: hsl(120, 100.00%, 87.95%); opacity: 0.84\" title=\"0.085\">years</span><span style=\"opacity: 0.80\"> </span><span style=\"background-color: hsl(0, 100.00%, 86.31%); opacity: 0.84\" title=\"-0.102\">passed</span><span style=\"opacity: 0.80\"> and mostly everyone </span><span style=\"background-color: hsl(0, 100.00%, 78.59%); opacity: 0.88\" title=\"-0.193\">looks</span><span style=\"opacity: 0.80\"> </span><span style=\"background-color: hsl(120, 100.00%, 79.10%); opacity: 0.88\" title=\"0.186\">different</span><span style=\"opacity: 0.80\">, some for </span><span style=\"background-color: hsl(120, 100.00%, 85.65%); opacity: 0.85\" title=\"0.109\">good</span><span style=\"opacity: 0.80\"> and some for </span><span style=\"background-color: hsl(0, 100.00%, 60.00%); opacity: 1.00\" title=\"-0.471\">worse</span><span style=\"opacity: 0.80\">. i still </span><span style=\"background-color: hsl(120, 100.00%, 64.71%); opacity: 0.97\" title=\"0.394\">enjoyed</span><span style=\"opacity: 0.80\"> as much as i </span><span style=\"background-color: hsl(0, 100.00%, 85.74%); opacity: 0.85\" title=\"-0.108\">did</span><span style=\"opacity: 0.80\"> the </span><span style=\"background-color: hsl(0, 100.00%, 80.63%); opacity: 0.87\" title=\"-0.167\">original</span><span style=\"opacity: 0.80\"> though. some </span><span style=\"background-color: hsl(120, 100.00%, 87.27%); opacity: 0.84\" title=\"0.092\">flaws</span><span style=\"opacity: 0.80\"> they had though </span><span style=\"background-color: hsl(0, 100.00%, 94.72%); opacity: 0.81\" title=\"-0.026\">like</span><span style=\"opacity: 0.80\"> </span><span style=\"background-color: hsl(0, 100.00%, 89.90%); opacity: 0.83\" title=\"-0.066\">changing</span><span style=\"opacity: 0.80\"> the </span><span style=\"background-color: hsl(0, 100.00%, 86.49%); opacity: 0.84\" title=\"-0.100\">joker</span><span style=\"opacity: 0.80\"> he now has no </span><span style=\"background-color: hsl(0, 100.00%, 99.13%); opacity: 0.80\" title=\"-0.002\">red</span><span style=\"opacity: 0.80\"> </span><span style=\"background-color: hsl(0, 100.00%, 90.48%); opacity: 0.83\" title=\"-0.061\">lips</span><span style=\"opacity: 0.80\"> and </span><span style=\"background-color: hsl(0, 100.00%, 78.59%); opacity: 0.88\" title=\"-0.193\">looks</span><span style=\"opacity: 0.80\"> </span><span style=\"background-color: hsl(0, 100.00%, 94.72%); opacity: 0.81\" title=\"-0.026\">like</span><span style=\"opacity: 0.80\"> more blackish </span><span style=\"background-color: hsl(0, 100.00%, 89.25%); opacity: 0.83\" title=\"-0.072\">hair</span><span style=\"opacity: 0.80\"> and </span><span style=\"background-color: hsl(120, 100.00%, 99.60%); opacity: 0.80\" title=\"0.001\">black</span><span style=\"opacity: 0.80\"> </span><span style=\"background-color: hsl(0, 100.00%, 87.34%); opacity: 0.84\" title=\"-0.091\">pupils</span><span style=\"opacity: 0.80\">, </span><span style=\"background-color: hsl(120, 100.00%, 94.69%); opacity: 0.81\" title=\"0.026\">hes</span><span style=\"opacity: 0.80\"> still </span><span style=\"background-color: hsl(120, 100.00%, 88.14%); opacity: 0.84\" title=\"0.083\">voiced</span><span style=\"opacity: 0.80\"> by </span><span style=\"background-color: hsl(120, 100.00%, 89.65%); opacity: 0.83\" title=\"0.068\">mark</span><span style=\"opacity: 0.80\"> </span><span style=\"background-color: hsl(0, 100.00%, 80.37%); opacity: 0.87\" title=\"-0.170\">hamill</span><span style=\"opacity: 0.80\"> which is a </span><span style=\"background-color: hsl(0, 100.00%, 97.48%); opacity: 0.80\" title=\"-0.009\">plus</span><span style=\"opacity: 0.80\"> i </span><span style=\"background-color: hsl(0, 100.00%, 75.51%); opacity: 0.90\" title=\"-0.234\">guess</span><span style=\"opacity: 0.80\">. they made </span><span style=\"background-color: hsl(0, 100.00%, 96.02%); opacity: 0.81\" title=\"-0.017\">poison</span><span style=\"opacity: 0.80\"> </span><span style=\"background-color: hsl(0, 100.00%, 93.93%); opacity: 0.81\" title=\"-0.032\">ivy</span><span style=\"opacity: 0.80\"> more </span><span style=\"background-color: hsl(0, 100.00%, 93.90%); opacity: 0.81\" title=\"-0.032\">white</span><span style=\"opacity: 0.80\"> </span><span style=\"background-color: hsl(0, 100.00%, 98.13%); opacity: 0.80\" title=\"-0.006\">hinting</span><span style=\"opacity: 0.80\"> that she is becoming more </span><span style=\"background-color: hsl(0, 100.00%, 94.72%); opacity: 0.81\" title=\"-0.026\">like</span><span style=\"opacity: 0.80\"> a </span><span style=\"background-color: hsl(120, 100.00%, 82.41%); opacity: 0.86\" title=\"0.146\">plant</span><span style=\"opacity: 0.80\"> and catwomen </span><span style=\"background-color: hsl(0, 100.00%, 78.59%); opacity: 0.88\" title=\"-0.193\">looks</span><span style=\"opacity: 0.80\"> much </span><span style=\"background-color: hsl(120, 100.00%, 79.10%); opacity: 0.88\" title=\"0.186\">different</span><span style=\"opacity: 0.80\"> and not as \"</span><span style=\"background-color: hsl(0, 100.00%, 82.55%); opacity: 0.86\" title=\"-0.144\">attractive</span><span style=\"opacity: 0.80\">\" as she was in the </span><span style=\"background-color: hsl(0, 100.00%, 80.63%); opacity: 0.87\" title=\"-0.167\">original</span><span style=\"opacity: 0.80\">. though </span><span style=\"background-color: hsl(120, 100.00%, 90.61%); opacity: 0.83\" title=\"0.059\">costumes</span><span style=\"opacity: 0.80\"> </span><span style=\"background-color: hsl(0, 100.00%, 94.72%); opacity: 0.81\" title=\"-0.026\">like</span><span style=\"opacity: 0.80\"> </span><span style=\"background-color: hsl(120, 100.00%, 79.41%); opacity: 0.88\" title=\"0.182\">batman</span><span style=\"opacity: 0.80\">, batgirl, </span><span style=\"background-color: hsl(0, 100.00%, 91.19%); opacity: 0.82\" title=\"-0.054\">killer</span><span style=\"opacity: 0.80\"> </span><span style=\"background-color: hsl(0, 100.00%, 94.60%); opacity: 0.81\" title=\"-0.027\">croc</span><span style=\"opacity: 0.80\"> and </span><span style=\"background-color: hsl(0, 100.00%, 98.17%); opacity: 0.80\" title=\"-0.006\">scarecrow</span><span style=\"opacity: 0.80\"> </span><span style=\"background-color: hsl(0, 100.00%, 93.61%); opacity: 0.81\" title=\"-0.034\">look</span><span style=\"opacity: 0.80\"> </span><span style=\"background-color: hsl(120, 100.00%, 99.88%); opacity: 0.80\" title=\"0.000\">badass</span><span style=\"opacity: 0.80\">, </span><span style=\"background-color: hsl(120, 100.00%, 75.50%); opacity: 0.90\" title=\"0.234\">especially</span><span style=\"opacity: 0.80\"> </span><span style=\"background-color: hsl(0, 100.00%, 98.17%); opacity: 0.80\" title=\"-0.006\">scarecrow</span><span style=\"opacity: 0.80\">. the show isn't as </span><span style=\"background-color: hsl(120, 100.00%, 88.33%); opacity: 0.83\" title=\"0.081\">dark</span><span style=\"opacity: 0.80\"> as the </span><span style=\"background-color: hsl(0, 100.00%, 80.63%); opacity: 0.87\" title=\"-0.167\">original</span><span style=\"opacity: 0.80\"> because </span><span style=\"background-color: hsl(120, 100.00%, 79.41%); opacity: 0.88\" title=\"0.182\">batman</span><span style=\"opacity: 0.80\"> doesn't </span><span style=\"background-color: hsl(0, 100.00%, 97.78%); opacity: 0.80\" title=\"-0.008\">work</span><span style=\"opacity: 0.80\"> as alone as he </span><span style=\"background-color: hsl(120, 100.00%, 91.93%); opacity: 0.82\" title=\"0.048\">used</span><span style=\"opacity: 0.80\"> to. most of the </span><span style=\"background-color: hsl(120, 100.00%, 90.83%); opacity: 0.82\" title=\"0.057\">time</span><span style=\"opacity: 0.80\"> </span><span style=\"background-color: hsl(0, 100.00%, 98.44%); opacity: 0.80\" title=\"-0.005\">working</span><span style=\"opacity: 0.80\"> with batgirl and the </span><span style=\"background-color: hsl(120, 100.00%, 93.40%); opacity: 0.82\" title=\"0.036\">new</span><span style=\"opacity: 0.80\"> </span><span style=\"background-color: hsl(0, 100.00%, 96.36%); opacity: 0.81\" title=\"-0.015\">robin</span><span style=\"opacity: 0.80\">, </span><span style=\"background-color: hsl(0, 100.00%, 91.20%); opacity: 0.82\" title=\"-0.054\">tim</span><span style=\"opacity: 0.80\"> </span><span style=\"background-color: hsl(120, 100.00%, 93.81%); opacity: 0.81\" title=\"0.033\">drake</span><span style=\"opacity: 0.80\">. while nightwing(</span><span style=\"background-color: hsl(0, 100.00%, 93.71%); opacity: 0.81\" title=\"-0.034\">dick</span><span style=\"opacity: 0.80\"> </span><span style=\"background-color: hsl(0, 100.00%, 93.74%); opacity: 0.81\" title=\"-0.033\">grayson</span><span style=\"opacity: 0.80\">) </span><span style=\"background-color: hsl(0, 100.00%, 94.84%); opacity: 0.81\" title=\"-0.025\">comes</span><span style=\"opacity: 0.80\"> to the </span><span style=\"background-color: hsl(0, 100.00%, 90.65%); opacity: 0.83\" title=\"-0.059\">rescue</span><span style=\"opacity: 0.80\"> often. </span><span style=\"background-color: hsl(120, 100.00%, 79.41%); opacity: 0.88\" title=\"0.182\">batman</span><span style=\"opacity: 0.80\"> </span><span style=\"background-color: hsl(0, 100.00%, 91.05%); opacity: 0.82\" title=\"-0.055\">gave</span><span style=\"opacity: 0.80\"> up the </span><span style=\"background-color: hsl(0, 100.00%, 85.63%); opacity: 0.85\" title=\"-0.109\">yellow</span><span style=\"opacity: 0.80\"> </span><span style=\"background-color: hsl(120, 100.00%, 97.50%); opacity: 0.80\" title=\"0.009\">logo</span><span style=\"opacity: 0.80\"> and with the </span><span style=\"background-color: hsl(120, 100.00%, 99.60%); opacity: 0.80\" title=\"0.001\">black</span><span style=\"opacity: 0.80\"> </span><span style=\"background-color: hsl(0, 100.00%, 93.83%); opacity: 0.81\" title=\"-0.033\">wing</span><span style=\"opacity: 0.80\"> on his </span><span style=\"background-color: hsl(0, 100.00%, 94.03%); opacity: 0.81\" title=\"-0.031\">suit</span><span style=\"opacity: 0.80\"> and seems </span><span style=\"background-color: hsl(0, 100.00%, 94.72%); opacity: 0.81\" title=\"-0.026\">like</span><span style=\"opacity: 0.80\"> he </span><span style=\"background-color: hsl(120, 100.00%, 90.71%); opacity: 0.82\" title=\"0.059\">got</span><span style=\"opacity: 0.80\"> a </span><span style=\"background-color: hsl(120, 100.00%, 78.19%); opacity: 0.88\" title=\"0.198\">bit</span><span style=\"opacity: 0.80\"> </span><span style=\"background-color: hsl(120, 100.00%, 93.46%); opacity: 0.82\" title=\"0.035\">bigger</span><span style=\"opacity: 0.80\"> but still </span><span style=\"background-color: hsl(0, 100.00%, 99.00%); opacity: 0.80\" title=\"-0.002\">kicking</span><span style=\"opacity: 0.80\"> </span><span style=\"background-color: hsl(120, 100.00%, 95.86%); opacity: 0.81\" title=\"0.018\">tons</span><span style=\"opacity: 0.80\"> of </span><span style=\"background-color: hsl(120, 100.00%, 84.63%); opacity: 0.85\" title=\"0.120\">ass</span><span style=\"opacity: 0.80\">. the show isn't as </span><span style=\"background-color: hsl(120, 100.00%, 85.65%); opacity: 0.85\" title=\"0.109\">good</span><span style=\"opacity: 0.80\"> as the </span><span style=\"background-color: hsl(0, 100.00%, 80.63%); opacity: 0.87\" title=\"-0.167\">original</span><span style=\"opacity: 0.80\"> mostly because of some of the </span><span style=\"background-color: hsl(120, 100.00%, 94.41%); opacity: 0.81\" title=\"0.028\">revamped</span><span style=\"opacity: 0.80\"> </span><span style=\"background-color: hsl(0, 100.00%, 92.95%); opacity: 0.82\" title=\"-0.040\">characters</span><span style=\"opacity: 0.80\"> but the </span><span style=\"background-color: hsl(0, 100.00%, 92.42%); opacity: 0.82\" title=\"-0.044\">stories</span><span style=\"opacity: 0.80\"> are as </span><span style=\"background-color: hsl(120, 100.00%, 85.00%); opacity: 0.85\" title=\"0.116\">exciting</span><span style=\"opacity: 0.80\"> as ever and the </span><span style=\"background-color: hsl(0, 100.00%, 85.92%); opacity: 0.84\" title=\"-0.106\">dialogue</span><span style=\"opacity: 0.80\"> is still </span><span style=\"background-color: hsl(120, 100.00%, 93.40%); opacity: 0.82\" title=\"0.036\">elite</span><span style=\"opacity: 0.80\">. \"over the </span><span style=\"background-color: hsl(120, 100.00%, 81.62%); opacity: 0.87\" title=\"0.155\">edge</span><span style=\"opacity: 0.80\">\" might be one of the </span><span style=\"background-color: hsl(120, 100.00%, 71.54%); opacity: 0.92\" title=\"0.290\">greatest</span><span style=\"opacity: 0.80\"> </span><span style=\"background-color: hsl(120, 100.00%, 79.41%); opacity: 0.88\" title=\"0.182\">batman</span><span style=\"opacity: 0.80\"> </span><span style=\"background-color: hsl(120, 100.00%, 82.24%); opacity: 0.86\" title=\"0.148\">episodes</span><span style=\"opacity: 0.80\"> ever so </span><span style=\"background-color: hsl(0, 100.00%, 84.56%); opacity: 0.85\" title=\"-0.121\">make</span><span style=\"opacity: 0.80\"> </span><span style=\"background-color: hsl(120, 100.00%, 93.41%); opacity: 0.82\" title=\"0.036\">sure</span><span style=\"opacity: 0.80\"> you </span><span style=\"background-color: hsl(120, 100.00%, 87.85%); opacity: 0.84\" title=\"0.086\">check</span><span style=\"opacity: 0.80\"> that out. </span><span style=\"background-color: hsl(120, 100.00%, 86.18%); opacity: 0.84\" title=\"0.103\">overall</span><span style=\"opacity: 0.80\"> 8-9/</span><span style=\"background-color: hsl(120, 100.00%, 90.95%); opacity: 0.82\" title=\"0.056\">10</span>\n",
       "</p>\n"
      ],
      "text/plain": [
       "<IPython.core.display.HTML object>"
      ]
     },
     "metadata": {},
     "output_type": "display_data"
    },
    {
     "data": {
      "text/html": [
       "<p style=background-color:black;color:white;font-weight:bold;padding:4px>'Meh' Movie #2 😐</p>"
      ],
      "text/plain": [
       "<IPython.core.display.HTML object>"
      ]
     },
     "metadata": {},
     "output_type": "display_data"
    },
    {
     "data": {
      "text/html": [
       "\n",
       "<style>\n",
       "    table.eli5-weights tr:hover {\n",
       "        filter: brightness(85%);\n",
       "    }\n",
       "</style>\n",
       "\n",
       "\n",
       "<p style=\"margin-bottom: 2.5em; margin-top:-0.5em;\">\n",
       "<span style=\"opacity: 0.80\">i have </span><span style=\"background-color: hsl(0, 100.00%, 92.02%); opacity: 0.82\" title=\"-0.059\">read</span><span style=\"opacity: 0.80\"> </span><span style=\"background-color: hsl(120, 100.00%, 79.32%); opacity: 0.88\" title=\"0.228\">modesty</span><span style=\"opacity: 0.80\"> </span><span style=\"background-color: hsl(120, 100.00%, 91.56%); opacity: 0.82\" title=\"0.063\">blaise</span><span style=\"opacity: 0.80\"> for several </span><span style=\"background-color: hsl(120, 100.00%, 89.13%); opacity: 0.83\" title=\"0.091\">years</span><span style=\"opacity: 0.80\"> now, </span><span style=\"background-color: hsl(120, 100.00%, 97.26%); opacity: 0.80\" title=\"0.013\">collecting</span><span style=\"opacity: 0.80\"> </span><span style=\"background-color: hsl(0, 100.00%, 89.67%); opacity: 0.83\" title=\"-0.085\">numbers</span><span style=\"opacity: 0.80\"> of the </span><span style=\"background-color: hsl(0, 100.00%, 85.53%); opacity: 0.85\" title=\"-0.137\">strip</span><span style=\"opacity: 0.80\">. after the </span><span style=\"background-color: hsl(0, 100.00%, 85.95%); opacity: 0.84\" title=\"-0.131\">fiasco</span><span style=\"opacity: 0.80\"> </span><span style=\"background-color: hsl(0, 100.00%, 98.69%); opacity: 0.80\" title=\"-0.004\">movie</span><span style=\"opacity: 0.80\"> made many </span><span style=\"background-color: hsl(120, 100.00%, 89.13%); opacity: 0.83\" title=\"0.091\">years</span><span style=\"opacity: 0.80\"> </span><span style=\"background-color: hsl(120, 100.00%, 95.57%); opacity: 0.81\" title=\"0.025\">ago</span><span style=\"opacity: 0.80\"> </span><span style=\"background-color: hsl(120, 100.00%, 99.10%); opacity: 0.80\" title=\"0.003\">based</span><span style=\"opacity: 0.80\"> on the first </span><span style=\"background-color: hsl(0, 100.00%, 85.33%); opacity: 0.85\" title=\"-0.140\">book</span><span style=\"opacity: 0.80\"> \"</span><span style=\"background-color: hsl(120, 100.00%, 79.32%); opacity: 0.88\" title=\"0.228\">modesty</span><span style=\"opacity: 0.80\"> </span><span style=\"background-color: hsl(120, 100.00%, 91.56%); opacity: 0.82\" title=\"0.063\">blaise</span><span style=\"opacity: 0.80\">\" i was </span><span style=\"background-color: hsl(120, 100.00%, 73.99%); opacity: 0.91\" title=\"0.317\">surprised</span><span style=\"opacity: 0.80\"> the </span><span style=\"background-color: hsl(0, 100.00%, 82.08%); opacity: 0.86\" title=\"-0.186\">result</span><span style=\"opacity: 0.80\"> </span><span style=\"background-color: hsl(120, 100.00%, 91.62%); opacity: 0.82\" title=\"0.063\">got</span><span style=\"opacity: 0.80\"> this </span><span style=\"background-color: hsl(120, 100.00%, 87.05%); opacity: 0.84\" title=\"0.117\">good</span><span style=\"opacity: 0.80\">. what i </span><span style=\"background-color: hsl(120, 100.00%, 91.62%); opacity: 0.82\" title=\"0.063\">got</span><span style=\"opacity: 0.80\"> was a </span><span style=\"background-color: hsl(0, 100.00%, 98.69%); opacity: 0.80\" title=\"-0.004\">movie</span><span style=\"opacity: 0.80\"> not </span><span style=\"background-color: hsl(120, 100.00%, 99.10%); opacity: 0.80\" title=\"0.003\">based</span><span style=\"opacity: 0.80\"> on </span><span style=\"background-color: hsl(120, 100.00%, 90.97%); opacity: 0.82\" title=\"0.070\">action</span><span style=\"opacity: 0.80\"> or </span><span style=\"background-color: hsl(0, 100.00%, 95.56%); opacity: 0.81\" title=\"-0.025\">violence</span><span style=\"opacity: 0.80\">. the </span><span style=\"background-color: hsl(0, 100.00%, 80.60%); opacity: 0.87\" title=\"-0.208\">director</span><span style=\"opacity: 0.80\"> had </span><span style=\"background-color: hsl(120, 100.00%, 92.34%); opacity: 0.82\" title=\"0.055\">focused</span><span style=\"opacity: 0.80\"> on </span><span style=\"background-color: hsl(120, 100.00%, 93.29%); opacity: 0.82\" title=\"0.046\">history</span><span style=\"opacity: 0.80\"> and </span><span style=\"background-color: hsl(0, 100.00%, 92.25%); opacity: 0.82\" title=\"-0.056\">psychology</span><span style=\"opacity: 0.80\">. how was </span><span style=\"background-color: hsl(120, 100.00%, 79.32%); opacity: 0.88\" title=\"0.228\">modesty</span><span style=\"opacity: 0.80\"> </span><span style=\"background-color: hsl(120, 100.00%, 89.78%); opacity: 0.83\" title=\"0.083\">created</span><span style=\"opacity: 0.80\"> </span><span style=\"background-color: hsl(120, 100.00%, 99.10%); opacity: 0.80\" title=\"0.003\">based</span><span style=\"opacity: 0.80\"> on the own </span><span style=\"background-color: hsl(120, 100.00%, 83.47%); opacity: 0.86\" title=\"0.166\">tale</span><span style=\"opacity: 0.80\"> and what </span><span style=\"background-color: hsl(120, 100.00%, 91.42%); opacity: 0.82\" title=\"0.065\">parts</span><span style=\"opacity: 0.80\"> in her </span><span style=\"background-color: hsl(120, 100.00%, 86.34%); opacity: 0.84\" title=\"0.126\">life</span><span style=\"opacity: 0.80\"> was </span><span style=\"background-color: hsl(0, 100.00%, 99.86%); opacity: 0.80\" title=\"-0.000\">affected</span><span style=\"opacity: 0.80\"> by her </span><span style=\"background-color: hsl(120, 100.00%, 89.82%); opacity: 0.83\" title=\"0.083\">non</span><span style=\"opacity: 0.80\">-</span><span style=\"background-color: hsl(120, 100.00%, 86.49%); opacity: 0.84\" title=\"0.124\">childhood</span><span style=\"opacity: 0.80\">. i </span><span style=\"background-color: hsl(120, 100.00%, 86.61%); opacity: 0.84\" title=\"0.123\">think</span><span style=\"opacity: 0.80\"> this thougths will give a </span><span style=\"background-color: hsl(120, 100.00%, 86.69%); opacity: 0.84\" title=\"0.122\">greater</span><span style=\"opacity: 0.80\"> </span><span style=\"background-color: hsl(120, 100.00%, 93.49%); opacity: 0.81\" title=\"0.044\">understanding</span><span style=\"opacity: 0.80\"> to the next (i </span><span style=\"background-color: hsl(120, 100.00%, 87.72%); opacity: 0.84\" title=\"0.108\">hope</span><span style=\"opacity: 0.80\">) </span><span style=\"background-color: hsl(120, 100.00%, 95.60%); opacity: 0.81\" title=\"0.025\">film</span><span style=\"opacity: 0.80\">. i </span><span style=\"background-color: hsl(0, 100.00%, 86.75%); opacity: 0.84\" title=\"-0.121\">simply</span><span style=\"opacity: 0.80\"> </span><span style=\"background-color: hsl(120, 100.00%, 65.04%); opacity: 0.97\" title=\"0.483\">loved</span><span style=\"opacity: 0.80\"> the </span><span style=\"background-color: hsl(120, 100.00%, 97.35%); opacity: 0.80\" title=\"0.012\">movies</span><span style=\"opacity: 0.80\"> </span><span style=\"background-color: hsl(0, 100.00%, 92.54%); opacity: 0.82\" title=\"-0.053\">old</span><span style=\"opacity: 0.80\">-</span><span style=\"background-color: hsl(120, 100.00%, 81.59%); opacity: 0.87\" title=\"0.193\">fashioned</span><span style=\"opacity: 0.80\"> </span><span style=\"background-color: hsl(120, 100.00%, 93.33%); opacity: 0.82\" title=\"0.045\">style</span><span style=\"opacity: 0.80\">. however everything wasn't that </span><span style=\"background-color: hsl(120, 100.00%, 87.05%); opacity: 0.84\" title=\"0.117\">good</span><span style=\"opacity: 0.80\">, the </span><span style=\"background-color: hsl(0, 100.00%, 96.21%); opacity: 0.81\" title=\"-0.020\">gambling</span><span style=\"opacity: 0.80\"> wasn't that </span><span style=\"background-color: hsl(120, 100.00%, 87.05%); opacity: 0.84\" title=\"0.117\">good</span><span style=\"opacity: 0.80\">. almost </span><span style=\"background-color: hsl(0, 100.00%, 60.00%); opacity: 1.00\" title=\"-0.586\">boring</span><span style=\"opacity: 0.80\"> and </span><span style=\"background-color: hsl(0, 100.00%, 90.08%); opacity: 0.83\" title=\"-0.080\">unreal</span><span style=\"opacity: 0.80\">. the </span><span style=\"background-color: hsl(0, 100.00%, 88.52%); opacity: 0.83\" title=\"-0.098\">acting</span><span style=\"opacity: 0.80\"> could have been </span><span style=\"background-color: hsl(0, 100.00%, 95.05%); opacity: 0.81\" title=\"-0.030\">improved</span><span style=\"opacity: 0.80\"> too. i'm not </span><span style=\"background-color: hsl(0, 100.00%, 87.44%); opacity: 0.84\" title=\"-0.112\">thinking</span><span style=\"opacity: 0.80\"> the </span><span style=\"background-color: hsl(0, 100.00%, 68.63%); opacity: 0.94\" title=\"-0.414\">bad</span><span style=\"opacity: 0.80\"> </span><span style=\"background-color: hsl(0, 100.00%, 92.03%); opacity: 0.82\" title=\"-0.058\">guy</span><span style=\"opacity: 0.80\"> in this </span><span style=\"background-color: hsl(0, 100.00%, 98.69%); opacity: 0.80\" title=\"-0.004\">movie</span><span style=\"opacity: 0.80\"> </span><span style=\"background-color: hsl(0, 100.00%, 86.24%); opacity: 0.84\" title=\"-0.128\">felt</span><span style=\"opacity: 0.80\"> </span><span style=\"background-color: hsl(120, 100.00%, 90.76%); opacity: 0.82\" title=\"0.072\">real</span><span style=\"opacity: 0.80\">, the only </span><span style=\"background-color: hsl(0, 100.00%, 79.24%); opacity: 0.88\" title=\"-0.230\">reason</span><span style=\"opacity: 0.80\"> he was there was so </span><span style=\"background-color: hsl(120, 100.00%, 79.32%); opacity: 0.88\" title=\"0.228\">modesty</span><span style=\"opacity: 0.80\"> could have someone to </span><span style=\"background-color: hsl(0, 100.00%, 91.87%); opacity: 0.82\" title=\"-0.060\">tell</span><span style=\"opacity: 0.80\"> her </span><span style=\"background-color: hsl(120, 100.00%, 95.92%); opacity: 0.81\" title=\"0.022\">story</span><span style=\"opacity: 0.80\"> for. also they could have </span><span style=\"background-color: hsl(120, 100.00%, 92.91%); opacity: 0.82\" title=\"0.049\">expanded</span><span style=\"opacity: 0.80\"> the </span><span style=\"background-color: hsl(0, 100.00%, 98.69%); opacity: 0.80\" title=\"-0.004\">movie</span><span style=\"opacity: 0.80\">, </span><span style=\"background-color: hsl(0, 100.00%, 98.65%); opacity: 0.80\" title=\"-0.005\">showing</span><span style=\"opacity: 0.80\"> more about when she </span><span style=\"background-color: hsl(120, 100.00%, 86.09%); opacity: 0.84\" title=\"0.130\">builds</span><span style=\"opacity: 0.80\"> up \"the </span><span style=\"background-color: hsl(120, 100.00%, 97.58%); opacity: 0.80\" title=\"0.011\">network</span><span style=\"opacity: 0.80\">\" but i'</span><span style=\"background-color: hsl(0, 100.00%, 84.16%); opacity: 0.85\" title=\"-0.156\">ll</span><span style=\"opacity: 0.80\"> </span><span style=\"background-color: hsl(0, 100.00%, 77.91%); opacity: 0.89\" title=\"-0.251\">guess</span><span style=\"opacity: 0.80\"> </span><span style=\"background-color: hsl(0, 100.00%, 95.99%); opacity: 0.81\" title=\"-0.022\">thats</span><span style=\"opacity: 0.80\"> for the next </span><span style=\"background-color: hsl(0, 100.00%, 98.69%); opacity: 0.80\" title=\"-0.004\">movie</span><span style=\"opacity: 0.80\">. and please </span><span style=\"background-color: hsl(0, 100.00%, 94.77%); opacity: 0.81\" title=\"-0.032\">forgive</span><span style=\"opacity: 0.80\"> me for my </span><span style=\"background-color: hsl(0, 100.00%, 68.63%); opacity: 0.94\" title=\"-0.414\">bad</span><span style=\"opacity: 0.80\"> </span><span style=\"background-color: hsl(120, 100.00%, 89.72%); opacity: 0.83\" title=\"0.084\">english</span>\n",
       "</p>\n"
      ],
      "text/plain": [
       "<IPython.core.display.HTML object>"
      ]
     },
     "metadata": {},
     "output_type": "display_data"
    },
    {
     "data": {
      "text/html": [
       "<p style=background-color:black;color:white;font-weight:bold;padding:4px>'Meh' Movie #3 😐</p>"
      ],
      "text/plain": [
       "<IPython.core.display.HTML object>"
      ]
     },
     "metadata": {},
     "output_type": "display_data"
    },
    {
     "data": {
      "text/html": [
       "\n",
       "<style>\n",
       "    table.eli5-weights tr:hover {\n",
       "        filter: brightness(85%);\n",
       "    }\n",
       "</style>\n",
       "\n",
       "\n",
       "<p style=\"margin-bottom: 2.5em; margin-top:-0.5em;\">\n",
       "<span style=\"opacity: 0.80\">what were they </span><span style=\"background-color: hsl(0, 100.00%, 86.52%); opacity: 0.84\" title=\"-0.119\">thinking</span><span style=\"opacity: 0.80\"> when they made this </span><span style=\"background-color: hsl(120, 100.00%, 84.01%); opacity: 0.85\" title=\"0.153\">truly</span><span style=\"opacity: 0.80\"> </span><span style=\"background-color: hsl(0, 100.00%, 60.00%); opacity: 1.00\" title=\"-0.565\">terrible</span><span style=\"opacity: 0.80\"> </span><span style=\"background-color: hsl(120, 100.00%, 95.28%); opacity: 0.81\" title=\"0.027\">film</span><span style=\"opacity: 0.80\">?  </span><span style=\"background-color: hsl(0, 100.00%, 85.44%); opacity: 0.85\" title=\"-0.133\">arbus</span><span style=\"opacity: 0.80\">, one of the most </span><span style=\"background-color: hsl(120, 100.00%, 85.53%); opacity: 0.85\" title=\"0.132\">important</span><span style=\"opacity: 0.80\"> </span><span style=\"background-color: hsl(0, 100.00%, 91.58%); opacity: 0.82\" title=\"-0.061\">photographers</span><span style=\"opacity: 0.80\"> and </span><span style=\"background-color: hsl(0, 100.00%, 80.82%); opacity: 0.87\" title=\"-0.198\">women</span><span style=\"opacity: 0.80\"> of the </span><span style=\"background-color: hsl(0, 100.00%, 97.24%); opacity: 0.80\" title=\"-0.012\">twentieth</span><span style=\"opacity: 0.80\"> </span><span style=\"background-color: hsl(120, 100.00%, 94.28%); opacity: 0.81\" title=\"0.035\">century</span><span style=\"opacity: 0.80\">, had a </span><span style=\"background-color: hsl(120, 100.00%, 74.62%); opacity: 0.90\" title=\"0.295\">fascinating</span><span style=\"opacity: 0.80\"> and </span><span style=\"background-color: hsl(120, 100.00%, 95.88%); opacity: 0.81\" title=\"0.022\">dramatic</span><span style=\"opacity: 0.80\"> </span><span style=\"background-color: hsl(120, 100.00%, 85.34%); opacity: 0.85\" title=\"0.135\">life</span><span style=\"opacity: 0.80\">. what </span><span style=\"background-color: hsl(120, 100.00%, 90.51%); opacity: 0.83\" title=\"0.072\">possessed</span><span style=\"opacity: 0.80\"> anyone to </span><span style=\"background-color: hsl(0, 100.00%, 85.06%); opacity: 0.85\" title=\"-0.138\">make</span><span style=\"opacity: 0.80\"> this </span><span style=\"background-color: hsl(120, 100.00%, 95.28%); opacity: 0.81\" title=\"0.027\">film</span><span style=\"opacity: 0.80\">, which </span><span style=\"background-color: hsl(0, 100.00%, 96.43%); opacity: 0.81\" title=\"-0.018\">explains</span><span style=\"opacity: 0.80\"> her </span><span style=\"background-color: hsl(120, 100.00%, 70.78%); opacity: 0.93\" title=\"0.361\">unique</span><span style=\"opacity: 0.80\"> </span><span style=\"background-color: hsl(0, 100.00%, 89.50%); opacity: 0.83\" title=\"-0.084\">artistic</span><span style=\"opacity: 0.80\"> </span><span style=\"background-color: hsl(120, 100.00%, 88.88%); opacity: 0.83\" title=\"0.091\">vision</span><span style=\"opacity: 0.80\">, as being the </span><span style=\"background-color: hsl(0, 100.00%, 80.77%); opacity: 0.87\" title=\"-0.198\">result</span><span style=\"opacity: 0.80\"> of an (</span><span style=\"background-color: hsl(120, 100.00%, 95.71%); opacity: 0.81\" title=\"0.023\">imaginary</span><span style=\"opacity: 0.80\">) </span><span style=\"background-color: hsl(0, 100.00%, 80.63%); opacity: 0.87\" title=\"-0.201\">affair</span><span style=\"opacity: 0.80\"> with a </span><span style=\"background-color: hsl(120, 100.00%, 89.90%); opacity: 0.83\" title=\"0.079\">grotesque</span><span style=\"opacity: 0.80\">, yet </span><span style=\"background-color: hsl(120, 100.00%, 89.19%); opacity: 0.83\" title=\"0.087\">charismatic</span><span style=\"opacity: 0.80\"> </span><span style=\"background-color: hsl(0, 100.00%, 89.51%); opacity: 0.83\" title=\"-0.083\">hairy</span><span style=\"opacity: 0.80\"> </span><span style=\"background-color: hsl(0, 100.00%, 84.66%); opacity: 0.85\" title=\"-0.144\">freak</span><span style=\"opacity: 0.80\"> (</span><span style=\"background-color: hsl(120, 100.00%, 87.40%); opacity: 0.84\" title=\"0.108\">played</span><span style=\"opacity: 0.80\"> by </span><span style=\"background-color: hsl(120, 100.00%, 87.91%); opacity: 0.84\" title=\"0.102\">downey</span><span style=\"opacity: 0.80\">)? in </span><span style=\"background-color: hsl(120, 100.00%, 90.09%); opacity: 0.83\" title=\"0.077\">real</span><span style=\"opacity: 0.80\"> </span><span style=\"background-color: hsl(120, 100.00%, 85.34%); opacity: 0.85\" title=\"0.135\">life</span><span style=\"opacity: 0.80\">, </span><span style=\"background-color: hsl(0, 100.00%, 85.44%); opacity: 0.85\" title=\"-0.133\">arbus</span><span style=\"opacity: 0.80\"> </span><span style=\"background-color: hsl(120, 100.00%, 89.49%); opacity: 0.83\" title=\"0.084\">broke</span><span style=\"opacity: 0.80\"> out of a </span><span style=\"background-color: hsl(120, 100.00%, 77.21%); opacity: 0.89\" title=\"0.253\">traditional</span><span style=\"opacity: 0.80\"> </span><span style=\"background-color: hsl(120, 100.00%, 90.46%); opacity: 0.83\" title=\"0.073\">marriage</span><span style=\"opacity: 0.80\"> and </span><span style=\"background-color: hsl(0, 100.00%, 86.73%); opacity: 0.84\" title=\"-0.117\">woman</span><span style=\"opacity: 0.80\">'s </span><span style=\"background-color: hsl(120, 100.00%, 91.22%); opacity: 0.82\" title=\"0.065\">role</span><span style=\"opacity: 0.80\"> to </span><span style=\"background-color: hsl(0, 100.00%, 85.25%); opacity: 0.85\" title=\"-0.136\">express</span><span style=\"opacity: 0.80\"> herself. in this </span><span style=\"background-color: hsl(0, 100.00%, 98.60%); opacity: 0.80\" title=\"-0.005\">movie</span><span style=\"opacity: 0.80\">, </span><span style=\"background-color: hsl(0, 100.00%, 85.44%); opacity: 0.85\" title=\"-0.133\">arbus</span><span style=\"opacity: 0.80\"> is an </span><span style=\"background-color: hsl(120, 100.00%, 92.57%); opacity: 0.82\" title=\"0.051\">ultra</span><span style=\"opacity: 0.80\">-</span><span style=\"background-color: hsl(0, 100.00%, 75.83%); opacity: 0.90\" title=\"-0.275\">dreary</span><span style=\"opacity: 0.80\"> </span><span style=\"background-color: hsl(120, 100.00%, 85.44%); opacity: 0.85\" title=\"0.133\">nicole</span><span style=\"opacity: 0.80\"> </span><span style=\"background-color: hsl(120, 100.00%, 79.88%); opacity: 0.87\" title=\"0.212\">kidman</span><span style=\"opacity: 0.80\"> whose </span><span style=\"background-color: hsl(0, 100.00%, 96.86%); opacity: 0.81\" title=\"-0.015\">inspiration</span><span style=\"opacity: 0.80\"> is all </span><span style=\"background-color: hsl(0, 100.00%, 95.00%); opacity: 0.81\" title=\"-0.029\">attributed</span><span style=\"opacity: 0.80\"> to a \"</span><span style=\"background-color: hsl(120, 100.00%, 74.54%); opacity: 0.90\" title=\"0.296\">beauty</span><span style=\"opacity: 0.80\"> and the </span><span style=\"background-color: hsl(120, 100.00%, 98.66%); opacity: 0.80\" title=\"0.004\">beast</span><span style=\"opacity: 0.80\">\" </span><span style=\"background-color: hsl(120, 100.00%, 82.48%); opacity: 0.86\" title=\"0.174\">devotion</span><span style=\"opacity: 0.80\"> to an </span><span style=\"background-color: hsl(0, 100.00%, 84.00%); opacity: 0.85\" title=\"-0.153\">interesting</span><span style=\"opacity: 0.80\"> </span><span style=\"background-color: hsl(120, 100.00%, 93.06%); opacity: 0.82\" title=\"0.046\">man</span><span style=\"opacity: 0.80\">. for this </span><span style=\"background-color: hsl(120, 100.00%, 97.19%); opacity: 0.80\" title=\"0.013\">reinvention</span><span style=\"opacity: 0.80\">, the </span><span style=\"background-color: hsl(120, 100.00%, 95.28%); opacity: 0.81\" title=\"0.027\">film</span><span style=\"opacity: 0.80\"> is </span><span style=\"background-color: hsl(120, 100.00%, 84.01%); opacity: 0.85\" title=\"0.153\">truly</span><span style=\"opacity: 0.80\"> </span><span style=\"background-color: hsl(0, 100.00%, 89.80%); opacity: 0.83\" title=\"-0.080\">shameful</span><span style=\"opacity: 0.80\">. </span><span style=\"background-color: hsl(120, 100.00%, 84.70%); opacity: 0.85\" title=\"0.143\">independent</span><span style=\"opacity: 0.80\"> of that, it is also </span><span style=\"background-color: hsl(0, 100.00%, 86.92%); opacity: 0.84\" title=\"-0.114\">just</span><span style=\"opacity: 0.80\"> </span><span style=\"background-color: hsl(0, 100.00%, 79.10%); opacity: 0.88\" title=\"-0.223\">dopey</span><span style=\"opacity: 0.80\"> and </span><span style=\"background-color: hsl(0, 100.00%, 60.17%); opacity: 1.00\" title=\"-0.562\">dull</span><span style=\"opacity: 0.80\">.</span>\n",
       "</p>\n"
      ],
      "text/plain": [
       "<IPython.core.display.HTML object>"
      ]
     },
     "metadata": {},
     "output_type": "display_data"
    },
    {
     "data": {
      "text/html": [
       "<p style=background-color:black;color:white;font-weight:bold;padding:4px>'Meh' Movie #4 😐</p>"
      ],
      "text/plain": [
       "<IPython.core.display.HTML object>"
      ]
     },
     "metadata": {},
     "output_type": "display_data"
    },
    {
     "data": {
      "text/html": [
       "\n",
       "<style>\n",
       "    table.eli5-weights tr:hover {\n",
       "        filter: brightness(85%);\n",
       "    }\n",
       "</style>\n",
       "\n",
       "\n",
       "<p style=\"margin-bottom: 2.5em; margin-top:-0.5em;\">\n",
       "<span style=\"opacity: 0.80\">the </span><span style=\"background-color: hsl(120, 100.00%, 94.75%); opacity: 0.81\" title=\"0.019\">beatles</span><span style=\"opacity: 0.80\"> had </span><span style=\"background-color: hsl(0, 100.00%, 87.81%); opacity: 0.84\" title=\"-0.065\">just</span><span style=\"opacity: 0.80\"> done '</span><span style=\"background-color: hsl(120, 100.00%, 86.63%); opacity: 0.84\" title=\"0.074\">magical</span><span style=\"opacity: 0.80\"> </span><span style=\"background-color: hsl(0, 100.00%, 92.93%); opacity: 0.82\" title=\"-0.030\">mystery</span><span style=\"opacity: 0.80\"> </span><span style=\"background-color: hsl(0, 100.00%, 93.84%); opacity: 0.81\" title=\"-0.024\">tour</span><span style=\"opacity: 0.80\">.' there was the </span><span style=\"background-color: hsl(0, 100.00%, 92.48%); opacity: 0.82\" title=\"-0.032\">general</span><span style=\"opacity: 0.80\"> </span><span style=\"background-color: hsl(120, 100.00%, 89.25%); opacity: 0.83\" title=\"0.054\">feel</span><span style=\"opacity: 0.80\"> that </span><span style=\"background-color: hsl(120, 100.00%, 90.20%); opacity: 0.83\" title=\"0.047\">performance</span><span style=\"opacity: 0.80\">, </span><span style=\"background-color: hsl(120, 100.00%, 97.62%); opacity: 0.80\" title=\"0.006\">peace</span><span style=\"opacity: 0.80\"> and </span><span style=\"background-color: hsl(120, 100.00%, 93.35%); opacity: 0.82\" title=\"0.027\">drugs</span><span style=\"opacity: 0.80\"> </span><span style=\"background-color: hsl(0, 100.00%, 91.30%); opacity: 0.82\" title=\"-0.040\">went</span><span style=\"opacity: 0.80\"> together </span><span style=\"background-color: hsl(0, 100.00%, 92.30%); opacity: 0.82\" title=\"-0.034\">naturally</span><span style=\"opacity: 0.80\">. in </span><span style=\"background-color: hsl(0, 100.00%, 91.77%); opacity: 0.82\" title=\"-0.037\">la</span><span style=\"opacity: 0.80\">, there was a </span><span style=\"background-color: hsl(120, 100.00%, 95.60%); opacity: 0.81\" title=\"0.015\">film</span><span style=\"opacity: 0.80\"> </span><span style=\"background-color: hsl(120, 100.00%, 94.87%); opacity: 0.81\" title=\"0.019\">subculture</span><span style=\"opacity: 0.80\"> that </span><span style=\"background-color: hsl(120, 100.00%, 99.76%); opacity: 0.80\" title=\"0.000\">knew</span><span style=\"opacity: 0.80\"> something was up. </span><span style=\"background-color: hsl(120, 100.00%, 91.63%); opacity: 0.82\" title=\"0.038\">nicholson</span><span style=\"opacity: 0.80\"> was in several of these </span><span style=\"background-color: hsl(120, 100.00%, 89.58%); opacity: 0.83\" title=\"0.052\">gangs</span><span style=\"opacity: 0.80\">. before he </span><span style=\"background-color: hsl(0, 100.00%, 87.77%); opacity: 0.84\" title=\"-0.065\">decided</span><span style=\"opacity: 0.80\"> to </span><span style=\"background-color: hsl(0, 100.00%, 90.44%); opacity: 0.83\" title=\"-0.046\">seriously</span><span style=\"opacity: 0.80\"> become an </span><span style=\"background-color: hsl(0, 100.00%, 85.83%); opacity: 0.85\" title=\"-0.080\">actor</span><span style=\"opacity: 0.80\">, before '</span><span style=\"background-color: hsl(120, 100.00%, 81.06%); opacity: 0.87\" title=\"0.121\">easy</span><span style=\"opacity: 0.80\"> </span><span style=\"background-color: hsl(0, 100.00%, 93.00%); opacity: 0.82\" title=\"-0.029\">rider</span><span style=\"opacity: 0.80\">,' before '</span><span style=\"background-color: hsl(120, 100.00%, 92.81%); opacity: 0.82\" title=\"0.030\">pink</span><span style=\"opacity: 0.80\"> </span><span style=\"background-color: hsl(120, 100.00%, 80.67%); opacity: 0.87\" title=\"0.125\">flamingos</span><span style=\"opacity: 0.80\">,' before '</span><span style=\"background-color: hsl(120, 100.00%, 91.51%); opacity: 0.82\" title=\"0.039\">day</span><span style=\"opacity: 0.80\"> for </span><span style=\"background-color: hsl(120, 100.00%, 93.90%); opacity: 0.81\" title=\"0.024\">night</span><span style=\"opacity: 0.80\">,' there were several </span><span style=\"background-color: hsl(0, 100.00%, 90.27%); opacity: 0.83\" title=\"-0.047\">experiments</span><span style=\"opacity: 0.80\"> with what to do about this. an </span><span style=\"background-color: hsl(120, 100.00%, 86.52%); opacity: 0.84\" title=\"0.075\">important</span><span style=\"opacity: 0.80\"> one is 'saragossa </span><span style=\"background-color: hsl(120, 100.00%, 93.59%); opacity: 0.81\" title=\"0.026\">manuscript</span><span style=\"opacity: 0.80\">.' this is another. </span><span style=\"background-color: hsl(120, 100.00%, 81.56%); opacity: 0.87\" title=\"0.117\">jack</span><span style=\"opacity: 0.80\"> </span><span style=\"background-color: hsl(0, 100.00%, 93.88%); opacity: 0.81\" title=\"-0.024\">writes</span><span style=\"opacity: 0.80\">. he </span><span style=\"background-color: hsl(120, 100.00%, 89.06%); opacity: 0.83\" title=\"0.055\">plays</span><span style=\"opacity: 0.80\"> with </span><span style=\"background-color: hsl(0, 100.00%, 94.98%); opacity: 0.81\" title=\"-0.018\">circular</span><span style=\"opacity: 0.80\"> </span><span style=\"background-color: hsl(0, 100.00%, 93.03%); opacity: 0.82\" title=\"-0.029\">narrative</span><span style=\"opacity: 0.80\">, </span><span style=\"background-color: hsl(0, 100.00%, 96.00%); opacity: 0.81\" title=\"-0.013\">self</span><span style=\"opacity: 0.80\">-</span><span style=\"background-color: hsl(0, 100.00%, 86.45%); opacity: 0.84\" title=\"-0.075\">reference</span><span style=\"opacity: 0.80\">, </span><span style=\"background-color: hsl(120, 100.00%, 95.60%); opacity: 0.81\" title=\"0.015\">film</span><span style=\"opacity: 0.80\"> </span><span style=\"background-color: hsl(0, 100.00%, 86.45%); opacity: 0.84\" title=\"-0.075\">reference</span><span style=\"opacity: 0.80\">, </span><span style=\"background-color: hsl(120, 100.00%, 90.20%); opacity: 0.83\" title=\"0.047\">performance</span><span style=\"opacity: 0.80\"> </span><span style=\"background-color: hsl(0, 100.00%, 96.00%); opacity: 0.81\" title=\"-0.013\">self</span><span style=\"opacity: 0.80\">-</span><span style=\"background-color: hsl(0, 100.00%, 87.37%); opacity: 0.84\" title=\"-0.068\">loathing</span><span style=\"opacity: 0.80\">, the </span><span style=\"background-color: hsl(0, 100.00%, 97.79%); opacity: 0.80\" title=\"-0.006\">pain</span><span style=\"opacity: 0.80\"> of </span><span style=\"background-color: hsl(120, 100.00%, 93.43%); opacity: 0.82\" title=\"0.027\">creation</span><span style=\"opacity: 0.80\">, all on the </span><span style=\"background-color: hsl(120, 100.00%, 92.36%); opacity: 0.82\" title=\"0.033\">outskirts</span><span style=\"opacity: 0.80\"> of </span><span style=\"background-color: hsl(120, 100.00%, 95.67%); opacity: 0.81\" title=\"0.015\">safe</span><span style=\"opacity: 0.80\"> kiddiepop. you must see this, if only to </span><span style=\"background-color: hsl(120, 100.00%, 91.18%); opacity: 0.82\" title=\"0.041\">know</span><span style=\"opacity: 0.80\"> something about </span><span style=\"background-color: hsl(120, 100.00%, 81.56%); opacity: 0.87\" title=\"0.117\">jack</span><span style=\"opacity: 0.80\">. </span><span style=\"background-color: hsl(120, 100.00%, 85.27%); opacity: 0.85\" title=\"0.085\">certain</span><span style=\"opacity: 0.80\"> </span><span style=\"background-color: hsl(0, 100.00%, 89.37%); opacity: 0.83\" title=\"-0.053\">actors</span><span style=\"opacity: 0.80\"> </span><span style=\"background-color: hsl(0, 100.00%, 94.15%); opacity: 0.81\" title=\"-0.023\">act</span><span style=\"opacity: 0.80\"> by </span><span style=\"background-color: hsl(0, 100.00%, 92.75%); opacity: 0.82\" title=\"-0.031\">digging</span><span style=\"opacity: 0.80\"> into themselves. it is a </span><span style=\"background-color: hsl(120, 100.00%, 98.73%); opacity: 0.80\" title=\"0.003\">common</span><span style=\"opacity: 0.80\"> </span><span style=\"background-color: hsl(120, 100.00%, 92.80%); opacity: 0.82\" title=\"0.030\">technique</span><span style=\"opacity: 0.80\">. some </span><span style=\"background-color: hsl(120, 100.00%, 90.27%); opacity: 0.83\" title=\"0.047\">dig</span><span style=\"opacity: 0.80\"> </span><span style=\"background-color: hsl(120, 100.00%, 94.90%); opacity: 0.81\" title=\"0.019\">deep</span><span style=\"opacity: 0.80\">, but after a while, they become </span><span style=\"background-color: hsl(0, 100.00%, 60.00%); opacity: 1.00\" title=\"-0.353\">boring</span><span style=\"opacity: 0.80\"> because they are </span><span style=\"background-color: hsl(120, 100.00%, 95.24%); opacity: 0.81\" title=\"0.017\">incredibly</span><span style=\"opacity: 0.80\"> </span><span style=\"background-color: hsl(0, 100.00%, 73.03%); opacity: 0.91\" title=\"-0.201\">shallow</span><span style=\"opacity: 0.80\"> </span><span style=\"background-color: hsl(120, 100.00%, 92.32%); opacity: 0.82\" title=\"0.033\">people</span><span style=\"opacity: 0.80\">. there isn't </span><span style=\"background-color: hsl(0, 100.00%, 87.81%); opacity: 0.84\" title=\"-0.065\">just</span><span style=\"opacity: 0.80\"> enough </span><span style=\"background-color: hsl(120, 100.00%, 94.11%); opacity: 0.81\" title=\"0.023\">stuff</span><span style=\"opacity: 0.80\"> in there to </span><span style=\"background-color: hsl(0, 100.00%, 78.44%); opacity: 0.88\" title=\"-0.146\">sustain</span><span style=\"opacity: 0.80\"> a </span><span style=\"background-color: hsl(0, 100.00%, 89.31%); opacity: 0.83\" title=\"-0.054\">career</span><span style=\"opacity: 0.80\">. </span><span style=\"background-color: hsl(120, 100.00%, 86.61%); opacity: 0.84\" title=\"0.074\">think</span><span style=\"opacity: 0.80\"> of </span><span style=\"background-color: hsl(120, 100.00%, 94.57%); opacity: 0.81\" title=\"0.020\">deniro</span><span style=\"opacity: 0.80\"> and </span><span style=\"background-color: hsl(0, 100.00%, 81.86%); opacity: 0.86\" title=\"-0.114\">hackman</span><span style=\"opacity: 0.80\">. others are </span><span style=\"background-color: hsl(120, 100.00%, 99.29%); opacity: 0.80\" title=\"0.001\">pretty</span><span style=\"opacity: 0.80\"> </span><span style=\"background-color: hsl(0, 100.00%, 85.09%); opacity: 0.85\" title=\"-0.086\">interesting</span><span style=\"opacity: 0.80\"> </span><span style=\"background-color: hsl(120, 100.00%, 92.32%); opacity: 0.82\" title=\"0.033\">people</span><span style=\"opacity: 0.80\">, who seem to become more </span><span style=\"background-color: hsl(0, 100.00%, 85.09%); opacity: 0.85\" title=\"-0.086\">interesting</span><span style=\"opacity: 0.80\"> over </span><span style=\"background-color: hsl(120, 100.00%, 91.73%); opacity: 0.82\" title=\"0.037\">time</span><span style=\"opacity: 0.80\">. when they </span><span style=\"background-color: hsl(120, 100.00%, 90.27%); opacity: 0.83\" title=\"0.047\">dig</span><span style=\"opacity: 0.80\"> into the </span><span style=\"background-color: hsl(0, 100.00%, 84.92%); opacity: 0.85\" title=\"-0.088\">barrel</span><span style=\"opacity: 0.80\">, they put </span><span style=\"background-color: hsl(120, 100.00%, 94.11%); opacity: 0.81\" title=\"0.023\">stuff</span><span style=\"opacity: 0.80\"> back in because of the </span><span style=\"background-color: hsl(0, 100.00%, 97.79%); opacity: 0.80\" title=\"-0.006\">pain</span><span style=\"opacity: 0.80\"> of the </span><span style=\"background-color: hsl(0, 100.00%, 92.75%); opacity: 0.82\" title=\"-0.031\">digging</span><span style=\"opacity: 0.80\">. </span><span style=\"background-color: hsl(120, 100.00%, 86.61%); opacity: 0.84\" title=\"0.074\">think</span><span style=\"opacity: 0.80\"> </span><span style=\"background-color: hsl(0, 100.00%, 94.12%); opacity: 0.81\" title=\"-0.023\">sean</span><span style=\"opacity: 0.80\"> </span><span style=\"background-color: hsl(0, 100.00%, 93.82%); opacity: 0.81\" title=\"-0.025\">penn</span><span style=\"opacity: 0.80\"> and </span><span style=\"background-color: hsl(120, 100.00%, 81.56%); opacity: 0.87\" title=\"0.117\">jack</span><span style=\"opacity: 0.80\">. at the bottom of </span><span style=\"background-color: hsl(120, 100.00%, 81.56%); opacity: 0.87\" title=\"0.117\">jack</span><span style=\"opacity: 0.80\">'s </span><span style=\"background-color: hsl(0, 100.00%, 84.92%); opacity: 0.85\" title=\"-0.088\">barrel</span><span style=\"opacity: 0.80\">, at the </span><span style=\"background-color: hsl(120, 100.00%, 91.54%); opacity: 0.82\" title=\"0.038\">end</span><span style=\"opacity: 0.80\"> of the </span><span style=\"background-color: hsl(0, 100.00%, 90.14%); opacity: 0.83\" title=\"-0.048\">thread</span><span style=\"opacity: 0.80\"> he </span><span style=\"background-color: hsl(120, 100.00%, 86.45%); opacity: 0.84\" title=\"0.075\">spins</span><span style=\"opacity: 0.80\">, as the </span><span style=\"background-color: hsl(0, 100.00%, 82.19%); opacity: 0.86\" title=\"-0.111\">base</span><span style=\"opacity: 0.80\"> of every </span><span style=\"background-color: hsl(0, 100.00%, 98.71%); opacity: 0.80\" title=\"-0.003\">character</span><span style=\"opacity: 0.80\"> is this </span><span style=\"background-color: hsl(0, 100.00%, 89.02%); opacity: 0.83\" title=\"-0.056\">experimental</span><span style=\"opacity: 0.80\">, </span><span style=\"background-color: hsl(120, 100.00%, 93.03%); opacity: 0.82\" title=\"0.029\">risky</span><span style=\"opacity: 0.80\"> </span><span style=\"background-color: hsl(0, 100.00%, 90.72%); opacity: 0.82\" title=\"-0.044\">writer</span><span style=\"opacity: 0.80\">/</span><span style=\"background-color: hsl(0, 100.00%, 95.94%); opacity: 0.81\" title=\"-0.013\">filmmaker</span><span style=\"opacity: 0.80\">. who </span><span style=\"background-color: hsl(120, 100.00%, 85.29%); opacity: 0.85\" title=\"0.085\">cares</span><span style=\"opacity: 0.80\"> if it is a </span><span style=\"background-color: hsl(0, 100.00%, 68.63%); opacity: 0.94\" title=\"-0.249\">bad</span><span style=\"opacity: 0.80\"> </span><span style=\"background-color: hsl(0, 100.00%, 98.69%); opacity: 0.80\" title=\"-0.003\">movie</span><span style=\"opacity: 0.80\">? it is </span><span style=\"background-color: hsl(0, 100.00%, 68.63%); opacity: 0.94\" title=\"-0.249\">bad</span><span style=\"opacity: 0.80\"> because it </span><span style=\"background-color: hsl(120, 100.00%, 98.88%); opacity: 0.80\" title=\"0.002\">took</span><span style=\"opacity: 0.80\"> </span><span style=\"background-color: hsl(120, 100.00%, 84.97%); opacity: 0.85\" title=\"0.087\">risks</span><span style=\"opacity: 0.80\">. </span><span style=\"background-color: hsl(120, 100.00%, 91.97%); opacity: 0.82\" title=\"0.036\">watch</span><span style=\"opacity: 0.80\"> when a </span><span style=\"background-color: hsl(120, 100.00%, 85.92%); opacity: 0.84\" title=\"0.079\">tear</span><span style=\"opacity: 0.80\"> is </span><span style=\"background-color: hsl(0, 100.00%, 94.35%); opacity: 0.81\" title=\"-0.022\">wiped</span><span style=\"opacity: 0.80\"> from </span><span style=\"background-color: hsl(0, 100.00%, 89.47%); opacity: 0.83\" title=\"-0.052\">annette</span><span style=\"opacity: 0.80\">'s </span><span style=\"background-color: hsl(120, 100.00%, 94.98%); opacity: 0.81\" title=\"0.018\">cheek</span><span style=\"opacity: 0.80\"> by the </span><span style=\"background-color: hsl(0, 100.00%, 80.60%); opacity: 0.87\" title=\"-0.126\">director</span><span style=\"opacity: 0.80\">. it is a </span><span style=\"background-color: hsl(120, 100.00%, 84.28%); opacity: 0.85\" title=\"0.093\">loving</span><span style=\"opacity: 0.80\"> </span><span style=\"background-color: hsl(120, 100.00%, 84.00%); opacity: 0.85\" title=\"0.095\">goof</span><span style=\"opacity: 0.80\"> on the whole </span><span style=\"background-color: hsl(120, 100.00%, 94.94%); opacity: 0.81\" title=\"0.018\">brando</span><span style=\"opacity: 0.80\"> </span><span style=\"background-color: hsl(0, 100.00%, 87.00%); opacity: 0.84\" title=\"-0.071\">thing</span><span style=\"opacity: 0.80\">, something that i </span><span style=\"background-color: hsl(120, 100.00%, 92.24%); opacity: 0.82\" title=\"0.034\">heard</span><span style=\"opacity: 0.80\"> </span><span style=\"background-color: hsl(120, 100.00%, 95.39%); opacity: 0.81\" title=\"0.016\">marlon</span><span style=\"opacity: 0.80\"> </span><span style=\"background-color: hsl(120, 100.00%, 84.02%); opacity: 0.85\" title=\"0.095\">laughed</span><span style=\"opacity: 0.80\"> about. that is one of the </span><span style=\"background-color: hsl(0, 100.00%, 93.76%); opacity: 0.81\" title=\"-0.025\">richest</span><span style=\"opacity: 0.80\"> </span><span style=\"background-color: hsl(120, 100.00%, 96.48%); opacity: 0.81\" title=\"0.011\">moments</span><span style=\"opacity: 0.80\"> in </span><span style=\"background-color: hsl(120, 100.00%, 92.80%); opacity: 0.82\" title=\"0.030\">hollywood</span><span style=\"opacity: 0.80\"> </span><span style=\"background-color: hsl(120, 100.00%, 95.60%); opacity: 0.81\" title=\"0.015\">film</span><span style=\"opacity: 0.80\"> </span><span style=\"background-color: hsl(120, 100.00%, 93.29%); opacity: 0.82\" title=\"0.028\">history</span><span style=\"opacity: 0.80\">. there's another </span><span style=\"background-color: hsl(0, 100.00%, 79.24%); opacity: 0.88\" title=\"-0.138\">reason</span><span style=\"opacity: 0.80\"> to </span><span style=\"background-color: hsl(120, 100.00%, 91.97%); opacity: 0.82\" title=\"0.036\">watch</span><span style=\"opacity: 0.80\"> this. </span><span style=\"background-color: hsl(120, 100.00%, 92.16%); opacity: 0.82\" title=\"0.034\">music</span><span style=\"opacity: 0.80\"> in </span><span style=\"background-color: hsl(120, 100.00%, 95.60%); opacity: 0.81\" title=\"0.015\">film</span><span style=\"opacity: 0.80\"> is has a </span><span style=\"background-color: hsl(120, 100.00%, 72.83%); opacity: 0.92\" title=\"0.203\">strong</span><span style=\"opacity: 0.80\"> </span><span style=\"background-color: hsl(0, 100.00%, 83.00%); opacity: 0.86\" title=\"-0.104\">root</span><span style=\"opacity: 0.80\"> in </span><span style=\"background-color: hsl(120, 100.00%, 94.71%); opacity: 0.81\" title=\"0.020\">dance</span><span style=\"opacity: 0.80\">. </span><span style=\"background-color: hsl(120, 100.00%, 91.94%); opacity: 0.82\" title=\"0.036\">revolution</span><span style=\"opacity: 0.80\"> in </span><span style=\"background-color: hsl(120, 100.00%, 95.60%); opacity: 0.81\" title=\"0.015\">film</span><span style=\"opacity: 0.80\"> often </span><span style=\"background-color: hsl(0, 100.00%, 90.85%); opacity: 0.82\" title=\"-0.043\">relies</span><span style=\"opacity: 0.80\"> on </span><span style=\"background-color: hsl(120, 100.00%, 92.16%); opacity: 0.82\" title=\"0.034\">music</span><span style=\"opacity: 0.80\">. whole </span><span style=\"background-color: hsl(120, 100.00%, 84.51%); opacity: 0.85\" title=\"0.091\">cultures</span><span style=\"opacity: 0.80\"> are thus </span><span style=\"background-color: hsl(0, 100.00%, 90.53%); opacity: 0.83\" title=\"-0.045\">swept</span><span style=\"opacity: 0.80\"> along. an </span><span style=\"background-color: hsl(120, 100.00%, 90.45%); opacity: 0.83\" title=\"0.046\">unsung</span><span style=\"opacity: 0.80\"> giantess in </span><span style=\"background-color: hsl(0, 100.00%, 85.46%); opacity: 0.85\" title=\"-0.083\">inventing</span><span style=\"opacity: 0.80\"> how </span><span style=\"background-color: hsl(0, 100.00%, 91.93%); opacity: 0.82\" title=\"-0.036\">billions</span><span style=\"opacity: 0.80\"> now </span><span style=\"background-color: hsl(120, 100.00%, 94.71%); opacity: 0.81\" title=\"0.020\">dance</span><span style=\"opacity: 0.80\"> is </span><span style=\"background-color: hsl(120, 100.00%, 89.83%); opacity: 0.83\" title=\"0.050\">toni</span><span style=\"opacity: 0.80\"> </span><span style=\"background-color: hsl(120, 100.00%, 87.53%); opacity: 0.84\" title=\"0.067\">basil</span><span style=\"opacity: 0.80\">. she was as </span><span style=\"background-color: hsl(0, 100.00%, 98.51%); opacity: 0.80\" title=\"-0.003\">influential</span><span style=\"opacity: 0.80\"> in </span><span style=\"background-color: hsl(120, 100.00%, 93.92%); opacity: 0.81\" title=\"0.024\">pop</span><span style=\"opacity: 0.80\"> </span><span style=\"background-color: hsl(0, 100.00%, 99.25%); opacity: 0.80\" title=\"-0.001\">choreography</span><span style=\"opacity: 0.80\"> as the </span><span style=\"background-color: hsl(120, 100.00%, 94.75%); opacity: 0.81\" title=\"0.019\">beatles</span><span style=\"opacity: 0.80\"> were in </span><span style=\"background-color: hsl(120, 100.00%, 92.16%); opacity: 0.82\" title=\"0.034\">music</span><span style=\"opacity: 0.80\">. she was already well into her </span><span style=\"background-color: hsl(0, 100.00%, 89.31%); opacity: 0.83\" title=\"-0.054\">career</span><span style=\"opacity: 0.80\"> when </span><span style=\"background-color: hsl(0, 100.00%, 91.86%); opacity: 0.82\" title=\"-0.036\">called</span><span style=\"opacity: 0.80\"> upon to </span><span style=\"background-color: hsl(0, 100.00%, 98.00%); opacity: 0.80\" title=\"-0.005\">work</span><span style=\"opacity: 0.80\"> on this. but this is one of her </span><span style=\"background-color: hsl(120, 100.00%, 93.15%); opacity: 0.82\" title=\"0.028\">earliest</span><span style=\"opacity: 0.80\"> </span><span style=\"background-color: hsl(0, 100.00%, 93.44%); opacity: 0.82\" title=\"-0.027\">screen</span><span style=\"opacity: 0.80\"> </span><span style=\"background-color: hsl(120, 100.00%, 84.91%); opacity: 0.85\" title=\"0.088\">appearances</span><span style=\"opacity: 0.80\">. you can see her </span><span style=\"background-color: hsl(0, 100.00%, 98.00%); opacity: 0.80\" title=\"-0.005\">work</span><span style=\"opacity: 0.80\"> throughout and she herself in the </span><span style=\"background-color: hsl(120, 100.00%, 99.29%); opacity: 0.80\" title=\"0.001\">pretty</span><span style=\"opacity: 0.80\"> </span><span style=\"background-color: hsl(120, 100.00%, 84.70%); opacity: 0.85\" title=\"0.089\">cool</span><span style=\"opacity: 0.80\"> '</span><span style=\"background-color: hsl(120, 100.00%, 95.95%); opacity: 0.81\" title=\"0.013\">daddy</span><span style=\"opacity: 0.80\">'s </span><span style=\"background-color: hsl(0, 100.00%, 95.49%); opacity: 0.81\" title=\"-0.016\">girl</span><span style=\"opacity: 0.80\">' </span><span style=\"background-color: hsl(120, 100.00%, 86.83%); opacity: 0.84\" title=\"0.072\">segment</span><span style=\"opacity: 0.80\">, over one of </span><span style=\"background-color: hsl(120, 100.00%, 94.96%); opacity: 0.81\" title=\"0.018\">nilsson</span><span style=\"opacity: 0.80\">'s </span><span style=\"background-color: hsl(0, 100.00%, 87.03%); opacity: 0.84\" title=\"-0.071\">better</span><span style=\"opacity: 0.80\"> </span><span style=\"background-color: hsl(0, 100.00%, 90.39%); opacity: 0.83\" title=\"-0.046\">songs</span><span style=\"opacity: 0.80\">. (</span><span style=\"background-color: hsl(120, 100.00%, 90.85%); opacity: 0.82\" title=\"0.043\">followed</span><span style=\"opacity: 0.80\"> by the </span><span style=\"background-color: hsl(120, 100.00%, 87.48%); opacity: 0.84\" title=\"0.067\">frank</span><span style=\"opacity: 0.80\"> </span><span style=\"background-color: hsl(120, 100.00%, 95.64%); opacity: 0.81\" title=\"0.015\">zappa</span><span style=\"opacity: 0.80\"> </span><span style=\"background-color: hsl(0, 100.00%, 93.19%); opacity: 0.82\" title=\"-0.028\">cameo</span><span style=\"opacity: 0.80\">.) </span><span style=\"background-color: hsl(120, 100.00%, 89.73%); opacity: 0.83\" title=\"0.051\">mccartney</span><span style=\"opacity: 0.80\"> would </span><span style=\"background-color: hsl(0, 100.00%, 86.45%); opacity: 0.84\" title=\"-0.075\">reference</span><span style=\"opacity: 0.80\"> this </span><span style=\"background-color: hsl(0, 100.00%, 97.32%); opacity: 0.80\" title=\"-0.007\">scene</span><span style=\"opacity: 0.80\"> in his </span><span style=\"background-color: hsl(0, 100.00%, 90.60%); opacity: 0.83\" title=\"-0.045\">teevee</span><span style=\"opacity: 0.80\"> </span><span style=\"background-color: hsl(120, 100.00%, 93.60%); opacity: 0.81\" title=\"0.026\">special</span><span style=\"opacity: 0.80\"> </span><span style=\"background-color: hsl(120, 100.00%, 89.13%); opacity: 0.83\" title=\"0.055\">years</span><span style=\"opacity: 0.80\"> </span><span style=\"background-color: hsl(120, 100.00%, 85.17%); opacity: 0.85\" title=\"0.086\">later</span><span style=\"opacity: 0.80\">. a third </span><span style=\"background-color: hsl(0, 100.00%, 79.24%); opacity: 0.88\" title=\"-0.138\">reason</span><span style=\"opacity: 0.80\"> to </span><span style=\"background-color: hsl(120, 100.00%, 91.97%); opacity: 0.82\" title=\"0.036\">watch</span><span style=\"opacity: 0.80\"> is </span><span style=\"background-color: hsl(120, 100.00%, 96.39%); opacity: 0.81\" title=\"0.011\">early</span><span style=\"opacity: 0.80\"> (about 6 1/2 </span><span style=\"background-color: hsl(0, 100.00%, 74.81%); opacity: 0.90\" title=\"-0.182\">minutes</span><span style=\"opacity: 0.80\">) in the </span><span style=\"background-color: hsl(120, 100.00%, 95.60%); opacity: 0.81\" title=\"0.015\">film</span><span style=\"opacity: 0.80\">: a </span><span style=\"background-color: hsl(0, 100.00%, 98.71%); opacity: 0.80\" title=\"-0.003\">character</span><span style=\"opacity: 0.80\"> </span><span style=\"background-color: hsl(120, 100.00%, 95.96%); opacity: 0.81\" title=\"0.013\">named</span><span style=\"opacity: 0.80\"> '</span><span style=\"background-color: hsl(0, 100.00%, 92.10%); opacity: 0.82\" title=\"-0.035\">lady</span><span style=\"opacity: 0.80\"> </span><span style=\"background-color: hsl(120, 100.00%, 75.34%); opacity: 0.90\" title=\"0.177\">pleasure</span><span style=\"opacity: 0.80\">' </span><span style=\"background-color: hsl(0, 100.00%, 98.53%); opacity: 0.80\" title=\"-0.003\">kisses</span><span style=\"opacity: 0.80\"> each </span><span style=\"background-color: hsl(0, 100.00%, 88.93%); opacity: 0.83\" title=\"-0.056\">monkey</span><span style=\"opacity: 0.80\"> in a </span><span style=\"background-color: hsl(120, 100.00%, 99.63%); opacity: 0.80\" title=\"0.000\">long</span><span style=\"opacity: 0.80\"> </span><span style=\"background-color: hsl(0, 100.00%, 99.28%); opacity: 0.80\" title=\"-0.001\">continuous</span><span style=\"opacity: 0.80\"> </span><span style=\"background-color: hsl(120, 100.00%, 95.78%); opacity: 0.81\" title=\"0.014\">shot</span><span style=\"opacity: 0.80\"> and then dismissively </span><span style=\"background-color: hsl(120, 100.00%, 95.39%); opacity: 0.81\" title=\"0.016\">departs</span><span style=\"opacity: 0.80\">. she is </span><span style=\"background-color: hsl(120, 100.00%, 98.98%); opacity: 0.80\" title=\"0.002\">credited</span><span style=\"opacity: 0.80\"> as i. j. </span><span style=\"background-color: hsl(0, 100.00%, 82.10%); opacity: 0.86\" title=\"-0.112\">jefferson</span><span style=\"opacity: 0.80\"> but is </span><span style=\"background-color: hsl(120, 100.00%, 99.64%); opacity: 0.80\" title=\"0.000\">really</span><span style=\"opacity: 0.80\"> </span><span style=\"background-color: hsl(0, 100.00%, 95.90%); opacity: 0.81\" title=\"-0.014\">mimi</span><span style=\"opacity: 0.80\"> </span><span style=\"background-color: hsl(0, 100.00%, 89.37%); opacity: 0.83\" title=\"-0.053\">manchu</span><span style=\"opacity: 0.80\">, </span><span style=\"background-color: hsl(120, 100.00%, 91.63%); opacity: 0.82\" title=\"0.038\">nicholson</span><span style=\"opacity: 0.80\">'s </span><span style=\"background-color: hsl(120, 100.00%, 91.63%); opacity: 0.82\" title=\"0.038\">lover</span><span style=\"opacity: 0.80\"> at the </span><span style=\"background-color: hsl(120, 100.00%, 91.73%); opacity: 0.82\" title=\"0.037\">time</span><span style=\"opacity: 0.80\"> and </span><span style=\"background-color: hsl(120, 100.00%, 99.00%); opacity: 0.80\" title=\"0.002\">lsd</span><span style=\"opacity: 0.80\"> </span><span style=\"background-color: hsl(120, 100.00%, 95.25%); opacity: 0.81\" title=\"0.017\">partner</span><span style=\"opacity: 0.80\">. </span><span style=\"background-color: hsl(0, 100.00%, 99.22%); opacity: 0.80\" title=\"-0.001\">red</span><span style=\"opacity: 0.80\"> </span><span style=\"background-color: hsl(0, 100.00%, 90.30%); opacity: 0.83\" title=\"-0.047\">hair</span><span style=\"opacity: 0.80\">, </span><span style=\"background-color: hsl(120, 100.00%, 91.72%); opacity: 0.82\" title=\"0.037\">psychedelic</span><span style=\"opacity: 0.80\"> </span><span style=\"background-color: hsl(0, 100.00%, 97.28%); opacity: 0.80\" title=\"-0.008\">demeanor</span><span style=\"opacity: 0.80\">. </span><span style=\"background-color: hsl(120, 100.00%, 83.79%); opacity: 0.86\" title=\"0.097\">lovely</span><span style=\"opacity: 0.80\">. that </span><span style=\"background-color: hsl(0, 100.00%, 97.32%); opacity: 0.80\" title=\"-0.007\">scene</span><span style=\"opacity: 0.80\"> </span><span style=\"background-color: hsl(120, 100.00%, 99.47%); opacity: 0.80\" title=\"0.001\">says</span><span style=\"opacity: 0.80\"> it all for me, about how </span><span style=\"background-color: hsl(120, 100.00%, 81.56%); opacity: 0.87\" title=\"0.117\">jack</span><span style=\"opacity: 0.80\"> </span><span style=\"background-color: hsl(0, 100.00%, 95.22%); opacity: 0.81\" title=\"-0.017\">feels</span><span style=\"opacity: 0.80\"> about the </span><span style=\"background-color: hsl(120, 100.00%, 86.01%); opacity: 0.84\" title=\"0.079\">boys</span><span style=\"opacity: 0.80\">. </span><span style=\"background-color: hsl(120, 100.00%, 84.53%); opacity: 0.85\" title=\"0.091\">ted</span><span style=\"opacity: 0.80\">'s </span><span style=\"background-color: hsl(120, 100.00%, 97.96%); opacity: 0.80\" title=\"0.005\">evaluation</span><span style=\"opacity: 0.80\"> -- 3 of 3: </span><span style=\"background-color: hsl(120, 100.00%, 82.33%); opacity: 0.86\" title=\"0.110\">worth</span><span style=\"opacity: 0.80\"> </span><span style=\"background-color: hsl(0, 100.00%, 89.01%); opacity: 0.83\" title=\"-0.056\">watching</span><span style=\"opacity: 0.80\">.</span>\n",
       "</p>\n"
      ],
      "text/plain": [
       "<IPython.core.display.HTML object>"
      ]
     },
     "metadata": {},
     "output_type": "display_data"
    },
    {
     "data": {
      "text/html": [
       "<p style=background-color:black;color:white;font-weight:bold;padding:4px>'Meh' Movie #5 😐</p>"
      ],
      "text/plain": [
       "<IPython.core.display.HTML object>"
      ]
     },
     "metadata": {},
     "output_type": "display_data"
    },
    {
     "data": {
      "text/html": [
       "\n",
       "<style>\n",
       "    table.eli5-weights tr:hover {\n",
       "        filter: brightness(85%);\n",
       "    }\n",
       "</style>\n",
       "\n",
       "\n",
       "<p style=\"margin-bottom: 2.5em; margin-top:-0.5em;\">\n",
       "<span style=\"background-color: hsl(120, 100.00%, 88.05%); opacity: 0.84\" title=\"0.079\">surviving</span><span style=\"opacity: 0.80\"> </span><span style=\"background-color: hsl(0, 100.00%, 80.41%); opacity: 0.87\" title=\"-0.160\">christmas</span><span style=\"opacity: 0.80\"> is a </span><span style=\"background-color: hsl(120, 100.00%, 63.98%); opacity: 0.97\" title=\"0.383\">surprisingly</span><span style=\"opacity: 0.80\"> </span><span style=\"background-color: hsl(120, 100.00%, 87.41%); opacity: 0.84\" title=\"0.085\">funny</span><span style=\"opacity: 0.80\"> </span><span style=\"background-color: hsl(0, 100.00%, 98.33%); opacity: 0.80\" title=\"-0.005\">movie</span><span style=\"opacity: 0.80\"> </span><span style=\"background-color: hsl(120, 100.00%, 71.82%); opacity: 0.92\" title=\"0.270\">especially</span><span style=\"opacity: 0.80\"> </span><span style=\"background-color: hsl(0, 100.00%, 91.94%); opacity: 0.82\" title=\"-0.045\">considering</span><span style=\"opacity: 0.80\"> the </span><span style=\"background-color: hsl(0, 100.00%, 60.00%); opacity: 1.00\" title=\"-0.445\">bad</span><span style=\"opacity: 0.80\"> </span><span style=\"background-color: hsl(120, 100.00%, 91.02%); opacity: 0.82\" title=\"0.053\">publicity</span><span style=\"opacity: 0.80\"> when it was first </span><span style=\"background-color: hsl(120, 100.00%, 81.65%); opacity: 0.87\" title=\"0.146\">released</span><span style=\"opacity: 0.80\">. </span><span style=\"background-color: hsl(120, 100.00%, 86.64%); opacity: 0.84\" title=\"0.093\">ben</span><span style=\"opacity: 0.80\"> </span><span style=\"background-color: hsl(0, 100.00%, 74.38%); opacity: 0.91\" title=\"-0.235\">affleck</span><span style=\"opacity: 0.80\"> is </span><span style=\"background-color: hsl(120, 100.00%, 87.41%); opacity: 0.84\" title=\"0.085\">funny</span><span style=\"opacity: 0.80\"> as an </span><span style=\"background-color: hsl(0, 100.00%, 64.96%); opacity: 0.97\" title=\"-0.368\">obnoxious</span><span style=\"opacity: 0.80\"> </span><span style=\"background-color: hsl(0, 100.00%, 91.09%); opacity: 0.82\" title=\"-0.052\">millionaire</span><span style=\"opacity: 0.80\"> who </span><span style=\"background-color: hsl(120, 100.00%, 97.07%); opacity: 0.80\" title=\"0.011\">pays</span><span style=\"opacity: 0.80\"> the </span><span style=\"background-color: hsl(120, 100.00%, 82.96%); opacity: 0.86\" title=\"0.131\">family</span><span style=\"opacity: 0.80\"> that </span><span style=\"background-color: hsl(120, 100.00%, 95.68%); opacity: 0.81\" title=\"0.018\">occupies</span><span style=\"opacity: 0.80\"> his </span><span style=\"background-color: hsl(120, 100.00%, 82.78%); opacity: 0.86\" title=\"0.133\">childhood</span><span style=\"opacity: 0.80\"> </span><span style=\"background-color: hsl(120, 100.00%, 86.68%); opacity: 0.84\" title=\"0.092\">home</span><span style=\"opacity: 0.80\"> to be his </span><span style=\"background-color: hsl(120, 100.00%, 82.96%); opacity: 0.86\" title=\"0.131\">family</span><span style=\"opacity: 0.80\"> for </span><span style=\"background-color: hsl(0, 100.00%, 80.41%); opacity: 0.87\" title=\"-0.160\">christmas</span><span style=\"opacity: 0.80\">. he then </span><span style=\"background-color: hsl(120, 100.00%, 81.30%); opacity: 0.87\" title=\"0.150\">drives</span><span style=\"opacity: 0.80\"> the </span><span style=\"background-color: hsl(120, 100.00%, 82.96%); opacity: 0.86\" title=\"0.131\">family</span><span style=\"opacity: 0.80\"> </span><span style=\"background-color: hsl(120, 100.00%, 79.04%); opacity: 0.88\" title=\"0.177\">crazy</span><span style=\"opacity: 0.80\"> with </span><span style=\"background-color: hsl(0, 100.00%, 93.84%); opacity: 0.81\" title=\"-0.031\">overindulgence</span><span style=\"opacity: 0.80\"> for </span><span style=\"background-color: hsl(0, 100.00%, 80.41%); opacity: 0.87\" title=\"-0.160\">christmas</span><span style=\"opacity: 0.80\"> </span><span style=\"background-color: hsl(120, 100.00%, 81.75%); opacity: 0.87\" title=\"0.145\">cheer</span><span style=\"opacity: 0.80\">. i have not been a </span><span style=\"background-color: hsl(120, 100.00%, 86.64%); opacity: 0.84\" title=\"0.093\">ben</span><span style=\"opacity: 0.80\"> </span><span style=\"background-color: hsl(0, 100.00%, 74.38%); opacity: 0.91\" title=\"-0.235\">affleck</span><span style=\"opacity: 0.80\"> </span><span style=\"background-color: hsl(120, 100.00%, 94.17%); opacity: 0.81\" title=\"0.028\">fan</span><span style=\"opacity: 0.80\"> in the </span><span style=\"background-color: hsl(120, 100.00%, 90.59%); opacity: 0.83\" title=\"0.056\">past</span><span style=\"opacity: 0.80\"> (though i </span><span style=\"background-color: hsl(0, 100.00%, 83.60%); opacity: 0.86\" title=\"-0.124\">did</span><span style=\"opacity: 0.80\"> </span><span style=\"background-color: hsl(0, 100.00%, 93.93%); opacity: 0.81\" title=\"-0.030\">like</span><span style=\"opacity: 0.80\"> </span><span style=\"background-color: hsl(120, 100.00%, 90.61%); opacity: 0.83\" title=\"0.056\">daredevil</span><span style=\"opacity: 0.80\"> and </span><span style=\"background-color: hsl(0, 100.00%, 82.72%); opacity: 0.86\" title=\"-0.134\">paycheck</span><span style=\"opacity: 0.80\">) but here he is well </span><span style=\"background-color: hsl(0, 100.00%, 93.50%); opacity: 0.81\" title=\"-0.033\">cast</span><span style=\"opacity: 0.80\"> in this </span><span style=\"background-color: hsl(120, 100.00%, 89.57%); opacity: 0.83\" title=\"0.065\">role</span><span style=\"opacity: 0.80\">. i also </span><span style=\"background-color: hsl(0, 100.00%, 93.93%); opacity: 0.81\" title=\"-0.030\">like</span><span style=\"opacity: 0.80\"> </span><span style=\"background-color: hsl(0, 100.00%, 90.08%); opacity: 0.83\" title=\"-0.061\">christina</span><span style=\"opacity: 0.80\"> </span><span style=\"background-color: hsl(0, 100.00%, 85.97%); opacity: 0.84\" title=\"-0.100\">applegate</span><span style=\"opacity: 0.80\"> as the </span><span style=\"background-color: hsl(0, 100.00%, 84.90%); opacity: 0.85\" title=\"-0.111\">daughter</span><span style=\"opacity: 0.80\"> in the </span><span style=\"background-color: hsl(120, 100.00%, 82.96%); opacity: 0.86\" title=\"0.131\">family</span><span style=\"opacity: 0.80\"> who can't </span><span style=\"background-color: hsl(120, 100.00%, 94.33%); opacity: 0.81\" title=\"0.027\">stand</span><span style=\"opacity: 0.80\"> </span><span style=\"background-color: hsl(0, 100.00%, 74.38%); opacity: 0.91\" title=\"-0.235\">affleck</span><span style=\"opacity: 0.80\">'s </span><span style=\"background-color: hsl(0, 100.00%, 98.36%); opacity: 0.80\" title=\"-0.005\">character</span><span style=\"opacity: 0.80\"> at first. </span><span style=\"background-color: hsl(120, 100.00%, 92.42%); opacity: 0.82\" title=\"0.041\">sure</span><span style=\"opacity: 0.80\"> you can see where this </span><span style=\"background-color: hsl(0, 100.00%, 98.33%); opacity: 0.80\" title=\"-0.005\">movie</span><span style=\"opacity: 0.80\"> is </span><span style=\"background-color: hsl(120, 100.00%, 97.59%); opacity: 0.80\" title=\"0.008\">going</span><span style=\"opacity: 0.80\"> but you </span><span style=\"background-color: hsl(0, 100.00%, 85.59%); opacity: 0.85\" title=\"-0.103\">don</span><span style=\"opacity: 0.80\">'t </span><span style=\"background-color: hsl(0, 100.00%, 77.31%); opacity: 0.89\" title=\"-0.198\">care</span><span style=\"opacity: 0.80\">. </span><span style=\"background-color: hsl(120, 100.00%, 75.86%); opacity: 0.90\" title=\"0.216\">ignore</span><span style=\"opacity: 0.80\"> what the </span><span style=\"background-color: hsl(120, 100.00%, 86.50%); opacity: 0.84\" title=\"0.094\">critics</span><span style=\"opacity: 0.80\"> </span><span style=\"background-color: hsl(0, 100.00%, 98.70%); opacity: 0.80\" title=\"-0.003\">say</span><span style=\"opacity: 0.80\"> and </span><span style=\"background-color: hsl(0, 100.00%, 88.00%); opacity: 0.84\" title=\"-0.080\">rent</span><span style=\"opacity: 0.80\"> this </span><span style=\"background-color: hsl(0, 100.00%, 98.33%); opacity: 0.80\" title=\"-0.005\">movie</span><span style=\"opacity: 0.80\"> out because it is </span><span style=\"background-color: hsl(0, 100.00%, 86.34%); opacity: 0.84\" title=\"-0.096\">funnier</span><span style=\"opacity: 0.80\"> than a </span><span style=\"background-color: hsl(120, 100.00%, 83.69%); opacity: 0.86\" title=\"0.123\">lot</span><span style=\"opacity: 0.80\"> of </span><span style=\"background-color: hsl(0, 100.00%, 80.41%); opacity: 0.87\" title=\"-0.160\">christmas</span><span style=\"opacity: 0.80\"> </span><span style=\"background-color: hsl(120, 100.00%, 96.62%); opacity: 0.81\" title=\"0.013\">movies</span><span style=\"opacity: 0.80\">.</span>\n",
       "</p>\n"
      ],
      "text/plain": [
       "<IPython.core.display.HTML object>"
      ]
     },
     "metadata": {},
     "output_type": "display_data"
    }
   ],
   "source": [
    "for i, review in enumerate(meh5):\n",
    "    display(HTML(f\"<p style={style}>'Meh' Movie #{i+1} 😐</p>\"))\n",
    "    eli5_html(clf, vec, review)"
   ]
  },
  {
   "cell_type": "markdown",
   "id": "53c58acd",
   "metadata": {},
   "source": [
    "Despite some difficulties with a few of the 'meh' movies, our model is actually pretty good! In fact, it works so well you can actually use it to find _mistakes_ in the manually labeled data!\\\n",
    "This can be done by inspecting which training observation predictions differ the most from the provided labels.\\"
   ]
  },
  {
   "cell_type": "markdown",
   "id": "a7d659c3",
   "metadata": {},
   "source": [
    "**Write your own review**\n",
    "\n",
    "Finally, you can try writing a review of your own and see what your model does with it!"
   ]
  },
  {
   "cell_type": "code",
   "execution_count": 51,
   "id": "cf078e01",
   "metadata": {},
   "outputs": [
    {
     "data": {
      "text/plain": [
       "array(['The film captivated me from the very start The cinematography was breathtaking and the character development was nuanced and profound The score set the tone perfectly enhancing the emotional depth of each scene While the plot had a couple of predictable moments the stellar performances by the lead actors more than made up for it Its a mustwatch for any cinema lover'],\n",
       "      dtype='<U367')"
      ]
     },
     "execution_count": 51,
     "metadata": {},
     "output_type": "execute_result"
    }
   ],
   "source": [
    "my_review = \"\"\"\n",
    "            your review here\n",
    "            \"\"\"\n",
    "\n",
    "# Remove punctuation using your regex from earlier\n",
    "my_review = re.sub(punc_regex, '', my_review)\n",
    "# Remove leading & trailing whitespace\n",
    "# and put into a numpy array (which the model expects)\n",
    "my_review = np.array([my_review.strip()])\n",
    "my_review"
   ]
  },
  {
   "cell_type": "code",
   "execution_count": 52,
   "id": "abdc48fd",
   "metadata": {},
   "outputs": [
    {
     "name": "stdout",
     "output_type": "stream",
     "text": [
      "predicted class: 1\n",
      "predicted probability: 0.7451041113242047\n"
     ]
    }
   ],
   "source": [
    "my_review_proba = pipe.predict_proba(my_review)[:,1][0]\n",
    "my_review_label = pipe.predict(my_review)[0]\n",
    "print('predicted class:', my_review_label)\n",
    "print('predicted probability:', my_review_proba)"
   ]
  },
  {
   "cell_type": "code",
   "execution_count": 53,
   "id": "8de285ed",
   "metadata": {},
   "outputs": [
    {
     "data": {
      "text/html": [
       "<p style=background-color:black;color:white;font-weight:bold;padding:4px>My Review 🍿</p>"
      ],
      "text/plain": [
       "<IPython.core.display.HTML object>"
      ]
     },
     "metadata": {},
     "output_type": "display_data"
    },
    {
     "data": {
      "text/html": [
       "\n",
       "<style>\n",
       "    table.eli5-weights tr:hover {\n",
       "        filter: brightness(85%);\n",
       "    }\n",
       "</style>\n",
       "\n",
       "\n",
       "<p style=\"margin-bottom: 2.5em; margin-top:-0.5em;\">\n",
       "<span style=\"opacity: 0.80\">the </span><span style=\"background-color: hsl(120, 100.00%, 94.00%); opacity: 0.81\" title=\"0.050\">film</span><span style=\"opacity: 0.80\"> </span><span style=\"background-color: hsl(120, 100.00%, 86.98%); opacity: 0.84\" title=\"0.152\">captivated</span><span style=\"opacity: 0.80\"> me from the very </span><span style=\"background-color: hsl(0, 100.00%, 89.60%); opacity: 0.83\" title=\"-0.110\">start</span><span style=\"opacity: 0.80\"> the </span><span style=\"background-color: hsl(0, 100.00%, 85.16%); opacity: 0.85\" title=\"-0.184\">cinematography</span><span style=\"opacity: 0.80\"> was </span><span style=\"background-color: hsl(120, 100.00%, 75.50%); opacity: 0.90\" title=\"0.376\">breathtaking</span><span style=\"opacity: 0.80\"> and the </span><span style=\"background-color: hsl(0, 100.00%, 98.25%); opacity: 0.80\" title=\"-0.009\">character</span><span style=\"opacity: 0.80\"> </span><span style=\"background-color: hsl(0, 100.00%, 79.35%); opacity: 0.88\" title=\"-0.294\">development</span><span style=\"opacity: 0.80\"> was </span><span style=\"background-color: hsl(120, 100.00%, 85.83%); opacity: 0.85\" title=\"0.172\">nuanced</span><span style=\"opacity: 0.80\"> and </span><span style=\"background-color: hsl(120, 100.00%, 93.01%); opacity: 0.82\" title=\"0.063\">profound</span><span style=\"opacity: 0.80\"> the </span><span style=\"background-color: hsl(120, 100.00%, 82.66%); opacity: 0.86\" title=\"0.229\">score</span><span style=\"opacity: 0.80\"> </span><span style=\"background-color: hsl(0, 100.00%, 92.67%); opacity: 0.82\" title=\"-0.067\">set</span><span style=\"opacity: 0.80\"> the </span><span style=\"background-color: hsl(120, 100.00%, 83.48%); opacity: 0.86\" title=\"0.214\">tone</span><span style=\"opacity: 0.80\"> </span><span style=\"background-color: hsl(120, 100.00%, 60.77%); opacity: 0.99\" title=\"0.736\">perfectly</span><span style=\"opacity: 0.80\"> </span><span style=\"background-color: hsl(120, 100.00%, 86.21%); opacity: 0.84\" title=\"0.165\">enhancing</span><span style=\"opacity: 0.80\"> the </span><span style=\"background-color: hsl(120, 100.00%, 81.34%); opacity: 0.87\" title=\"0.255\">emotional</span><span style=\"opacity: 0.80\"> </span><span style=\"background-color: hsl(0, 100.00%, 92.03%); opacity: 0.82\" title=\"-0.076\">depth</span><span style=\"opacity: 0.80\"> of each </span><span style=\"background-color: hsl(0, 100.00%, 96.35%); opacity: 0.81\" title=\"-0.025\">scene</span><span style=\"opacity: 0.80\"> while the </span><span style=\"background-color: hsl(0, 100.00%, 81.46%); opacity: 0.87\" title=\"-0.252\">plot</span><span style=\"opacity: 0.80\"> had a </span><span style=\"background-color: hsl(0, 100.00%, 78.91%); opacity: 0.88\" title=\"-0.303\">couple</span><span style=\"opacity: 0.80\"> of </span><span style=\"background-color: hsl(0, 100.00%, 60.00%); opacity: 1.00\" title=\"-0.757\">predictable</span><span style=\"opacity: 0.80\"> </span><span style=\"background-color: hsl(120, 100.00%, 95.20%); opacity: 0.81\" title=\"0.037\">moments</span><span style=\"opacity: 0.80\"> the </span><span style=\"background-color: hsl(120, 100.00%, 82.17%); opacity: 0.86\" title=\"0.239\">stellar</span><span style=\"opacity: 0.80\"> </span><span style=\"background-color: hsl(120, 100.00%, 73.26%); opacity: 0.91\" title=\"0.426\">performances</span><span style=\"opacity: 0.80\"> by the </span><span style=\"background-color: hsl(0, 100.00%, 93.95%); opacity: 0.81\" title=\"-0.051\">lead</span><span style=\"opacity: 0.80\"> </span><span style=\"background-color: hsl(0, 100.00%, 85.51%); opacity: 0.85\" title=\"-0.177\">actors</span><span style=\"opacity: 0.80\"> more than made up for it its a </span><span style=\"background-color: hsl(120, 100.00%, 89.90%); opacity: 0.83\" title=\"0.106\">mustwatch</span><span style=\"opacity: 0.80\"> for any </span><span style=\"background-color: hsl(120, 100.00%, 92.21%); opacity: 0.82\" title=\"0.073\">cinema</span><span style=\"opacity: 0.80\"> </span><span style=\"background-color: hsl(120, 100.00%, 88.59%); opacity: 0.83\" title=\"0.126\">lover</span>\n",
       "</p>\n"
      ],
      "text/plain": [
       "<IPython.core.display.HTML object>"
      ]
     },
     "metadata": {},
     "output_type": "display_data"
    }
   ],
   "source": [
    "display(HTML(f\"<p style={style}>My Review 🍿</p>\"))\n",
    "eli5_html(clf, vec, my_review[0])"
   ]
  }
 ],
 "metadata": {
  "kernelspec": {
   "display_name": "Python 3 (ipykernel)",
   "language": "python",
   "name": "python3"
  },
  "language_info": {
   "codemirror_mode": {
    "name": "ipython",
    "version": 3
   },
   "file_extension": ".py",
   "mimetype": "text/x-python",
   "name": "python",
   "nbconvert_exporter": "python",
   "pygments_lexer": "ipython3",
   "version": "3.11.4"
  },
  "latex_envs": {
   "LaTeX_envs_menu_present": true,
   "autoclose": false,
   "autocomplete": true,
   "bibliofile": "biblio.bib",
   "cite_by": "apalike",
   "current_citInitial": 1,
   "eqLabelWithNumbers": true,
   "eqNumInitial": 1,
   "hotkeys": {
    "equation": "Ctrl-E",
    "itemize": "Ctrl-I"
   },
   "labels_anchors": false,
   "latex_user_defs": false,
   "report_style_numbering": false,
   "user_envs_cfg": false
  },
  "toc": {
   "base_numbering": 1,
   "nav_menu": {},
   "number_sections": true,
   "sideBar": true,
   "skip_h1_title": false,
   "title_cell": "Table of Contents",
   "title_sidebar": "Contents",
   "toc_cell": false,
   "toc_position": {
    "height": "calc(100% - 180px)",
    "left": "10px",
    "top": "150px",
    "width": "300px"
   },
   "toc_section_display": true,
   "toc_window_display": true
  }
 },
 "nbformat": 4,
 "nbformat_minor": 5
}
